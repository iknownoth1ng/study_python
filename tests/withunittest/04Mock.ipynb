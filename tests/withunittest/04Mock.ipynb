{
 "cells": [
  {
   "attachments": {},
   "cell_type": "markdown",
   "metadata": {},
   "source": [
    "# Mock\n",
    "---\n",
    "## 什么是Mock\n",
    "\n",
    "Mock就是要模拟函数、方法、类的行为\n",
    "\n",
    "## Mock和MagicMock\n",
    "\n",
    "unittest.mock模块提供了Mock和MagicMock：\n",
    "- Mock主要模拟指定的方法和属性\n",
    "- MagicMock是Mock的子类，同时模拟了很多Magic方法（\\_\\_len__,__str__等等）"
   ]
  },
  {
   "attachments": {},
   "cell_type": "markdown",
   "metadata": {},
   "source": [
    "## Mock示例\n"
   ]
  },
  {
   "cell_type": "code",
   "execution_count": 3,
   "metadata": {},
   "outputs": [
    {
     "name": "stdout",
     "output_type": "stream",
     "text": [
      "Overwriting test_student_service.py\n"
     ]
    }
   ],
   "source": [
    "%%writefile test_student_service.py\n",
    "import unittest\n",
    "from unittest.mock import Mock\n",
    "from tests.service import student_service\n",
    "\n",
    "class TestStudentService(unittest.TestCase):\n",
    "    \n",
    "    def test_change_name_with_record(self):\n",
    "        # Setup\n",
    "        student_service.find_student_by_id = Mock()\n",
    "        student = Mock(id=1,name='Tom')\n",
    "        student_service.find_student_by_id.return_value = student\n",
    "        \n",
    "        student_service.save_student=Mock()\n",
    "        # Action\n",
    "        student_service.change_name(1,'Jack')\n",
    "        # Assert\n",
    "        self.assertEqual(student.name,\"Jack\")\n",
    "        student_service.save_student.assert_called()\n",
    "        \n",
    "    def test_change_name_without_record(self):\n",
    "        # Setup\n",
    "        student_service.find_student_by_id = Mock()\n",
    "        student_service.find_student_by_id.return_value = None\n",
    "        \n",
    "        student_service.save_student=Mock()\n",
    "        # Action\n",
    "        student_service.change_name(1,'Jack')\n",
    "        # Assert\n",
    "        student_service.save_student.assert_not_called()\n",
    "        "
   ]
  }
 ],
 "metadata": {
  "kernelspec": {
   "display_name": "study",
   "language": "python",
   "name": "python3"
  },
  "language_info": {
   "codemirror_mode": {
    "name": "ipython",
    "version": 3
   },
   "file_extension": ".py",
   "mimetype": "text/x-python",
   "name": "python",
   "nbconvert_exporter": "python",
   "pygments_lexer": "ipython3",
   "version": "3.9.15 (main, Nov  4 2022, 16:35:55) [MSC v.1916 64 bit (AMD64)]"
  },
  "orig_nbformat": 4,
  "vscode": {
   "interpreter": {
    "hash": "49fdd20b2b68a4dd8ebcbb061b9c04f8e52f6472af90d6159269a7c8abf5d944"
   }
  }
 },
 "nbformat": 4,
 "nbformat_minor": 2
}
