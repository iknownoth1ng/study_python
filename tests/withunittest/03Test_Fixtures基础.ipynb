{
 "cells": [
  {
   "cell_type": "markdown",
   "metadata": {},
   "source": [
    "**Table of contents**<a id='toc0_'></a>    \n",
    "1. [Test Fixtures](#toc1_)    \n",
    "1.1. [什么是Test Fixtures](#toc1_1_)    \n",
    "1.2. [模块级别的Fixtures](#toc1_2_)    \n",
    "1.3. [类级别的Fixtures](#toc1_3_)    \n",
    "1.4. [方法级别的Fixtures](#toc1_4_)    \n",
    "\n",
    "<!-- vscode-jupyter-toc-config\n",
    "\tnumbering=true\n",
    "\tanchor=true\n",
    "\tflat=true\n",
    "\tminLevel=1\n",
    "\tmaxLevel=6\n",
    "\t/vscode-jupyter-toc-config -->\n",
    "<!-- THIS CELL WILL BE REPLACED ON TOC UPDATE. DO NOT WRITE YOUR TEXT IN THIS CELL -->"
   ]
  },
  {
   "cell_type": "markdown",
   "metadata": {},
   "source": [
    "# 1. <a id='toc1_'></a>[Test Fixtures](#toc0_)\n",
    "---\n",
    "## 1.1. <a id='toc1_1_'></a>[什么是Test Fixtures](#toc0_)\n",
    "\n",
    "在测试方法执行之前或之后的函数或者方法被称之为Test Fixtures"
   ]
  },
  {
   "cell_type": "markdown",
   "metadata": {},
   "source": [
    "## 1.2. <a id='toc1_2_'></a>[模块级别的Fixtures](#toc0_)\n",
    "\n",
    "- setUpModule() \n",
    "- tearDownModule() "
   ]
  },
  {
   "cell_type": "code",
   "execution_count": 2,
   "metadata": {},
   "outputs": [
    {
     "name": "stdout",
     "output_type": "stream",
     "text": [
      "Overwriting test_bank_account.py\n"
     ]
    }
   ],
   "source": [
    "%%writefile test_bank_account.py\n",
    "import unittest\n",
    "\n",
    "from tests.fixtures.bank_account import BankAccount\n",
    "\n",
    "def setUpModule():\n",
    "    print(\"calling setUpModule\")\n",
    "\n",
    "def tearDownModule():\n",
    "    print(\"calling tearDownModule\")\n",
    "    \n",
    "class TestBankAccount(unittest.TestCase):\n",
    "    def test_deposit_success(self):\n",
    "        bank_account = BankAccount(0)\n",
    "        bank_account.deposit(10)\n",
    "\n",
    "        self.assertEqual(10,bank_account.balance)\n",
    "        \n",
    "    def test_withdraw_success(self):\n",
    "        bank_account = BankAccount(10)\n",
    "        bank_account.withdraw(10)\n",
    "\n",
    "        self.assertEqual(0,bank_account.balance)\n",
    "\n",
    "if __name__ == \"__main__\":\n",
    "    unittest.main()"
   ]
  },
  {
   "cell_type": "markdown",
   "metadata": {},
   "source": [
    "## 1.3. <a id='toc1_3_'></a>[类级别的Fixtures](#toc0_)\n"
   ]
  },
  {
   "cell_type": "code",
   "execution_count": 3,
   "metadata": {},
   "outputs": [
    {
     "name": "stdout",
     "output_type": "stream",
     "text": [
      "Overwriting test_bank_account.py\n"
     ]
    }
   ],
   "source": [
    "%%writefile test_bank_account.py\n",
    "import unittest\n",
    "\n",
    "from tests.fixtures.bank_account import BankAccount\n",
    "\n",
    "\n",
    "def setUpModule():\n",
    "    print(\"calling setUpModule\")\n",
    "\n",
    "\n",
    "def tearDownModule():\n",
    "    print(\"calling tearDownModule\")\n",
    "\n",
    "\n",
    "class TestBankAccount(unittest.TestCase):\n",
    "    @classmethod\n",
    "    def setUpClass(cls) -> None:\n",
    "        print(\"calling setUpClass\")\n",
    "\n",
    "    @classmethod\n",
    "    def tearDownClass(cls) -> None:\n",
    "        print(\"calling tearDownClass\")\n",
    "\n",
    "    def test_deposit_success(self):\n",
    "        bank_account = BankAccount(0)\n",
    "        bank_account.deposit(10)\n",
    "\n",
    "        self.assertEqual(10, bank_account.balance)\n",
    "\n",
    "    def test_withdraw_success(self):\n",
    "        bank_account = BankAccount(10)\n",
    "        bank_account.withdraw(10)\n",
    "\n",
    "        self.assertEqual(0, bank_account.balance)\n",
    "\n",
    "\n",
    "if __name__ == \"__main__\":\n",
    "    unittest.main()\n",
    "\n",
    "\n",
    "        self.assertEqual(0,bank_account.balance)\n",
    "\n",
    "if __name__ == \"__main__\":\n",
    "    unittest.main()"
   ]
  },
  {
   "cell_type": "markdown",
   "metadata": {},
   "source": [
    "## 1.4. <a id='toc1_4_'></a>[方法级别的Fixtures](#toc0_)"
   ]
  },
  {
   "cell_type": "code",
   "execution_count": 5,
   "metadata": {},
   "outputs": [
    {
     "name": "stdout",
     "output_type": "stream",
     "text": [
      "Overwriting test_bank_account.py\n"
     ]
    }
   ],
   "source": [
    "%%writefile test_bank_account.py\n",
    "# type:ignore\n",
    "import unittest\n",
    "\n",
    "from tests.fixtures.bank_account import BankAccount\n",
    "\n",
    "\n",
    "def setUpModule():\n",
    "    print(\"calling setUpModule\")\n",
    "\n",
    "\n",
    "def tearDownModule():\n",
    "    print(\"calling tearDownModule\")\n",
    "\n",
    "\n",
    "class TestBankAccount(unittest.TestCase):\n",
    "    @classmethod\n",
    "    def setUpClass(cls) -> None:\n",
    "        print(\"calling setUpClass\")\n",
    "\n",
    "    @classmethod\n",
    "    def tearDownClass(cls) -> None:\n",
    "        print(\"calling tearDownClass\")\n",
    "\n",
    "    def setUp(self):\n",
    "        print(\"calling setUp\")\n",
    "        self.bank_account = BankAccount(10)\n",
    "\n",
    "    def tearDown(self):\n",
    "        print(\"calling tearDown\")\n",
    "        self.bank_account = None\n",
    "\n",
    "    def test_deposit_success(self):\n",
    "        self.bank_account.deposit(10)\n",
    "        self.assertEqual(20, self.bank_account.balance)\n",
    "\n",
    "    def test_withdraw_success(self):\n",
    "        self.bank_account.withdraw(10)\n",
    "        self.assertEqual(0, self.bank_account.balance)\n",
    "\n",
    "\n",
    "if __name__ == \"__main__\":\n",
    "    unittest.main()\n"
   ]
  }
 ],
 "metadata": {
  "kernelspec": {
   "display_name": "study",
   "language": "python",
   "name": "python3"
  },
  "language_info": {
   "codemirror_mode": {
    "name": "ipython",
    "version": 3
   },
   "file_extension": ".py",
   "mimetype": "text/x-python",
   "name": "python",
   "nbconvert_exporter": "python",
   "pygments_lexer": "ipython3",
   "version": "3.9.15"
  },
  "orig_nbformat": 4,
  "vscode": {
   "interpreter": {
    "hash": "49fdd20b2b68a4dd8ebcbb061b9c04f8e52f6472af90d6159269a7c8abf5d944"
   }
  }
 },
 "nbformat": 4,
 "nbformat_minor": 2
}
