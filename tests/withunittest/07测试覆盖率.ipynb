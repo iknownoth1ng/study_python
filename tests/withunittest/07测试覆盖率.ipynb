{
 "cells": [
  {
   "attachments": {},
   "cell_type": "markdown",
   "metadata": {},
   "source": [
    "# 测试覆盖率\n",
    "\n",
    "测试覆盖率统计的是被测试代码在单元测试中有多少代码行被执行到了\n",
    "\n",
    "覆盖率=执行到的代码行数/代码总行数\n",
    "\n",
    "统计测试覆盖率\n",
    "> python -m coverage run -m unittest\n",
    "\n",
    "查看覆盖率报告\n",
    "> python -m coverage report\n",
    "\n",
    "生成html格式的覆盖率报告\n",
    ">python -m coverage html"
   ]
  }
 ],
 "metadata": {
  "kernelspec": {
   "display_name": "study",
   "language": "python",
   "name": "python3"
  },
  "language_info": {
   "name": "python",
   "version": "3.9.15 (main, Nov  4 2022, 16:35:55) [MSC v.1916 64 bit (AMD64)]"
  },
  "orig_nbformat": 4,
  "vscode": {
   "interpreter": {
    "hash": "49fdd20b2b68a4dd8ebcbb061b9c04f8e52f6472af90d6159269a7c8abf5d944"
   }
  }
 },
 "nbformat": 4,
 "nbformat_minor": 2
}
