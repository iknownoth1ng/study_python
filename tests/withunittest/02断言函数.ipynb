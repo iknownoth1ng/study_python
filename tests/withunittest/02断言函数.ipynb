{
 "cells": [
  {
   "cell_type": "markdown",
   "metadata": {},
   "source": [
    "**Table of contents**<a id='toc0_'></a>    \n",
    "1. [常用的断言函数](#toc1_)    \n",
    "1.1. [assertEqual函数](#toc1_1_)    \n",
    "1.2. [assertTrue函数](#toc1_2_)    \n",
    "1.3. [assertRaises函数](#toc1_3_)    \n",
    "\n",
    "<!-- vscode-jupyter-toc-config\n",
    "\tnumbering=true\n",
    "\tanchor=true\n",
    "\tflat=true\n",
    "\tminLevel=1\n",
    "\tmaxLevel=6\n",
    "\t/vscode-jupyter-toc-config -->\n",
    "<!-- THIS CELL WILL BE REPLACED ON TOC UPDATE. DO NOT WRITE YOUR TEXT IN THIS CELL -->"
   ]
  },
  {
   "cell_type": "markdown",
   "metadata": {},
   "source": [
    "# 1. <a id='toc1_'></a>[常用的断言函数](#toc0_)\n",
    "---\n",
    "## 1.1. <a id='toc1_1_'></a>[assertEqual函数](#toc0_)\n"
   ]
  },
  {
   "cell_type": "code",
   "execution_count": 1,
   "metadata": {},
   "outputs": [
    {
     "name": "stdout",
     "output_type": "stream",
     "text": [
      "Writing test_assert_methods.py\n"
     ]
    }
   ],
   "source": [
    "%%writefile test_assert_methods.py\n",
    "import unittest\n",
    "from tests.assert_methods.my_service import MyService\n",
    "\n",
    "class TestMyService(unittest.TestCase):\n",
    "    \n",
    "    def test_download_img_success(self):\n",
    "        # Setup\n",
    "        my_service = MyService()\n",
    "        # Action\n",
    "        result = my_service.download_img(\"http://localhost\")\n",
    "        # Assert\n",
    "        self.assertEqual(result, True)\n",
    "        # self.assertTrue(result)\n",
    "        "
   ]
  },
  {
   "cell_type": "markdown",
   "metadata": {},
   "source": [
    "## 1.2. <a id='toc1_2_'></a>[assertTrue函数](#toc0_)\n"
   ]
  },
  {
   "cell_type": "code",
   "execution_count": null,
   "metadata": {},
   "outputs": [],
   "source": [
    "%%writefile test_assert_methods.py\n",
    "import unittest\n",
    "from tests.assert_methods.my_service import MyService\n",
    "\n",
    "class TestMyService(unittest.TestCase):\n",
    "    \n",
    "    def test_download_img_success(self):\n",
    "        # Setup\n",
    "        my_service = MyService()\n",
    "        # Action\n",
    "        result = my_service.download_img(\"http://localhost\")\n",
    "        # Assert\n",
    "        self.assertTrue(result)\n",
    "        "
   ]
  },
  {
   "cell_type": "markdown",
   "metadata": {},
   "source": [
    "## 1.3. <a id='toc1_3_'></a>[assertRaises函数](#toc0_)"
   ]
  },
  {
   "cell_type": "code",
   "execution_count": null,
   "metadata": {},
   "outputs": [],
   "source": [
    "%%writefile test_assert_methods.py\n",
    "import unittest\n",
    "from tests.assert_methods.my_service import MyService\n",
    "\n",
    "class TestMyService(unittest.TestCase):\n",
    "    \n",
    "    def test_download_img_exception(self):\n",
    "        # Setup\n",
    "        my_service = MyService()\n",
    "        # Assert\n",
    "        with self.assertRaises(ValueError):\n",
    "            my_service.download_img(None)\n",
    "        "
   ]
  },
  {
   "cell_type": "code",
   "execution_count": 1,
   "metadata": {},
   "outputs": [
    {
     "name": "stdout",
     "output_type": "stream",
     "text": [
      "Overwriting test_assert_methods.py\n"
     ]
    }
   ],
   "source": [
    "%%writefile test_assert_methods.py\n",
    "import unittest\n",
    "\n",
    "from tests.assert_methods.my_service import MyService\n",
    "\n",
    "\n",
    "class TestMyService(unittest.TestCase):\n",
    "    def test_download_img_success(self):\n",
    "        # Setup\n",
    "        my_service = MyService()\n",
    "        # Action\n",
    "        result = my_service.download_img(\"http://localhost\")\n",
    "        # Assert\n",
    "        self.assertEqual(result, True)\n",
    "        # self.assertTrue(result)\n",
    "\n",
    "    def test_download_img_exception(self):\n",
    "        # Setup\n",
    "        my_service = MyService()\n",
    "        # Assert\n",
    "        with self.assertRaises(ValueError):\n",
    "            my_service.download_img(\"\")\n"
   ]
  }
 ],
 "metadata": {
  "kernelspec": {
   "display_name": "study",
   "language": "python",
   "name": "python3"
  },
  "language_info": {
   "codemirror_mode": {
    "name": "ipython",
    "version": 3
   },
   "file_extension": ".py",
   "mimetype": "text/x-python",
   "name": "python",
   "nbconvert_exporter": "python",
   "pygments_lexer": "ipython3",
   "version": "3.9.15 (main, Nov  4 2022, 16:35:55) [MSC v.1916 64 bit (AMD64)]"
  },
  "orig_nbformat": 4,
  "vscode": {
   "interpreter": {
    "hash": "49fdd20b2b68a4dd8ebcbb061b9c04f8e52f6472af90d6159269a7c8abf5d944"
   }
  }
 },
 "nbformat": 4,
 "nbformat_minor": 2
}
