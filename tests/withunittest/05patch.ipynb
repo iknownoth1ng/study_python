{
 "cells": [
  {
   "attachments": {},
   "cell_type": "markdown",
   "metadata": {},
   "source": [
    "# patch\n",
    "---\n",
    "## patch能做什么\n",
    "\n",
    "patch可以临时用Mock对象替换一个目标（函数，方法，类）\n",
    "## patch的目标\n",
    "\n",
    "patch可以替换的目标：\n",
    "- 目标必须是可以import的\n",
    "- 是在使用的目标的地方替换而不是替换定义\n",
    "\n",
    "## 使用patch\n",
    "\n",
    "patch使用有三种方式：\n",
    "- 装饰器的方式\n",
    "- 上下文管理器的方式\n",
    "- 手动方式\n"
   ]
  },
  {
   "cell_type": "code",
   "execution_count": 2,
   "metadata": {},
   "outputs": [
    {
     "name": "stdout",
     "output_type": "stream",
     "text": [
      "Writing test_student_service_withpatch.py\n"
     ]
    }
   ],
   "source": [
    "%%writefile test_student_service_withpatch.py\n",
    "import unittest\n",
    "from unittest.mock import Mock, patch\n",
    "\n",
    "from tests.service import student_service\n",
    "\n",
    "\n",
    "class TestStudentService(unittest.TestCase):\n",
    "    @patch(\"tests.service.student_service.save_student\")\n",
    "    @patch(\"tests.service.student_service.find_student_by_id\")\n",
    "    def test_change_name_decorator(self, find_student_mock, save_student_mock):\n",
    "        # Setup\n",
    "        student = Mock(id=1, name=\"Tom\")\n",
    "        find_student_mock.return_value = student\n",
    "\n",
    "        # Action\n",
    "        student_service.change_name(1, \"Jack\")\n",
    "        # Assert\n",
    "        self.assertEqual(student.name, \"Jack\")\n",
    "        save_student_mock.assert_called()\n",
    "\n",
    "    def test_change_name_without_record(self):\n",
    "        # Setup\n",
    "        student = Mock(id=1, name=\"Tom\")\n",
    "\n",
    "        with patch(\n",
    "            \"tests.service.student_service.save_student\"\n",
    "        ) as save_student_mock, patch(\n",
    "            \"tests.service.student_service.find_student_by_id\"\n",
    "        ) as find_student_mock:\n",
    "            # Action\n",
    "            find_student_mock.return_value = student\n",
    "            student_service.change_name(1, \"Jack\")\n",
    "\n",
    "        # Assert\n",
    "        self.assertEqual(student.name, \"Jack\")\n",
    "        save_student_mock.assert_called()\n",
    "\n",
    "    @patch(\"tests.service.student_service.find_student_by_id\")\n",
    "    def test_change_name_manual(self, find_student_mock):\n",
    "        # Setup\n",
    "        student = Mock(id=1, name=\"Tom\")\n",
    "        find_student_mock.return_value = student\n",
    "\n",
    "        patcher = patch(\"tests.service.student_service.save_student\")\n",
    "        patcher.start()\n",
    "\n",
    "        # Action\n",
    "        student_service.change_name(1, \"Jack\")\n",
    "        patcher.stop()\n",
    "        # Assert\n",
    "        self.assertEqual(student.name, \"Jack\")\n",
    "\n",
    "\n",
    "if __name__ == \"__main__\":\n",
    "    unittest.main()\n",
    "\n"
   ]
  }
 ],
 "metadata": {
  "kernelspec": {
   "display_name": "study",
   "language": "python",
   "name": "python3"
  },
  "language_info": {
   "codemirror_mode": {
    "name": "ipython",
    "version": 3
   },
   "file_extension": ".py",
   "mimetype": "text/x-python",
   "name": "python",
   "nbconvert_exporter": "python",
   "pygments_lexer": "ipython3",
   "version": "3.9.15 (main, Nov  4 2022, 16:35:55) [MSC v.1916 64 bit (AMD64)]"
  },
  "orig_nbformat": 4,
  "vscode": {
   "interpreter": {
    "hash": "49fdd20b2b68a4dd8ebcbb061b9c04f8e52f6472af90d6159269a7c8abf5d944"
   }
  }
 },
 "nbformat": 4,
 "nbformat_minor": 2
}
