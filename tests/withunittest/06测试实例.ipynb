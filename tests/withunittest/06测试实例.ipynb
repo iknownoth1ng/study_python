{
 "cells": [
  {
   "attachments": {},
   "cell_type": "markdown",
   "metadata": {},
   "source": [
    "# 测试实例演示\n",
    "---\n",
    "## 通过实例演示来讲解几个常见的测试难点"
   ]
  },
  {
   "cell_type": "code",
   "execution_count": 2,
   "metadata": {},
   "outputs": [
    {
     "name": "stdout",
     "output_type": "stream",
     "text": [
      "Writing test_product_service.py\n"
     ]
    }
   ],
   "source": [
    "%%writefile test_product_service.py\n",
    "import unittest\n",
    "from unittest.mock import MagicMock, patch\n",
    "\n",
    "from tests.service.product_service import ProductService\n",
    "\n",
    "\n",
    "class TestProductService(unittest.TestCase):\n",
    "    def setUp(self) -> None:\n",
    "        self.service = ProductService()\n",
    "\n",
    "    def tearDown(self) -> None:\n",
    "        self.service = None\n",
    "\n",
    "    @patch(\"tests.service.product_service.urlopen\")\n",
    "    @patch(\"tests.service.product_service.Request.__new__\")\n",
    "    def test_download_img_with_exception(self, request_mock, urlopen_mock):\n",
    "        # SetUp\n",
    "        url = \"https://www.bing.com/cn\"\n",
    "\n",
    "        urlopen_return_mock = MagicMock()\n",
    "        webfile_mock = MagicMock()\n",
    "\n",
    "        urlopen_mock.return_value = urlopen_return_mock\n",
    "        urlopen_return_mock.__enter__.return_value = webfile_mock\n",
    "        webfile_mock.read.return_value = None\n",
    "\n",
    "        with self.assertRaises(ValueError):\n",
    "            # Action\n",
    "            self.service.download_img(url)  # type:ignore\n",
    "\n",
    "    @patch(\"builtins.open\")\n",
    "    @patch(\"os.path.basename\")\n",
    "    @patch(\"tests.service.product_service.urlopen\")\n",
    "    @patch(\"tests.service.product_service.Request.__new__\")\n",
    "    def test_download_img_with_success(\n",
    "        self, request_mock, urlopen_mock, basename_mock, open_mock\n",
    "    ) -> None:\n",
    "        url = \"https://www.bing.com/cn\"\n",
    "\n",
    "        urlopen_return_mock = MagicMock()\n",
    "        webfile_mock = MagicMock()\n",
    "\n",
    "        urlopen_mock.return_value = urlopen_return_mock\n",
    "        urlopen_return_mock.__enter__.return_value = webfile_mock\n",
    "        webfile_mock.read.return_value = \"not none\"\n",
    "\n",
    "        basename_mock.return_value = \"fff\"\n",
    "\n",
    "        # Action\n",
    "        result = self.service.download_img(url)  # type:ignore\n",
    "\n",
    "        # Assert\n",
    "        self.assertEqual(\"Download image successfully, fff\", result)\n"
   ]
  }
 ],
 "metadata": {
  "kernelspec": {
   "display_name": "study",
   "language": "python",
   "name": "python3"
  },
  "language_info": {
   "codemirror_mode": {
    "name": "ipython",
    "version": 3
   },
   "file_extension": ".py",
   "mimetype": "text/x-python",
   "name": "python",
   "nbconvert_exporter": "python",
   "pygments_lexer": "ipython3",
   "version": "3.9.15 (main, Nov  4 2022, 16:35:55) [MSC v.1916 64 bit (AMD64)]"
  },
  "orig_nbformat": 4,
  "vscode": {
   "interpreter": {
    "hash": "49fdd20b2b68a4dd8ebcbb061b9c04f8e52f6472af90d6159269a7c8abf5d944"
   }
  }
 },
 "nbformat": 4,
 "nbformat_minor": 2
}
