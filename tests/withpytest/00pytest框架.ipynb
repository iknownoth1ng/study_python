{
 "cells": [
  {
   "attachments": {},
   "cell_type": "markdown",
   "metadata": {},
   "source": [
    "# PyTest框架\n",
    "---\n",
    "## 什么是PyTest\n",
    "\n",
    "PyTest是一个基于Python语言的第三方的测试框架\n",
    "## PyTest的优点\n",
    "\n",
    "- 语法简单\n",
    "- 自动检测测试代码\n",
    "- 跳过指定测试\n",
    "- 开源\n",
    "\n",
    "## PyTest的测试环境\n",
    "\n",
    "安装PyTest\n",
    "> pip install pytest\n",
    "\n",
    "运行PyTest\n",
    "> pytest </br>\n",
    "> pytest test_xxx.py\n",
    "\n",
    "自动查找test_*.py,*_test.py测试文件\n",
    "\n",
    "自动查找测试文件中的test_开头的函数和Test开头的类中的test开头的方法\n",
    "\n"
   ]
  },
  {
   "attachments": {},
   "cell_type": "markdown",
   "metadata": {},
   "source": [
    "## PyTest的常用参数\n",
    "\n",
    "> pytest -v  输出详细的执行信息，比如文件及用例名称等\n",
    "\n",
    "> pytest -s  输出调试信息，比如print的打印信息\n",
    "\n",
    "> pytest -x  遇到错误用例立刻停止"
   ]
  },
  {
   "attachments": {},
   "cell_type": "markdown",
   "metadata": {},
   "source": [
    "## 跳过测试\n",
    "\n",
    "跳过测试的方式有两种\n",
    "\n",
    "@pytest.mark.skip\n",
    "\n",
    "@pytest.mark.skipif"
   ]
  },
  {
   "cell_type": "code",
   "execution_count": 1,
   "metadata": {},
   "outputs": [],
   "source": [
    "import ipytest\n",
    "ipytest.autoconfig()"
   ]
  },
  {
   "cell_type": "code",
   "execution_count": 2,
   "metadata": {},
   "outputs": [
    {
     "name": "stdout",
     "output_type": "stream",
     "text": [
      "\u001b[1m======================================= test session starts =======================================\u001b[0m\n",
      "platform win32 -- Python 3.9.15, pytest-7.2.0, pluggy-1.0.0\n",
      "rootdir: d:\\study\\vsworkspace\\study_python\n",
      "collected 2 items\n",
      "\n",
      "t_103ebc1341844f3697a248dbe4fdf6dd.py \u001b[33ms\u001b[0m\u001b[32m.\u001b[0m\u001b[32m                                                     [100%]\u001b[0m\n",
      "\n",
      "\u001b[32m================================== \u001b[32m\u001b[1m1 passed\u001b[0m, \u001b[33m1 skipped\u001b[0m\u001b[32m in 0.01s\u001b[0m\u001b[32m ===================================\u001b[0m\n"
     ]
    }
   ],
   "source": [
    "%%ipytest -v \n",
    "import sys\n",
    "\n",
    "import pytest\n",
    "\n",
    "from tests.domain.student import Student\n",
    "\n",
    "\n",
    "def is_skip():\n",
    "    return sys.platform.casefold() == \"win32\".casefold()\n",
    "\n",
    "\n",
    "# @pytest.mark.skip(reason=\"expired\")\n",
    "@pytest.mark.skipif(condition=is_skip(), reason=\"skip on windows\")\n",
    "def test_student():\n",
    "    print(\"testing student __int__\")\n",
    "    # Action\n",
    "    student = Student(id=1, name=\"Jack\")\n",
    "\n",
    "    # Assert\n",
    "    assert student.id == 1\n",
    "    assert student.name == \"Jack\"\n",
    "\n",
    "\n",
    "class TestStudents:\n",
    "    def test_student(self):\n",
    "        # Action\n",
    "        student = Student(id=1, name=\"Jack\")\n",
    "\n",
    "        # Assert\n",
    "        assert student.id == 1\n",
    "        assert student.name == \"Jack\"\n"
   ]
  }
 ],
 "metadata": {
  "kernelspec": {
   "display_name": "study",
   "language": "python",
   "name": "python3"
  },
  "language_info": {
   "codemirror_mode": {
    "name": "ipython",
    "version": 3
   },
   "file_extension": ".py",
   "mimetype": "text/x-python",
   "name": "python",
   "nbconvert_exporter": "python",
   "pygments_lexer": "ipython3",
   "version": "3.9.15"
  },
  "orig_nbformat": 4,
  "vscode": {
   "interpreter": {
    "hash": "49fdd20b2b68a4dd8ebcbb061b9c04f8e52f6472af90d6159269a7c8abf5d944"
   }
  }
 },
 "nbformat": 4,
 "nbformat_minor": 2
}
