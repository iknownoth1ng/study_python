{
 "cells": [
  {
   "attachments": {},
   "cell_type": "markdown",
   "metadata": {},
   "source": [
    "# 编写测试函数\n",
    "\n",
    "## 本地安装Tasks项目\n",
    "https://pragprog.com/titles/bopytest/python-testing-with-pytest/\n",
    "\n",
    "pip install . \n",
    "\n",
    "## 使用assert声明\n",
    "pytest可以重写assert关键字。pytest会截断原生assert的调用，替换成pytest定义的asset，从而提供更多的失败信息和细节。\n",
    "\n",
    "pytest .\\test_task_fail.py\n",
    "## 预期异常\n",
    "with pytest.raises(TypeError):</br>\n",
    "    code......\n",
    "\n",
    "pytest .\\test_api_exceptions.py::test_add_raises\n",
    "\n",
    "\n",
    "with pytest.raises(TypeError) as excinfo:</br>\n",
    "    code......\n",
    "pytest .\\test_api_exceptions.py::test_start_tasks_db_raises\n",
    "\n",
    "## 测试函数的标记\n",
    "pytest -v -m 'smoke' .\\test_api_exceptions.py\n",
    "\n",
    "pytest -v -m 'get' .\\test_api_exceptions.py\n",
    "\n",
    "pytest -v -m 'smoke and get' .\\test_api_exceptions.py\n",
    "\n",
    "pytest -v -m 'smoke or get' .\\test_api_exceptions.py\n",
    "\n",
    "pytest -v -m 'smoke and not get' .\\test_api_exceptions.py\n",
    "\n",
    "## 跳过测试\n",
    "@pytest.mark.skip(reason='misunderstood the API')\n",
    "\n",
    "@pytest.mark.skipif(tasks.__version__ < '0.2.0',\n",
    "                    reason='not supported until version 0.2.0')\n",
    "\n",
    "pytest -rs .\\test_unique_id_3.py\n",
    "\n",
    "-r chars              Show extra test summary info as specified by chars: (f)ailed, (E)rror, (s)kipped, (x)failed, \n",
    "                        (X)passed, (p)assed, (P)assed with output, (a)ll except passed (p/P), or (A)ll. (w)arnings   \n",
    "                        are enabled by default (see --disable-warnings), 'N' can be used to reset the list. (default:\n",
    "                        'fE').\n",
    "\n",
    "## 标记预期会失败的测试\n",
    "@pytest.mark.xfail()\n",
    "\n",
    "pytest -v .\\test_unique_id_4.py"
   ]
  },
  {
   "cell_type": "code",
   "execution_count": null,
   "metadata": {},
   "outputs": [],
   "source": []
  }
 ],
 "metadata": {
  "language_info": {
   "name": "python"
  },
  "orig_nbformat": 4
 },
 "nbformat": 4,
 "nbformat_minor": 2
}
