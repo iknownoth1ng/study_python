{
 "cells": [
  {
   "attachments": {},
   "cell_type": "markdown",
   "metadata": {},
   "source": [
    "# 内置Fixture\n",
    "cd ch4\n",
    "\n",
    "在处理临时文件时，pytest内置的fixture可以识别命令行参数、在多个测试会话间通信、校验输出流、更改环境变量、审查错误警报等等。\n",
    "\n",
    "## tmpdir和tmpdir_factory\n",
    "负责在测试运行前创建临时文件目录，并在测试结束后删除。\n",
    "\n",
    "单个测试用tmpdir，多个测试用tmpdir_factory。\n",
    "\n",
    "tmpdir作用域是函数级别，tmpdir_factory的作用范围是会话级别。\n",
    "\n",
    "pytest -q -s test_tmpdir.py::test_tmpdir_factory\n",
    "\n",
    "### 在其他作用范围内使用临时目录\n",
    "如果需要模块或类级别作用范围的目录，该怎么办？\n",
    "\n",
    "可以利用tmpdir_factory创建一个fixture。\n",
    "\n",
    "cd ch4/authors 查看conftest.py\n",
    "\n",
    "pytest -sv authors/test_authors.py\n",
    "\n",
    "## 使用pytestconfig\n",
    "cd /ch4/pytestconfig/conftest.py\n",
    "\n",
    "hook函数pytest_addoption添加配置选项\n",
    "\n",
    "pytestconfig获取配置选项\n",
    "\n",
    "pytest -s -q test_config.py::test_option\n",
    "\n",
    "pytest -s -q --myopt test_config.py::test_option\n",
    "\n",
    "pytest -s -q --myopt --foo baz test_config.py::test_option\n",
    "\n",
    "pytest -sv test_config.py::test_fixtures_for_options\n",
    "\n",
    "pytest -sv test_config.py::test_pytestconfig\n"
   ]
  }
 ],
 "metadata": {
  "kernelspec": {
   "display_name": "study",
   "language": "python",
   "name": "python3"
  },
  "language_info": {
   "name": "python",
   "version": "3.8.16"
  },
  "orig_nbformat": 4
 },
 "nbformat": 4,
 "nbformat_minor": 2
}
