{
 "cells": [
  {
   "attachments": {},
   "cell_type": "markdown",
   "metadata": {},
   "source": [
    "# PyTest框架\n",
    "---\n",
    "## 什么是PyTest\n",
    "\n",
    "PyTest是一个基于Python语言的第三方的测试框架\n",
    "## PyTest的优点\n",
    "\n",
    "- 语法简单\n",
    "- 自动检测测试代码\n",
    "- 跳过指定测试\n",
    "- 开源\n",
    "\n",
    "## PyTest的测试环境\n",
    "\n",
    "安装PyTest\n",
    "> pip install pytest\n",
    "\n",
    "运行PyTest\n",
    "> pytest </br>\n",
    "> pytest test_xxx.py\n",
    "\n",
    "自动查找test_*.py,*_test.py测试文件\n",
    "\n",
    "自动查找测试文件中的test_开头的函数和Test开头的类中的test开头的方法\n",
    "\n"
   ]
  },
  {
   "attachments": {},
   "cell_type": "markdown",
   "metadata": {},
   "source": [
    "## PyTest的常用参数\n",
    "\n",
    "> pytest -v  输出详细的执行信息，比如文件及用例名称等\n",
    "\n",
    "> pytest -s  输出调试信息，比如print的打印信息\n",
    "\n",
    "> pytest -x  遇到错误用例立刻停止"
   ]
  },
  {
   "attachments": {},
   "cell_type": "markdown",
   "metadata": {},
   "source": [
    "## 跳过测试\n",
    "\n",
    "跳过测试的方式有两种\n",
    "\n",
    "@pytest.mark.skip\n",
    "\n",
    "@pytest.mark.skipif"
   ]
  }
 ],
 "metadata": {
  "kernelspec": {
   "display_name": "study",
   "language": "python",
   "name": "python3"
  },
  "language_info": {
   "name": "python",
   "version": "3.9.15 (main, Nov  4 2022, 16:35:55) [MSC v.1916 64 bit (AMD64)]"
  },
  "orig_nbformat": 4,
  "vscode": {
   "interpreter": {
    "hash": "49fdd20b2b68a4dd8ebcbb061b9c04f8e52f6472af90d6159269a7c8abf5d944"
   }
  }
 },
 "nbformat": 4,
 "nbformat_minor": 2
}
