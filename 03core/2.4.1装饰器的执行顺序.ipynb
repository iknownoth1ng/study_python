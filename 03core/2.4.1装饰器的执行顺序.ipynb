{
 "cells": [
  {
   "attachments": {},
   "cell_type": "markdown",
   "metadata": {},
   "source": [
    "# Python装饰器的执行顺序\n",
    "\n",
    "许多半吊子张口就来：\n",
    "> 靠近函数名的装饰器先执行，远离函数名的装饰器后执行。\n",
    "\n",
    "**这种说法是不正确的**。但是这些半吊子不服气，还会抛出一段代码给你，来《证明》自己的观点："
   ]
  },
  {
   "cell_type": "code",
   "execution_count": 1,
   "metadata": {},
   "outputs": [
    {
     "name": "stdout",
     "output_type": "stream",
     "text": [
      "我是内层装饰器\n",
      "我是外层装饰器\n",
      "我是函数本身\n"
     ]
    }
   ],
   "source": [
    "def decorator_outer(func):\n",
    "    print(\"我是外层装饰器\")\n",
    "\n",
    "    def wrapper():\n",
    "        func()\n",
    "\n",
    "    return wrapper\n",
    "\n",
    "\n",
    "def decorator_inner(func):\n",
    "    print(\"我是内层装饰器\")\n",
    "\n",
    "    def wrapper():\n",
    "        func()\n",
    "\n",
    "    return wrapper\n",
    "\n",
    "\n",
    "@decorator_outer\n",
    "@decorator_inner\n",
    "def func():\n",
    "    print(\"我是函数本身\")\n",
    "\n",
    "\n",
    "func()"
   ]
  },
  {
   "attachments": {},
   "cell_type": "markdown",
   "metadata": {},
   "source": [
    "decorator_inner这个装饰器靠近函数名，是内层装饰器，它里面的print先打印出来；</br>\n",
    "decorator_outer远离函数名，是外层装饰器，它里面的print后打印出来。看起来确实是内层装饰器先执行，外层装饰器后执行。</br>\n",
    "为什么我说这种看法是不准确呢？我们来看看下面这段代码：<br>\n"
   ]
  },
  {
   "cell_type": "code",
   "execution_count": 2,
   "metadata": {},
   "outputs": [
    {
     "name": "stdout",
     "output_type": "stream",
     "text": [
      "我是内层装饰器\n",
      "1\n",
      "2\n",
      "内层装饰器闭包初始化完毕\n",
      "3\n",
      "4\n",
      "我是外层装饰器\n",
      "a\n",
      "b\n",
      "外层装饰器闭包初始化完毕\n",
      "c\n",
      "d\n",
      "外层装饰器，函数运行之前\n",
      "内层装饰器，函数运行之前\n",
      "我是函数本身\n",
      "内层装饰器，函数运行之后\n",
      "外层装饰器，函数运行之后\n"
     ]
    }
   ],
   "source": [
    "def decorator_outer(func):\n",
    "    print(\"我是外层装饰器\")\n",
    "    print(\"a\")\n",
    "    print(\"b\")\n",
    "\n",
    "    def wrapper():\n",
    "        print(\"外层装饰器，函数运行之前\")\n",
    "        func()\n",
    "        print(\"外层装饰器，函数运行之后\")\n",
    "\n",
    "    print(\"外层装饰器闭包初始化完毕\")\n",
    "    print(\"c\")\n",
    "    print(\"d\")\n",
    "    return wrapper\n",
    "\n",
    "\n",
    "def decorator_inner(func):\n",
    "    print(\"我是内层装饰器\")\n",
    "    print(1)\n",
    "    print(2)\n",
    "\n",
    "    def wrapper():\n",
    "        print(\"内层装饰器，函数运行之前\")\n",
    "        func()\n",
    "        print(\"内层装饰器，函数运行之后\")\n",
    "\n",
    "    print(\"内层装饰器闭包初始化完毕\")\n",
    "    print(3)\n",
    "    print(4)\n",
    "    return wrapper\n",
    "\n",
    "\n",
    "@decorator_outer\n",
    "@decorator_inner\n",
    "def func():\n",
    "    print(\"我是函数本身\")\n",
    "\n",
    "\n",
    "func()"
   ]
  },
  {
   "attachments": {},
   "cell_type": "markdown",
   "metadata": {},
   "source": [
    "从图中可以看到，装饰器里面的代码中，wrapper闭包外面的代码确实是内层装饰器先执行，外层装饰器后执行。</br>\n",
    "但是在闭包wrapper内部的代码，却稍微复杂一些：\n",
    "1. 外层装饰器先执行，但只执行了一部分，执行到调用func()\n",
    "2. 内层装饰器开始执行\n",
    "3. 内层装饰器执行完\n",
    "4. 外层装饰器执行完\n",
    "\n",
    "这个执行效果有点类似于："
   ]
  },
  {
   "cell_type": "code",
   "execution_count": 4,
   "metadata": {},
   "outputs": [
    {
     "name": "stdout",
     "output_type": "stream",
     "text": [
      "外层装饰器，函数运行之前\n",
      "内层装饰器，函数运行之前\n",
      "我是函数本身\n",
      "内层装饰器，函数运行之后\n",
      "外层装饰器，函数运行之后\n"
     ]
    }
   ],
   "source": [
    "def func():\n",
    "    print(\"我是函数本身\")\n",
    "\n",
    "\n",
    "def deco_inner():\n",
    "    print(\"内层装饰器，函数运行之前\")\n",
    "    func()\n",
    "    print(\"内层装饰器，函数运行之后\")\n",
    "\n",
    "\n",
    "def deco_outer():\n",
    "    print(\"外层装饰器，函数运行之前\")\n",
    "    deco_inner()\n",
    "    print(\"外层装饰器，函数运行之后\")\n",
    "\n",
    "\n",
    "deco_outer()"
   ]
  },
  {
   "attachments": {},
   "cell_type": "markdown",
   "metadata": {},
   "source": [
    "所以，当我们说多个装饰器堆叠的时候，哪个装饰器的代码先运行时，不能一概而论说内层装饰器的代码先运行。\n",
    "\n",
    "这会给人一种错觉，认为是内层装饰器的代码从第一行到最后一行都是先运行的。\n",
    "\n",
    "准确的说法应该是，wrapper外面的代码，确实是内层装饰器先运行，外层装饰器后运行。\n",
    "\n",
    "但是wrapper里面的代码，是外层装饰器先开始运行，后运行完毕，内层装饰器后开始运行，先运行完毕。\n",
    "\n",
    "这个知识看起来似乎有点像面试八股文，有什么用呢？我给大家举个例子。下面是使用FastAPI写的一个接口："
   ]
  },
  {
   "cell_type": "code",
   "execution_count": 7,
   "metadata": {},
   "outputs": [],
   "source": [
    "from fastapi import FastAPI\n",
    "\n",
    "app = FastAPI()\n",
    "\n",
    "\n",
    "def do_query_dataset(dataset_id):\n",
    "    print(\"直接读取数据库，获取dataset信息\")\n",
    "    return {\"xxx\": 1, \"yyy\": 2}\n",
    "\n",
    "\n",
    "@app.get(\"/dataset\")\n",
    "def get_dataset(dataset_id: int):\n",
    "    dataset_info = do_query_dataset(dataset_id)\n",
    "    return {\"success\": True, \"data\": dataset_info}"
   ]
  },
  {
   "attachments": {},
   "cell_type": "markdown",
   "metadata": {},
   "source": [
    "现在，要增加权限校验，首先要判断用户是否登录。在用户已经登录的情况下，看这个用户是否有这个数据集的权限。在有这个数据集的权限时，才能返回数据集信息。\n",
    "\n",
    "你肯定想到了使用装饰器来做这两步，一开始你写的代码可能是这样的："
   ]
  },
  {
   "cell_type": "code",
   "execution_count": null,
   "metadata": {},
   "outputs": [],
   "source": [
    "def check_login(func):\n",
    "    def wrapper(*args, **kwargs):\n",
    "        print(\"检测是否有特定的Cookies\")\n",
    "        is_login = False\n",
    "        if not is_login:\n",
    "            return {\"success\": False, \"msg\": \"没有登录\"}\n",
    "        return func(*args, **kwargs)\n",
    "\n",
    "    return wrapper\n",
    "\n",
    "\n",
    "def check_data_set_permission(func):\n",
    "    def wrapper(*args, **kwargs):\n",
    "        print(\"检测是否有特定的数据集权限\")\n",
    "        print(\"首先从请求参数中获取dataset_id\")\n",
    "        print(\"然后从登录session中获取用户id，注意，如果没有登录，是没有session的\")\n",
    "        print(\"判断用户是否有这个dataset的权限\")\n",
    "        has_data_set_permission = True\n",
    "        if not has_data_set_permission:\n",
    "            return {\"success\": False, \"msg\": \"没有数据集权限\"}\n",
    "        return func(*args, **kwargs)\n",
    "\n",
    "    return wrapper"
   ]
  },
  {
   "attachments": {},
   "cell_type": "markdown",
   "metadata": {},
   "source": [
    "这个时候，我们要确保check_login里面检查用户是否登录的代码首先运行。然后才能是check_data_set_permission里面检查数据集权限的代码。\n",
    "\n",
    "本文开头的半吊子，认为靠近函数名的装饰器先执行，远离函数名的装饰器后执行。按他们理论，就会写成："
   ]
  },
  {
   "cell_type": "code",
   "execution_count": null,
   "metadata": {},
   "outputs": [],
   "source": [
    "@check_data_set_permission\n",
    "@check_login\n",
    "def do_query_dataset(dataset_id):\n",
    "    ..."
   ]
  },
  {
   "attachments": {},
   "cell_type": "markdown",
   "metadata": {},
   "source": [
    "这样写显然是错误的。因为check_data_set_permission装饰器会有一个前提，就是用户已经登录了，代码才会走到这里。那么他就会直接去session取用户ID。没有登录的用户是没有用户ID的。在取ID的这一步就会出错。\n",
    "\n",
    "根据本文上面的解释，由于这两个逻辑都是在wrapper内部的。 wrapper内部的代码，外层装饰器先开始运行。因此，这里我们装饰器的正确顺序，只能按照如下顺序排列："
   ]
  },
  {
   "cell_type": "code",
   "execution_count": null,
   "metadata": {},
   "outputs": [],
   "source": [
    "@check_login\n",
    "@check_data_set_permission\n",
    "def do_query_dataset(dataset_id):\n",
    "    ..."
   ]
  },
  {
   "attachments": {},
   "cell_type": "markdown",
   "metadata": {},
   "source": [
    "这个写法，从直觉上，就会跟本文开头的认知矛盾。但这才是正确的顺序。"
   ]
  }
 ],
 "metadata": {
  "kernelspec": {
   "display_name": "study",
   "language": "python",
   "name": "python3"
  },
  "language_info": {
   "codemirror_mode": {
    "name": "ipython",
    "version": 3
   },
   "file_extension": ".py",
   "mimetype": "text/x-python",
   "name": "python",
   "nbconvert_exporter": "python",
   "pygments_lexer": "ipython3",
   "version": "3.9.15"
  },
  "orig_nbformat": 4
 },
 "nbformat": 4,
 "nbformat_minor": 2
}
