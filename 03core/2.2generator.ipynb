{
 "cells": [
  {
   "cell_type": "markdown",
   "metadata": {},
   "source": [
    "**Table of contents**<a id='toc0_'></a>    \n",
    "1. [生成器](#toc1_)    \n",
    "1.1. [目的](#toc1_1_)    \n",
    "1.2. [使用\"迭代器\"完成部分功能](#toc1_2_)    \n",
    "1.2.1. [尝试1](#toc1_2_1_)    \n",
    "1.2.2. [尝试2](#toc1_2_2_)    \n",
    "1.3. [生成器](#toc1_3_)    \n",
    "1.3.1. [什么是生成器](#toc1_3_1_)    \n",
    "1.3.2. [生成器与迭代器](#toc1_3_2_)    \n",
    "1.3.3. [创建生成器方法1](#toc1_3_3_)    \n",
    "1.3.4. [创建生成器方法2](#toc1_3_4_)    \n",
    "1.3.5. [yield关键字](#toc1_3_5_)    \n",
    "1.3.6. [获取生成器def代码块中return值](#toc1_3_6_)    \n",
    "1.4. [使用send唤醒](#toc1_4_)    \n",
    "1.4.1. [测试send](#toc1_4_1_)    \n",
    "1.4.2. [注意](#toc1_4_2_)    \n",
    "1.5. [总结](#toc1_5_)    \n",
    "1.6. [作业](#toc1_6_)    \n",
    "\n",
    "<!-- vscode-jupyter-toc-config\n",
    "\tnumbering=true\n",
    "\tanchor=true\n",
    "\tflat=true\n",
    "\tminLevel=1\n",
    "\tmaxLevel=6\n",
    "\t/vscode-jupyter-toc-config -->\n",
    "<!-- THIS CELL WILL BE REPLACED ON TOC UPDATE. DO NOT WRITE YOUR TEXT IN THIS CELL -->"
   ]
  },
  {
   "cell_type": "markdown",
   "metadata": {},
   "source": [
    "# 1. <a id='toc1_'></a>[生成器](#toc0_)\n",
    "\n",
    "## 1.1. <a id='toc1_1_'></a>[目的](#toc0_)\n",
    "如下图，是一个初中阶段的二元一次方程，其中Y=2X+1\n",
    "\n",
    "![](../image/03/generator01.png)"
   ]
  },
  {
   "cell_type": "markdown",
   "metadata": {},
   "source": [
    "- 当X的值是0，那么Y的值是1\n",
    "\n",
    "- 当X的值是1，那么Y的值是3\n",
    "\n",
    "- 当X的值是2，那么Y的值是5\n",
    "\n",
    "...以此类推...\n",
    "\n",
    "现有如下需求，请问该怎样实现呢？\n",
    "\n",
    ">1. 不确定个数的 点的坐标\n",
    ">2. 第1次点的坐标X值是0，得到的Y值1；将此次的Y当做做第2次点的X坐标值\n",
    ">3. 即 第2次点的坐标值是1，得到Y值3；将此次的Y当做做第3次点的X坐标值\n",
    ">4. 即 第3次点的坐标值是3，得到Y值7；将此次的Y当做做第4次点的X坐标值</br>\n",
    ">​   **...以此类推...**\n",
    ">5. 在不确定第X次时，可能需要修改方程(Y=2X+1)组中的2与1的值\n",
    "\n",
    "想想该怎样实现呢？\n",
    "\n",
    "就用到我们今天要研究的知识点：生成器\n",
    "\n",
    "## 1.2. <a id='toc1_2_'></a>[使用\"迭代器\"完成部分功能](#toc0_)\n",
    "\n",
    "### 1.2.1. <a id='toc1_2_1_'></a>[尝试1](#toc0_)\n",
    "上面的问题中，假如需要5个，实现较为简单，参考代码如下："
   ]
  },
  {
   "cell_type": "code",
   "execution_count": 1,
   "metadata": {},
   "outputs": [
    {
     "name": "stdout",
     "output_type": "stream",
     "text": [
      "[(0, 1), (1, 3), (3, 7), (7, 15), (15, 31)]\n"
     ]
    }
   ],
   "source": [
    "point_x_y_list = []  # 定义一个列表用来存储元组\n",
    "x = 0\n",
    "for _ in range(5):\n",
    "    y = 2 * x + 1  # 根据x的值计算出y的值\n",
    "    point_x_y_list.append((x, y))  # 将本次生成的数据存储到列表中\n",
    "    x = y  # 将x的值改为此次y的值\n",
    "print(point_x_y_list)"
   ]
  },
  {
   "cell_type": "markdown",
   "metadata": {},
   "source": [
    "小总结：\n",
    ">**生成数据这个功能已经实现了，但是没有解决 生成的的数据个数不确定的问题**\n",
    "\n",
    "### 1.2.2. <a id='toc1_2_2_'></a>[尝试2](#toc0_)\n",
    "上面的问题中 提到需要的个数不确定，那么此时我们可以考虑使用”迭代器“，参考代码如下："
   ]
  },
  {
   "cell_type": "code",
   "execution_count": 2,
   "metadata": {},
   "outputs": [
    {
     "name": "stdout",
     "output_type": "stream",
     "text": [
      "(0, 1)\n",
      "(1, 3)\n",
      "(3, 7)\n",
      "(7, 15)\n"
     ]
    }
   ],
   "source": [
    "class PointXY(object):\n",
    "    \"\"\"\n",
    "    通过迭代器，生成不确定个数的点的坐标\n",
    "    \"\"\"\n",
    "    def __init__(self):\n",
    "        self.x = 0\n",
    "\n",
    "    def __iter__(self):\n",
    "        return self\n",
    "\n",
    "    def __next__(self):\n",
    "        temp_y = 2 * self.x + 1\n",
    "        temp_point_x_y = (self.x, temp_y)  # 得到一个元组\n",
    "        self.x = temp_y\n",
    "        return temp_point_x_y\n",
    "\n",
    "\n",
    "point_x_y = PointXY()  # 创建一个可迭代对象\n",
    "point_x_y_iter = iter(point_x_y)  # 获取迭代器\n",
    "\n",
    "point_x_y_1 = next(point_x_y_iter)\n",
    "print(point_x_y_1)\n",
    "\n",
    "point_x_y_2 = next(point_x_y_iter)\n",
    "print(point_x_y_2)\n",
    "\n",
    "point_x_y_3 = next(point_x_y_iter)\n",
    "print(point_x_y_3)\n",
    "\n",
    "point_x_y_4 = next(point_x_y_iter)\n",
    "print(point_x_y_4)\n"
   ]
  },
  {
   "cell_type": "markdown",
   "metadata": {},
   "source": [
    "小总结：\n",
    "\n",
    ">**实现了生成不确定个数的问题，但是 如果想要在第X次，例如第5次时，修改y=2x+1中的2或者1的值，则不能满足**\n",
    "\n",
    "想要解决这个问题其实很简单，下面先学习生成器，然后你自然就知道怎样解决这个问题\n",
    "\n",
    "## 1.3. <a id='toc1_3_'></a>[生成器](#toc0_)\n",
    "### 1.3.1. <a id='toc1_3_1_'></a>[什么是生成器](#toc0_)\n",
    "通过列表生成式，我们可以直接创建一个列表。但是，受到内存限制，列表容量肯定是有限的。而且，创建一个包含100万个元素的列表，不仅占用很大的存储空间，如果我们仅仅需要访问前面几个元素，那后面绝大多数元素占用的空间都白白浪费了。\n",
    "\n",
    "所以，如果列表元素可以按照某种算法推算出来，那我们是否可以在循环的过程中不断推算出后续的元素呢？这样就不必创建完整的list，从而节省大量的空间。\n",
    "\n",
    "通俗的理解：\n",
    "\n",
    "在Python中，这种一边循环一边计算的机制，称为生成器：generator\n",
    "\n",
    "### 1.3.2. <a id='toc1_3_2_'></a>[生成器与迭代器](#toc0_)\n",
    "其实利用迭代器，我们也可以在每次迭代获取数据（通过next()方法）时按照特定的规律进行生成。\n",
    "\n",
    "但是在实现一个迭代器时，关于当前迭代到的状态需要我们自己记录，进而才能根据当前状态生成下一个数据。\n",
    "\n",
    "为了达到记录当前状态，并配合next()函数进行迭代使用，\n",
    "\n",
    "简言之，迭代器是可以实现在循环的过程中生成数据的，但是稍稍有些复杂\n",
    "\n",
    "有一个能具有迭代器的功能，且比它更加简单的方式：生成器(generator)\n",
    "\n",
    "生成器是一类特殊的迭代器\n",
    "\n",
    "### 1.3.3. <a id='toc1_3_3_'></a>[创建生成器方法1](#toc0_)\n",
    "要创建一个生成器，有多种方法\n",
    "\n",
    "第一种方法很简单，只要把一个列表生成式的 [ ] 改成 ( )"
   ]
  },
  {
   "cell_type": "code",
   "execution_count": 5,
   "metadata": {},
   "outputs": [
    {
     "name": "stdout",
     "output_type": "stream",
     "text": [
      "<class 'list'>\n",
      "[0, 1, 2, 3, 4]\n",
      "<class 'generator'>\n",
      "<generator object <genexpr> at 0x000001AE5A77E9E0>\n"
     ]
    }
   ],
   "source": [
    "nums = list(range(5)) #* [x for x in range(5)]\n",
    "print(type(nums))\n",
    "print(nums)\n",
    "\n",
    "nums2 = iter(range(5)) #* (x for x in range(5))\n",
    "print(type(nums2))\n",
    "print(nums2)"
   ]
  },
  {
   "cell_type": "markdown",
   "metadata": {},
   "source": [
    "说明：\n",
    "\n",
    "1. 区别仅在于最外层的 [ ] 和 ( ) ， nums是一个列表，而 nums2是一个生成器\n",
    "\n",
    "2. 可以直接打印出列表nums的每一个元素，而对于生成器nums2，我们可以按照迭代器的使用方法来使用，即可以通过next()函数、for循环、list()等方法使用"
   ]
  },
  {
   "cell_type": "code",
   "execution_count": 7,
   "metadata": {},
   "outputs": [
    {
     "name": "stdout",
     "output_type": "stream",
     "text": [
      "<class 'list'>\n",
      "[0, 1, 2, 3, 4]\n",
      "<class 'range_iterator'>\n",
      "<range_iterator object at 0x000001AE5A7D16B0>\n",
      "0\n",
      "1\n",
      "2\n",
      "3\n",
      "4\n"
     ]
    },
    {
     "ename": "StopIteration",
     "evalue": "",
     "output_type": "error",
     "traceback": [
      "\u001b[1;31m---------------------------------------------------------------------------\u001b[0m",
      "\u001b[1;31mStopIteration\u001b[0m                             Traceback (most recent call last)",
      "\u001b[1;32md:\\study\\vsworkspace\\study_python\\03core\\2.2generator.ipynb Cell 9\u001b[0m in \u001b[0;36m<cell line: 19>\u001b[1;34m()\u001b[0m\n\u001b[0;32m     <a href='vscode-notebook-cell:/d%3A/study/vsworkspace/study_python/03core/2.2generator.ipynb#X11sZmlsZQ%3D%3D?line=14'>15</a>\u001b[0m \u001b[39mprint\u001b[39m(\u001b[39mnext\u001b[39m(nums2))\n\u001b[0;32m     <a href='vscode-notebook-cell:/d%3A/study/vsworkspace/study_python/03core/2.2generator.ipynb#X11sZmlsZQ%3D%3D?line=16'>17</a>\u001b[0m \u001b[39mprint\u001b[39m(\u001b[39mnext\u001b[39m(nums2))\n\u001b[1;32m---> <a href='vscode-notebook-cell:/d%3A/study/vsworkspace/study_python/03core/2.2generator.ipynb#X11sZmlsZQ%3D%3D?line=18'>19</a>\u001b[0m \u001b[39mprint\u001b[39m(\u001b[39mnext\u001b[39;49m(nums2))\n",
      "\u001b[1;31mStopIteration\u001b[0m: "
     ]
    }
   ],
   "source": [
    "nums = list(range(5)) #* [x for x in range(5)]\n",
    "print(type(nums))\n",
    "print(nums)\n",
    "\n",
    "nums2 = iter(range(5)) #* (x for x in range(5))\n",
    "print(type(nums2))\n",
    "print(nums2)\n",
    "\n",
    "print(next(nums2))\n",
    "\n",
    "print(next(nums2))\n",
    "\n",
    "print(next(nums2))\n",
    "\n",
    "print(next(nums2))\n",
    "\n",
    "print(next(nums2))\n",
    "\n",
    "print(next(nums2)) #! 既然生成器是特殊的一种迭代器，那么生成器也会异常"
   ]
  },
  {
   "cell_type": "markdown",
   "metadata": {},
   "source": [
    "### 1.3.4. <a id='toc1_3_4_'></a>[创建生成器方法2](#toc0_)\n",
    "\n",
    "generator功能非常强大\n",
    "\n",
    "如果推算的算法比较复杂，用类似列表生成式的 for 循环无法实现的时候，还可以用之前学习的函数来自己实现一个生成器\n",
    "\n",
    "下面以斐波那契数列来举例\n",
    "\n",
    ">斐波那契数列指的是这样一个数列 1, 1, 2, 3, 5, 8, 13, 21, 34, 55, 89, 144, 233，377，610，987，1597，2584，4181，6765，10946，17711，28657，46368........\n",
    ">这个数列从第3项开始，每一项都等于前两项之和。\n",
    "\n",
    "如果想要知道怎样得到这样的数列，简单代码如下："
   ]
  },
  {
   "cell_type": "code",
   "execution_count": 8,
   "metadata": {},
   "outputs": [
    {
     "name": "stdout",
     "output_type": "stream",
     "text": [
      "第1个值 1\n",
      "第2个值 1\n",
      "第3个值 2\n",
      "第4个值 3\n"
     ]
    }
   ],
   "source": [
    "num1 = 1\n",
    "num2 = 1\n",
    "\n",
    "print(\"第1个值\", num1)\n",
    "\n",
    "num1, num2 = num2, num1+num2\n",
    "print(\"第2个值\", num1)\n",
    "\n",
    "num1, num2 = num2, num1+num2\n",
    "print(\"第3个值\", num1)\n",
    "\n",
    "num1, num2 = num2, num1+num2\n",
    "print(\"第4个值\", num1)"
   ]
  },
  {
   "cell_type": "markdown",
   "metadata": {},
   "source": [
    "下面使用迭代器的方式来实现一个不确定个数的斐波那契数列，参考代码如下："
   ]
  },
  {
   "cell_type": "code",
   "execution_count": 9,
   "metadata": {},
   "outputs": [
    {
     "name": "stdout",
     "output_type": "stream",
     "text": [
      "1\n",
      "1\n",
      "2\n",
      "3\n",
      "5\n",
      "8\n"
     ]
    }
   ],
   "source": [
    "class FibIterator(object):\n",
    "    \"\"\"斐波那契数列迭代器\"\"\"\n",
    "    def __init__(self):\n",
    "        # num1用来保存前前一个数，初始值为数列中的第一个数1\n",
    "        self.num1 = 1\n",
    "        # num2用来保存前一个数，初始值为数列中的第二个数1\n",
    "        self.num2 = 1\n",
    "\n",
    "    def __next__(self):\n",
    "        \"\"\"被next()函数调用来获取下一个数\"\"\"\n",
    "        temp_num = self.num1\n",
    "        self.num1, self.num2 = self.num2, self.num1+self.num2\n",
    "        return temp_num\n",
    "\n",
    "    def __iter__(self):\n",
    "        \"\"\"迭代器的__iter__返回自身即可\"\"\"\n",
    "        return self\n",
    "\n",
    "\n",
    "fib = FibIterator()\n",
    "\n",
    "# 因为fib是迭代器所以不必使用iter()函数，直接使用next()函数即可\n",
    "print(next(fib))\n",
    "print(next(fib))\n",
    "print(next(fib))\n",
    "print(next(fib))\n",
    "print(next(fib))\n",
    "print(next(fib))\n"
   ]
  },
  {
   "cell_type": "markdown",
   "metadata": {},
   "source": [
    "可以看到上面的代码，虽然能够实现功能，但是稍稍有些复杂\n",
    "\n",
    "是否有更加简单的方式呢？\n",
    "\n",
    "看如下代码，使用生成器实现的斐波那契数列\n",
    "\n",
    "代码1（不是生成器，不能实现斐波那契数列）"
   ]
  },
  {
   "cell_type": "code",
   "execution_count": 10,
   "metadata": {},
   "outputs": [
    {
     "name": "stdout",
     "output_type": "stream",
     "text": [
      "1\n",
      "1\n",
      "1\n",
      "1\n"
     ]
    }
   ],
   "source": [
    "def fib_generator():\n",
    "    num1 = 1\n",
    "    num2 = 1\n",
    "    while True:\n",
    "        temp_num = num1\n",
    "        num1, num2 = num2, num1+num2\n",
    "        return temp_num  # 方式1代码\n",
    "        # yield temp_num\n",
    "\n",
    "# 方式1代码（方式1不能够生成1，1，2，3，5...斐波那契数列）\n",
    "print(fib_generator())\n",
    "print(fib_generator())\n",
    "print(fib_generator())\n",
    "print(fib_generator())\n",
    "\n",
    "# 方式2代码（可以生成斐波那契数列）\n",
    "# fib = fib_generator()\n",
    "# print(next(fib))\n",
    "# print(next(fib))\n",
    "# print(next(fib))\n",
    "# print(next(fib))\n"
   ]
  },
  {
   "cell_type": "markdown",
   "metadata": {},
   "source": [
    "代码2（是生成器，能实现斐波那契数列）"
   ]
  },
  {
   "cell_type": "code",
   "execution_count": 11,
   "metadata": {},
   "outputs": [
    {
     "name": "stdout",
     "output_type": "stream",
     "text": [
      "1\n",
      "1\n",
      "2\n",
      "3\n"
     ]
    }
   ],
   "source": [
    "def fib_generator():\n",
    "    num1 = 1\n",
    "    num2 = 1\n",
    "    while True:\n",
    "        temp_num = num1\n",
    "        num1, num2 = num2, num1+num2\n",
    "        # return temp_num  # 方式1代码\n",
    "        yield temp_num\n",
    "\n",
    "# 方式1代码（方式1不能够生成1，1，2，3，5...斐波那契数列）\n",
    "# print(fib_generator())\n",
    "# print(fib_generator())\n",
    "# print(fib_generator())\n",
    "# print(fib_generator())\n",
    "\n",
    "# 方式2代码（可以生成斐波那契数列）\n",
    "fib = fib_generator()\n",
    "print(next(fib))\n",
    "print(next(fib))\n",
    "print(next(fib))\n",
    "print(next(fib))\n"
   ]
  },
  {
   "cell_type": "markdown",
   "metadata": {},
   "source": [
    "在使用生成器实现的方式中，我们将原本在迭代器__next__方法中实现的基本逻辑放到一个函数中来实现，但是将每次迭代返回数值的return换成了yield，此时新定义的函数便不再是函数，而是一个生成器了\n",
    "\n",
    "简单来说：只要在def函数中有yield关键字的 就称为 生成器\n",
    "\n",
    "此时按照调用函数的方式( fib = fib_generator() )就不再是执行函数体了，而是会返回一个生成器对象，然后就可以按照使用迭代器(因为生成器是一种特殊的迭代器)的方式来使用生成器了\n",
    "\n",
    "### 1.3.5. <a id='toc1_3_5_'></a>[yield关键字](#toc0_)\n",
    "\n",
    "上面的代码，在函数中使用了yield关键字，替换了return，虽然看上去仅仅是关键字不同，但是功能效果已经决然不同了\n",
    "\n",
    "说明\n",
    "1. 只要有yield关键字，那么虽然看上去是调用函数，实际上已经变成了创建一个 生成器对象\n",
    "2. 通过next调用 生成器，可以让 这个带有yield的def代码块，开始执行\n",
    "    1. 如果是第一次执行，则从def代码块的开始部分执行，直到遇到yield为止，并且把yield关键字后的数值返回，当做next()的返回值\n",
    "    2. 如果不是第一次执行，则从上一次暂停的位置执行(即从上一次yield关键字的下一个语句开始执行)，直到遇到下一次yield为止，并且把yield关键字后的数值返回，当做next()的返回值</br>\n",
    "   \n",
    "更好的理解带有yield关键字的函数，参考代码如下"
   ]
  },
  {
   "cell_type": "code",
   "execution_count": 12,
   "metadata": {},
   "outputs": [
    {
     "name": "stdout",
     "output_type": "stream",
     "text": [
      "执行第1次的next函数---开始--\n",
      "---1---\n",
      "---2---\n",
      "---3---\n",
      "---4---\n",
      "执行第1次的next函数---结束--\n",
      "打印第1次next返回的结果--开始--\n",
      "1\n",
      "打印第1次next返回的结果--结束--\n",
      "执行第2次的next函数---开始--\n",
      "---5---\n",
      "---2---\n",
      "---3---\n",
      "---4---\n",
      "执行第2次的next函数---结束--\n",
      "打印第2次next返回的结果--开始--\n",
      "1\n",
      "打印第2次next返回的结果--结束--\n"
     ]
    }
   ],
   "source": [
    "def fib_generator():\n",
    "    print(\"---1---\")\n",
    "    num1 = 1\n",
    "    num2 = 1\n",
    "    while True:\n",
    "        print(\"---2---\")\n",
    "        temp_num = num1\n",
    "        print(\"---3---\")\n",
    "        num1, num2 = num2, num1+num2\n",
    "        print(\"---4---\")\n",
    "        yield temp_num\n",
    "        print(\"---5---\")\n",
    "\n",
    "\n",
    "\n",
    "fib = fib_generator()\n",
    "\n",
    "print(\"执行第1次的next函数---开始--\")\n",
    "num = next(fib)\n",
    "print(\"执行第1次的next函数---结束--\")\n",
    "\n",
    "print(\"打印第1次next返回的结果--开始--\")\n",
    "print(num)\n",
    "print(\"打印第1次next返回的结果--结束--\")\n",
    "\n",
    "print(\"执行第2次的next函数---开始--\")\n",
    "num = next(fib)\n",
    "print(\"执行第2次的next函数---结束--\")\n",
    "\n",
    "\n",
    "print(\"打印第2次next返回的结果--开始--\")\n",
    "print(num)\n",
    "print(\"打印第2次next返回的结果--结束--\")\n"
   ]
  },
  {
   "cell_type": "markdown",
   "metadata": {},
   "source": [
    "注意：\n",
    "\n",
    "1. 要知道一个def代码块，只要有yield就不再是函数，而是生成器\n",
    "2. 要知道调用def代码块(普通函数)与调用带有yield的def代码块(生成器)的调用方式不同\n",
    "3. 要注意return与yield的功能也不同\n",
    "    1. return接收一个函数，且有返回值\n",
    "    2. yield暂停执行一个函数，且有返回值\n",
    "4. 面试中也会经常用到，一定要将yield掌握\n",
    "\n",
    "### 1.3.6. <a id='toc1_3_6_'></a>[获取生成器def代码块中return值](#toc0_)\n",
    "测试代码1："
   ]
  },
  {
   "cell_type": "code",
   "execution_count": 13,
   "metadata": {},
   "outputs": [
    {
     "name": "stdout",
     "output_type": "stream",
     "text": [
      "1\n",
      "1\n",
      "2\n"
     ]
    }
   ],
   "source": [
    "def fib_generator():\n",
    "    num1 = 1\n",
    "    num2 = 1\n",
    "    temp_num = num1\n",
    "    num1, num2 = num2, num1+num2\n",
    "    yield temp_num\n",
    "\n",
    "    temp_num = num1\n",
    "    num1, num2 = num2, num1+num2\n",
    "    yield temp_num\n",
    "\n",
    "    temp_num = num1\n",
    "    num1, num2 = num2, num1+num2\n",
    "    yield temp_num\n",
    "\n",
    "    return \"已经生成了3个斐波那契数列的值...\"\n",
    "\n",
    "\n",
    "fib = fib_generator()\n",
    "\n",
    "print(next(fib))\n",
    "print(next(fib))\n",
    "print(next(fib))\n",
    "# print(next(fib))"
   ]
  },
  {
   "cell_type": "markdown",
   "metadata": {},
   "source": [
    "测试代码2："
   ]
  },
  {
   "cell_type": "code",
   "execution_count": 14,
   "metadata": {},
   "outputs": [
    {
     "name": "stdout",
     "output_type": "stream",
     "text": [
      "1\n",
      "1\n",
      "2\n"
     ]
    },
    {
     "ename": "StopIteration",
     "evalue": "已经生成了3个斐波那契数列的值...",
     "output_type": "error",
     "traceback": [
      "\u001b[1;31m---------------------------------------------------------------------------\u001b[0m",
      "\u001b[1;31mStopIteration\u001b[0m                             Traceback (most recent call last)",
      "\u001b[1;32md:\\study\\vsworkspace\\study_python\\03core\\2.2generator.ipynb Cell 23\u001b[0m in \u001b[0;36m<cell line: 24>\u001b[1;34m()\u001b[0m\n\u001b[0;32m     <a href='vscode-notebook-cell:/d%3A/study/vsworkspace/study_python/03core/2.2generator.ipynb#X31sZmlsZQ%3D%3D?line=21'>22</a>\u001b[0m \u001b[39mprint\u001b[39m(\u001b[39mnext\u001b[39m(fib))\n\u001b[0;32m     <a href='vscode-notebook-cell:/d%3A/study/vsworkspace/study_python/03core/2.2generator.ipynb#X31sZmlsZQ%3D%3D?line=22'>23</a>\u001b[0m \u001b[39mprint\u001b[39m(\u001b[39mnext\u001b[39m(fib))\n\u001b[1;32m---> <a href='vscode-notebook-cell:/d%3A/study/vsworkspace/study_python/03core/2.2generator.ipynb#X31sZmlsZQ%3D%3D?line=23'>24</a>\u001b[0m \u001b[39mprint\u001b[39m(\u001b[39mnext\u001b[39;49m(fib))\n",
      "\u001b[1;31mStopIteration\u001b[0m: 已经生成了3个斐波那契数列的值..."
     ]
    }
   ],
   "source": [
    "def fib_generator():\n",
    "    num1 = 1\n",
    "    num2 = 1\n",
    "    temp_num = num1\n",
    "    num1, num2 = num2, num1+num2\n",
    "    yield temp_num\n",
    "\n",
    "    temp_num = num1\n",
    "    num1, num2 = num2, num1+num2\n",
    "    yield temp_num\n",
    "\n",
    "    temp_num = num1\n",
    "    num1, num2 = num2, num1+num2\n",
    "    yield temp_num\n",
    "\n",
    "    return \"已经生成了3个斐波那契数列的值...\"\n",
    "\n",
    "\n",
    "fib = fib_generator()\n",
    "\n",
    "print(next(fib))\n",
    "print(next(fib))\n",
    "print(next(fib))\n",
    "print(next(fib))"
   ]
  },
  {
   "cell_type": "markdown",
   "metadata": {},
   "source": [
    "测试代码3："
   ]
  },
  {
   "cell_type": "code",
   "execution_count": 15,
   "metadata": {},
   "outputs": [
    {
     "name": "stdout",
     "output_type": "stream",
     "text": [
      "1\n",
      "1\n",
      "2\n",
      "已经生成了3个斐波那契数列的值...\n"
     ]
    }
   ],
   "source": [
    "def fib_generator():\n",
    "    num1 = 1\n",
    "    num2 = 1\n",
    "    temp_num = num1\n",
    "    num1, num2 = num2, num1+num2\n",
    "    yield temp_num\n",
    "\n",
    "    temp_num = num1\n",
    "    num1, num2 = num2, num1+num2\n",
    "    yield temp_num\n",
    "\n",
    "    temp_num = num1\n",
    "    num1, num2 = num2, num1+num2\n",
    "    yield temp_num\n",
    "\n",
    "    return \"已经生成了3个斐波那契数列的值...\"\n",
    "\n",
    "\n",
    "fib = fib_generator()\n",
    "\n",
    "print(next(fib))\n",
    "print(next(fib))\n",
    "print(next(fib))\n",
    "\n",
    "try:\n",
    "    print(next(fib))\n",
    "except StopIteration as ret:\n",
    "    print(ret.value)\n"
   ]
  },
  {
   "cell_type": "markdown",
   "metadata": {},
   "source": [
    "小总结：\n",
    "\n",
    ">调用generatr时，发现拿不到generator的return语句的返回值。如果想要拿到返回值，必须捕获StopIteration错误，返回值包含在StopIteration的value中"
   ]
  },
  {
   "cell_type": "markdown",
   "metadata": {},
   "source": [
    "## 1.4. <a id='toc1_4_'></a>[使用send唤醒](#toc0_)\n",
    "我们除了可以使用next()函数来唤醒，让生成器继续执行外，还可以使用send()函数来唤醒执行。\n",
    "\n",
    "使用send()函数的一个好处是：可以在唤醒的同时向断点处传入一个附加数据\n",
    "\n",
    "### 1.4.1. <a id='toc1_4_1_'></a>[测试send](#toc0_)\n",
    "看如下测试代码："
   ]
  },
  {
   "cell_type": "code",
   "execution_count": 16,
   "metadata": {},
   "outputs": [
    {
     "name": "stdout",
     "output_type": "stream",
     "text": [
      "--1--\n",
      "100\n",
      "--2-- num= None\n",
      "--1--\n",
      "100\n",
      "--2-- num= None\n",
      "--1--\n",
      "100\n"
     ]
    }
   ],
   "source": [
    "def generator_test():\n",
    "    while True:\n",
    "        print(\"--1--\")\n",
    "        num = yield 100\n",
    "        print(\"--2--\", \"num=\", num)\n",
    "\n",
    "\n",
    "g = generator_test()\n",
    "\n",
    "print(next(g))\n",
    "print(next(g))\n",
    "print(next(g))\n"
   ]
  },
  {
   "cell_type": "markdown",
   "metadata": {},
   "source": [
    "使用send修改上面的代码，示例如下："
   ]
  },
  {
   "cell_type": "code",
   "execution_count": 22,
   "metadata": {},
   "outputs": [
    {
     "name": "stdout",
     "output_type": "stream",
     "text": [
      "--1--\n",
      "100\n",
      "--2-- num= 11\n",
      "--1--\n",
      "100\n",
      "--2-- num= 22\n",
      "--1--\n",
      "100\n"
     ]
    }
   ],
   "source": [
    "def generator_test():\n",
    "    while True:\n",
    "        print(\"--1--\")\n",
    "        num = yield 100\n",
    "        print(\"--2--\", \"num=\", num)\n",
    "\n",
    "\n",
    "g = generator_test()\n",
    "\n",
    "# 第一次调用，会将yield 100执行完毕后暂停代码执行，注意此时 并没有给num值\n",
    "print(next(g))\n",
    "# print(next(g))\n",
    "# print(next(g))\n",
    "\n",
    "# send会让生成器从上次停止的位置 继续开始执行，并且会将11传递到生成器中\n",
    "# 当做上一次执行yield 100 这个表达式的结果\n",
    "# 然后在第4行代码，就可以想象成 num = 11了，因为100代表上次yield 100的结果\n",
    "# 直到遇到下一次的yield 暂停运行，并且把100返回，此时就也打印了100\n",
    "print(g.send(11))\n",
    "\n",
    "# 与上次send(11)类似，只不过此次将22当做给yield 100这个表示的结果 给num\n",
    "print(g.send(22))\n"
   ]
  },
  {
   "cell_type": "markdown",
   "metadata": {},
   "source": [
    "### 1.4.2. <a id='toc1_4_2_'></a>[注意](#toc0_)\n",
    "测试代码："
   ]
  },
  {
   "cell_type": "code",
   "execution_count": 21,
   "metadata": {},
   "outputs": [
    {
     "ename": "TypeError",
     "evalue": "can't send non-None value to a just-started generator",
     "output_type": "error",
     "traceback": [
      "\u001b[1;31m---------------------------------------------------------------------------\u001b[0m",
      "\u001b[1;31mTypeError\u001b[0m                                 Traceback (most recent call last)",
      "\u001b[1;32md:\\study\\vsworkspace\\study_python\\03core\\2.2generator.ipynb Cell 31\u001b[0m in \u001b[0;36m<cell line: 11>\u001b[1;34m()\u001b[0m\n\u001b[0;32m      <a href='vscode-notebook-cell:/d%3A/study/vsworkspace/study_python/03core/2.2generator.ipynb#Y110sZmlsZQ%3D%3D?line=7'>8</a>\u001b[0m g \u001b[39m=\u001b[39m generator_test()\n\u001b[0;32m     <a href='vscode-notebook-cell:/d%3A/study/vsworkspace/study_python/03core/2.2generator.ipynb#Y110sZmlsZQ%3D%3D?line=9'>10</a>\u001b[0m \u001b[39m# print(g.send(None))  # 可以将这行屏蔽，看看不同\u001b[39;00m\n\u001b[1;32m---> <a href='vscode-notebook-cell:/d%3A/study/vsworkspace/study_python/03core/2.2generator.ipynb#Y110sZmlsZQ%3D%3D?line=10'>11</a>\u001b[0m \u001b[39mprint\u001b[39m(g\u001b[39m.\u001b[39;49msend(\u001b[39m11\u001b[39;49m))\n",
      "\u001b[1;31mTypeError\u001b[0m: can't send non-None value to a just-started generator"
     ]
    }
   ],
   "source": [
    "def generator_test():\n",
    "    while True:\n",
    "        print(\"--1--\")\n",
    "        num = yield 100\n",
    "        print(\"--2--\", \"num=\", num)\n",
    "\n",
    "\n",
    "g = generator_test()\n",
    "\n",
    "# print(g.send(None))  # 可以将这行屏蔽，看看不同\n",
    "print(g.send(11))"
   ]
  },
  {
   "cell_type": "markdown",
   "metadata": {},
   "source": [
    "## 1.5. <a id='toc1_5_'></a>[总结](#toc0_)\n",
    "1. 使用了yield关键字的函数不再是函数，而是生成器\n",
    "\n",
    "2. yield关键字有两点作用：\n",
    "    1. 保存当前运行状态（断点），然后暂停执行，即将生成器（函数）挂起\n",
    "    2. 将yield关键字后面表达式的值作为返回值返回，此时可以理解为起到了return的作用\n",
    "3. 可以使用next()函数让生成器从断点处继续执行，即唤醒生成器（函数）\n",
    "\n",
    "4. Python3中的生成器可以使用return返回最终运行的返回值\n",
    "\n",
    "5. 生成器是这样一个函数，它记住上一次返回时在函数体中的位置。对生成器函数的第二次（或第 n 次）调用跳转至该函数中间，而上次调用的所有局部变量都保持不变。生成器不仅“记住”了它数据状态；生成器还“记住”了它在流控制构造（在命令式编程中，这种构造不只是数据值）中的位置。\n",
    "\n",
    "6. 生成器的特点：\n",
    "\n",
    "    1. 存储的是生成数据的方式（即算法），而不是存储生成的数据，因此节约内存\n",
    "\n",
    "## 1.6. <a id='toc1_6_'></a>[作业](#toc0_)\n",
    "既然生成器已经学习完毕了，想想该怎样完成 在本文最开始时提到的那个问题呢？\n",
    "\n",
    "参考代码："
   ]
  },
  {
   "cell_type": "code",
   "execution_count": 33,
   "metadata": {},
   "outputs": [
    {
     "name": "stdout",
     "output_type": "stream",
     "text": [
      "(0, 1)\n",
      "(1, 3)\n",
      "(3, 7)\n",
      "(7, 15)\n",
      "(15, 47)\n"
     ]
    }
   ],
   "source": [
    "def create_point():\n",
    "    x=0\n",
    "    y=2*x+1\n",
    "\n",
    "    while True:\n",
    "        num=yield x,y\n",
    "        x,y = (y, 2*y+1) if num is None else (y, num[0]*y+num[1])\n",
    "         \n",
    "            \n",
    "test=create_point()\n",
    "\n",
    "print(next(test))\n",
    "print(next(test))\n",
    "print(next(test))\n",
    "print(next(test))\n",
    "print(test.send((3,2)))"
   ]
  }
 ],
 "metadata": {
  "kernelspec": {
   "display_name": "Python 3.9.12 ('base')",
   "language": "python",
   "name": "python3"
  },
  "language_info": {
   "codemirror_mode": {
    "name": "ipython",
    "version": 3
   },
   "file_extension": ".py",
   "mimetype": "text/x-python",
   "name": "python",
   "nbconvert_exporter": "python",
   "pygments_lexer": "ipython3",
   "version": "3.9.12"
  },
  "orig_nbformat": 4,
  "vscode": {
   "interpreter": {
    "hash": "af2924f10f5eb76fd65ccea448a69e80be7838e947e8a1ae982ab7073141c8a7"
   }
  }
 },
 "nbformat": 4,
 "nbformat_minor": 2
}
