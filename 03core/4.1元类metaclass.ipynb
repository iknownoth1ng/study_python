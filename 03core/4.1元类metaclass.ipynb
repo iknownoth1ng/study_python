{
 "cells": [
  {
   "cell_type": "markdown",
   "metadata": {},
   "source": [
    "**Table of contents**<a id='toc0_'></a>    \n",
    "1. [元类](#toc1_)    \n",
    "1.1. [类也是对象](#toc1_1_)    \n",
    "1.2. [动态地创建类](#toc1_2_)    \n",
    "1.3. [使用type创建类](#toc1_3_)    \n",
    "1.4. [使用type创建带有属性的类](#toc1_4_)    \n",
    "1.5. [使用type创建带有方法的类](#toc1_5_)    \n",
    "1.6. [到底什么是元类（终于到主题了）](#toc1_6_)    \n",
    "1.7. [__metaclass__属性](#toc1_7_)    \n",
    "1.8. [自定义元类](#toc1_8_)    \n",
    "1.9. [究竟为什么要使用元类？](#toc1_9_)    \n",
    "\n",
    "<!-- vscode-jupyter-toc-config\n",
    "\tnumbering=true\n",
    "\tanchor=true\n",
    "\tflat=true\n",
    "\tminLevel=1\n",
    "\tmaxLevel=6\n",
    "\t/vscode-jupyter-toc-config -->\n",
    "<!-- THIS CELL WILL BE REPLACED ON TOC UPDATE. DO NOT WRITE YOUR TEXT IN THIS CELL -->"
   ]
  },
  {
   "cell_type": "markdown",
   "metadata": {},
   "source": [
    "# 1. <a id='toc1_'></a>[元类](#toc0_)\n",
    "\n",
    "## 1.1. <a id='toc1_1_'></a>[类也是对象](#toc0_)\n",
    "\n",
    "在大多数编程语言中，类就是一组用来描述如何生成一个对象的代码段。在python中这一点仍然成立："
   ]
  },
  {
   "cell_type": "code",
   "execution_count": 14,
   "metadata": {},
   "outputs": [
    {
     "name": "stdout",
     "output_type": "stream",
     "text": [
      "<__main__.ObjectCreator object at 0x00000228EA367C70>\n"
     ]
    }
   ],
   "source": [
    "class ObjectCreator(object):\n",
    "    pass\n",
    "\n",
    "\n",
    "my_object = ObjectCreator()\n",
    "print(my_object)"
   ]
  },
  {
   "attachments": {},
   "cell_type": "markdown",
   "metadata": {},
   "source": [
    "但是，Python中的类还远不止如此。类同样也是一种对象。是的，没错，就是对象。只要你使用关键字class，Python解释器在执行的时候就会创建一个对象。\n",
    "\n",
    "下面的代码段："
   ]
  },
  {
   "cell_type": "code",
   "execution_count": 15,
   "metadata": {},
   "outputs": [],
   "source": [
    "class ObjectCreator(object):\n",
    "    pass"
   ]
  },
  {
   "attachments": {},
   "cell_type": "markdown",
   "metadata": {},
   "source": [
    "将在内存中创建一个对象，名字就是ObjectCreator。这个对象（类对象ObjectCreator）拥有创建对象（实例对象）的能力。\n",
    "\n",
    "但是，它的本质仍然是一个对象，于是乎你可以对它做如下的操作：\n",
    "\n",
    "1. 你可以将它赋值给一个变量\n",
    "2. 你可以拷贝它\n",
    "3. 你可以为它增加属性\n",
    "4. 你可以将它作为函数参数进行传递\n",
    "\n",
    "下面是示例："
   ]
  },
  {
   "cell_type": "code",
   "execution_count": 16,
   "metadata": {},
   "outputs": [
    {
     "name": "stdout",
     "output_type": "stream",
     "text": [
      "<class '__main__.ObjectCreator'>\n",
      "<class '__main__.ObjectCreator'>\n",
      "False\n",
      "foo\n",
      "<__main__.ObjectCreator object at 0x00000228EA31D370>\n"
     ]
    }
   ],
   "source": [
    "class ObjectCreator(object):\n",
    "    pass\n",
    "\n",
    "\n",
    "print(ObjectCreator)  # 你可以打印一个类，因为它其实也是一个对象\n",
    "\n",
    "\n",
    "def echo(o):\n",
    "    print(o)\n",
    "\n",
    "\n",
    "echo(ObjectCreator)  # 你可以将类做为参数传给函数\n",
    "\n",
    "print(hasattr(ObjectCreator, \"new_attribute\"))\n",
    "\n",
    "# 你可以为类增加属性\n",
    "ObjectCreator.new_attribute = \"foo\"  # type: ignore\n",
    "\n",
    "print(ObjectCreator.new_attribute)  # type: ignore\n",
    "\n",
    "ObjectCreatorMirror = ObjectCreator  # 你可以将类赋值给一个变量\n",
    "print(ObjectCreatorMirror())"
   ]
  },
  {
   "cell_type": "markdown",
   "metadata": {},
   "source": [
    "## 1.2. <a id='toc1_2_'></a>[动态地创建类](#toc0_)\n",
    "类也是对象，你可以在运行时创建它们，就像其他任何对象一样。\n",
    "\n",
    "可以在函数中创建类，使用class关键字即可"
   ]
  },
  {
   "cell_type": "code",
   "execution_count": 17,
   "metadata": {},
   "outputs": [
    {
     "name": "stdout",
     "output_type": "stream",
     "text": [
      "<class '__main__.choose_class.<locals>.Foo'>\n",
      "<__main__.choose_class.<locals>.Foo object at 0x00000228EA334220>\n"
     ]
    }
   ],
   "source": [
    "def choose_class(name):\n",
    "    if name == \"foo\":\n",
    "\n",
    "        class Foo(object):\n",
    "            pass\n",
    "\n",
    "        return Foo  # 返回的是类，不是类的实例\n",
    "    else:\n",
    "\n",
    "        class Bar(object):\n",
    "            pass\n",
    "\n",
    "        return Bar\n",
    "\n",
    "\n",
    "MyClass = choose_class(\"foo\")\n",
    "print(MyClass)  # 函数返回的是类，不是类的实例\n",
    "print(MyClass())  # 你可以通过这个类创建类实例，也就是对象"
   ]
  },
  {
   "attachments": {},
   "cell_type": "markdown",
   "metadata": {},
   "source": [
    "但这还不够动态，因为你仍然需要自己编写整个类的代码\n",
    "\n",
    "由于类也是对象，所以它们肯定是通过什么东西来生成的才对\n",
    "\n",
    "当使用class关键字时，Python解释器自动创建这个对象。但和Python中的大多数事情一样，Python仍然提供给你手动处理的方法\n",
    "\n",
    "还记得内建函数type吗？这个古老但强大的函数能够让你知道一个对象的类型是什么，就像这样："
   ]
  },
  {
   "cell_type": "code",
   "execution_count": 18,
   "metadata": {},
   "outputs": [
    {
     "name": "stdout",
     "output_type": "stream",
     "text": [
      "<class 'int'>\n",
      "<class 'str'>\n",
      "<class '__main__.ObjectCreator'>\n",
      "<class 'type'>\n"
     ]
    }
   ],
   "source": [
    "print(type(1))  # 数值的类型\n",
    "\n",
    "print(type(\"1\"))  # 字符串的类型\n",
    "\n",
    "print(type(ObjectCreator()))  # 实例对象的类型\n",
    "\n",
    "print(type(ObjectCreator))  # 类的类型"
   ]
  },
  {
   "cell_type": "markdown",
   "metadata": {},
   "source": [
    "仔细观察上面的运行结果，发现使用type对ObjectCreator查看类型是，答案为type， 是不是有些惊讶。。。看下面\n",
    "\n",
    "## 1.3. <a id='toc1_3_'></a>[使用type创建类](#toc0_)\n",
    "type还有一种完全不同的功能：创建类\n",
    "\n",
    "type可以接受一个类的描述作为参数，然后返回一个类。\n",
    "\n",
    "注意：\n",
    "\n",
    "> type会根据传入的参数不同，执行不同的事情，例如type(\"hello\")表示获取\"hello\"的类型，而传入的参数不同还能够表示创建一个类</br>\n",
    "> 所以大家要注意：尽量不要让一个函数拥有2种完全不同的功能，这样会很傻，Python之所以将type设计为2个功能是为了保持向后兼容性\n",
    "\n",
    "type可以像这样工作：\n",
    "\n",
    "type(类名, 由父类名称组成的元组（针对无继承的情况，可以为空），包含属性的字典（名称和值）)\n",
    "\n",
    "比如下面的代码："
   ]
  },
  {
   "cell_type": "code",
   "execution_count": 19,
   "metadata": {},
   "outputs": [
    {
     "name": "stdout",
     "output_type": "stream",
     "text": [
      "Help on class A in module __main__:\n",
      "\n",
      "class A(builtins.object)\n",
      " |  Data descriptors defined here:\n",
      " |  \n",
      " |  __dict__\n",
      " |      dictionary for instance variables (if defined)\n",
      " |  \n",
      " |  __weakref__\n",
      " |      list of weak references to the object (if defined)\n",
      "\n",
      "None\n",
      "Help on class B in module __main__:\n",
      "\n",
      "class B(builtins.object)\n",
      " |  Data descriptors defined here:\n",
      " |  \n",
      " |  __dict__\n",
      " |      dictionary for instance variables (if defined)\n",
      " |  \n",
      " |  __weakref__\n",
      " |      list of weak references to the object (if defined)\n",
      "\n",
      "None\n"
     ]
    }
   ],
   "source": [
    "# 按照普通定义类的方式\n",
    "class A:\n",
    "    pass\n",
    "\n",
    "\n",
    "print(help(A))\n",
    "\n",
    "# 使用type这种特殊方式\n",
    "B = type(\"B\", (), {})\n",
    "\n",
    "print(help(B))"
   ]
  },
  {
   "cell_type": "markdown",
   "metadata": {},
   "source": [
    "## 1.4. <a id='toc1_4_'></a>[使用type创建带有属性的类](#toc0_)\n",
    "type 接受一个字典来为类定义属性，因此"
   ]
  },
  {
   "cell_type": "code",
   "execution_count": 20,
   "metadata": {},
   "outputs": [],
   "source": [
    "Foo = type(\"Foo\", (), {\"bar\": True})"
   ]
  },
  {
   "attachments": {},
   "cell_type": "markdown",
   "metadata": {},
   "source": [
    "可以翻译为"
   ]
  },
  {
   "cell_type": "code",
   "execution_count": 21,
   "metadata": {
    "notebookRunGroups": {
     "groupValue": "1"
    }
   },
   "outputs": [],
   "source": [
    "class Foo:\n",
    "    bar = True"
   ]
  },
  {
   "attachments": {},
   "cell_type": "markdown",
   "metadata": {},
   "source": [
    "并且可以将Foo当成一个普通的类一样使用："
   ]
  },
  {
   "cell_type": "code",
   "execution_count": 22,
   "metadata": {},
   "outputs": [
    {
     "name": "stdout",
     "output_type": "stream",
     "text": [
      "<class '__main__.Foo2'>\n",
      "True\n",
      "<__main__.Foo2 object at 0x00000228EA2DFAF0>\n",
      "True\n"
     ]
    }
   ],
   "source": [
    "Foo2 = type(\"Foo2\", (), {\"bar\": True})\n",
    "\n",
    "print(Foo2)\n",
    "print(Foo2.bar)\n",
    "f = Foo2()\n",
    "print(f)\n",
    "print(f.bar)"
   ]
  },
  {
   "attachments": {},
   "cell_type": "markdown",
   "metadata": {},
   "source": [
    "当然，你可以继承这个类，代码如下："
   ]
  },
  {
   "cell_type": "code",
   "execution_count": 23,
   "metadata": {},
   "outputs": [],
   "source": [
    "class Foo2Children(Foo2):\n",
    "    pass"
   ]
  },
  {
   "attachments": {},
   "cell_type": "markdown",
   "metadata": {},
   "source": [
    "就可以写成："
   ]
  },
  {
   "cell_type": "code",
   "execution_count": 24,
   "metadata": {},
   "outputs": [
    {
     "name": "stdout",
     "output_type": "stream",
     "text": [
      "<class '__main__.Foo2Children'>\n",
      "True\n"
     ]
    }
   ],
   "source": [
    "Foo2Children = type(\"Foo2Children\", (Foo2,), {})\n",
    "print(Foo2Children)\n",
    "\n",
    "print(Foo2Children.bar) # # bar属性是由Foo继承而来"
   ]
  },
  {
   "cell_type": "markdown",
   "metadata": {},
   "source": [
    "**注意：**\n",
    ">- type的第2个参数，元组中是父类的名字，而不是字符串\n",
    ">- 添加的属性是类属性，并不是实例属性\n",
    "\n",
    "## 1.5. <a id='toc1_5_'></a>[使用type创建带有方法的类](#toc0_)\n",
    "最终你会希望为你的类增加方法。只需要定义一个有着恰当签名的函数并将其作为属性赋值就可以了。\n",
    "\n",
    "**添加实例方法**"
   ]
  },
  {
   "cell_type": "code",
   "execution_count": 13,
   "metadata": {
    "notebookRunGroups": {
     "groupValue": "1"
    }
   },
   "outputs": [
    {
     "name": "stdout",
     "output_type": "stream",
     "text": [
      "False\n",
      "True\n",
      "True\n"
     ]
    }
   ],
   "source": [
    "# 定义了一个普通函数\n",
    "def echo_bar(self):\n",
    "    print(self.bar)\n",
    "\n",
    "\n",
    "FooChildren = type(\"FooChildren\", (Foo,), {\"echo_bar\": echo_bar})\n",
    "\n",
    "print(hasattr(Foo, \"echo_bar\"))  # 判断Foo类中 是否有echo_bar这个属性\n",
    "\n",
    "print(hasattr(FooChildren, \"echo_bar\"))  # 判断FooChild类中 是否有echo_bar这个属性\n",
    "\n",
    "my_foo = FooChildren()\n",
    "my_foo.echo_bar()"
   ]
  },
  {
   "attachments": {},
   "cell_type": "markdown",
   "metadata": {},
   "source": [
    "**添加静态方法**"
   ]
  },
  {
   "cell_type": "code",
   "execution_count": 26,
   "metadata": {},
   "outputs": [
    {
     "name": "stdout",
     "output_type": "stream",
     "text": [
      "<function test_static at 0x00000228E8FA3DC0>\n",
      "staticmethod...\n",
      "True\n"
     ]
    }
   ],
   "source": [
    "@staticmethod\n",
    "def test_static():\n",
    "    print('staticmethod...')\n",
    "    \n",
    "Foochild = type('Foochild', (Foo,), {\"echo_bar\": echo_bar, \"test_static\": test_static})\n",
    "\n",
    "fooclid = Foochild()\n",
    "\n",
    "print(fooclid.test_static)\n",
    "\n",
    "fooclid.test_static()\n",
    "\n",
    "fooclid.echo_bar()\n"
   ]
  },
  {
   "attachments": {},
   "cell_type": "markdown",
   "metadata": {},
   "source": [
    "**添加类方法**"
   ]
  },
  {
   "cell_type": "code",
   "execution_count": 27,
   "metadata": {},
   "outputs": [
    {
     "name": "stdout",
     "output_type": "stream",
     "text": [
      "True\n"
     ]
    }
   ],
   "source": [
    "@classmethod\n",
    "def test_class(cls):\n",
    "    print(cls.bar)\n",
    "\n",
    "Foochild = type('Foochild', (Foo,), {\"echo_bar\":echo_bar, \"test_static\": test_static, \"test_class\": test_class})\n",
    "\n",
    "fooclid = Foochild()\n",
    "\n",
    "fooclid.test_class()"
   ]
  },
  {
   "attachments": {},
   "cell_type": "markdown",
   "metadata": {},
   "source": [
    "你可以看到，在Python中，类也是对象，你可以动态的创建类。这就是当你使用关键字class时Python在幕后做的事情，而这就是通过元类来实现的。\n",
    "\n",
    "较为完整的使用type创建类的方式:"
   ]
  },
  {
   "cell_type": "code",
   "execution_count": 29,
   "metadata": {},
   "outputs": [
    {
     "name": "stdout",
     "output_type": "stream",
     "text": [
      "100\n",
      "----haha-----\n",
      "100\n"
     ]
    }
   ],
   "source": [
    "class A(object):\n",
    "    num = 100\n",
    "\n",
    "def print_b(self):\n",
    "    print(self.num)\n",
    "\n",
    "\n",
    "@staticmethod\n",
    "def print_static():\n",
    "    print(\"----haha-----\")\n",
    "\n",
    "\n",
    "@classmethod\n",
    "def print_class(cls):\n",
    "    print(cls.num)\n",
    "\n",
    "\n",
    "# 下面通过type来创建一个类，\n",
    "# 名字是B\n",
    "# 继承A\n",
    "# 有3个属性，因为它们指向函数（第5、10，15行定义的函数），所以也称之为定义了3个方法\n",
    "B = type(\"B\", (A,), {\"print_b\": print_b, \"print_static\": print_static, \"print_class\": print_class})\n",
    "b = B()  # 创建实例对象\n",
    "b.print_b()  # 调用实例方法\n",
    "b.print_static()  # 调用静态方法\n",
    "b.print_class()  # 调用类方法\n"
   ]
  },
  {
   "cell_type": "markdown",
   "metadata": {},
   "source": [
    "## 1.6. <a id='toc1_6_'></a>[到底什么是元类（终于到主题了）](#toc0_)\n",
    "元类就是用来创建类的“东西”。你创建类就是为了创建类的实例对象，不是吗？但是我们已经学习到了Python中的类也是对象。\n",
    "\n",
    "元类就是用来创建这些类（对象）的，元类就是类的类，你可以这样理解为：\n",
    "\n",
    ">MyClass = MetaClass()  # 使用元类创建出一个对象，这个对象称为“类”\n",
    "\n",
    ">my_object = MyClass()  # 使用“类”来创建出实例对象\n",
    "\n",
    "你已经看到了type可以让你像这样做：\n",
    ">MyClass = type('MyClass', (), {})\n",
    "\n",
    "这是因为函数type实际上是一个元类。type就是Python在背后用来创建所有类的元类。</br>\n",
    "现在你想知道那为什么type会全部采用小写形式而不是Type呢？</br>\n",
    "好吧，我猜这是为了和str保持一致性，str是用来创建字符串对象的类，而int是用来创建整数对象的类。</br>\n",
    "type就是创建类对象的类。</br>\n",
    "你可以通过检查__class__属性来看到这一点。Python中所有的东西，注意，我是指所有的东西——都是对象。</br>\n",
    "这包括整数、字符串、函数以及类。它们全部都是对象，而且它们都是从一个类创建而来，这个类就是type。</br>"
   ]
  },
  {
   "cell_type": "code",
   "execution_count": 31,
   "metadata": {},
   "outputs": [
    {
     "name": "stdout",
     "output_type": "stream",
     "text": [
      "<class 'int'>\n",
      "<class 'str'>\n",
      "<class 'function'>\n",
      "<class '__main__.Bar'>\n",
      "<class 'type'>\n"
     ]
    }
   ],
   "source": [
    "# 测试数字的类\n",
    "age = 35\n",
    "print(age.__class__)\n",
    "\n",
    "\n",
    "# 测试字符串的类\n",
    "name = 'bob'\n",
    "print(name.__class__)\n",
    "\n",
    "\n",
    "# 测试函数的类\n",
    "def Foo():\n",
    "    pass\n",
    "\n",
    "print(Foo.__class__)\n",
    "\n",
    "\n",
    "# 测试实例对象的的类\n",
    "class Bar(object):\n",
    "    pass\n",
    "\n",
    "b = Bar()\n",
    "print(b.__class__)\n",
    "\n",
    "\n",
    "# 测试类的类\n",
    "print(Bar.__class__)\n"
   ]
  },
  {
   "attachments": {},
   "cell_type": "markdown",
   "metadata": {},
   "source": [
    "现在，对于任何一个__class__的__class__属性又是什么呢？"
   ]
  },
  {
   "cell_type": "code",
   "execution_count": 32,
   "metadata": {},
   "outputs": [
    {
     "name": "stdout",
     "output_type": "stream",
     "text": [
      "<class 'int'>\n",
      "<class 'str'>\n",
      "<class 'function'>\n",
      "<class '__main__.Bar'>\n",
      "<class 'type'>\n",
      "------分割线-------\n",
      "<class 'type'>\n",
      "<class 'type'>\n",
      "<class 'type'>\n",
      "<class 'type'>\n",
      "<class 'type'>\n"
     ]
    }
   ],
   "source": [
    "# 测试数字的类\n",
    "age = 35\n",
    "print(age.__class__)\n",
    "\n",
    "\n",
    "# 测试字符串的类\n",
    "name = 'bob'\n",
    "print(name.__class__)\n",
    "\n",
    "\n",
    "# 测试函数的类\n",
    "def Foo():\n",
    "    pass\n",
    "\n",
    "print(Foo.__class__)\n",
    "\n",
    "\n",
    "# 测试实例对象的的类\n",
    "b = Bar()\n",
    "print(b.__class__)\n",
    "\n",
    "\n",
    "# 测试类的类\n",
    "class Bar(object):\n",
    "    pass\n",
    "\n",
    "\n",
    "print(Bar.__class__)\n",
    "\n",
    "print(\"------分割线-------\")\n",
    "\n",
    "# 测试类型的类\n",
    "print(age.__class__.__class__)\n",
    "print(name.__class__.__class__)\n",
    "print(Foo.__class__.__class__)\n",
    "print(b.__class__.__class__)\n",
    "print(Bar.__class__.__class__)  # type类的元类是type。。。。\n"
   ]
  },
  {
   "cell_type": "markdown",
   "metadata": {},
   "source": [
    "因此，元类就是创建类这种对象的东西。type就是Python的内建元类，当然了，你也可以创建自己的元类。\n",
    "\n",
    "## 1.7. <a id='toc1_7_'></a>[__metaclass__属性](#toc0_)\n",
    "你可以在定义一个类的时候为其添加__metaclass__属性\n",
    "\n",
    "    class Foo(object):\n",
    "        __metaclass__ = something…\n",
    "        ...省略...\n",
    "\n",
    "如果你这么做了，Python就会用元类来创建类Foo。小心点，这里面有些技巧。</br>\n",
    "你首先写下class Foo(object)，但是类Foo还没有在内存中创建。</br>\n",
    "Python会在类的定义中寻找__metaclass__属性，</br>\n",
    "如果找到了，Python就会用它来创建类Foo，如果没有找到，就会用内建的type来创建这个类。</br>\n",
    "\n",
    "把下面这段话反复读几次\n",
    "\n",
    "当你写如下代码时 :"
   ]
  },
  {
   "cell_type": "code",
   "execution_count": null,
   "metadata": {},
   "outputs": [],
   "source": [
    "class Foo(Bar):\n",
    "    pass"
   ]
  },
  {
   "cell_type": "markdown",
   "metadata": {},
   "source": [
    "Python做了如下的操作：\n",
    "\n",
    "1. Foo中有__metaclass__这个属性吗？如果有，则Python会通过__metaclass__创建一个名字为Foo的类\n",
    "2. 如果Python没有找到__metaclass__，它会继续在Bar（父类）中寻找__metaclass__属性，并尝试做和前面同样的操作\n",
    "3. 如果Python在任何父类中都找不到__metaclass__，它就会在模块层次中去寻找__metaclass__，并尝试做同样的操作\n",
    "4. 如果还是找不到__metaclass__,Python就会用内置的type来创建这个类对象\n",
    "\n",
    "现在的问题就是，可以在__metaclass__中放置些什么代码呢？\n",
    "\n",
    "答：可以创建一个类的东西\n",
    "\n",
    "那么什么可以用来创建一个类呢？\n",
    "\n",
    "答：type，或者任何使用到type或者子类化type的东东都可以\n",
    "\n",
    "## 1.8. <a id='toc1_8_'></a>[自定义元类](#toc0_)\n",
    "元类的主要目的就是为了当创建类时能够自动地改变类。\n",
    "\n",
    "假想一个很傻的例子，你决定在你的模块里所有的类的属性都应该是大写形式。</br>\n",
    "有好几种方法可以办到，但其中一种就是通过在模块级别设定__metaclass__采用这种方法，</br>\n",
    "这个模块中的所有类都会通过这个元类来创建，我们只需要告诉元类把所有的属性都改成大写形式就万事大吉了。</br>\n",
    "\n",
    "幸运的是，__metaclass__实际上可以被任意调用，它并不需要是一个正式的类\n",
    "\n",
    "所以，我们这里就先以一个简单的函数作为例子开始，看如下代码：\n",
    "\n",
    "Python3中"
   ]
  },
  {
   "cell_type": "code",
   "execution_count": 35,
   "metadata": {},
   "outputs": [
    {
     "name": "stdout",
     "output_type": "stream",
     "text": [
      "False\n",
      "True\n",
      "bip\n"
     ]
    }
   ],
   "source": [
    "def upper_attr(class_name, class_parents, class_attr):\n",
    "    # class_name 会保存类的名字 Foo\n",
    "    # class_parents 会保存类的父类 object\n",
    "    # class_attr 会以字典的方式保存所有的类属性\n",
    "\n",
    "    # 遍历属性字典，把不是__开头的属性名字变为大写\n",
    "    new_attr = {\n",
    "        name.upper(): value\n",
    "        for name, value in class_attr.items()\n",
    "        if not name.startswith(\"__\")\n",
    "    }\n",
    "    # 调用type来创建一个类\n",
    "    return type(class_name, class_parents, new_attr)\n",
    "\n",
    "class Foo(object,metaclass=upper_attr):\n",
    "    # * python2 中的用法\n",
    "    # __metaclass__ = upper_attr  # 设置Foo类的元类为upper_attr\n",
    "    bar = 'bip'\n",
    "\n",
    "print(hasattr(Foo, 'bar'))\n",
    "print(hasattr(Foo, 'BAR'))\n",
    "\n",
    "f = Foo()\n",
    "print(f.BAR)\n",
    "\n"
   ]
  },
  {
   "attachments": {},
   "cell_type": "markdown",
   "metadata": {},
   "source": [
    "现在让我们用一个真正的class来当做元类"
   ]
  },
  {
   "cell_type": "code",
   "execution_count": 5,
   "metadata": {},
   "outputs": [
    {
     "name": "stdout",
     "output_type": "stream",
     "text": [
      "Writing test_metaclass.py\n"
     ]
    }
   ],
   "source": [
    "class UpperAttrMetaClass(type):\n",
    "    # __new__ 是在__init__之前被调用的特殊方法\n",
    "    # __new__是用来创建对象并返回之的方法\n",
    "    # 而__init__只是用来将传入的参数初始化给对象\n",
    "    # 你很少用到__new__，除非你希望能够控制对象的创建\n",
    "    # 这里，创建的对象是类，我们希望能够自定义它，所以我们这里改写__new__\n",
    "    # 如果你希望的话，你也可以在__init__中做些事情\n",
    "    # 还有一些高级的用法会涉及到改写__call__特殊方法，但是我们这里不用\n",
    "    def __new__(cls, class_name, class_parents, class_attr):\n",
    "        print(\"===>UpperAttrMetaClass.__new__\")\n",
    "        print(cls)\n",
    "        print(class_name)\n",
    "        print(class_parents)\n",
    "        print(class_attr)\n",
    "        \n",
    "        # 遍历属性字典，把不是__开头的属性名字变为大写\n",
    "        new_attr = {\n",
    "            name.upper(): value\n",
    "            for name, value in class_attr.items()\n",
    "            if not name.startswith(\"__\")\n",
    "        }\n",
    "        # 方法1：通过'type'来做类对象的创建\n",
    "        return type(class_name, class_parents, new_attr)\n",
    "\n",
    "        # 方法2：复用type.__new__方法\n",
    "        # 这就是基本的OOP编程，没什么魔法\n",
    "        # return type.__new__(cls, class_name, class_parents, new_attr)\n",
    "\n",
    "# python3的用法\n",
    "class Foo(object, metaclass=UpperAttrMetaClass):\n",
    "    bar = 'bip'\n",
    "\n",
    "# python2的用法\n",
    "# class Foo(object):\n",
    "#     __metaclass__ = UpperAttrMetaClass\n",
    "#     bar = 'bip'\n",
    "\n",
    "\n",
    "print(hasattr(Foo, 'bar'))\n",
    "# 输出: False\n",
    "print(hasattr(Foo, 'BAR'))\n",
    "# 输出:True\n",
    "\n",
    "f = Foo()\n",
    "print(f.BAR)\n",
    "# 输出:'bip'\n"
   ]
  },
  {
   "cell_type": "markdown",
   "metadata": {},
   "source": [
    "就是这样，除此之外，关于元类真的没有别的可说的了\n",
    "\n",
    "但就元类本身而言，它们其实是很简单的：\n",
    "\n",
    "1. 拦截类的创建\n",
    "2. 修改类\n",
    "3. 返回修改之后的类\n",
    "\n",
    "## 1.9. <a id='toc1_9_'></a>[究竟为什么要使用元类？](#toc0_)\n",
    "现在回到我们的大主题上来，究竟是为什么你会去使用这样一种容易出错且晦涩的特性？好吧，一般来说，你根本就用不上它：\n",
    "\n",
    "“元类就是深度的魔法，99%的用户应该根本不必为此操心。</br>\n",
    "如果你想搞清楚究竟是否需要用到元类，那么你就不需要它。</br>\n",
    "那些实际用到元类的人都非常清楚地知道他们需要做什么，而且根本不需要解释为什么要用元类。” —— Python界的领袖 Tim Peters\n",
    "\n",
    "当然了也不是说元类真的没有用，我们在后面学习MySQL数据库后，会学习使用元类来自己模拟ORM，到时就要用到元类"
   ]
  }
 ],
 "metadata": {
  "kernelspec": {
   "display_name": "study",
   "language": "python",
   "name": "python3"
  },
  "language_info": {
   "codemirror_mode": {
    "name": "ipython",
    "version": 3
   },
   "file_extension": ".py",
   "mimetype": "text/x-python",
   "name": "python",
   "nbconvert_exporter": "python",
   "pygments_lexer": "ipython3",
   "version": "3.9.15 (main, Nov  4 2022, 16:35:55) [MSC v.1916 64 bit (AMD64)]"
  },
  "orig_nbformat": 4,
  "vscode": {
   "interpreter": {
    "hash": "49fdd20b2b68a4dd8ebcbb061b9c04f8e52f6472af90d6159269a7c8abf5d944"
   }
  }
 },
 "nbformat": 4,
 "nbformat_minor": 2
}
