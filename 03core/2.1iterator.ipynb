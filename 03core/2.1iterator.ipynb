{
 "cells": [
  {
   "cell_type": "markdown",
   "metadata": {},
   "source": [
    "**Table of contents**<a id='toc0_'></a>    \n",
    "1. [迭代器(iterator)](#toc1_)    \n",
    "1.1. [目的](#toc1_1_)    \n",
    "1.2. [什么是\"迭代\"](#toc1_2_)    \n",
    "1.3. [可迭代对象](#toc1_3_)    \n",
    "1.4. [迭代器](#toc1_4_)    \n",
    "1.4.1. [可迭代对象的本质](#toc1_4_1_)    \n",
    "1.4.2. [获取可迭代对象的迭代器](#toc1_4_2_)    \n",
    "1.4.3. [获取迭代器的数据](#toc1_4_3_)    \n",
    "1.4.4. [StopIteration异常](#toc1_4_4_)    \n",
    "1.5. [自定义\"迭代器\"](#toc1_5_)    \n",
    "1.5.1. [__iter__方法](#toc1_5_1_)    \n",
    "1.5.2. [__next__方法](#toc1_5_2_)    \n",
    "1.5.3. [自定义”迭代器“案例](#toc1_5_3_)    \n",
    "1.6. [for...in...循环的本质](#toc1_6_)    \n",
    "1.7. [并不是只有for循环能接收可迭代对象](#toc1_7_)    \n",
    "1.8. [总结](#toc1_8_)    \n",
    "1.9. [作业](#toc1_9_)    \n",
    "\n",
    "<!-- vscode-jupyter-toc-config\n",
    "\tnumbering=true\n",
    "\tanchor=true\n",
    "\tflat=true\n",
    "\tminLevel=1\n",
    "\tmaxLevel=6\n",
    "\t/vscode-jupyter-toc-config -->\n",
    "<!-- THIS CELL WILL BE REPLACED ON TOC UPDATE. DO NOT WRITE YOUR TEXT IN THIS CELL -->"
   ]
  },
  {
   "cell_type": "markdown",
   "metadata": {},
   "source": [
    "# 1. <a id='toc1_'></a>[迭代器(iterator)](#toc0_)\n",
    "\n",
    "## 1.1. <a id='toc1_1_'></a>[目的](#toc0_)\n",
    "如果开发中有如下需求，该怎样解决呢？"
   ]
  },
  {
   "cell_type": "code",
   "execution_count": 1,
   "metadata": {},
   "outputs": [
    {
     "ename": "TypeError",
     "evalue": "'StuSystem' object is not iterable",
     "output_type": "error",
     "traceback": [
      "\u001b[1;31m---------------------------------------------------------------------------\u001b[0m",
      "\u001b[1;31mTypeError\u001b[0m                                 Traceback (most recent call last)",
      "\u001b[1;32md:\\study\\vsworkspace\\study_python\\03core\\2.1iterator.ipynb Cell 2\u001b[0m in \u001b[0;36m<cell line: 30>\u001b[1;34m()\u001b[0m\n\u001b[0;32m     <a href='vscode-notebook-cell:/d%3A/study/vsworkspace/study_python/03core/2.1iterator.ipynb#W0sZmlsZQ%3D%3D?line=26'>27</a>\u001b[0m stu_sys\u001b[39m.\u001b[39madd()\n\u001b[0;32m     <a href='vscode-notebook-cell:/d%3A/study/vsworkspace/study_python/03core/2.1iterator.ipynb#W0sZmlsZQ%3D%3D?line=28'>29</a>\u001b[0m \u001b[39m# 问题1：怎样才能实现用for循环遍历系统中所有的学生信息呢？下面的方式能实现吗？\u001b[39;00m\n\u001b[1;32m---> <a href='vscode-notebook-cell:/d%3A/study/vsworkspace/study_python/03core/2.1iterator.ipynb#W0sZmlsZQ%3D%3D?line=29'>30</a>\u001b[0m \u001b[39mfor\u001b[39;00m temp \u001b[39min\u001b[39;00m stu_sys:\n\u001b[0;32m     <a href='vscode-notebook-cell:/d%3A/study/vsworkspace/study_python/03core/2.1iterator.ipynb#W0sZmlsZQ%3D%3D?line=30'>31</a>\u001b[0m     \u001b[39mprint\u001b[39m(temp)\n",
      "\u001b[1;31mTypeError\u001b[0m: 'StuSystem' object is not iterable"
     ]
    }
   ],
   "source": [
    "class StuSystem(object):\n",
    "    \"\"\"\n",
    "    学生管理系统\n",
    "    \"\"\"\n",
    "    def __init__(self):\n",
    "        self.stus = []\n",
    "\n",
    "    def add(self):\n",
    "        \"\"\"\n",
    "        添加一个新的学生\n",
    "        :return:\n",
    "        \"\"\"\n",
    "        name = input(\"请输入新学生的姓名:\")\n",
    "        tel = input(\"请输入新学生的手机号:\")\n",
    "        address = input(\"请输入新学生的住址:\")\n",
    "\n",
    "        new_stu = {\"name\": name, \"tel\": tel, \"address\": address}\n",
    "        self.stus.append(new_stu)\n",
    "\n",
    "\n",
    "# 创建管理系统对象\n",
    "stu_sys = StuSystem()\n",
    "\n",
    "# 添加3个学生信息到系统中\n",
    "stu_sys.add()\n",
    "stu_sys.add()\n",
    "stu_sys.add()\n",
    "\n",
    "# 问题1：怎样才能实现用for循环遍历系统中所有的学生信息呢？下面的方式能实现吗？\n",
    "for temp in stu_sys:\n",
    "    print(temp)\n",
    "\n",
    "# 问题2：如果需要一个列表，这个列表 样子例如 [(\"张三\", \"10086\"), (\"李四\", \"10010\")]\n",
    "# stu_list = [ ...列表推导式...]\n",
    "# 这个列表推导式该怎样写才能实现呢？\n"
   ]
  },
  {
   "cell_type": "markdown",
   "metadata": {},
   "source": [
    "在实际开发工作中，经常需要快速的将对象转化问其他的不同的数据类型，此时如果能快速的遍历出自定义的对象，这样大大减少代码的冗余，而且可读性会更优美\n",
    "\n",
    "问题是，怎样实现呢？\n",
    "\n",
    "今天我们要学习的知识只有1个，那就是”迭代器“\n",
    "\n",
    "\n",
    "## 1.2. <a id='toc1_2_'></a>[什么是\"迭代\"](#toc0_)\n",
    "迭代是访问集合元素的一种方式\n",
    "\n",
    "例如"
   ]
  },
  {
   "cell_type": "code",
   "execution_count": 2,
   "metadata": {},
   "outputs": [
    {
     "name": "stdout",
     "output_type": "stream",
     "text": [
      "11\n",
      "22\n",
      "33\n",
      "t\n",
      "e\n",
      "a\n",
      "c\n",
      "h\n",
      "e\n",
      "r\n"
     ]
    }
   ],
   "source": [
    "nums = [11, 22, 33]\n",
    "\n",
    "# 可以通过for循环将nums列表中的每个数据依次获取\n",
    "for num in nums:\n",
    "    print(num)\n",
    "\n",
    "\n",
    "name = \"teacher\"\n",
    "\n",
    "for temp in name:\n",
    "    print(temp)\n"
   ]
  },
  {
   "cell_type": "markdown",
   "metadata": {},
   "source": [
    "我们已经知道可以对list、tuple、str等类型的数据使用for...in...的循环语法从其中依次拿到数据进行使用，我们把这样的过程称为遍历，也叫迭代\n",
    "\n",
    "## 1.3. <a id='toc1_3_'></a>[可迭代对象](#toc0_)\n",
    "是否所有的数据类型都可以放到for...in...的语句中，然后让for...in...每次从中取出一条数据供我们使用呢？\n",
    "\n",
    "看如下示例："
   ]
  },
  {
   "cell_type": "code",
   "execution_count": 3,
   "metadata": {},
   "outputs": [
    {
     "name": "stdout",
     "output_type": "stream",
     "text": [
      "11\n",
      "22\n",
      "33\n"
     ]
    },
    {
     "ename": "TypeError",
     "evalue": "'int' object is not iterable",
     "output_type": "error",
     "traceback": [
      "\u001b[1;31m---------------------------------------------------------------------------\u001b[0m",
      "\u001b[1;31mTypeError\u001b[0m                                 Traceback (most recent call last)",
      "\u001b[1;32md:\\study\\vsworkspace\\study_python\\03core\\2.1iterator.ipynb Cell 6\u001b[0m in \u001b[0;36m<cell line: 9>\u001b[1;34m()\u001b[0m\n\u001b[0;32m      <a href='vscode-notebook-cell:/d%3A/study/vsworkspace/study_python/03core/2.1iterator.ipynb#W5sZmlsZQ%3D%3D?line=4'>5</a>\u001b[0m     \u001b[39mprint\u001b[39m(num)\n\u001b[0;32m      <a href='vscode-notebook-cell:/d%3A/study/vsworkspace/study_python/03core/2.1iterator.ipynb#W5sZmlsZQ%3D%3D?line=6'>7</a>\u001b[0m weight \u001b[39m=\u001b[39m \u001b[39m180\u001b[39m\n\u001b[1;32m----> <a href='vscode-notebook-cell:/d%3A/study/vsworkspace/study_python/03core/2.1iterator.ipynb#W5sZmlsZQ%3D%3D?line=8'>9</a>\u001b[0m \u001b[39mfor\u001b[39;00m temp \u001b[39min\u001b[39;00m weight:\n\u001b[0;32m     <a href='vscode-notebook-cell:/d%3A/study/vsworkspace/study_python/03core/2.1iterator.ipynb#W5sZmlsZQ%3D%3D?line=9'>10</a>\u001b[0m     \u001b[39mprint\u001b[39m(temp)\n",
      "\u001b[1;31mTypeError\u001b[0m: 'int' object is not iterable"
     ]
    }
   ],
   "source": [
    "nums = [11, 22, 33]\n",
    "\n",
    "# 可以通过for循环将nums列表中的每个数据依次获取\n",
    "for num in nums:\n",
    "    print(num)\n",
    "    \n",
    "weight = 180\n",
    "\n",
    "for temp in weight:\n",
    "    print(temp)"
   ]
  },
  {
   "cell_type": "markdown",
   "metadata": {},
   "source": [
    "\n",
    "可以发现，并不是所有的类型都可以通过for...in...的方式进行遍历\n",
    "\n",
    "我们可以通俗的认为：\n",
    "\n",
    " > 只要是可以通过for...in…的形式进行遍历的，那么这个数据类型就是可以迭代的\n",
    "\n",
    "例如，下面的是可以迭代的数据类型\n",
    "- 列表\n",
    "- 元组\n",
    "- 字典\n",
    "- 字符串\n",
    "\n",
    "而下面的则不是可以迭代的数据类型\n",
    "- 整型\n",
    "- 浮点型\n",
    "\n",
    "那是否可以通过某种方式能够测量出一个数据类型到底是否是可以迭代呢？看下面的知识"
   ]
  },
  {
   "cell_type": "code",
   "execution_count": 4,
   "metadata": {},
   "outputs": [
    {
     "name": "stdout",
     "output_type": "stream",
     "text": [
      "列表是否是可迭代的——>: True\n",
      "元组是否是可迭代的——>: True\n",
      "字典是否是可迭代的——>: True\n",
      "集合是否是可迭代的——>: True\n",
      "字符串是否是可迭代的——>: True\n",
      "整数是否是可迭代的——>: False\n",
      "浮点数是否是可迭代的——>: False\n"
     ]
    }
   ],
   "source": [
    "from collections.abc import Iterable\n",
    "\n",
    "print(f'列表是否是可迭代的——>: {isinstance([], Iterable)}')\n",
    "print(f'元组是否是可迭代的——>: {isinstance((), Iterable)}')\n",
    "print(f\"字典是否是可迭代的——>: {isinstance({'name': 'jason', 'age': 20}, Iterable)}\")\n",
    "print(f\"集合是否是可迭代的——>: {isinstance({'name', 'age',1}, Iterable)}\")\n",
    "print(f'字符串是否是可迭代的——>: {isinstance(\"abc\", Iterable)}')\n",
    "\n",
    "print(f'整数是否是可迭代的——>: {isinstance(100, Iterable)}')\n",
    "print(f'浮点数是否是可迭代的——>: {isinstance(1.1, Iterable)}')\n"
   ]
  },
  {
   "cell_type": "markdown",
   "metadata": {},
   "source": [
    "**只要是通过isinstance来判断出是Iterable类的实例，即isinstance的结果是True那么就表示，这个数据类型是可以迭代的数据类型**"
   ]
  },
  {
   "cell_type": "markdown",
   "metadata": {},
   "source": [
    "## 1.4. <a id='toc1_4_'></a>[迭代器](#toc0_)\n",
    "迭代器是一个可以记住遍历的位置的对象。迭代器对象从第一个元素开始访问，直到所有的元素被访问完结束。迭代器只能往前不会后退。\n",
    "\n",
    "### 1.4.1. <a id='toc1_4_1_'></a>[可迭代对象的本质](#toc0_)\n",
    "分析 可迭代对象 进行迭代的过程，发现每迭代一次（即在for...in...中每循环一次）都会返回对象中的下一条数据，一直向后读取数据直到迭代了所有数据后结束。\n",
    "\n",
    "那么，在这个过程中就应该有一个“人”去记录每次访问到了第几条数据，以便每次迭代都可以返回下一条数据。我们把这个能帮助我们进行数据迭代的“人”称为迭代器(Iterator)\n",
    "\n",
    "可迭代对象的本质就是可以向我们提供一个这样的中间“人”，即迭代器帮助我们对其进行迭代遍历使用。\n",
    "\n",
    "list、tuple等都是可迭代对象，我们可以通过iter()函数获取这些可迭代对象的迭代器。然后我们可以对获取到的迭代器不断使用next()函数来获取下一条数据。\n",
    "\n",
    "### 1.4.2. <a id='toc1_4_2_'></a>[获取可迭代对象的迭代器](#toc0_)\n",
    "测试代码如下:"
   ]
  },
  {
   "cell_type": "code",
   "execution_count": 5,
   "metadata": {},
   "outputs": [
    {
     "name": "stdout",
     "output_type": "stream",
     "text": [
      "<class 'list'>\n",
      "<class 'list_iterator'>\n",
      "nums False\n",
      "nums_iter True\n"
     ]
    }
   ],
   "source": [
    "from collections.abc import Iterator\n",
    "\n",
    "nums = [11, 22, 33, 44]\n",
    "\n",
    "print(type(nums))\n",
    "\n",
    "nums_iter = iter(nums)\n",
    "\n",
    "print(type(nums_iter))\n",
    "\n",
    "print(\"nums\", isinstance(nums, Iterator))\n",
    "print(\"nums_iter\", isinstance(nums_iter, Iterator))"
   ]
  },
  {
   "cell_type": "markdown",
   "metadata": {},
   "source": [
    "### 1.4.3. <a id='toc1_4_3_'></a>[获取迭代器的数据](#toc0_)\n",
    "上面提到，通过iter()能够得到一个可迭代对象的 迭代器，可以通过next()函数多次提取迭代器中的数据，下面我们就测试下\n",
    "\n",
    "测试代码如下："
   ]
  },
  {
   "cell_type": "code",
   "execution_count": 6,
   "metadata": {},
   "outputs": [
    {
     "name": "stdout",
     "output_type": "stream",
     "text": [
      "nums False\n",
      "nums_iter True\n",
      "11\n",
      "22\n",
      "33\n",
      "44\n"
     ]
    }
   ],
   "source": [
    "from collections.abc import Iterator\n",
    "\n",
    "\n",
    "nums = [11, 22, 33, 44]\n",
    "nums_iter = iter(nums)\n",
    "\n",
    "print(\"nums\", isinstance(nums, Iterator))\n",
    "print(\"nums_iter\", isinstance(nums_iter, Iterator))\n",
    "\n",
    "\n",
    "num1 = next(nums_iter)\n",
    "print(num1)\n",
    "\n",
    "num2 = next(nums_iter)\n",
    "print(num2)\n",
    "\n",
    "num3 = next(nums_iter)\n",
    "print(num3)\n",
    "\n",
    "num4 = next(nums_iter)\n",
    "print(num4)\n"
   ]
  },
  {
   "cell_type": "markdown",
   "metadata": {},
   "source": [
    "### 1.4.4. <a id='toc1_4_4_'></a>[StopIteration异常](#toc0_)\n",
    "如果将上面的代码，多写一次的next()会怎样呢？看如下测试代码："
   ]
  },
  {
   "cell_type": "code",
   "execution_count": 7,
   "metadata": {},
   "outputs": [
    {
     "name": "stdout",
     "output_type": "stream",
     "text": [
      "nums False\n",
      "nums_iter True\n",
      "11\n",
      "22\n",
      "33\n",
      "44\n"
     ]
    },
    {
     "ename": "StopIteration",
     "evalue": "",
     "output_type": "error",
     "traceback": [
      "\u001b[1;31m---------------------------------------------------------------------------\u001b[0m",
      "\u001b[1;31mStopIteration\u001b[0m                             Traceback (most recent call last)",
      "\u001b[1;32md:\\study\\vsworkspace\\study_python\\03core\\2.1iterator.ipynb Cell 15\u001b[0m in \u001b[0;36m<cell line: 23>\u001b[1;34m()\u001b[0m\n\u001b[0;32m     <a href='vscode-notebook-cell:/d%3A/study/vsworkspace/study_python/03core/2.1iterator.ipynb#X20sZmlsZQ%3D%3D?line=19'>20</a>\u001b[0m num4 \u001b[39m=\u001b[39m \u001b[39mnext\u001b[39m(nums_iter)\n\u001b[0;32m     <a href='vscode-notebook-cell:/d%3A/study/vsworkspace/study_python/03core/2.1iterator.ipynb#X20sZmlsZQ%3D%3D?line=20'>21</a>\u001b[0m \u001b[39mprint\u001b[39m(num4)\n\u001b[1;32m---> <a href='vscode-notebook-cell:/d%3A/study/vsworkspace/study_python/03core/2.1iterator.ipynb#X20sZmlsZQ%3D%3D?line=22'>23</a>\u001b[0m num5 \u001b[39m=\u001b[39m \u001b[39mnext\u001b[39;49m(nums_iter)  \u001b[39m# 这里会产生异常\u001b[39;00m\n\u001b[0;32m     <a href='vscode-notebook-cell:/d%3A/study/vsworkspace/study_python/03core/2.1iterator.ipynb#X20sZmlsZQ%3D%3D?line=23'>24</a>\u001b[0m \u001b[39mprint\u001b[39m(num5)\n",
      "\u001b[1;31mStopIteration\u001b[0m: "
     ]
    }
   ],
   "source": [
    "from collections.abc import Iterator\n",
    "\n",
    "\n",
    "nums = [11, 22, 33, 44]\n",
    "nums_iter = iter(nums)\n",
    "\n",
    "print(\"nums\", isinstance(nums, Iterator))\n",
    "print(\"nums_iter\", isinstance(nums_iter, Iterator))\n",
    "\n",
    "\n",
    "num1 = next(nums_iter)\n",
    "print(num1)\n",
    "\n",
    "num2 = next(nums_iter)\n",
    "print(num2)\n",
    "\n",
    "num3 = next(nums_iter)\n",
    "print(num3)\n",
    "\n",
    "num4 = next(nums_iter)\n",
    "print(num4)\n",
    "\n",
    "num5 = next(nums_iter)  # 这里会产生异常\n",
    "print(num5)\n"
   ]
  },
  {
   "cell_type": "markdown",
   "metadata": {},
   "source": [
    "可以看到23行，即第5次调用next()时，产生了异常。why？？？？？？\n",
    "\n",
    "因为列表nums中只有4个数据，也就是说可以调用4次next是完全合理的，但是如果，调用的次数多了肯定是不合理，都没有5个数据，怎么可以能取5次呢！显然是不对的\n",
    "\n",
    "此时估计想明白了，为什么会产生异常，其实就是一种告知迭代结束的标志而已\n",
    "\n",
    "添加try...except...即可解决刚刚遇到的问题"
   ]
  },
  {
   "cell_type": "code",
   "execution_count": 8,
   "metadata": {},
   "outputs": [
    {
     "name": "stdout",
     "output_type": "stream",
     "text": [
      "nums False\n",
      "nums_iter True\n",
      "11\n",
      "22\n",
      "33\n",
      "44\n",
      "\n"
     ]
    }
   ],
   "source": [
    "from collections.abc import Iterator\n",
    "\n",
    "\n",
    "nums = [11, 22, 33, 44]\n",
    "nums_iter = iter(nums)\n",
    "\n",
    "print(\"nums\", isinstance(nums, Iterator))\n",
    "print(\"nums_iter\", isinstance(nums_iter, Iterator))\n",
    "\n",
    "\n",
    "num1 = next(nums_iter)\n",
    "print(num1)\n",
    "\n",
    "num2 = next(nums_iter)\n",
    "print(num2)\n",
    "\n",
    "num3 = next(nums_iter)\n",
    "print(num3)\n",
    "\n",
    "num4 = next(nums_iter)\n",
    "print(num4)\n",
    "\n",
    "try:\n",
    "    num5 = next(nums_iter)  # 这里会产生异常\n",
    "    print(num5)\n",
    "except StopIteration as e:\n",
    "    print(e)\n"
   ]
  },
  {
   "cell_type": "markdown",
   "metadata": {},
   "source": [
    "## 1.5. <a id='toc1_5_'></a>[自定义\"迭代器\"](#toc0_)\n",
    "大家是否还记得 在刚开学习今天的知识时，我们引入了一个学生管理系统的问题，该怎样实现呢\n",
    "\n",
    "我们下面来谈谈\n",
    "\n",
    "- __iter__方法\n",
    "- __next__方法\n",
    "\n",
    "### 1.5.1. <a id='toc1_5_1_'></a>[__iter__方法](#toc0_)\n",
    "上面提到iter()方法必须是对”可迭代“对象 才能 提取到 ”迭代器“对象，但是怎样保证自定义的对象是”可迭代“对象呢？\n",
    "\n",
    "答：\n",
    "\n",
    ">只要在类中，定义__iter__方法，那么这个类创建出来的对象一定是可迭代对象\n",
    "\n",
    "通俗的说：一个具备了__iter__方法的对象，就是一个可迭代对象\n",
    "\n",
    "测试代码如下:（无__iter__方法）"
   ]
  },
  {
   "cell_type": "code",
   "execution_count": 1,
   "metadata": {},
   "outputs": [
    {
     "name": "stdout",
     "output_type": "stream",
     "text": [
      "mylist是否是可以迭代对象 False\n"
     ]
    },
    {
     "ename": "TypeError",
     "evalue": "'MyList' object is not iterable",
     "output_type": "error",
     "traceback": [
      "\u001b[1;31m---------------------------------------------------------------------------\u001b[0m",
      "\u001b[1;31mTypeError\u001b[0m                                 Traceback (most recent call last)",
      "\u001b[1;32md:\\study\\vsworkspace\\study_python\\03core\\2.1iterator.ipynb Cell 19\u001b[0m in \u001b[0;36m<cell line: 19>\u001b[1;34m()\u001b[0m\n\u001b[0;32m     <a href='vscode-notebook-cell:/d%3A/study/vsworkspace/study_python/03core/2.1iterator.ipynb#Y166sZmlsZQ%3D%3D?line=14'>15</a>\u001b[0m mylist\u001b[39m.\u001b[39madd(\u001b[39m33\u001b[39m)\n\u001b[0;32m     <a href='vscode-notebook-cell:/d%3A/study/vsworkspace/study_python/03core/2.1iterator.ipynb#Y166sZmlsZQ%3D%3D?line=16'>17</a>\u001b[0m \u001b[39mprint\u001b[39m(\u001b[39m\"\u001b[39m\u001b[39mmylist是否是可以迭代对象\u001b[39m\u001b[39m\"\u001b[39m, \u001b[39misinstance\u001b[39m(mylist, Iterable))\n\u001b[1;32m---> <a href='vscode-notebook-cell:/d%3A/study/vsworkspace/study_python/03core/2.1iterator.ipynb#Y166sZmlsZQ%3D%3D?line=18'>19</a>\u001b[0m \u001b[39mfor\u001b[39;00m temp \u001b[39min\u001b[39;00m mylist:\n\u001b[0;32m     <a href='vscode-notebook-cell:/d%3A/study/vsworkspace/study_python/03core/2.1iterator.ipynb#Y166sZmlsZQ%3D%3D?line=19'>20</a>\u001b[0m     \u001b[39mprint\u001b[39m(temp)\n",
      "\u001b[1;31mTypeError\u001b[0m: 'MyList' object is not iterable"
     ]
    }
   ],
   "source": [
    "from collections.abc import Iterable\n",
    "\n",
    "\n",
    "class MyList(object):\n",
    "    def __init__(self):\n",
    "        self.container = []\n",
    "\n",
    "    def add(self, item):\n",
    "        self.container.append(item)\n",
    "\n",
    "        \n",
    "mylist = MyList()\n",
    "mylist.add(11)\n",
    "mylist.add(22)\n",
    "mylist.add(33)\n",
    "\n",
    "print(\"mylist是否是可以迭代对象\", isinstance(mylist, Iterable))\n",
    "\n",
    "for temp in mylist:\n",
    "    print(temp)\n"
   ]
  },
  {
   "cell_type": "markdown",
   "metadata": {},
   "source": [
    "测试代码2：(有__iter__方法)"
   ]
  },
  {
   "cell_type": "code",
   "execution_count": 2,
   "metadata": {},
   "outputs": [
    {
     "name": "stdout",
     "output_type": "stream",
     "text": [
      "mylist是否是可以迭代对象 True\n"
     ]
    },
    {
     "ename": "TypeError",
     "evalue": "iter() returned non-iterator of type 'NoneType'",
     "output_type": "error",
     "traceback": [
      "\u001b[1;31m---------------------------------------------------------------------------\u001b[0m",
      "\u001b[1;31mTypeError\u001b[0m                                 Traceback (most recent call last)",
      "\u001b[1;32md:\\study\\vsworkspace\\study_python\\03core\\2.1iterator.ipynb Cell 21\u001b[0m in \u001b[0;36m<cell line: 21>\u001b[1;34m()\u001b[0m\n\u001b[0;32m     <a href='vscode-notebook-cell:/d%3A/study/vsworkspace/study_python/03core/2.1iterator.ipynb#Y200sZmlsZQ%3D%3D?line=16'>17</a>\u001b[0m mylist\u001b[39m.\u001b[39madd(\u001b[39m33\u001b[39m)\n\u001b[0;32m     <a href='vscode-notebook-cell:/d%3A/study/vsworkspace/study_python/03core/2.1iterator.ipynb#Y200sZmlsZQ%3D%3D?line=18'>19</a>\u001b[0m \u001b[39mprint\u001b[39m(\u001b[39m\"\u001b[39m\u001b[39mmylist是否是可以迭代对象\u001b[39m\u001b[39m\"\u001b[39m, \u001b[39misinstance\u001b[39m(mylist, Iterable))\n\u001b[1;32m---> <a href='vscode-notebook-cell:/d%3A/study/vsworkspace/study_python/03core/2.1iterator.ipynb#Y200sZmlsZQ%3D%3D?line=20'>21</a>\u001b[0m \u001b[39mfor\u001b[39;00m temp \u001b[39min\u001b[39;00m mylist:\n\u001b[0;32m     <a href='vscode-notebook-cell:/d%3A/study/vsworkspace/study_python/03core/2.1iterator.ipynb#Y200sZmlsZQ%3D%3D?line=21'>22</a>\u001b[0m     \u001b[39mprint\u001b[39m(temp)\n",
      "\u001b[1;31mTypeError\u001b[0m: iter() returned non-iterator of type 'NoneType'"
     ]
    }
   ],
   "source": [
    "from collections.abc import Iterable\n",
    "\n",
    "\n",
    "class MyList(object):\n",
    "    def __init__(self):\n",
    "        self.container = []\n",
    "\n",
    "    def add(self, item):\n",
    "        self.container.append(item)\n",
    "\n",
    "    def __iter__(self):\n",
    "        pass\n",
    "\n",
    "mylist = MyList()\n",
    "mylist.add(11)\n",
    "mylist.add(22)\n",
    "mylist.add(33)\n",
    "\n",
    "print(\"mylist是否是可以迭代对象\", isinstance(mylist, Iterable))\n",
    "\n",
    "for temp in mylist:\n",
    "    print(temp)\n"
   ]
  },
  {
   "cell_type": "markdown",
   "metadata": {},
   "source": [
    "能够看出，一个类，只要有__iter__方法，那么这个类创建出来的对象就是可以迭代对象\n",
    "\n",
    "其实，当我们调用iter()函数提取一个可迭代对象的 迭代器时，实际上会自动调用这个对象的__iter__方法，并且这个方法返回迭代器"
   ]
  },
  {
   "cell_type": "markdown",
   "metadata": {},
   "source": [
    "### 1.5.2. <a id='toc1_5_2_'></a>[__next__方法](#toc0_)\n",
    "通过上面的分析，我们已经知道，迭代器是用来帮助我们记录每次迭代访问到的位置，当我们对迭代器使用next()函数的时候，迭代器会向我们返回它所记录位置的下一个位置的数据。\n",
    "\n",
    "实际上，在使用next()函数的时候，调用的就是迭代器对象的__next__方法（Python3中是对象的__next__方法，Python2中是对象的next()方法）。\n",
    "\n",
    "所以，我们要想构造一个迭代器，就要实现它的__next__方法。\n",
    "\n",
    "但这还不够，python要求迭代器本身也是可迭代的，所以我们还要为迭代器实现__iter__方法，而__iter__方法要返回一个迭代器，迭代器自身正是一个迭代器，所以迭代器的__iter__方法返回自身即可。\n",
    "\n",
    "一个实现了__iter__方法和__next__方法的对象，就是迭代器\n",
    "\n",
    "如何判断一个对象是否是迭代器\n",
    "\n",
    "可以使用 isinstance() 判断一个对象是否是 Iterator 对象："
   ]
  },
  {
   "cell_type": "code",
   "execution_count": 3,
   "metadata": {},
   "outputs": [
    {
     "name": "stdout",
     "output_type": "stream",
     "text": [
      "False\n",
      "True\n",
      "True\n"
     ]
    }
   ],
   "source": [
    "from collections.abc import Iterator\n",
    "\n",
    "print(isinstance([],Iterator))\n",
    "\n",
    "print(isinstance(iter([]),Iterator))\n",
    "\n",
    "print(isinstance(iter(\"abc\"), Iterator))"
   ]
  },
  {
   "cell_type": "markdown",
   "metadata": {},
   "source": [
    "自定迭代器"
   ]
  },
  {
   "cell_type": "code",
   "execution_count": 4,
   "metadata": {},
   "outputs": [
    {
     "name": "stdout",
     "output_type": "stream",
     "text": [
      "mylist是否是可以迭代对象 True\n",
      "mylist是否是迭代器 False\n",
      "mylist_iter是否是可以迭代对象 True\n",
      "mylist_iter是否是迭代器 True\n"
     ]
    }
   ],
   "source": [
    "from collections.abc import Iterable\n",
    "from collections.abc import Iterator\n",
    "\n",
    "\n",
    "class MyList(object):\n",
    "    \"\"\"自定义的一个可迭代对象\"\"\"\n",
    "    def __init__(self):\n",
    "        self.items = []\n",
    "\n",
    "    def add(self, val):\n",
    "        self.items.append(val)\n",
    "\n",
    "    def __iter__(self):\n",
    "        return MyIterator()\n",
    "\n",
    "\n",
    "class MyIterator(object):\n",
    "    \"\"\"自定义的供上面可迭代对象使用的一个迭代器\"\"\"\n",
    "    def __init__(self):\n",
    "        pass\n",
    "\n",
    "    def __next__(self):\n",
    "        pass\n",
    "\n",
    "    def __iter__(self):\n",
    "        pass\n",
    "\n",
    "\n",
    "mylist = MyList()\n",
    "mylist_iter = iter(mylist)\n",
    "\n",
    "print(\"mylist是否是可以迭代对象\", isinstance(mylist, Iterable))\n",
    "print(\"mylist是否是迭代器\", isinstance(mylist, Iterator))\n",
    "\n",
    "print(\"mylist_iter是否是可以迭代对象\", isinstance(mylist_iter, Iterable))\n",
    "print(\"mylist_iter是否是迭代器\", isinstance(mylist_iter, Iterator))\n",
    "\n"
   ]
  },
  {
   "cell_type": "markdown",
   "metadata": {},
   "source": [
    "### 1.5.3. <a id='toc1_5_3_'></a>[自定义”迭代器“案例](#toc0_)"
   ]
  },
  {
   "cell_type": "code",
   "execution_count": 5,
   "metadata": {},
   "outputs": [
    {
     "name": "stdout",
     "output_type": "stream",
     "text": [
      "1\n",
      "2\n",
      "3\n",
      "4\n",
      "5\n"
     ]
    }
   ],
   "source": [
    "class MyList(object):\n",
    "    \"\"\"自定义的一个可迭代对象\"\"\"\n",
    "    def __init__(self):\n",
    "        self.items = []\n",
    "\n",
    "    def add(self, val):\n",
    "        self.items.append(val)\n",
    "\n",
    "    def __iter__(self):\n",
    "        return MyIterator(self)\n",
    "\n",
    "\n",
    "class MyIterator(object):\n",
    "    \"\"\"自定义的供上面可迭代对象使用的一个迭代器\"\"\"\n",
    "    def __init__(self, mylist):\n",
    "        self.mylist = mylist\n",
    "        # current用来记录当前访问到的位置\n",
    "        self.current = 0\n",
    "\n",
    "    def __next__(self):\n",
    "        if self.current >= len(self.mylist.items):\n",
    "            raise StopIteration\n",
    "        item = self.mylist.items[self.current]\n",
    "        self.current += 1\n",
    "        return item\n",
    "\n",
    "    def __iter__(self):\n",
    "        return self\n",
    "\n",
    "\n",
    "if __name__ == '__main__':\n",
    "    mylist = MyList()\n",
    "    mylist.add(1)\n",
    "    mylist.add(2)\n",
    "    mylist.add(3)\n",
    "    mylist.add(4)\n",
    "    mylist.add(5)\n",
    "    for num in mylist:\n",
    "        print(num)\n"
   ]
  },
  {
   "cell_type": "markdown",
   "metadata": {},
   "source": [
    "可迭代对象通过__iter__方法向我们返回一个迭代器，我们在迭代一个可迭代对象的时候，实际上就是先获取该对象提供的一个迭代器，然后通过这个迭代器来依次获取对象中的每一个数据."
   ]
  },
  {
   "cell_type": "markdown",
   "metadata": {},
   "source": [
    "## 1.6. <a id='toc1_6_'></a>[for...in...循环的本质](#toc0_)\n",
    "1. 先调用iter()函数，它会自动调用可迭代对象中的__iter__方法，此方法返回这个可迭代对象的 迭代器对象\n",
    "2. 对获取到的迭代器不断调用next()函数，它会自动调用迭代器中的__next__方法来获取下一个值\n",
    "3. 当遇到StopIteration异常后循环结束"
   ]
  },
  {
   "cell_type": "markdown",
   "metadata": {},
   "source": [
    "## 1.7. <a id='toc1_7_'></a>[并不是只有for循环能接收可迭代对象](#toc0_)\n",
    "除了for循环能接收可迭代对象，list、tuple等也能接收。\n",
    "\n",
    "测试代码如下："
   ]
  },
  {
   "cell_type": "code",
   "execution_count": 6,
   "metadata": {},
   "outputs": [
    {
     "name": "stdout",
     "output_type": "stream",
     "text": [
      "[1, 2, 3, 4, 5]\n"
     ]
    }
   ],
   "source": [
    "class MyList(object):\n",
    "    \"\"\"自定义的一个可迭代对象\"\"\"\n",
    "    def __init__(self):\n",
    "        self.items = []\n",
    "\n",
    "    def add(self, val):\n",
    "        self.items.append(val)\n",
    "\n",
    "    def __iter__(self):\n",
    "        return MyIterator(self)\n",
    "\n",
    "\n",
    "class MyIterator(object):\n",
    "    \"\"\"自定义的供上面可迭代对象使用的一个迭代器\"\"\"\n",
    "    def __init__(self, mylist):\n",
    "        self.mylist = mylist\n",
    "        # current用来记录当前访问到的位置\n",
    "        self.current = 0\n",
    "\n",
    "    def __next__(self):\n",
    "        if self.current >= len(self.mylist.items):\n",
    "            self.current= 0\n",
    "            raise StopIteration\n",
    "        item = self.mylist.items[self.current]\n",
    "        self.current += 1\n",
    "        return item\n",
    "\n",
    "    def __iter__(self):\n",
    "        return self\n",
    "\n",
    "\n",
    "if __name__ == '__main__':\n",
    "    mylist = MyList()\n",
    "    mylist.add(1)\n",
    "    mylist.add(2)\n",
    "    mylist.add(3)\n",
    "    mylist.add(4)\n",
    "    mylist.add(5)\n",
    "\n",
    "    print(list(mylist))"
   ]
  },
  {
   "cell_type": "markdown",
   "metadata": {},
   "source": [
    "## 1.8. <a id='toc1_8_'></a>[总结](#toc0_)\n",
    "- 凡是可作用于for 循环的对象都是 Iterable 类型；\n",
    "- 凡是可作用于 next() 函数的对象都是 Iterator 类型\n",
    "- 集合数据类型如 list 、dict、str等是 Iterable 但不是Iterator，不过可以通过 iter() 函数获得一个 Iterator 对象"
   ]
  },
  {
   "cell_type": "markdown",
   "metadata": {},
   "source": [
    "## 1.9. <a id='toc1_9_'></a>[作业](#toc0_)\n",
    "既然已经学习过了迭代器，那么今天刚开始的知识点也就自然有了答案\n",
    "\n",
    "问题1的参考代码如下："
   ]
  },
  {
   "cell_type": "code",
   "execution_count": 13,
   "metadata": {},
   "outputs": [
    {
     "name": "stdout",
     "output_type": "stream",
     "text": [
      "{'name': '1', 'tel': '1', 'address': '1'}\n",
      "{'name': '2', 'tel': '2', 'address': '2'}\n",
      "{'name': '3', 'tel': '3', 'address': '3'}\n",
      "{'name': '1', 'tel': '1', 'address': '1'}\n",
      "{'name': '2', 'tel': '2', 'address': '2'}\n",
      "{'name': '3', 'tel': '3', 'address': '3'}\n"
     ]
    }
   ],
   "source": [
    "class StuSystem(object):\n",
    "    \"\"\"\n",
    "    学生管理系统\n",
    "    \"\"\"\n",
    "    def __init__(self):\n",
    "        self.stus = []\n",
    "        self.current =0\n",
    "\n",
    "    def add(self):\n",
    "        \"\"\"\n",
    "        添加一个新的学生\n",
    "        :return:\n",
    "        \"\"\"\n",
    "        name = input(\"请输入新学生的姓名:\")\n",
    "        tel = input(\"请输入新学生的手机号:\")\n",
    "        address = input(\"请输入新学生的住址:\")\n",
    "\n",
    "        new_stu = {\"name\": name, \"tel\": tel, \"address\": address}\n",
    "        self.stus.append(new_stu)\n",
    "        \n",
    "    def __iter__(self):\n",
    "        return self\n",
    "    \n",
    "    def __next__(self):\n",
    "        if self.current >= len(self.stus):\n",
    "            self.current=0 #* 置为0\n",
    "            raise StopIteration\n",
    "        item=self.stus[self.current]\n",
    "        self.current+=1\n",
    "        return item\n",
    "\n",
    "\n",
    "# 创建管理系统对象\n",
    "stu_sys = StuSystem()\n",
    "\n",
    "# 添加3个学生信息到系统中\n",
    "stu_sys.add()\n",
    "stu_sys.add()\n",
    "stu_sys.add()\n",
    "\n",
    "# 问题1：怎样才能实现用for循环遍历系统中所有的学生信息呢？下面的方式能实现吗？\n",
    "for temp in stu_sys:\n",
    "    print(temp)\n",
    "    \n",
    "for temp in stu_sys:\n",
    "    print(temp)\n",
    "\n",
    "# 问题2：如果需要一个列表，这个列表 样子例如 [(\"张三\", \"10086\"), (\"李四\", \"10010\")]\n",
    "# stu_list = [ ...列表推导式...]\n",
    "# 这个列表推导式该怎样写才能实现呢？\n"
   ]
  },
  {
   "cell_type": "markdown",
   "metadata": {},
   "source": [
    "问题2的参数代码如下："
   ]
  },
  {
   "cell_type": "code",
   "execution_count": 14,
   "metadata": {},
   "outputs": [
    {
     "name": "stdout",
     "output_type": "stream",
     "text": [
      "{'name': '1', 'tel': '1', 'address': '1'}\n",
      "{'name': '2', 'tel': '2', 'address': '2'}\n",
      "{'name': '3', 'tel': '3', 'address': '3'}\n",
      "[{'name': '1', 'tel': '1', 'address': '1'}, {'name': '2', 'tel': '2', 'address': '2'}, {'name': '3', 'tel': '3', 'address': '3'}]\n"
     ]
    }
   ],
   "source": [
    "class StuSystem(object):\n",
    "    \"\"\"\n",
    "    学生管理系统\n",
    "    \"\"\"\n",
    "    def __init__(self):\n",
    "        self.stus = []\n",
    "        self.current =0\n",
    "\n",
    "    def add(self):\n",
    "        \"\"\"\n",
    "        添加一个新的学生\n",
    "        :return:\n",
    "        \"\"\"\n",
    "        name = input(\"请输入新学生的姓名:\")\n",
    "        tel = input(\"请输入新学生的手机号:\")\n",
    "        address = input(\"请输入新学生的住址:\")\n",
    "\n",
    "        new_stu = {\"name\": name, \"tel\": tel, \"address\": address}\n",
    "        self.stus.append(new_stu)\n",
    "        \n",
    "    def __iter__(self):\n",
    "        return self\n",
    "    \n",
    "    def __next__(self):\n",
    "        if self.current >= len(self.stus):\n",
    "            self.current=0 #* 置为0\n",
    "            raise StopIteration\n",
    "        item=self.stus[self.current]\n",
    "        self.current+=1\n",
    "        return item\n",
    "\n",
    "\n",
    "# 创建管理系统对象\n",
    "stu_sys = StuSystem()\n",
    "\n",
    "# 添加3个学生信息到系统中\n",
    "stu_sys.add()\n",
    "stu_sys.add()\n",
    "stu_sys.add()\n",
    "\n",
    "# 问题1：怎样才能实现用for循环遍历系统中所有的学生信息呢？下面的方式能实现吗？\n",
    "for temp in stu_sys:\n",
    "    print(temp)\n",
    "\n",
    "# 问题2：如果需要一个列表，这个列表 样子例如 [(\"张三\", \"10086\"), (\"李四\", \"10010\")]\n",
    "# stu_list = [ ...列表推导式...]\n",
    "# 这个列表推导式该怎样写才能实现呢？\n",
    "stu_list =[ temp for temp in stu_sys ]\n",
    "print(stu_list)\n"
   ]
  }
 ],
 "metadata": {
  "kernelspec": {
   "display_name": "Python 3.9.12 ('base')",
   "language": "python",
   "name": "python3"
  },
  "language_info": {
   "codemirror_mode": {
    "name": "ipython",
    "version": 3
   },
   "file_extension": ".py",
   "mimetype": "text/x-python",
   "name": "python",
   "nbconvert_exporter": "python",
   "pygments_lexer": "ipython3",
   "version": "3.9.12"
  },
  "orig_nbformat": 4,
  "vscode": {
   "interpreter": {
    "hash": "af2924f10f5eb76fd65ccea448a69e80be7838e947e8a1ae982ab7073141c8a7"
   }
  }
 },
 "nbformat": 4,
 "nbformat_minor": 2
}
