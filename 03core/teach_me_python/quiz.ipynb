{
 "cells": [
  {
   "cell_type": "markdown",
   "metadata": {},
   "source": [
    "## 88_asserts_essentials.py \n",
    "What is the output of this assert?\n",
    "\n",
    "A) True\n",
    "B) False\n",
    "C) SyntaxWarning\n",
    "D) SyntaxError\n",
    "E) Languages are different"
   ]
  },
  {
   "cell_type": "code",
   "execution_count": 2,
   "metadata": {},
   "outputs": [
    {
     "name": "stderr",
     "output_type": "stream",
     "text": [
      "<>:3: SyntaxWarning: assertion is always true, perhaps remove parentheses?\n",
      "<>:3: SyntaxWarning: assertion is always true, perhaps remove parentheses?\n",
      "C:\\Users\\15515\\AppData\\Local\\Temp\\ipykernel_8368\\1821410824.py:3: SyntaxWarning: assertion is always true, perhaps remove parentheses?\n",
      "  assert (a == b, \"Languages are different\")\n"
     ]
    }
   ],
   "source": [
    "a = \"python\"\n",
    "b = \"javascript\"\n",
    "assert (a == b, \"Languages are different\") # ! 不带括号 parentheses"
   ]
  },
  {
   "cell_type": "code",
   "execution_count": 3,
   "metadata": {},
   "outputs": [
    {
     "ename": "AssertionError",
     "evalue": "Languages are different",
     "output_type": "error",
     "traceback": [
      "\u001b[1;31m---------------------------------------------------------------------------\u001b[0m",
      "\u001b[1;31mAssertionError\u001b[0m                            Traceback (most recent call last)",
      "Cell \u001b[1;32mIn[3], line 3\u001b[0m\n\u001b[0;32m      1\u001b[0m a \u001b[39m=\u001b[39m \u001b[39m\"\u001b[39m\u001b[39mpython\u001b[39m\u001b[39m\"\u001b[39m\n\u001b[0;32m      2\u001b[0m b \u001b[39m=\u001b[39m \u001b[39m\"\u001b[39m\u001b[39mjavascript\u001b[39m\u001b[39m\"\u001b[39m\n\u001b[1;32m----> 3\u001b[0m \u001b[39massert\u001b[39;00m a \u001b[39m==\u001b[39m b, \u001b[39m\"\u001b[39m\u001b[39mLanguages are different\u001b[39m\u001b[39m\"\u001b[39m\n",
      "\u001b[1;31mAssertionError\u001b[0m: Languages are different"
     ]
    }
   ],
   "source": [
    "a = \"python\"\n",
    "b = \"javascript\"\n",
    "assert a == b, \"Languages are different\""
   ]
  }
 ],
 "metadata": {
  "kernelspec": {
   "display_name": "study",
   "language": "python",
   "name": "python3"
  },
  "language_info": {
   "codemirror_mode": {
    "name": "ipython",
    "version": 3
   },
   "file_extension": ".py",
   "mimetype": "text/x-python",
   "name": "python",
   "nbconvert_exporter": "python",
   "pygments_lexer": "ipython3",
   "version": "3.9.15"
  },
  "orig_nbformat": 4
 },
 "nbformat": 4,
 "nbformat_minor": 2
}
