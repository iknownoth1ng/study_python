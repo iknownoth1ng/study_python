{
 "cells": [
  {
   "cell_type": "markdown",
   "metadata": {},
   "source": [
    "**Table of contents**<a id='toc0_'></a>    \n",
    "1. [闭包](#toc1_)    \n",
    "1.1. [目的](#toc1_1_)    \n",
    "1.2. [尝试解决上述问题](#toc1_2_)    \n",
    "1.2.1. [尝试1（最普通的方式）](#toc1_2_1_)    \n",
    "1.2.2. [尝试2（面向对象）](#toc1_2_2_)    \n",
    "1.2.3. [尝试3（闭包）](#toc1_2_3_)    \n",
    "1.3. [闭包](#toc1_3_)    \n",
    "1.3.1. [引用](#toc1_3_1_)    \n",
    "1.3.2. [什么是闭包](#toc1_3_2_)    \n",
    "1.4. [闭包案例](#toc1_4_)    \n",
    "1.4.1. [案例1（简单计算数值）](#toc1_4_1_)    \n",
    "1.4.2. [案例2（计算坐标）](#toc1_4_2_)    \n",
    "1.5. [注意点](#toc1_5_)    \n",
    "1.5.1. [使用闭包应注意的问题](#toc1_5_1_)    \n",
    "1.5.2. [ 修改外部函数中的变量](#toc1_5_2_)    \n",
    "1.5.3. [多个闭包](#toc1_5_3_)    \n",
    "1.6. [充分理解闭包](#toc1_6_)    \n",
    "1.6.1. [方式1](#toc1_6_1_)    \n",
    "1.6.2. [方式2](#toc1_6_2_)    \n",
    "1.6.3. [方式3](#toc1_6_3_)    \n",
    "1.6.4. [方式4](#toc1_6_4_)    \n",
    "1.6.5. [方式5](#toc1_6_5_)    \n",
    "1.6.6. [方式6](#toc1_6_6_)    \n",
    "1.6.7. [思考](#toc1_6_7_)    \n",
    "1.7. [闭包应用](#toc1_7_)    \n",
    "1.7.1. [应用1](#toc1_7_1_)    \n",
    "1.7.2. [应用2](#toc1_7_2_)    \n",
    "1.8. [ 总结](#toc1_8_)    \n",
    "\n",
    "<!-- vscode-jupyter-toc-config\n",
    "\tnumbering=true\n",
    "\tanchor=true\n",
    "\tflat=true\n",
    "\tminLevel=1\n",
    "\tmaxLevel=6\n",
    "\t/vscode-jupyter-toc-config -->\n",
    "<!-- THIS CELL WILL BE REPLACED ON TOC UPDATE. DO NOT WRITE YOUR TEXT IN THIS CELL -->"
   ]
  },
  {
   "cell_type": "markdown",
   "metadata": {},
   "source": [
    "# 1. <a id='toc1_'></a>[闭包](#toc0_)\n",
    "\n",
    "## 1.1. <a id='toc1_1_'></a>[目的](#toc0_)\n",
    "\n",
    "想想看怎样用程序实现下面的功能呢？\n",
    "\n",
    "1. 有2个人在说话，说话的顺序可能不同\n",
    "2. 每次说话的时候，都要标记是谁说的话\n",
    "\n",
    "今天我们要研究的知识点是 “闭包”，实现上述功能的方式可能有多种，但是闭包会更简单\n",
    "\n",
    "## 1.2. <a id='toc1_2_'></a>[尝试解决上述问题](#toc0_)\n",
    "\n",
    "### 1.2.1. <a id='toc1_2_1_'></a>[尝试1（最普通的方式）](#toc0_)"
   ]
  },
  {
   "cell_type": "code",
   "execution_count": 1,
   "metadata": {},
   "outputs": [
    {
     "name": "stdout",
     "output_type": "stream",
     "text": [
      "(张三):你努力了吗？\n",
      "(李四):为啥努力！\n",
      "(张三):你确定不要努力吗？\n",
      "(李四):嗯，确定？\n",
      "(张三):那可就不要要怪别人努力了啊\n",
      "(李四):别人与我何关!\n",
      "(张三):隔壁那户人家姓xxxx\n",
      "(李四):( ⊙ o ⊙ )啊！\n"
     ]
    }
   ],
   "source": [
    "def say(user_name, content):\n",
    "    print(f\"({user_name}):{content}\")\n",
    "\n",
    "\n",
    "user_name1 = \"张三\"\n",
    "user_name2 = \"李四\"\n",
    "\n",
    "say(user_name1, \"你努力了吗？\")\n",
    "say(user_name2, \"为啥努力！\")\n",
    "\n",
    "say(user_name1, \"你确定不要努力吗？\")\n",
    "say(user_name2, \"嗯，确定？\")\n",
    "\n",
    "say(user_name1, \"那可就不要要怪别人努力了啊\")\n",
    "say(user_name2, \"别人与我何关!\")\n",
    "\n",
    "say(user_name1, \"隔壁那户人家姓xxxx\")\n",
    "say(user_name2, \"( ⊙ o ⊙ )啊！\")"
   ]
  },
  {
   "cell_type": "markdown",
   "metadata": {},
   "source": [
    "小总结：\n",
    "> **上述代码，已经实现了要求，但是不觉得麻烦吗？每次都要将用户的名字传递到say函数中，肯定有办法来解决这个问题，那你觉得是什么呢？**\n",
    "\n",
    "### 1.2.2. <a id='toc1_2_2_'></a>[尝试2（面向对象）](#toc0_)"
   ]
  },
  {
   "cell_type": "code",
   "execution_count": 2,
   "metadata": {},
   "outputs": [
    {
     "name": "stdout",
     "output_type": "stream",
     "text": [
      "(张三):你努力了吗？\n",
      "(李四):为啥努力！\n",
      "(张三):你确定不要努力吗？\n",
      "(李四):嗯，确定？\n",
      "(张三):那可就不要要怪别人努力了啊\n",
      "(李四):别人与我何关!\n",
      "(张三):隔壁那户人家姓xxxx\n",
      "(李四):( ⊙ o ⊙ )啊！\n"
     ]
    }
   ],
   "source": [
    "class Person(object):\n",
    "    def __init__(self, name):\n",
    "        self.user_name = name\n",
    "\n",
    "    def say(self, content):\n",
    "        print(f\"({self.user_name}):{content}\")\n",
    "\n",
    "\n",
    "p1 = Person(\"张三\")\n",
    "p2 = Person(\"李四\")\n",
    "\n",
    "p1.say(\"你努力了吗？\")\n",
    "p2.say(\"为啥努力！\")\n",
    "p1.say(\"你确定不要努力吗？\")\n",
    "p2.say(\"嗯，确定？\")\n",
    "p1.say(\"那可就不要要怪别人努力了啊\")\n",
    "p2.say(\"别人与我何关!\")\n",
    "p1.say(\"隔壁那户人家姓xxxx\")\n",
    "p2.say(\"( ⊙ o ⊙ )啊！\")\n"
   ]
  },
  {
   "attachments": {},
   "cell_type": "markdown",
   "metadata": {},
   "source": [
    "小总结：\n",
    "> **通过面向对象的方式能够实现上述要求，但是发现使用了类以及对象，总体感觉还是较为复杂，再者说继承的object类中有很多默认的方法，既然这个程序不需要，显然会造成一定的浪费**\n",
    "> **是否有更简单的方式呢？**"
   ]
  },
  {
   "cell_type": "markdown",
   "metadata": {},
   "source": [
    "### 1.2.3. <a id='toc1_2_3_'></a>[尝试3（闭包）](#toc0_)"
   ]
  },
  {
   "cell_type": "code",
   "execution_count": 3,
   "metadata": {},
   "outputs": [
    {
     "name": "stdout",
     "output_type": "stream",
     "text": [
      "(张三):你努力了吗？\n",
      "(李四):为啥努力！\n",
      "(张三):你确定不要努力吗？\n",
      "(李四):嗯，确定？\n",
      "(张三):那可就不要要怪别人努力了啊\n",
      "(李四):别人与我何关!\n",
      "(张三):隔壁那户人家姓xxxx\n",
      "(李四):( ⊙ o ⊙ )啊！\n"
     ]
    }
   ],
   "source": [
    "def person(name):\n",
    "    def say(content):\n",
    "        print(f\"({name}):{content}\")\n",
    "\n",
    "    return say\n",
    "\n",
    "p1 = person(\"张三\")\n",
    "p2 = person(\"李四\")\n",
    "\n",
    "p1(\"你努力了吗？\")\n",
    "p2(\"为啥努力！\")\n",
    "p1(\"你确定不要努力吗？\")\n",
    "p2(\"嗯，确定？\")\n",
    "p1(\"那可就不要要怪别人努力了啊\")\n",
    "p2(\"别人与我何关!\")\n",
    "p1(\"隔壁那户人家姓xxxx\")\n",
    "p2(\"( ⊙ o ⊙ )啊！\")\n"
   ]
  },
  {
   "attachments": {},
   "cell_type": "markdown",
   "metadata": {},
   "source": [
    "稍加完善代码："
   ]
  },
  {
   "cell_type": "code",
   "execution_count": 4,
   "metadata": {},
   "outputs": [
    {
     "name": "stdout",
     "output_type": "stream",
     "text": [
      "(张三):你努力了吗？\n",
      "(李四):为啥努力！\n",
      "(张三):你确定不要努力吗？\n",
      "(李四):嗯，确定？\n",
      "(张三):那可就不要要怪别人努力了啊\n",
      "(李四):别人与我何关!\n",
      "(张三):隔壁那户人家姓xxxx\n",
      "(李四):( ⊙ o ⊙ )啊！\n"
     ]
    }
   ],
   "source": [
    "def who(name):\n",
    "    def do(content):\n",
    "        print(f\"({name}):{content}\")\n",
    "\n",
    "    return do\n",
    "\n",
    "\n",
    "zhangsan = who(\"张三\")\n",
    "lisi = who(\"李四\")\n",
    "\n",
    "zhangsan(\"你努力了吗？\")\n",
    "lisi(\"为啥努力！\")\n",
    "zhangsan(\"你确定不要努力吗？\")\n",
    "lisi(\"嗯，确定？\")\n",
    "zhangsan(\"那可就不要要怪别人努力了啊\")\n",
    "lisi(\"别人与我何关!\")\n",
    "zhangsan(\"隔壁那户人家姓xxxx\")\n",
    "lisi(\"( ⊙ o ⊙ )啊！\")"
   ]
  },
  {
   "cell_type": "markdown",
   "metadata": {},
   "source": [
    "估计第一次看到函数嵌套调用，你会很惊讶，不用着急，这就是我们今天的主角“闭包”\n",
    "\n",
    "## 1.3. <a id='toc1_3_'></a>[闭包](#toc0_)\n",
    "\n",
    "### 1.3.1. <a id='toc1_3_1_'></a>[引用](#toc0_)"
   ]
  },
  {
   "cell_type": "code",
   "execution_count": 5,
   "metadata": {},
   "outputs": [
    {
     "name": "stdout",
     "output_type": "stream",
     "text": [
      "--- in test func----\n",
      "2485435053392\n",
      "2485435053392\n",
      "--- in test func----\n"
     ]
    }
   ],
   "source": [
    "# 定义函数可以理解为：\n",
    "# 定义了一个全局变量，其变量名字是函数的名字，即test\n",
    "# 这个test变量指向了一个代码块，这个代码块是函数\n",
    "# 其实就是说test保存了一个代码块的地址，即引用\n",
    "def test():\n",
    "    print(\"--- in test func----\")\n",
    "\n",
    "test()  # 这是调用函数\n",
    "\n",
    "ret = test # 用另外一个变量 复制了 test这个引用，导致ret变量也指向那个 函数代码块\n",
    "\n",
    "# 下面输出的2个地址信息是相同的\n",
    "print(id(ret))\n",
    "print(id(test))\n",
    "\n",
    "# 通过引用调用函数\n",
    "ret()"
   ]
  },
  {
   "cell_type": "markdown",
   "metadata": {},
   "source": [
    "### 1.3.2. <a id='toc1_3_2_'></a>[什么是闭包](#toc0_)\n",
    "\n",
    "闭包(closure) 定义非常抽象，很难看懂\n",
    "\n",
    "下面尝试从概念上去理解一下闭包\n",
    "\n",
    ">**在一些语言中，在函数中可以（嵌套）定义另一个函数时，如果内部的函数引用了外部的函数的变量，则可能产生闭包。闭包可以用来在一个函数与一组“私有”变量之间创建关联关系。在给定函数被多次调用的过程中，这些私有变量能够保持其持久性。 —— 维基百科https://zh.wikipedia.org/wiki/闭包_(计算机科学)**\n",
    "\n",
    "\n",
    "用比较容易懂的人话说：就是当某个函数被当成对象返回时，夹带了外部变量，就形成了一个闭包\n",
    "\n",
    "可以这样理解，闭包就是能够读取其他函数内部变量的函数\n",
    "\n",
    "看如下案例，便于理解什么是闭包"
   ]
  },
  {
   "cell_type": "code",
   "execution_count": 6,
   "metadata": {},
   "outputs": [
    {
     "name": "stdout",
     "output_type": "stream",
     "text": [
      "Good!\n"
     ]
    }
   ],
   "source": [
    "def make_printer(msg):  # 可以认为是 外部函数\n",
    "    def printer():  # 可以认为是 内部函数\n",
    "        print(msg)\n",
    "    return printer  # 返回的内部函数的引用\n",
    "\n",
    "printer = make_printer('Good!')\n",
    "printer()\n"
   ]
  },
  {
   "cell_type": "markdown",
   "metadata": {},
   "source": [
    "## 1.4. <a id='toc1_4_'></a>[闭包案例](#toc0_)\n",
    "### 1.4.1. <a id='toc1_4_1_'></a>[案例1（简单计算数值）](#toc0_)"
   ]
  },
  {
   "cell_type": "code",
   "execution_count": 7,
   "metadata": {},
   "outputs": [
    {
     "name": "stdout",
     "output_type": "stream",
     "text": [
      "in test_in 函数, number_in is 100\n",
      "120\n",
      "in test_in 函数, number_in is 200\n",
      "220\n"
     ]
    }
   ],
   "source": [
    "def test(number):\n",
    "    def test_in(number_in):\n",
    "        print(\"in test_in 函数, number_in is %d\" % number_in)\n",
    "        return number+number_in\n",
    "    return test_in\n",
    "\n",
    "\n",
    "# 给test函数赋值，这个20就是给参数number\n",
    "ret = test(20)\n",
    "\n",
    "# 注意这里的100其实给参数number_in\n",
    "print(ret(100))\n",
    "\n",
    "# 注意这里的200其实给参数number_in\n",
    "print(ret(200))\n"
   ]
  },
  {
   "cell_type": "markdown",
   "metadata": {},
   "source": [
    "### 1.4.2. <a id='toc1_4_2_'></a>[案例2（计算坐标）](#toc0_)"
   ]
  },
  {
   "cell_type": "code",
   "execution_count": 8,
   "metadata": {},
   "outputs": [
    {
     "name": "stdout",
     "output_type": "stream",
     "text": [
      "6\n",
      "25\n"
     ]
    }
   ],
   "source": [
    "def line_conf(a, b):\n",
    "    def line(x):\n",
    "        return a*x + b\n",
    "    return line\n",
    "\n",
    "line1 = line_conf(1, 1)\n",
    "line2 = line_conf(4, 5)\n",
    "print(line1(5))\n",
    "print(line2(5))\n"
   ]
  },
  {
   "cell_type": "markdown",
   "metadata": {},
   "source": [
    "这个例子中，函数line与变量a,b构成闭包。\n",
    "\n",
    "在创建闭包的时候，我们通过line_conf的参数a,b设置了这两个变量的取值，这样就确定了函数的最终形式(y = x + 1和y = 4x + 5)。\n",
    "\n",
    "如果需要修改这条线的信息，只需要变换参数a,b，就可以获得不同的直线表达函数。\n",
    "\n",
    "由此，我们可以看到，闭包也具有提高代码可复用性的作用\n",
    "\n",
    "如果没有闭包，我们需要每次创建直线函数的时候同时说明a,b,x。这样，我们就需要更多的参数传递，也减少了代码的可移植性\n",
    "\n",
    "## 1.5. <a id='toc1_5_'></a>[注意点](#toc0_)\n",
    "\n",
    "### 1.5.1. <a id='toc1_5_1_'></a>[使用闭包应注意的问题](#toc0_)\n",
    "由于闭包会携带包含它的函数的作用域，因此会比其他函数占用更多的内存。因此可以手动解除对匿名函数的引用，以便释放内存。\n",
    "\n",
    "### 1.5.2. <a id='toc1_5_2_'></a>[ 修改外部函数中的变量](#toc0_)"
   ]
  },
  {
   "cell_type": "code",
   "execution_count": 9,
   "metadata": {},
   "outputs": [
    {
     "name": "stdout",
     "output_type": "stream",
     "text": [
      "6\n",
      "7\n",
      "51\n",
      "52\n",
      "8\n",
      "9\n",
      "53\n",
      "54\n"
     ]
    }
   ],
   "source": [
    "def counter(start=0):\n",
    "    def add_one():\n",
    "        nonlocal start\n",
    "        start += 1\n",
    "        return start\n",
    "    return add_one\n",
    "\n",
    "c1 = counter(5)  # 创建一个闭包\n",
    "print(c1())\n",
    "print(c1())\n",
    "\n",
    "c2 = counter(50)  # 创建另外一个闭包\n",
    "print(c2())\n",
    "print(c2())\n",
    "\n",
    "print(c1())\n",
    "print(c1())\n",
    "\n",
    "print(c2())\n",
    "print(c2())"
   ]
  },
  {
   "cell_type": "markdown",
   "metadata": {},
   "source": [
    "### 1.5.3. <a id='toc1_5_3_'></a>[多个闭包](#toc0_)\n",
    "\n",
    "如上面的代码中，调用了2次counter，也就意味着创建了2个闭包，并且每个闭包之间没有任何关系。\n",
    "\n",
    "大家是否有种感觉，好像闭包与对象有些类似。确实是这样的，对象其实可通俗的理解为数据(属性)+功能(方法)，而闭包也可以理解为数据+功能，只不过此时数据是外部函数中的那些局部变量或者形参，而功能则是内部函数。对象适合完成较为复杂的功能，而闭包则更轻量\n",
    "\n",
    "## 1.6. <a id='toc1_6_'></a>[充分理解闭包](#toc0_)\n",
    "\n",
    "问题：初中里学过函数，例如 y=kx+b\n",
    "\n",
    "以y=kx+b为例，请计算一条线上的多个点 即 给x值 计算出y值\n",
    "\n",
    "### 1.6.1. <a id='toc1_6_1_'></a>[方式1](#toc0_)"
   ]
  },
  {
   "cell_type": "code",
   "execution_count": null,
   "metadata": {},
   "outputs": [],
   "source": [
    "# 第1种\n",
    "k = 1\n",
    "b = 2\n",
    "y = k*x+b"
   ]
  },
  {
   "cell_type": "markdown",
   "metadata": {},
   "source": [
    "缺点：如果需要多次计算，那么就的写多次y = k*x+b这样的式子\n",
    "\n",
    "### 1.6.2. <a id='toc1_6_2_'></a>[方式2](#toc0_)"
   ]
  },
  {
   "cell_type": "code",
   "execution_count": null,
   "metadata": {},
   "outputs": [],
   "source": [
    "# 第2种\n",
    "def line_2(k, b, x):\n",
    "    print(k*x+b)\n",
    "\n",
    "line_2(1, 2, 0)\n",
    "line_2(1, 2, 1)\n",
    "line_2(1, 2, 2)"
   ]
  },
  {
   "cell_type": "markdown",
   "metadata": {},
   "source": [
    "缺点：如果想要计算多次这条线上的y值，那么每次都需要传递k，b的值，麻烦\n",
    "\n",
    "### 1.6.3. <a id='toc1_6_3_'></a>[方式3](#toc0_)"
   ]
  },
  {
   "cell_type": "code",
   "execution_count": null,
   "metadata": {},
   "outputs": [],
   "source": [
    "# 第3种: 全局变量\n",
    "k = 1\n",
    "b = 2\n",
    "def line_3(x):\n",
    "    print(k*x+b)\n",
    "\n",
    "line_3(0)\n",
    "line_3(1)\n",
    "line_3(2)\n",
    "k = 11\n",
    "b = 22\n",
    "line_3(0)\n",
    "line_3(1)\n",
    "line_3(2)"
   ]
  },
  {
   "cell_type": "markdown",
   "metadata": {},
   "source": [
    "缺点：如果要计算多条线上的y值，那么需要每次对全局变量进行修改，代码会增多，麻烦\n",
    "\n",
    "### 1.6.4. <a id='toc1_6_4_'></a>[方式4](#toc0_)"
   ]
  },
  {
   "cell_type": "code",
   "execution_count": null,
   "metadata": {},
   "outputs": [],
   "source": [
    "# 第4种：缺省参数\n",
    "def line_4(x, k=1, b=2):\n",
    "    print(k*x+b)\n",
    "\n",
    "line_4(0)\n",
    "line_4(1)\n",
    "line_4(2)\n",
    "\n",
    "line_4(0, k=11, b=22)\n",
    "line_4(1, k=11, b=22)\n",
    "line_4(2, k=11, b=22)"
   ]
  },
  {
   "cell_type": "markdown",
   "metadata": {},
   "source": [
    "优点：比全局变量的方式好在：k, b是函数line_4的一部分 而不是全局变量，因为全局变量可以任意的被其他函数所修改\n",
    "\n",
    "缺点：如果要计算多条线上的y值，那么需要在调用的时候进行传递参数，麻烦\n",
    "\n",
    "### 1.6.5. <a id='toc1_6_5_'></a>[方式5](#toc0_)"
   ]
  },
  {
   "cell_type": "code",
   "execution_count": null,
   "metadata": {},
   "outputs": [],
   "source": [
    "# 第5种：实例对象\n",
    "class Line5(object):\n",
    "    def __init__(self, k, b):\n",
    "        self.k = k\n",
    "        self.b = b\n",
    "\n",
    "    def __call__(self, x):\n",
    "        print(self.k * x + self.b)\n",
    "\n",
    "\n",
    "line_5_1 = Line5(1, 2)\n",
    "# 对象.方法()\n",
    "# 对象()\n",
    "line_5_1(0)\n",
    "line_5_1(1)\n",
    "line_5_1(2)\n",
    "line_5_2 = Line5(11, 22)\n",
    "line_5_2(0)\n",
    "line_5_2(1)\n",
    "line_5_2(2)\n"
   ]
  },
  {
   "cell_type": "markdown",
   "metadata": {},
   "source": [
    "缺点：为了计算多条线上的y值，所以需要保存多个k, b的值，因此用了很多个实例对象， 浪费资源\n",
    "\n",
    "### 1.6.6. <a id='toc1_6_6_'></a>[方式6](#toc0_)"
   ]
  },
  {
   "cell_type": "code",
   "execution_count": null,
   "metadata": {},
   "outputs": [],
   "source": [
    "# 第6种：闭包\n",
    "\n",
    "def line_6(k, b):\n",
    "    def create_y(x):\n",
    "        print(k*x+b)\n",
    "    return create_y\n",
    "\n",
    "\n",
    "line_6_1 = line_6(1, 2)\n",
    "line_6_1(0)\n",
    "line_6_1(1)\n",
    "line_6_1(2)\n",
    "line_6_2 = line_6(11, 22)\n",
    "line_6_2(0)\n",
    "line_6_2(1)\n",
    "line_6_2(2)\n"
   ]
  },
  {
   "cell_type": "markdown",
   "metadata": {},
   "source": [
    "### 1.6.7. <a id='toc1_6_7_'></a>[思考](#toc0_)\n",
    "函数、匿名函数、闭包、对象 当做实参时 有什么区别？\n",
    "\n",
    "1. 匿名函数能够完成基本的简单功能，，，传递是这个函数的引用 只有功能\n",
    "\n",
    "2. 普通函数能够完成较为复杂的功能，，，传递是这个函数的引用 只有功能\n",
    "\n",
    "3. 闭包能够将较为复杂的功能，，，传递是这个闭包中的函数以及数据，因此传递是功能+数据\n",
    "\n",
    "4. 对象能够完成最为复杂的功能，，，传递是很多数据+很多功能，因此传递是功能+数据\n",
    "\n",
    "## 1.7. <a id='toc1_7_'></a>[闭包应用](#toc0_)\n",
    "\n",
    "### 1.7.1. <a id='toc1_7_1_'></a>[应用1](#toc0_)\n",
    "\n",
    "下面应用案例是理解闭包的经典题目，模拟了一个人站在原点，然后向X、Y轴进行移动，每次移动后及时打印当前的位置"
   ]
  },
  {
   "cell_type": "code",
   "execution_count": 10,
   "metadata": {},
   "outputs": [
    {
     "name": "stdout",
     "output_type": "stream",
     "text": [
      "[10, 0]\n",
      "[10, 20]\n",
      "[0, 20]\n"
     ]
    }
   ],
   "source": [
    "def create():\n",
    "    pos = [0, 0]  # 坐标系统原点\n",
    "    def player(direction, step):\n",
    "        # 这里应该首先判断参数direction,step的合法性，比如direction不能斜着走，step不能为负等\n",
    "        # 然后还要对新生成的x，y坐标的合法性进行判断处理，这里主要是想介绍闭包，就不详细写了\n",
    "        new_x = pos[0] + direction[0] * step\n",
    "        new_y = pos[1] + direction[1] * step\n",
    "        pos[0] = new_x\n",
    "        pos[1] = new_y\n",
    "        return pos\n",
    "\n",
    "    return player\n",
    "\n",
    "\n",
    "player = create()  # 创建棋子player，起点为原点\n",
    "print(player([1, 0], 10))  # 向x轴正方向移动10步\n",
    "print(player([0, 1], 20))  # 向y轴正方向移动20步\n",
    "print(player([-1, 0], 10))  # 向x轴负方向移动10步"
   ]
  },
  {
   "cell_type": "markdown",
   "metadata": {},
   "source": [
    "### 1.7.2. <a id='toc1_7_2_'></a>[应用2](#toc0_)\n",
    "\n",
    "有时我们需要对某些文件的特殊行进行分析，先要提取出这些特殊行\n",
    "\n",
    "例如，需要取得文件\"result.txt\"中含有\"163.com\"关键字的行，看如下代码"
   ]
  },
  {
   "cell_type": "code",
   "execution_count": null,
   "metadata": {},
   "outputs": [],
   "source": [
    "def make_filter(keep):  \n",
    "    def the_filter(file_name):  \n",
    "        with open(file_name) as file:\n",
    "            lines = file.readlines()\n",
    "        filter_doc = [i for i in lines if keep in i]\n",
    "        return filter_doc\n",
    "\n",
    "    return the_filter  \n",
    "\n",
    "# sourcery skip: avoid-builtin-shadow\n",
    "filter = make_filter(\"163.com\")  \n",
    "filter_result = filter(\"result.txt\")\n"
   ]
  },
  {
   "cell_type": "markdown",
   "metadata": {},
   "source": [
    "## 1.8. <a id='toc1_8_'></a>[ 总结](#toc0_)\n",
    "1. 闭包定义是在函数内再嵌套函数\n",
    "2. 闭包是可以访问另一个函数局部作用域中变量的函数\n",
    "3. 闭包可以读取另外一个函数内部的变量\n",
    "4. 闭包可以让参数和变量不会被垃圾回收机制回收，始终保持在内存中（而普通的函数调用结束后 会被Python解释器自动释放局部变量）"
   ]
  }
 ],
 "metadata": {
  "kernelspec": {
   "display_name": "Python 3.9.15 ('study')",
   "language": "python",
   "name": "python3"
  },
  "language_info": {
   "codemirror_mode": {
    "name": "ipython",
    "version": 3
   },
   "file_extension": ".py",
   "mimetype": "text/x-python",
   "name": "python",
   "nbconvert_exporter": "python",
   "pygments_lexer": "ipython3",
   "version": "3.9.15"
  },
  "orig_nbformat": 4,
  "vscode": {
   "interpreter": {
    "hash": "49fdd20b2b68a4dd8ebcbb061b9c04f8e52f6472af90d6159269a7c8abf5d944"
   }
  }
 },
 "nbformat": 4,
 "nbformat_minor": 2
}
