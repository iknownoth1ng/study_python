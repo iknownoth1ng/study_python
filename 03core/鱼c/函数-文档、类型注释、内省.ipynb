{
 "cells": [
  {
   "cell_type": "markdown",
   "metadata": {},
   "source": [
    "**Table of contents**<a id='toc0_'></a>    \n",
    "1. [函数文档](#toc1_)    \n",
    "2. [类型注释](#toc2_)    \n",
    "2.1. [使用Mypy模块来对静态类型检查。](#toc2_1_)    \n",
    "3. [内省](#toc3_)    \n",
    "\n",
    "<!-- vscode-jupyter-toc-config\n",
    "\tnumbering=true\n",
    "\tanchor=true\n",
    "\tflat=true\n",
    "\tminLevel=1\n",
    "\tmaxLevel=6\n",
    "\t/vscode-jupyter-toc-config -->\n",
    "<!-- THIS CELL WILL BE REPLACED ON TOC UPDATE. DO NOT WRITE YOUR TEXT IN THIS CELL -->"
   ]
  },
  {
   "cell_type": "markdown",
   "metadata": {},
   "source": [
    "# 1. <a id='toc1_'></a>[函数文档](#toc0_)\n"
   ]
  },
  {
   "cell_type": "code",
   "execution_count": 1,
   "metadata": {},
   "outputs": [
    {
     "name": "stdout",
     "output_type": "stream",
     "text": [
      "Help on built-in function print in module builtins:\n",
      "\n",
      "print(...)\n",
      "    print(value, ..., sep=' ', end='\\n', file=sys.stdout, flush=False)\n",
      "    \n",
      "    Prints the values to a stream, or to sys.stdout by default.\n",
      "    Optional keyword arguments:\n",
      "    file:  a file-like object (stream); defaults to the current sys.stdout.\n",
      "    sep:   string inserted between values, default a space.\n",
      "    end:   string appended after the last value, default a newline.\n",
      "    flush: whether to forcibly flush the stream.\n",
      "\n"
     ]
    }
   ],
   "source": [
    "help(print)"
   ]
  },
  {
   "cell_type": "code",
   "execution_count": 3,
   "metadata": {},
   "outputs": [
    {
     "name": "stdout",
     "output_type": "stream",
     "text": [
      "126.4\n",
      "Help on function exchange in module __main__:\n",
      "\n",
      "exchange(dollar, rate=6.32)\n",
      "    _summary_\n",
      "    汇率转换：美元->人民币\n",
      "    \n",
      "    Parameters\n",
      "    ----------\n",
      "    dollar : _type_\n",
      "        _description_ 美元数量\n",
      "    rate : float, optional\n",
      "        _description_, by default 6.32 汇率\n",
      "    \n",
      "    Returns\n",
      "    -------\n",
      "    _type_\n",
      "        _description_ 人民币\n",
      "\n"
     ]
    }
   ],
   "source": [
    "def exchange(dollar, rate=6.32):\n",
    "    \"\"\"_summary_\n",
    "    汇率转换：美元->人民币\n",
    "\n",
    "    Parameters\n",
    "    ----------\n",
    "    dollar : _type_\n",
    "        _description_ 美元数量\n",
    "    rate : float, optional\n",
    "        _description_, by default 6.32 汇率\n",
    "\n",
    "    Returns\n",
    "    -------\n",
    "    _type_\n",
    "        _description_ 人民币\n",
    "    \"\"\"\n",
    "    return dollar * rate\n",
    "\n",
    "\n",
    "print(exchange(20))\n",
    "help(exchange)"
   ]
  },
  {
   "cell_type": "markdown",
   "metadata": {},
   "source": [
    "# 2. <a id='toc2_'></a>[类型注释](#toc0_)\n"
   ]
  },
  {
   "cell_type": "code",
   "execution_count": 6,
   "metadata": {},
   "outputs": [
    {
     "data": {
      "text/plain": [
       "'FishCFishCFishCFishCFishC'"
      ]
     },
     "execution_count": 6,
     "metadata": {},
     "output_type": "execute_result"
    }
   ],
   "source": [
    "def times(s: str, n: int) -> str:\n",
    "    return s * n\n",
    "\n",
    "\n",
    "times(\"FishC\", 5)"
   ]
  },
  {
   "cell_type": "code",
   "execution_count": 7,
   "metadata": {},
   "outputs": [
    {
     "data": {
      "text/plain": [
       "25"
      ]
     },
     "execution_count": 7,
     "metadata": {},
     "output_type": "execute_result"
    }
   ],
   "source": [
    "times(5, 5) #* 给人看的，只是静态会检查，运行不会报错"
   ]
  },
  {
   "cell_type": "code",
   "execution_count": 8,
   "metadata": {},
   "outputs": [
    {
     "data": {
      "text/plain": [
       "'FishCFishCFishC'"
      ]
     },
     "execution_count": 8,
     "metadata": {},
     "output_type": "execute_result"
    }
   ],
   "source": [
    "def times(s: str = \"FishC\", n: int = 3) -> str:\n",
    "    return s * n\n",
    "\n",
    "times()"
   ]
  },
  {
   "cell_type": "code",
   "execution_count": 9,
   "metadata": {},
   "outputs": [
    {
     "data": {
      "text/plain": [
       "[1, 2, 3, 1, 2, 3, 1, 2, 3]"
      ]
     },
     "execution_count": 9,
     "metadata": {},
     "output_type": "execute_result"
    }
   ],
   "source": [
    "def times(s: list, n: int = 3) -> list:\n",
    "    return s * n\n",
    "\n",
    "\n",
    "times([1, 2, 3])"
   ]
  },
  {
   "cell_type": "code",
   "execution_count": 10,
   "metadata": {},
   "outputs": [
    {
     "data": {
      "text/plain": [
       "[1, 2, 3, 1, 2, 3, 1, 2, 3]"
      ]
     },
     "execution_count": 10,
     "metadata": {},
     "output_type": "execute_result"
    }
   ],
   "source": [
    "def times(s: list[int], n: int = 3) -> list:\n",
    "    return s * n\n",
    "\n",
    "\n",
    "times([1, 2, 3])"
   ]
  },
  {
   "cell_type": "code",
   "execution_count": 11,
   "metadata": {},
   "outputs": [
    {
     "data": {
      "text/plain": [
       "['a', 'b', 'c', 'a', 'b', 'c', 'a', 'b', 'c']"
      ]
     },
     "execution_count": 11,
     "metadata": {},
     "output_type": "execute_result"
    }
   ],
   "source": [
    "def times(s: dict[str, int], n: int = 3) -> list:\n",
    "    return list(s) * n\n",
    "\n",
    "\n",
    "times(\n",
    "    {\n",
    "        \"a\": 1,\n",
    "        \"b\": 2,\n",
    "        \"c\": 3,\n",
    "    }\n",
    ")"
   ]
  },
  {
   "cell_type": "markdown",
   "metadata": {},
   "source": [
    "## 2.1. <a id='toc2_1_'></a>[使用Mypy模块来对静态类型检查。](#toc0_)\n",
    "pip install mypy\n",
    "\n",
    "Mypy 是 Python 中的静态类型检查器。Mypy 具有强大且易于使用的类型系统，具有很多优秀的特性，例如类型推断、泛型、可调用类型、元组类型、联合类型和结构子类型。\n",
    "(vscode里的pylance也自带检查)\n",
    "\n",
    "执行方式\n",
    "mypy xxx.py"
   ]
  },
  {
   "cell_type": "code",
   "execution_count": 1,
   "metadata": {},
   "outputs": [
    {
     "name": "stdout",
     "output_type": "stream",
     "text": [
      "Writing ./03core/鱼c/test_mypy.py\n"
     ]
    }
   ],
   "source": [
    "%%writefile ./03core/鱼c/test_mypy.py\n",
    "def greeting(name: str) -> str: #这里提示有问题\n",
    "    print (f'Hello { name }')\n",
    "\n",
    "x: str = 'xxx' \n",
    "y: int = \"yyy\" #这里应该提示有问题\n",
    "greeting(x) \n",
    "greeting(y) #这里应该提示有问题"
   ]
  },
  {
   "cell_type": "markdown",
   "metadata": {},
   "source": [
    "# 3. <a id='toc3_'></a>[内省](#toc0_)\n",
    "\n",
    "在编程中，内省是在运行时确定对象类型的能力，这是 Python 的强项之一， Python 中的任何东西都是对象，Python 附带一些内置函数和模块来帮助我们检查这些对象"
   ]
  },
  {
   "cell_type": "code",
   "execution_count": 1,
   "metadata": {},
   "outputs": [
    {
     "data": {
      "text/plain": [
       "['__annotations__',\n",
       " '__call__',\n",
       " '__class__',\n",
       " '__closure__',\n",
       " '__code__',\n",
       " '__defaults__',\n",
       " '__delattr__',\n",
       " '__dict__',\n",
       " '__dir__',\n",
       " '__doc__',\n",
       " '__eq__',\n",
       " '__format__',\n",
       " '__ge__',\n",
       " '__get__',\n",
       " '__getattribute__',\n",
       " '__globals__',\n",
       " '__gt__',\n",
       " '__hash__',\n",
       " '__init__',\n",
       " '__init_subclass__',\n",
       " '__kwdefaults__',\n",
       " '__le__',\n",
       " '__lt__',\n",
       " '__module__',\n",
       " '__name__',\n",
       " '__ne__',\n",
       " '__new__',\n",
       " '__qualname__',\n",
       " '__reduce__',\n",
       " '__reduce_ex__',\n",
       " '__repr__',\n",
       " '__setattr__',\n",
       " '__sizeof__',\n",
       " '__str__',\n",
       " '__subclasshook__']"
      ]
     },
     "execution_count": 1,
     "metadata": {},
     "output_type": "execute_result"
    }
   ],
   "source": [
    "def exchange(dollar, rate=6.32):\n",
    "    \"\"\"_summary_\n",
    "    汇率转换：美元->人民币\n",
    "\n",
    "    Parameters\n",
    "    ----------\n",
    "    dollar : _type_\n",
    "        _description_ 美元数量\n",
    "    rate : float, optional\n",
    "        _description_, by default 6.32 汇率\n",
    "\n",
    "    Returns\n",
    "    -------\n",
    "    _type_\n",
    "        _description_ 人民币\n",
    "    \"\"\"\n",
    "    return dollar * rate\n",
    "\n",
    "\n",
    "# * dir 它返回一个对象的属性和方法列表。\n",
    "dir(exchange)\n"
   ]
  },
  {
   "cell_type": "code",
   "execution_count": 2,
   "metadata": {},
   "outputs": [
    {
     "name": "stdout",
     "output_type": "stream",
     "text": [
      "<class 'function'>\n",
      "2411478306096\n"
     ]
    }
   ],
   "source": [
    "# * type  函数返回一个对象的类型。\n",
    "print(type(exchange))\n",
    "\n",
    "# * id  函数返回各种对象的唯一 id\n",
    "print(id(exchange))\n"
   ]
  },
  {
   "cell_type": "code",
   "execution_count": 3,
   "metadata": {},
   "outputs": [
    {
     "name": "stdout",
     "output_type": "stream",
     "text": [
      "[('__class__', <class 'type'>), ('__delattr__', <slot wrapper '__delattr__' of 'object' objects>), ('__dict__', mappingproxy({'__module__': '__main__', '__init__': <function Person.__init__ at 0x00000231776E71F0>, 'get_name': <function Person.get_name at 0x00000231776E7160>, 'set_name': <function Person.set_name at 0x00000231776E7430>, '__dict__': <attribute '__dict__' of 'Person' objects>, '__weakref__': <attribute '__weakref__' of 'Person' objects>, '__doc__': None})), ('__dir__', <method '__dir__' of 'object' objects>), ('__doc__', None), ('__eq__', <slot wrapper '__eq__' of 'object' objects>), ('__format__', <method '__format__' of 'object' objects>), ('__ge__', <slot wrapper '__ge__' of 'object' objects>), ('__getattribute__', <slot wrapper '__getattribute__' of 'object' objects>), ('__gt__', <slot wrapper '__gt__' of 'object' objects>), ('__hash__', <slot wrapper '__hash__' of 'object' objects>), ('__init__', <function Person.__init__ at 0x00000231776E71F0>), ('__init_subclass__', <built-in method __init_subclass__ of type object at 0x00000231768369C0>), ('__le__', <slot wrapper '__le__' of 'object' objects>), ('__lt__', <slot wrapper '__lt__' of 'object' objects>), ('__module__', '__main__'), ('__ne__', <slot wrapper '__ne__' of 'object' objects>), ('__new__', <built-in method __new__ of type object at 0x00007FFDFB87CE00>), ('__reduce__', <method '__reduce__' of 'object' objects>), ('__reduce_ex__', <method '__reduce_ex__' of 'object' objects>), ('__repr__', <slot wrapper '__repr__' of 'object' objects>), ('__setattr__', <slot wrapper '__setattr__' of 'object' objects>), ('__sizeof__', <method '__sizeof__' of 'object' objects>), ('__str__', <slot wrapper '__str__' of 'object' objects>), ('__subclasshook__', <built-in method __subclasshook__ of type object at 0x00000231768369C0>), ('__weakref__', <attribute '__weakref__' of 'Person' objects>), ('get_name', <function Person.get_name at 0x00000231776E7160>), ('set_name', <function Person.set_name at 0x00000231776E7430>)]\n",
      "[('__class__', <class '__main__.Person'>), ('__delattr__', <method-wrapper '__delattr__' of Person object at 0x0000023177575280>), ('__dict__', {'name': 'sunwukong', 'age': 18}), ('__dir__', <built-in method __dir__ of Person object at 0x0000023177575280>), ('__doc__', None), ('__eq__', <method-wrapper '__eq__' of Person object at 0x0000023177575280>), ('__format__', <built-in method __format__ of Person object at 0x0000023177575280>), ('__ge__', <method-wrapper '__ge__' of Person object at 0x0000023177575280>), ('__getattribute__', <method-wrapper '__getattribute__' of Person object at 0x0000023177575280>), ('__gt__', <method-wrapper '__gt__' of Person object at 0x0000023177575280>), ('__hash__', <method-wrapper '__hash__' of Person object at 0x0000023177575280>), ('__init__', <bound method Person.__init__ of <__main__.Person object at 0x0000023177575280>>), ('__init_subclass__', <built-in method __init_subclass__ of type object at 0x00000231768369C0>), ('__le__', <method-wrapper '__le__' of Person object at 0x0000023177575280>), ('__lt__', <method-wrapper '__lt__' of Person object at 0x0000023177575280>), ('__module__', '__main__'), ('__ne__', <method-wrapper '__ne__' of Person object at 0x0000023177575280>), ('__new__', <built-in method __new__ of type object at 0x00007FFDFB87CE00>), ('__reduce__', <built-in method __reduce__ of Person object at 0x0000023177575280>), ('__reduce_ex__', <built-in method __reduce_ex__ of Person object at 0x0000023177575280>), ('__repr__', <method-wrapper '__repr__' of Person object at 0x0000023177575280>), ('__setattr__', <method-wrapper '__setattr__' of Person object at 0x0000023177575280>), ('__sizeof__', <built-in method __sizeof__ of Person object at 0x0000023177575280>), ('__str__', <method-wrapper '__str__' of Person object at 0x0000023177575280>), ('__subclasshook__', <built-in method __subclasshook__ of type object at 0x00000231768369C0>), ('__weakref__', None), ('age', 18), ('get_name', <bound method Person.get_name of <__main__.Person object at 0x0000023177575280>>), ('name', 'sunwukong'), ('set_name', <bound method Person.set_name of <__main__.Person object at 0x0000023177575280>>)]\n",
      "[('__module__', '__main__'), ('name', 'sunwukong')]\n"
     ]
    }
   ],
   "source": [
    "\"\"\"\n",
    "inspect是用来获取对象的信息，这个对象可以为\n",
    "模块(往往是一个py文件)\n",
    "类\n",
    "方法\n",
    "函数\n",
    "报错追踪\n",
    "帧对象\n",
    "代码对象\n",
    "它能用来帮助你检验类的内容，检索一个方法的源代码，提取并格式化函数的参数列表等等\"\"\"\n",
    "\n",
    "#* inspect.getmembers(object[,predicate])\n",
    "#   - 函数返回一个列表，列表中包含是个key，value的元祖\n",
    "#   - key是对象拥有的属性,value是具体的函数\n",
    "\n",
    "import inspect\n",
    "class Person:\n",
    "    \n",
    "    def __init__(self, name, age):\n",
    "        self.name = name\n",
    "        self.age = age\n",
    "    \n",
    "    def get_name(self):\n",
    "        return self.name\n",
    "    \n",
    "    def set_name(self, name):\n",
    "        self.name = name\n",
    "    \n",
    "print(inspect.getmembers(Person))\n",
    "\n",
    "person = Person(\"sunwukong\",18)\n",
    "print(inspect.getmembers(person))\n",
    "\n",
    "#* predicate 这个需要是一个函数，用来过滤符合条件成员\n",
    "\n",
    "print(inspect.getmembers(person, lambda _i: isinstance(_i, str)))"
   ]
  },
  {
   "cell_type": "code",
   "execution_count": 6,
   "metadata": {},
   "outputs": [
    {
     "name": "stdout",
     "output_type": "stream",
     "text": [
      "False\n",
      "True\n"
     ]
    }
   ],
   "source": [
    "# inspect.ismodule(object):检测object是否为模块\n",
    "# inspect.isclass(object)检测object是不是一个类\n",
    "# inspect.ismethod(object)：检测object是不是一个方法\n",
    "\n",
    "print(inspect.ismethod(exchange))\n",
    "print(inspect.isfunction(exchange))"
   ]
  }
 ],
 "metadata": {
  "kernelspec": {
   "display_name": "study",
   "language": "python",
   "name": "python3"
  },
  "language_info": {
   "codemirror_mode": {
    "name": "ipython",
    "version": 3
   },
   "file_extension": ".py",
   "mimetype": "text/x-python",
   "name": "python",
   "nbconvert_exporter": "python",
   "pygments_lexer": "ipython3",
   "version": "3.9.15"
  },
  "orig_nbformat": 4
 },
 "nbformat": 4,
 "nbformat_minor": 2
}
