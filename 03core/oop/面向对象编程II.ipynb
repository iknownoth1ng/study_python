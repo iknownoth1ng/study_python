{
 "cells": [
  {
   "cell_type": "markdown",
   "metadata": {},
   "source": [
    "**Table of contents**<a id='toc0_'></a>    \n",
    "1. [私有属性与函数](#toc1_)    \n",
    "1.1. [私有属性与函数的用途](#toc1_1_)    \n",
    "1.2. [如何定义私有属性与函数](#toc1_2_)    \n",
    "1.3. [如何访问私有属性与函数](#toc1_3_)    \n",
    "2. [类方法和静态方法](#toc2_)    \n",
    "2.1. [类方法](#toc2_1_)    \n",
    "2.2. [静态方法](#toc2_2_)    \n",
    "3. [常用的特殊方法](#toc3_)    \n",
    "3.1. [\\_\\_str__](#toc3_1_)    \n",
    "3.2. [\\_\\_repr__](#toc3_2_)    \n",
    "3.3. [\\_\\_eq__](#toc3_3_)    \n",
    "3.4. [\\_\\_hash__](#toc3_4_)    \n",
    "3.5. [\\_\\_bool__](#toc3_5_)    \n",
    "3.6. [\\_\\_del__](#toc3_6_)    \n",
    "\n",
    "<!-- vscode-jupyter-toc-config\n",
    "\tnumbering=true\n",
    "\tanchor=true\n",
    "\tflat=true\n",
    "\tminLevel=1\n",
    "\tmaxLevel=6\n",
    "\t/vscode-jupyter-toc-config -->\n",
    "<!-- THIS CELL WILL BE REPLACED ON TOC UPDATE. DO NOT WRITE YOUR TEXT IN THIS CELL -->"
   ]
  },
  {
   "cell_type": "markdown",
   "metadata": {},
   "source": [
    "# 1. <a id='toc1_'></a>[私有属性与函数](#toc0_)\n",
    "---\n",
    "\n",
    "## 1.1. <a id='toc1_1_'></a>[私有属性与函数的用途](#toc0_)\n",
    "\n",
    "在面向对象的封装中，私有的属性与函数其根本目的是防止它们在类的外部被使用。\n",
    "\n",
    "在Python中并没有严格的权限限定符去进行限制\n",
    "\n",
    "主要通过命名来进行区分\n",
    "\n",
    "## 1.2. <a id='toc1_2_'></a>[如何定义私有属性与函数](#toc0_)\n",
    "\n",
    "通过给属性和函数名称添加_或__前缀</br>\n",
    "加一个下划线，对应java的protected</br>\n",
    "加两个下划线，对应java的private</br>"
   ]
  },
  {
   "cell_type": "code",
   "execution_count": 15,
   "metadata": {},
   "outputs": [],
   "source": [
    "class Student:\n",
    "    def __init__(self, name, gender):\n",
    "        self._name = name\n",
    "        self.__gender = gender\n",
    "\n",
    "    def __say_hello(self, msg: str):\n",
    "        print(f\"hello {msg}, {self._name}\")"
   ]
  },
  {
   "cell_type": "markdown",
   "metadata": {},
   "source": [
    "## 1.3. <a id='toc1_3_'></a>[如何访问私有属性与函数](#toc0_)\n",
    "\n",
    "私有属性和函数的定义目的是希望外部不要调用"
   ]
  },
  {
   "cell_type": "code",
   "execution_count": 16,
   "metadata": {},
   "outputs": [
    {
     "name": "stdout",
     "output_type": "stream",
     "text": [
      "Jack\n"
     ]
    }
   ],
   "source": [
    "s1 = Student(\"Jack\", \"Male\")\n",
    "print(s1._name)"
   ]
  },
  {
   "cell_type": "code",
   "execution_count": 17,
   "metadata": {},
   "outputs": [
    {
     "ename": "AttributeError",
     "evalue": "'Student' object has no attribute '__gender'",
     "output_type": "error",
     "traceback": [
      "\u001b[1;31m---------------------------------------------------------------------------\u001b[0m",
      "\u001b[1;31mAttributeError\u001b[0m                            Traceback (most recent call last)",
      "Cell \u001b[1;32mIn[17], line 1\u001b[0m\n\u001b[1;32m----> 1\u001b[0m \u001b[39mprint\u001b[39m(s1\u001b[39m.\u001b[39;49m__gender)\n",
      "\u001b[1;31mAttributeError\u001b[0m: 'Student' object has no attribute '__gender'"
     ]
    }
   ],
   "source": [
    "print(s1.__gender)"
   ]
  },
  {
   "attachments": {},
   "cell_type": "markdown",
   "metadata": {},
   "source": [
    "通过**实例._classname__attribute** 或者 **实例._classname__method** 访问私有属性或方法"
   ]
  },
  {
   "cell_type": "code",
   "execution_count": 18,
   "metadata": {},
   "outputs": [
    {
     "name": "stdout",
     "output_type": "stream",
     "text": [
      "Male\n",
      "hello hello, Jack\n"
     ]
    }
   ],
   "source": [
    "# type: ignore\n",
    "print(s1._Student__gender)\n",
    "\n",
    "s1._Student__say_hello(\"hello\")"
   ]
  },
  {
   "cell_type": "code",
   "execution_count": 25,
   "metadata": {},
   "outputs": [
    {
     "name": "stdout",
     "output_type": "stream",
     "text": [
      "{'_Student__gender': 'Male', '_name': 'Jack'}\n",
      "['_Student__gender',\n",
      " '_Student__say_hello',\n",
      " '__class__',\n",
      " '__delattr__',\n",
      " '__dict__',\n",
      " '__dir__',\n",
      " '__doc__',\n",
      " '__eq__',\n",
      " '__format__',\n",
      " '__ge__',\n",
      " '__getattribute__',\n",
      " '__gt__',\n",
      " '__hash__',\n",
      " '__init__',\n",
      " '__init_subclass__',\n",
      " '__le__',\n",
      " '__lt__',\n",
      " '__module__',\n",
      " '__ne__',\n",
      " '__new__',\n",
      " '__reduce__',\n",
      " '__reduce_ex__',\n",
      " '__repr__',\n",
      " '__setattr__',\n",
      " '__sizeof__',\n",
      " '__str__',\n",
      " '__subclasshook__',\n",
      " '__weakref__',\n",
      " '_name']\n"
     ]
    }
   ],
   "source": [
    "from pprint import pprint\n",
    "\n",
    "pprint(s1.__dict__)\n",
    "pprint(dir(s1))"
   ]
  },
  {
   "cell_type": "markdown",
   "metadata": {},
   "source": [
    "# 2. <a id='toc2_'></a>[类方法和静态方法](#toc0_)\n",
    "---\n",
    "## 2.1. <a id='toc2_1_'></a>[类方法](#toc0_)\n",
    "\n",
    "类方法需要使用@classmethod装饰器来定义\n",
    "\n",
    "类方法的第一个参数是类本身"
   ]
  },
  {
   "cell_type": "code",
   "execution_count": 2,
   "metadata": {},
   "outputs": [
    {
     "name": "stdout",
     "output_type": "stream",
     "text": [
      "Student\n",
      "public school\n",
      "cls's name : Student\n",
      "cls's school : public school\n"
     ]
    }
   ],
   "source": [
    "class Student:\n",
    "    school = \"public school\"\n",
    "\n",
    "    @classmethod\n",
    "    def get_instance(cls):\n",
    "        print(f\"cls's name : {cls.__name__}\")\n",
    "        print(f\"cls's school : {cls.school}\")\n",
    "        return cls()\n",
    "\n",
    "\n",
    "print(Student.__name__)\n",
    "print(Student.school)\n",
    "s1 = Student.get_instance()"
   ]
  },
  {
   "cell_type": "markdown",
   "metadata": {},
   "source": [
    "## 2.2. <a id='toc2_2_'></a>[静态方法](#toc0_)\n",
    "\n",
    "静态方法需要使用@staticmethod装饰器来定义\n",
    "\n",
    "静态方法只是定义在类范围的内一个函数而已"
   ]
  },
  {
   "cell_type": "code",
   "execution_count": 1,
   "metadata": {},
   "outputs": [
    {
     "name": "stdout",
     "output_type": "stream",
     "text": [
      "hello\n",
      "hello\n"
     ]
    }
   ],
   "source": [
    "class Student:\n",
    "    @staticmethod\n",
    "    def say_hello():\n",
    "        print(\"hello\")\n",
    "\n",
    "    def size(self, value: int) -> float:  # * 没有用到self，是一个工具方法，可以用static定义。\n",
    "        return value * 1.5\n",
    "\n",
    "\n",
    "Student.say_hello()\n",
    "s1 = Student()\n",
    "s1.say_hello()"
   ]
  },
  {
   "cell_type": "markdown",
   "metadata": {},
   "source": [
    "# 3. <a id='toc3_'></a>[常用的特殊方法](#toc0_)\n",
    "\n",
    "## 3.1. <a id='toc3_1_'></a>[\\_\\_str__](#toc0_)\n",
    "\n",
    "用于返回一个描述对象本身的字符串</br>\n",
    "该描述主要面对用户\n"
   ]
  },
  {
   "cell_type": "code",
   "execution_count": 3,
   "metadata": {},
   "outputs": [
    {
     "name": "stdout",
     "output_type": "stream",
     "text": [
      "str is called\n",
      "2022--11--3\n",
      "str is called\n",
      "2022--11--3\n"
     ]
    }
   ],
   "source": [
    "class MyDate:\n",
    "    def __init__(self, year, month, day) -> None:\n",
    "        self.year = year\n",
    "        self.month = month\n",
    "        self.day = day\n",
    "\n",
    "    def __str__(self) -> str:\n",
    "        print(\"str is called\")\n",
    "        return f\"{self.year}--{self.month}--{self.day}\"\n",
    "\n",
    "\n",
    "my_date = MyDate(2022, 11, 3)\n",
    "print(my_date)  # * 等同于 print(str(my_date))"
   ]
  },
  {
   "cell_type": "markdown",
   "metadata": {},
   "source": [
    "## 3.2. <a id='toc3_2_'></a>[\\_\\_repr__](#toc0_)\n",
    "\n",
    "该方法用于返回一个描述对象本身的字符串</br>\n",
    "该描述的主要目标是机器或者开发者"
   ]
  },
  {
   "cell_type": "code",
   "execution_count": 8,
   "metadata": {},
   "outputs": [
    {
     "name": "stdout",
     "output_type": "stream",
     "text": [
      "str is called\n",
      "2022--11--3\n",
      "repr is called\n",
      " MyDate: 2022--11--3\n"
     ]
    }
   ],
   "source": [
    "class MyDate:\n",
    "    def __init__(self, year, month, day) -> None:\n",
    "        self.year = year\n",
    "        self.month = month\n",
    "        self.day = day\n",
    "        \n",
    "    def __str__(self) -> str:\n",
    "        print(\"str is called\")\n",
    "        return f\"{self.year}--{self.month}--{self.day}\"\n",
    "\n",
    "    def __repr__(self) -> str:\n",
    "        print(\"repr is called\")\n",
    "        return f\" MyDate: {self.year}--{self.month}--{self.day}\"\n",
    "\n",
    "\n",
    "my_date = MyDate(2022, 11, 3)\n",
    "print(my_date)\n",
    "print(repr(my_date))  "
   ]
  },
  {
   "cell_type": "markdown",
   "metadata": {},
   "source": [
    "## 3.3. <a id='toc3_3_'></a>[\\_\\_eq__](#toc0_)\n",
    "\n",
    "该方法用于实现对比两个对象是否相等的逻辑"
   ]
  },
  {
   "cell_type": "code",
   "execution_count": 9,
   "metadata": {},
   "outputs": [
    {
     "name": "stdout",
     "output_type": "stream",
     "text": [
      "True\n",
      "True\n",
      "False\n"
     ]
    }
   ],
   "source": [
    "my_date_1 = MyDate(2022, 11, 3)\n",
    "my_date_2 = MyDate(2022, 11, 3)\n",
    "\n",
    "my_date_3 = my_date_1\n",
    "\n",
    "print(my_date_1 is my_date_3 )\n",
    "print(my_date_1 == my_date_3 )\n",
    "print(my_date_1 == my_date_2 )\n"
   ]
  },
  {
   "attachments": {},
   "cell_type": "markdown",
   "metadata": {},
   "source": [
    "使用__eq__()函数来判定==的比较结果"
   ]
  },
  {
   "cell_type": "code",
   "execution_count": 12,
   "metadata": {},
   "outputs": [
    {
     "name": "stdout",
     "output_type": "stream",
     "text": [
      "False\n",
      "eq is called\n",
      "True\n"
     ]
    }
   ],
   "source": [
    "class MyDate:\n",
    "    def __init__(self, year, month, day) -> None:\n",
    "        self.year = year\n",
    "        self.month = month\n",
    "        self.day = day\n",
    "\n",
    "    def __eq__(self, __o: object) -> bool:\n",
    "        print('eq is called')\n",
    "        return (\n",
    "            self.year == __o.year and self.month == __o.month and self.day == __o.day\n",
    "            if isinstance(__o, MyDate)\n",
    "            else False\n",
    "        )\n",
    "\n",
    "\n",
    "my_date_1 = MyDate(2022, 11, 3)\n",
    "my_date_2 = MyDate(2022, 11, 3)\n",
    "\n",
    "print(my_date_1 is my_date_2)\n",
    "print(my_date_1 == my_date_2)"
   ]
  },
  {
   "cell_type": "markdown",
   "metadata": {},
   "source": [
    "## 3.4. <a id='toc3_4_'></a>[\\_\\_hash__](#toc0_)\n",
    "\n",
    "该方法用于实现根据对象生成hash值的逻辑"
   ]
  },
  {
   "cell_type": "code",
   "execution_count": 17,
   "metadata": {},
   "outputs": [
    {
     "name": "stdout",
     "output_type": "stream",
     "text": [
      "hash is called\n"
     ]
    }
   ],
   "source": [
    "class MyDate:\n",
    "    def __init__(self, year, month, day) -> None:\n",
    "        self.year = year\n",
    "        self.month = month\n",
    "        self.day = day\n",
    "\n",
    "    def __hash__(self) -> int:\n",
    "        print(\"hash is called\")\n",
    "        return hash(self.year + self.month * 101 + self.day * 101)\n",
    "\n",
    "\n",
    "my_date_1 = MyDate(2022, 11, 3)\n",
    "\n",
    "date_set = {my_date_1}"
   ]
  },
  {
   "cell_type": "markdown",
   "metadata": {},
   "source": [
    "## 3.5. <a id='toc3_5_'></a>[\\_\\_bool__](#toc0_)\n",
    "\n",
    "该方法用于在对象被bool函数求解的时候返回一个布尔值</br>\n",
    "如果类没有实现这个方法，那么__len__()将会被用户求解布尔值"
   ]
  },
  {
   "cell_type": "code",
   "execution_count": 19,
   "metadata": {},
   "outputs": [
    {
     "name": "stdout",
     "output_type": "stream",
     "text": [
      "bool is called\n",
      "True\n",
      "bool is called\n",
      "False\n"
     ]
    }
   ],
   "source": [
    "class MyDate:\n",
    "    def __init__(self, year, month, day) -> None:\n",
    "        self.year = year\n",
    "        self.month = month\n",
    "        self.day = day\n",
    "\n",
    "    def __bool__(self) -> bool:\n",
    "        print('bool is called')\n",
    "        return self.year >= 2022\n",
    "\n",
    "\n",
    "my_date_1 = MyDate(2022, 11, 3)\n",
    "print(bool(my_date_1))\n",
    "\n",
    "my_date_2 = MyDate(2021, 11, 3)\n",
    "print(bool(my_date_2))"
   ]
  },
  {
   "cell_type": "markdown",
   "metadata": {},
   "source": [
    "## 3.6. <a id='toc3_6_'></a>[\\_\\_del__](#toc0_)\n",
    "\n",
    "该方法在对象被垃圾回收前调用</br>\n",
    "因为对象何时被回收，所以不要依赖于这个方法去做一些重要的事情"
   ]
  },
  {
   "cell_type": "code",
   "execution_count": 20,
   "metadata": {},
   "outputs": [
    {
     "name": "stdout",
     "output_type": "stream",
     "text": [
      "del is called\n"
     ]
    }
   ],
   "source": [
    "class MyDate:\n",
    "    def __init__(self, year, month, day) -> None:\n",
    "        self.year = year\n",
    "        self.month = month\n",
    "        self.day = day\n",
    "\n",
    "    def __del__(self):\n",
    "        print('del is called')\n",
    "\n",
    "my_date_1 = MyDate(2020,11,3)\n",
    "\n",
    "my_date_1 = None"
   ]
  }
 ],
 "metadata": {
  "kernelspec": {
   "display_name": "study",
   "language": "python",
   "name": "python3"
  },
  "language_info": {
   "codemirror_mode": {
    "name": "ipython",
    "version": 3
   },
   "file_extension": ".py",
   "mimetype": "text/x-python",
   "name": "python",
   "nbconvert_exporter": "python",
   "pygments_lexer": "ipython3",
   "version": "3.9.15 (main, Nov  4 2022, 16:35:55) [MSC v.1916 64 bit (AMD64)]"
  },
  "orig_nbformat": 4,
  "vscode": {
   "interpreter": {
    "hash": "49fdd20b2b68a4dd8ebcbb061b9c04f8e52f6472af90d6159269a7c8abf5d944"
   }
  }
 },
 "nbformat": 4,
 "nbformat_minor": 2
}
