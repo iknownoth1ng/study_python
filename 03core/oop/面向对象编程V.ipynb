{
 "cells": [
  {
   "cell_type": "markdown",
   "metadata": {},
   "source": [
    "**Table of contents**<a id='toc0_'></a>    \n",
    "1. [枚举](#toc1_)    \n",
    "1.1. [为什么需要枚举](#toc1_1_)    \n",
    "1.2. [如何定义枚举](#toc1_2_)    \n",
    "1.3. [枚举成员的name和value](#toc1_3_)    \n",
    "1.4. [通过name和value访问成员](#toc1_4_)    \n",
    "1.5. [遍历枚举成员](#toc1_5_)    \n",
    "1.6. [枚举的继承](#toc1_6_)    \n",
    "2. [枚举别名和装饰器](#toc2_)    \n",
    "2.1. [枚举成员的别名](#toc2_1_)    \n",
    "2.2. [\\_\\_members__](#toc2_2_)    \n",
    "2.3. [@enum.unique装饰器](#toc2_3_)    \n",
    "3. [定制和扩展枚举](#toc3_)    \n",
    "3.1. [定制__str__函数](#toc3_1_)    \n",
    "3.2. [定制__eq__函数](#toc3_2_)    \n",
    "3.3. [定制__lt__函数](#toc3_3_)    \n",
    "3.4. [auto()函数](#toc3_4_)    \n",
    "\n",
    "<!-- vscode-jupyter-toc-config\n",
    "\tnumbering=true\n",
    "\tanchor=true\n",
    "\tflat=true\n",
    "\tminLevel=1\n",
    "\tmaxLevel=6\n",
    "\t/vscode-jupyter-toc-config -->\n",
    "<!-- THIS CELL WILL BE REPLACED ON TOC UPDATE. DO NOT WRITE YOUR TEXT IN THIS CELL -->"
   ]
  },
  {
   "cell_type": "markdown",
   "metadata": {},
   "source": [
    "# 1. <a id='toc1_'></a>[枚举](#toc0_)\n",
    "---\n",
    "\n",
    "## 1.1. <a id='toc1_1_'></a>[为什么需要枚举](#toc0_)\n",
    "\n",
    "当代码中的数值不利于人来阅读的时候，总希望能够有一个既方便阅读又利于查错的方法。"
   ]
  },
  {
   "cell_type": "code",
   "execution_count": null,
   "metadata": {},
   "outputs": [],
   "source": [
    "class Student:\n",
    "    def __init__(self):\n",
    "        self.name = \"Jack\"\n",
    "        self.gender = 1  # * 1-MALE,2-FEMALE"
   ]
  },
  {
   "cell_type": "markdown",
   "metadata": {},
   "source": [
    "## 1.2. <a id='toc1_2_'></a>[如何定义枚举](#toc0_)\n",
    "\n",
    "通过继承enum.Enum类定义一个枚举类型"
   ]
  },
  {
   "cell_type": "code",
   "execution_count": 3,
   "metadata": {},
   "outputs": [
    {
     "name": "stdout",
     "output_type": "stream",
     "text": [
      "Genders.MALE\n",
      "Genders.MALE\n",
      "<enum 'Genders'>\n"
     ]
    }
   ],
   "source": [
    "from enum import Enum\n",
    "\n",
    "\n",
    "class Genders(Enum):\n",
    "    MALE = 1\n",
    "    FEMALE = 2\n",
    "\n",
    "\n",
    "class Student:\n",
    "    def __init__(self):\n",
    "        self.gender = Genders.MALE\n",
    "\n",
    "\n",
    "print(Student().gender)\n",
    "print(Genders.MALE)\n",
    "print(type(Genders.MALE))"
   ]
  },
  {
   "cell_type": "markdown",
   "metadata": {},
   "source": [
    "## 1.3. <a id='toc1_3_'></a>[枚举成员的name和value](#toc0_)\n"
   ]
  },
  {
   "cell_type": "code",
   "execution_count": 4,
   "metadata": {},
   "outputs": [
    {
     "name": "stdout",
     "output_type": "stream",
     "text": [
      "<enum 'Genders'>\n",
      "MALE\n",
      "1\n"
     ]
    }
   ],
   "source": [
    "from enum import Enum\n",
    "\n",
    "\n",
    "class Genders(Enum):\n",
    "    MALE = 1\n",
    "    FEMALE = 2\n",
    "\n",
    "\n",
    "print(type(Genders.MALE))\n",
    "print(Genders.MALE.name)\n",
    "print(Genders.MALE.value)"
   ]
  },
  {
   "cell_type": "code",
   "execution_count": 5,
   "metadata": {},
   "outputs": [
    {
     "name": "stdout",
     "output_type": "stream",
     "text": [
      "student is a male\n"
     ]
    }
   ],
   "source": [
    "from enum import Enum\n",
    "\n",
    "\n",
    "class Genders(Enum):\n",
    "    MALE = 1\n",
    "    FEMALE = 2\n",
    "\n",
    "\n",
    "class Student:\n",
    "    def __init__(self, gender: Genders):\n",
    "        self.gender = gender\n",
    "\n",
    "\n",
    "student = Student(Genders.MALE)\n",
    "if student.gender == Genders.MALE:\n",
    "    print(\"student is a male\")\n",
    "else:\n",
    "    print(\"student is a female\")"
   ]
  },
  {
   "cell_type": "markdown",
   "metadata": {},
   "source": [
    "## 1.4. <a id='toc1_4_'></a>[通过name和value访问成员](#toc0_)\n",
    "\n",
    "当我们拿到字符串的名字或者整数的value，就可以拿到对应的枚举成员。\n",
    "\n",
    "[] 取name \n",
    "\n",
    "() 取value"
   ]
  },
  {
   "cell_type": "code",
   "execution_count": 13,
   "metadata": {},
   "outputs": [
    {
     "name": "stdout",
     "output_type": "stream",
     "text": [
      "Genders.FEMALE\n",
      "Genders.MALE\n"
     ]
    }
   ],
   "source": [
    "from enum import Enum\n",
    "\n",
    "\n",
    "class Genders(Enum):\n",
    "    MALE = \"1\"\n",
    "    FEMALE = \"2\"\n",
    "\n",
    "\n",
    "class Student:\n",
    "    def __init__(self, gender: Genders):\n",
    "        self.gender = gender\n",
    "\n",
    "\n",
    "student = Student(Genders.MALE)\n",
    "\n",
    "s_gender = \"FEMALE\"\n",
    "\n",
    "student.gender = Genders[s_gender]\n",
    "print(student.gender)\n",
    "\n",
    "i_gender = \"1\"\n",
    "student.gender = Genders(i_gender)\n",
    "print(student.gender)"
   ]
  },
  {
   "cell_type": "markdown",
   "metadata": {},
   "source": [
    "## 1.5. <a id='toc1_5_'></a>[遍历枚举成员](#toc0_)\n",
    "\n",
    "枚举本身时可以迭代的"
   ]
  },
  {
   "cell_type": "code",
   "execution_count": 15,
   "metadata": {},
   "outputs": [
    {
     "name": "stdout",
     "output_type": "stream",
     "text": [
      "Genders.MALE\n",
      "MALE\n",
      "1\n",
      "Genders.FEMALE\n",
      "FEMALE\n",
      "2\n"
     ]
    }
   ],
   "source": [
    "from enum import Enum\n",
    "\n",
    "\n",
    "class Genders(Enum):\n",
    "    MALE = 1\n",
    "    FEMALE = 2\n",
    "\n",
    "\n",
    "for gender in Genders:\n",
    "    print(gender)\n",
    "    print(gender.name)\n",
    "    print(gender.value)"
   ]
  },
  {
   "cell_type": "markdown",
   "metadata": {},
   "source": [
    "## 1.6. <a id='toc1_6_'></a>[枚举的继承](#toc0_)\n",
    "\n",
    "枚举可以继承其他没有成员的枚举，有成员的枚举不能被继承。（一般不会用枚举继承）"
   ]
  },
  {
   "cell_type": "code",
   "execution_count": 21,
   "metadata": {},
   "outputs": [
    {
     "name": "stdout",
     "output_type": "stream",
     "text": [
      "Student.DOMESTIC\n"
     ]
    }
   ],
   "source": [
    "class Type(Enum):\n",
    "    pass\n",
    "\n",
    "\n",
    "class Student(Type):\n",
    "    DOMESTIC = 1\n",
    "    INTERNATIONAL = 2\n",
    "\n",
    "\n",
    "print(Student.DOMESTIC)"
   ]
  },
  {
   "cell_type": "code",
   "execution_count": 23,
   "metadata": {},
   "outputs": [
    {
     "ename": "TypeError",
     "evalue": "Student: cannot extend enumeration 'Type'",
     "output_type": "error",
     "traceback": [
      "\u001b[1;31m---------------------------------------------------------------------------\u001b[0m",
      "\u001b[1;31mTypeError\u001b[0m                                 Traceback (most recent call last)",
      "Cell \u001b[1;32mIn[23], line 5\u001b[0m\n\u001b[0;32m      2\u001b[0m     DOMESTIC\u001b[39m=\u001b[39m\u001b[39m1\u001b[39m\n\u001b[0;32m      3\u001b[0m     INTERNATIONAL\u001b[39m=\u001b[39m\u001b[39m2\u001b[39m\n\u001b[1;32m----> 5\u001b[0m \u001b[39mclass\u001b[39;00m \u001b[39mStudent\u001b[39;00m(Type):\n\u001b[0;32m      6\u001b[0m     SEA \u001b[39m=\u001b[39m \u001b[39m3\u001b[39m\n",
      "File \u001b[1;32md:\\python\\Anaconda3\\envs\\study\\lib\\enum.py:167\u001b[0m, in \u001b[0;36mEnumMeta.__prepare__\u001b[1;34m(metacls, cls, bases, **kwds)\u001b[0m\n\u001b[0;32m    164\u001b[0m \u001b[39m@classmethod\u001b[39m\n\u001b[0;32m    165\u001b[0m \u001b[39mdef\u001b[39;00m \u001b[39m__prepare__\u001b[39m(metacls, \u001b[39mcls\u001b[39m, bases, \u001b[39m*\u001b[39m\u001b[39m*\u001b[39mkwds):\n\u001b[0;32m    166\u001b[0m     \u001b[39m# check that previous enum members do not exist\u001b[39;00m\n\u001b[1;32m--> 167\u001b[0m     metacls\u001b[39m.\u001b[39;49m_check_for_existing_members(\u001b[39mcls\u001b[39;49m, bases)\n\u001b[0;32m    168\u001b[0m     \u001b[39m# create the namespace dict\u001b[39;00m\n\u001b[0;32m    169\u001b[0m     enum_dict \u001b[39m=\u001b[39m _EnumDict()\n",
      "File \u001b[1;32md:\\python\\Anaconda3\\envs\\study\\lib\\enum.py:566\u001b[0m, in \u001b[0;36mEnumMeta._check_for_existing_members\u001b[1;34m(class_name, bases)\u001b[0m\n\u001b[0;32m    564\u001b[0m \u001b[39mfor\u001b[39;00m base \u001b[39min\u001b[39;00m chain\u001b[39m.\u001b[39m\u001b[39m__mro__\u001b[39m:\n\u001b[0;32m    565\u001b[0m     \u001b[39mif\u001b[39;00m \u001b[39missubclass\u001b[39m(base, Enum) \u001b[39mand\u001b[39;00m base\u001b[39m.\u001b[39m_member_names_:\n\u001b[1;32m--> 566\u001b[0m         \u001b[39mraise\u001b[39;00m \u001b[39mTypeError\u001b[39;00m(\n\u001b[0;32m    567\u001b[0m                 \u001b[39m\"\u001b[39m\u001b[39m%s\u001b[39;00m\u001b[39m: cannot extend enumeration \u001b[39m\u001b[39m%r\u001b[39;00m\u001b[39m\"\u001b[39m\n\u001b[0;32m    568\u001b[0m                 \u001b[39m%\u001b[39m (class_name, base\u001b[39m.\u001b[39m\u001b[39m__name__\u001b[39m)\n\u001b[0;32m    569\u001b[0m                 )\n",
      "\u001b[1;31mTypeError\u001b[0m: Student: cannot extend enumeration 'Type'"
     ]
    }
   ],
   "source": [
    "class Type(Enum):\n",
    "    DOMESTIC = 1\n",
    "    INTERNATIONAL = 2\n",
    "\n",
    "\n",
    "class Student(Type):\n",
    "    SEA = 3"
   ]
  },
  {
   "cell_type": "markdown",
   "metadata": {},
   "source": [
    "# 2. <a id='toc2_'></a>[枚举别名和装饰器](#toc0_)\n",
    "---\n",
    "## 2.1. <a id='toc2_1_'></a>[枚举成员的别名](#toc0_)\n",
    "\n",
    "当枚举中的多个成员具有相同的value的时候，只有一个能成为主要的成员，其他的都自动成为别名。"
   ]
  },
  {
   "cell_type": "code",
   "execution_count": 25,
   "metadata": {},
   "outputs": [
    {
     "name": "stdout",
     "output_type": "stream",
     "text": [
      "SUCCESS\n",
      "FAIL\n"
     ]
    }
   ],
   "source": [
    "class Status(Enum):\n",
    "    SUCCESS = 1\n",
    "    OK = 1\n",
    "    FAIL = 2\n",
    "    WRONG = 2\n",
    "\n",
    "\n",
    "for status in Status:\n",
    "    print(status.name)  # * 默认第一个赋值的是主要的成员"
   ]
  },
  {
   "cell_type": "markdown",
   "metadata": {},
   "source": [
    "## 2.2. <a id='toc2_2_'></a>[\\_\\_members__](#toc0_)\n",
    "\n",
    "是一个枚举的类成员，记录了所有的成员数据，包括了别名信息。"
   ]
  },
  {
   "cell_type": "code",
   "execution_count": 29,
   "metadata": {},
   "outputs": [
    {
     "name": "stdout",
     "output_type": "stream",
     "text": [
      "mappingproxy({'FAIL': <Status.FAIL: 2>,\n",
      "              'OK': <Status.SUCCESS: 1>,\n",
      "              'SUCCESS': <Status.SUCCESS: 1>,\n",
      "              'WRONG': <Status.FAIL: 2>})\n",
      "True\n",
      "True\n"
     ]
    }
   ],
   "source": [
    "from pprint import pprint\n",
    "\n",
    "pprint(Status.__members__)\n",
    "pprint(Status.SUCCESS == Status.OK)\n",
    "pprint(Status.SUCCESS is Status.OK)  # * True 指向了同一个对象"
   ]
  },
  {
   "cell_type": "markdown",
   "metadata": {},
   "source": [
    "## 2.3. <a id='toc2_3_'></a>[@enum.unique装饰器](#toc0_)\n",
    "\n",
    "当我们需要保证枚举中的成员必须具有唯一值的时候，可以用@enum.unique来帮助约束。"
   ]
  },
  {
   "cell_type": "code",
   "execution_count": 30,
   "metadata": {},
   "outputs": [
    {
     "ename": "ValueError",
     "evalue": "duplicate values found in <enum 'Genders'>: FEMALE -> MALE",
     "output_type": "error",
     "traceback": [
      "\u001b[1;31m---------------------------------------------------------------------------\u001b[0m",
      "\u001b[1;31mValueError\u001b[0m                                Traceback (most recent call last)",
      "Cell \u001b[1;32mIn[30], line 3\u001b[0m\n\u001b[0;32m      1\u001b[0m \u001b[39mimport\u001b[39;00m \u001b[39menum\u001b[39;00m \n\u001b[0;32m      2\u001b[0m \u001b[39m@enum\u001b[39;49m\u001b[39m.\u001b[39;49munique\n\u001b[1;32m----> 3\u001b[0m \u001b[39mclass\u001b[39;49;00m \u001b[39mGenders\u001b[39;49;00m(Enum):\n\u001b[0;32m      4\u001b[0m     MALE\u001b[39m=\u001b[39;49m\u001b[39m1\u001b[39;49m\n\u001b[0;32m      5\u001b[0m     FEMALE\u001b[39m=\u001b[39;49m\u001b[39m1\u001b[39;49m\n",
      "File \u001b[1;32md:\\python\\Anaconda3\\envs\\study\\lib\\enum.py:1013\u001b[0m, in \u001b[0;36munique\u001b[1;34m(enumeration)\u001b[0m\n\u001b[0;32m   1010\u001b[0m \u001b[39mif\u001b[39;00m duplicates:\n\u001b[0;32m   1011\u001b[0m     alias_details \u001b[39m=\u001b[39m \u001b[39m'\u001b[39m\u001b[39m, \u001b[39m\u001b[39m'\u001b[39m\u001b[39m.\u001b[39mjoin(\n\u001b[0;32m   1012\u001b[0m             [\u001b[39m\"\u001b[39m\u001b[39m%s\u001b[39;00m\u001b[39m -> \u001b[39m\u001b[39m%s\u001b[39;00m\u001b[39m\"\u001b[39m \u001b[39m%\u001b[39m (alias, name) \u001b[39mfor\u001b[39;00m (alias, name) \u001b[39min\u001b[39;00m duplicates])\n\u001b[1;32m-> 1013\u001b[0m     \u001b[39mraise\u001b[39;00m \u001b[39mValueError\u001b[39;00m(\u001b[39m'\u001b[39m\u001b[39mduplicate values found in \u001b[39m\u001b[39m%r\u001b[39;00m\u001b[39m: \u001b[39m\u001b[39m%s\u001b[39;00m\u001b[39m'\u001b[39m \u001b[39m%\u001b[39m\n\u001b[0;32m   1014\u001b[0m             (enumeration, alias_details))\n\u001b[0;32m   1015\u001b[0m \u001b[39mreturn\u001b[39;00m enumeration\n",
      "\u001b[1;31mValueError\u001b[0m: duplicate values found in <enum 'Genders'>: FEMALE -> MALE"
     ]
    }
   ],
   "source": [
    "import enum\n",
    "\n",
    "\n",
    "@enum.unique\n",
    "class Genders(Enum):\n",
    "    MALE = 1\n",
    "    FEMALE = 1"
   ]
  },
  {
   "cell_type": "markdown",
   "metadata": {},
   "source": [
    "# 3. <a id='toc3_'></a>[定制和扩展枚举](#toc0_)\n",
    "---\n",
    "## 3.1. <a id='toc3_1_'></a>[定制__str__函数](#toc0_)\n"
   ]
  },
  {
   "cell_type": "code",
   "execution_count": 33,
   "metadata": {},
   "outputs": [
    {
     "name": "stdout",
     "output_type": "stream",
     "text": [
      "SUCCESS(1)\n"
     ]
    }
   ],
   "source": [
    "class Status(Enum):\n",
    "    SUCCESS = 1\n",
    "    FAILURE = 2\n",
    "\n",
    "    def __str__(self) -> str:\n",
    "        return f\"{self.name}({self.value})\"\n",
    "\n",
    "\n",
    "print(Status.SUCCESS)"
   ]
  },
  {
   "cell_type": "markdown",
   "metadata": {},
   "source": [
    "## 3.2. <a id='toc3_2_'></a>[定制__eq__函数](#toc0_)\n"
   ]
  },
  {
   "cell_type": "code",
   "execution_count": 41,
   "metadata": {},
   "outputs": [
    {
     "name": "stdout",
     "output_type": "stream",
     "text": [
      "True\n",
      "True\n",
      "True\n",
      "False\n"
     ]
    }
   ],
   "source": [
    "class Status(Enum):\n",
    "    SUCCESS = 1\n",
    "    FAILURE = 2\n",
    "\n",
    "    def __eq__(self, __o: object) -> bool:\n",
    "        if isinstance(__o, int):\n",
    "            return self.value == __o\n",
    "        elif isinstance(__o, str):\n",
    "            return self.name == __o.upper()\n",
    "        elif isinstance(__o, Status):\n",
    "            return self is __o\n",
    "        return False\n",
    "\n",
    "\n",
    "class Student:\n",
    "    def __init__(self, status: Status):\n",
    "        self.status = status\n",
    "\n",
    "\n",
    "student = Student(Status.SUCCESS)\n",
    "\n",
    "print(Status.SUCCESS == 1)\n",
    "print(Status.FAILURE == \"failure\")\n",
    "print(Status.SUCCESS == student.status)\n",
    "print(Status.FAILURE == 2.0)"
   ]
  },
  {
   "cell_type": "markdown",
   "metadata": {},
   "source": [
    "## 3.3. <a id='toc3_3_'></a>[定制__lt__函数](#toc0_)\n",
    "\n",
    "需要加上装饰器@total_ordering"
   ]
  },
  {
   "cell_type": "code",
   "execution_count": 42,
   "metadata": {},
   "outputs": [
    {
     "name": "stdout",
     "output_type": "stream",
     "text": [
      "False\n",
      "True\n"
     ]
    }
   ],
   "source": [
    "from functools import total_ordering\n",
    "\n",
    "\n",
    "@total_ordering\n",
    "class WorkFlowStatus(Enum):\n",
    "    OPEN = 1\n",
    "    IN_PROGRESS = 2\n",
    "    REVIEW = 3\n",
    "    COMPLETE = 4\n",
    "\n",
    "    def __lt__(self, __o: object) -> bool:\n",
    "        if isinstance(__o, int):\n",
    "            return self.value < __o\n",
    "        elif isinstance(__o, WorkFlowStatus):\n",
    "            return self.value < __o.value\n",
    "        raise ValueError(\"{__o.__name__} is not a valid WorkFlowStatus\")\n",
    "\n",
    "\n",
    "print(WorkFlowStatus.IN_PROGRESS < 2)\n",
    "print(WorkFlowStatus.REVIEW < WorkFlowStatus.COMPLETE)"
   ]
  },
  {
   "cell_type": "markdown",
   "metadata": {},
   "source": [
    "## 3.4. <a id='toc3_4_'></a>[auto()函数](#toc0_)\n",
    "\n",
    "当希望程序自动按顺序来给枚举成员赋值的时候，可以使用auto()函数。(不建议使用)"
   ]
  },
  {
   "cell_type": "code",
   "execution_count": 43,
   "metadata": {},
   "outputs": [
    {
     "name": "stdout",
     "output_type": "stream",
     "text": [
      "SUCCESS 1\n",
      "FAILURE 2\n"
     ]
    }
   ],
   "source": [
    "from enum import auto\n",
    "\n",
    "\n",
    "class Status(Enum):\n",
    "    SUCCESS = auto()\n",
    "    FAILURE = auto()\n",
    "\n",
    "\n",
    "for s in Status:\n",
    "    print(s.name, s.value)"
   ]
  },
  {
   "cell_type": "code",
   "execution_count": 44,
   "metadata": {},
   "outputs": [
    {
     "name": "stdout",
     "output_type": "stream",
     "text": [
      "WAITING 1\n",
      "SUCCESS 2\n",
      "FAILURE 3\n"
     ]
    }
   ],
   "source": [
    "from enum import auto\n",
    "\n",
    "\n",
    "class Status(Enum):\n",
    "    WAITING = auto()  # * 加入一行，会导致之前的变化。\n",
    "    SUCCESS = auto()\n",
    "    FAILURE = auto()\n",
    "\n",
    "\n",
    "for s in Status:\n",
    "    print(s.name, s.value)"
   ]
  }
 ],
 "metadata": {
  "kernelspec": {
   "display_name": "study",
   "language": "python",
   "name": "python3"
  },
  "language_info": {
   "codemirror_mode": {
    "name": "ipython",
    "version": 3
   },
   "file_extension": ".py",
   "mimetype": "text/x-python",
   "name": "python",
   "nbconvert_exporter": "python",
   "pygments_lexer": "ipython3",
   "version": "3.9.15 (main, Nov  4 2022, 16:35:55) [MSC v.1916 64 bit (AMD64)]"
  },
  "orig_nbformat": 4,
  "vscode": {
   "interpreter": {
    "hash": "49fdd20b2b68a4dd8ebcbb061b9c04f8e52f6472af90d6159269a7c8abf5d944"
   }
  }
 },
 "nbformat": 4,
 "nbformat_minor": 2
}
