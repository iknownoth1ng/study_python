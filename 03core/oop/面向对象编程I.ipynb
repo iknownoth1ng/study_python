{
 "cells": [
  {
   "cell_type": "markdown",
   "metadata": {},
   "source": [
    "**Table of contents**<a id='toc0_'></a>    \n",
    "1. [初始面向对象的Python](#toc1_)    \n",
    "1.1. [面向对象的概念解释](#toc1_1_)    \n",
    "1.2. [类的定义](#toc1_2_)    \n",
    "1.3. [对象的创建](#toc1_3_)    \n",
    "1.4. [isinstance()函数](#toc1_4_)    \n",
    "1.5. [Python中的类本身也是一个对象](#toc1_5_)    \n",
    "2. [类变量](#toc2_)    \n",
    "2.1. [什么是类变量](#toc2_1_)    \n",
    "2.2. [定义类变量](#toc2_2_)    \n",
    "2.3. [取得类变量的值](#toc2_3_)    \n",
    "2.4. [设置类变量的值](#toc2_4_)    \n",
    "2.5. [删除类变量](#toc2_5_)    \n",
    "2.6. [类变量的存储](#toc2_6_)    \n",
    "3. [实例变量与函数](#toc3_)    \n",
    "3.1. [实例函数的定义](#toc3_1_)    \n",
    "3.2. [认识__init__函数](#toc3_2_)    \n",
    "3.3. [定义实例变量](#toc3_3_)    \n",
    "3.4. [实例函数中访问实例变量](#toc3_4_)    \n",
    "3.5. [外部访问实例变量与函数](#toc3_5_)    \n",
    "\n",
    "<!-- vscode-jupyter-toc-config\n",
    "\tnumbering=true\n",
    "\tanchor=true\n",
    "\tflat=true\n",
    "\tminLevel=1\n",
    "\tmaxLevel=6\n",
    "\t/vscode-jupyter-toc-config -->\n",
    "<!-- THIS CELL WILL BE REPLACED ON TOC UPDATE. DO NOT WRITE YOUR TEXT IN THIS CELL -->"
   ]
  },
  {
   "cell_type": "markdown",
   "metadata": {},
   "source": [
    "# 1. <a id='toc1_'></a>[初始面向对象的Python](#toc0_)\n",
    "---\n",
    "## 1.1. <a id='toc1_1_'></a>[面向对象的概念解释](#toc0_)\n",
    "- 类--是描述一类对象的特征集合\n",
    "- 对象--是符合类定义特征的具体示例\n",
    "- 属性--分为类属性和实例属性\n",
    "- 方法--分为类方法和实例方法\n",
    "## 1.2. <a id='toc1_2_'></a>[类的定义](#toc0_)\n",
    "使用class关键字定义类"
   ]
  },
  {
   "cell_type": "code",
   "execution_count": 1,
   "metadata": {},
   "outputs": [
    {
     "name": "stdout",
     "output_type": "stream",
     "text": [
      "<class '__main__.Student'>\n"
     ]
    }
   ],
   "source": [
    "class Student:\n",
    "    pass\n",
    "\n",
    "\n",
    "def main():\n",
    "    print(Student)\n",
    "\n",
    "\n",
    "if __name__ == \"__main__\":\n",
    "    main()"
   ]
  },
  {
   "cell_type": "markdown",
   "metadata": {},
   "source": [
    "## 1.3. <a id='toc1_3_'></a>[对象的创建](#toc0_)\n",
    "\n",
    "使用类名字+括号"
   ]
  },
  {
   "cell_type": "code",
   "execution_count": 4,
   "metadata": {},
   "outputs": [
    {
     "name": "stdout",
     "output_type": "stream",
     "text": [
      "<__main__.Student object at 0x000001A8AD6F2B50>\n",
      "0x1a8ad6f2b50\n"
     ]
    }
   ],
   "source": [
    "student_1 = Student()\n",
    "print(student_1)\n",
    "print(hex(id(student_1)))"
   ]
  },
  {
   "cell_type": "markdown",
   "metadata": {},
   "source": [
    "## 1.4. <a id='toc1_4_'></a>[isinstance()函数](#toc0_)\n",
    "\n",
    "isinstance()函数是用来判断一个对象是不是一个类</br>\n",
    "类型的对象\n"
   ]
  },
  {
   "cell_type": "code",
   "execution_count": 6,
   "metadata": {},
   "outputs": [
    {
     "name": "stdout",
     "output_type": "stream",
     "text": [
      "True\n",
      "False\n"
     ]
    }
   ],
   "source": [
    "class Person:\n",
    "    pass\n",
    "\n",
    "\n",
    "print(isinstance(student_1, Student))\n",
    "print(isinstance(student_1, Person))"
   ]
  },
  {
   "cell_type": "markdown",
   "metadata": {},
   "source": [
    "## 1.5. <a id='toc1_5_'></a>[Python中的类本身也是一个对象](#toc0_)\n",
    "Python中的类本身也是‘type’类型的对象"
   ]
  },
  {
   "cell_type": "code",
   "execution_count": 9,
   "metadata": {},
   "outputs": [
    {
     "name": "stdout",
     "output_type": "stream",
     "text": [
      "<class '__main__.Student'>\n",
      "<class 'type'>\n",
      "<class 'type'>\n",
      "True\n"
     ]
    }
   ],
   "source": [
    "print(type(student_1))\n",
    "print(type(Student))\n",
    "print(type(Person))\n",
    "\n",
    "print(isinstance(Student, type))"
   ]
  },
  {
   "cell_type": "markdown",
   "metadata": {},
   "source": [
    "# 2. <a id='toc2_'></a>[类变量](#toc0_)\n",
    "---\n",
    "## 2.1. <a id='toc2_1_'></a>[什么是类变量](#toc0_)\n",
    "- 属于类本身这个对象的属性\n",
    "- 所有该类的对象都共享类变量"
   ]
  },
  {
   "cell_type": "code",
   "execution_count": 12,
   "metadata": {},
   "outputs": [
    {
     "name": "stdout",
     "output_type": "stream",
     "text": [
      "Student\n",
      "mappingproxy({'__dict__': <attribute '__dict__' of 'Student' objects>,\n",
      "              '__doc__': None,\n",
      "              '__module__': '__main__',\n",
      "              '__weakref__': <attribute '__weakref__' of 'Student' objects>})\n"
     ]
    }
   ],
   "source": [
    "from pprint import pprint\n",
    "\n",
    "\n",
    "class Student:\n",
    "    pass\n",
    "\n",
    "\n",
    "print(Student.__name__)\n",
    "pprint(Student.__dict__)"
   ]
  },
  {
   "cell_type": "markdown",
   "metadata": {},
   "source": [
    "## 2.2. <a id='toc2_2_'></a>[定义类变量](#toc0_)\n",
    "定义类变量"
   ]
  },
  {
   "cell_type": "code",
   "execution_count": 16,
   "metadata": {},
   "outputs": [],
   "source": [
    "class Student:\n",
    "    student_count = 8"
   ]
  },
  {
   "cell_type": "markdown",
   "metadata": {},
   "source": [
    "## 2.3. <a id='toc2_3_'></a>[取得类变量的值](#toc0_)\n",
    "\n",
    "直接取值和使用getattr()函数"
   ]
  },
  {
   "cell_type": "code",
   "execution_count": null,
   "metadata": {},
   "outputs": [],
   "source": [
    "pprint(Student.student_count)\n",
    "pprint(getattr(Student, \"student_count\"))\n",
    "# pprint(Student.unkonwn)\n",
    "pprint(getattr(Student, \"unkonwn\", \"10\"))"
   ]
  },
  {
   "cell_type": "markdown",
   "metadata": {},
   "source": [
    "## 2.4. <a id='toc2_4_'></a>[设置类变量的值](#toc0_)\n",
    "\n",
    "直接赋值和使用setattr()函数"
   ]
  },
  {
   "cell_type": "code",
   "execution_count": 21,
   "metadata": {},
   "outputs": [
    {
     "name": "stdout",
     "output_type": "stream",
     "text": [
      "89\n",
      "100\n",
      "女\n",
      "定义在类外为函数\n"
     ]
    }
   ],
   "source": [
    "# type: ignore\n",
    "Student.student_count = 89\n",
    "print(Student.student_count)\n",
    "\n",
    "setattr(Student, \"student_count\", 100)\n",
    "print(Student.student_count)\n",
    "\n",
    "# * 动态绑定属性和方法\n",
    "Student.gender = \"女\"\n",
    "print(Student.gender)\n",
    "\n",
    "\n",
    "@classmethod\n",
    "def show(cls):\n",
    "    print(\"定义在类外为函数\")\n",
    "\n",
    "\n",
    "Student.show = show\n",
    "Student.show()"
   ]
  },
  {
   "cell_type": "markdown",
   "metadata": {},
   "source": [
    "## 2.5. <a id='toc2_5_'></a>[删除类变量](#toc0_)\n",
    "\n",
    "使用del操作符或使用delattr()函数"
   ]
  },
  {
   "cell_type": "code",
   "execution_count": 22,
   "metadata": {},
   "outputs": [
    {
     "ename": "AttributeError",
     "evalue": "type object 'Student' has no attribute 'student_count'",
     "output_type": "error",
     "traceback": [
      "\u001b[1;31m---------------------------------------------------------------------------\u001b[0m",
      "\u001b[1;31mAttributeError\u001b[0m                            Traceback (most recent call last)",
      "Cell \u001b[1;32mIn[22], line 3\u001b[0m\n\u001b[0;32m      1\u001b[0m \u001b[39mdel\u001b[39;00m Student\u001b[39m.\u001b[39mstudent_count\n\u001b[1;32m----> 3\u001b[0m \u001b[39mprint\u001b[39m(Student\u001b[39m.\u001b[39;49mstudent_count)\n",
      "\u001b[1;31mAttributeError\u001b[0m: type object 'Student' has no attribute 'student_count'"
     ]
    }
   ],
   "source": [
    "# type: ignore\n",
    "del Student.student_count\n",
    "# delattr(Student,\"gender\")\n",
    "\n",
    "print(Student.student_count)\n",
    "# print(Student.gender)"
   ]
  },
  {
   "cell_type": "markdown",
   "metadata": {},
   "source": [
    "## 2.6. <a id='toc2_6_'></a>[类变量的存储](#toc0_)\n",
    "\n",
    "类变量全部存放在类变量__dict__这个字典中，但不要直接修改__dict__的内容"
   ]
  },
  {
   "cell_type": "code",
   "execution_count": 23,
   "metadata": {},
   "outputs": [
    {
     "name": "stdout",
     "output_type": "stream",
     "text": [
      "mappingproxy({'__dict__': <attribute '__dict__' of 'Student' objects>,\n",
      "              '__doc__': None,\n",
      "              '__module__': '__main__',\n",
      "              '__weakref__': <attribute '__weakref__' of 'Student' objects>,\n",
      "              'gender': '女',\n",
      "              'show': <classmethod object at 0x000001A8AD879D30>})\n"
     ]
    }
   ],
   "source": [
    "pprint(Student.__dict__)"
   ]
  },
  {
   "cell_type": "markdown",
   "metadata": {},
   "source": [
    "# 3. <a id='toc3_'></a>[实例变量与函数](#toc0_)\n",
    "---\n",
    "## 3.1. <a id='toc3_1_'></a>[实例函数的定义](#toc0_)\n",
    "定义实例函数"
   ]
  },
  {
   "cell_type": "code",
   "execution_count": 7,
   "metadata": {},
   "outputs": [
    {
     "name": "stdout",
     "output_type": "stream",
     "text": [
      "---\n",
      "***\n",
      "hello heihei\n",
      "hello haha\n"
     ]
    }
   ],
   "source": [
    "class Student:\n",
    "    def say_hello(self, msg: str) -> None:\n",
    "        print(f\"hello {msg}\")\n",
    "\n",
    "\n",
    "s1 = Student()\n",
    "s1.say_hello(\"heihei\")\n",
    "Student.say_hello(s1, \"haha\")"
   ]
  },
  {
   "cell_type": "markdown",
   "metadata": {},
   "source": [
    "## 3.2. <a id='toc3_2_'></a>[认识__init__函数](#toc0_)\n",
    "python中__init__()函数是用于初始化对象的**实例函数**"
   ]
  },
  {
   "cell_type": "code",
   "execution_count": 8,
   "metadata": {},
   "outputs": [
    {
     "name": "stdout",
     "output_type": "stream",
     "text": [
      "hello 11111, Jack\n",
      "hello 22222, Tom\n"
     ]
    }
   ],
   "source": [
    "class Student:\n",
    "    def __init__(self, name: str) -> None:\n",
    "        self.name = name\n",
    "\n",
    "    def say_hello(self, msg: str) -> None:\n",
    "        print(f\"hello {msg}, {self.name}\")\n",
    "\n",
    "\n",
    "# 1. create a physical object\n",
    "# 2. call __init__() to initialize this object\n",
    "s1 = Student(\"Jack\")\n",
    "s2 = Student(\"Tom\")\n",
    "\n",
    "s1.say_hello(\"11111\")\n",
    "s2.say_hello(\"22222\")"
   ]
  },
  {
   "cell_type": "code",
   "execution_count": 9,
   "metadata": {},
   "outputs": [
    {
     "name": "stdout",
     "output_type": "stream",
     "text": [
      "Male\n"
     ]
    },
    {
     "ename": "AttributeError",
     "evalue": "'Student' object has no attribute 'gender'",
     "output_type": "error",
     "traceback": [
      "\u001b[1;31m---------------------------------------------------------------------------\u001b[0m",
      "\u001b[1;31mAttributeError\u001b[0m                            Traceback (most recent call last)",
      "Cell \u001b[1;32mIn[9], line 5\u001b[0m\n\u001b[0;32m      2\u001b[0m s1\u001b[39m.\u001b[39mgender \u001b[39m=\u001b[39m \u001b[39m'\u001b[39m\u001b[39mMale\u001b[39m\u001b[39m'\u001b[39m \u001b[39m# * 动态设置实例变量\u001b[39;00m\n\u001b[0;32m      3\u001b[0m \u001b[39mprint\u001b[39m(s1\u001b[39m.\u001b[39mgender)\n\u001b[1;32m----> 5\u001b[0m \u001b[39mprint\u001b[39m(s2\u001b[39m.\u001b[39;49mgender)\n",
      "\u001b[1;31mAttributeError\u001b[0m: 'Student' object has no attribute 'gender'"
     ]
    }
   ],
   "source": [
    "# type: ignore\n",
    "s1.gender = \"Male\"  # * 动态设置实例变量\n",
    "print(s1.gender)\n",
    "\n",
    "print(s2.gender)"
   ]
  },
  {
   "cell_type": "markdown",
   "metadata": {},
   "source": [
    "## 3.3. <a id='toc3_3_'></a>[定义实例变量](#toc0_)\n",
    "\n",
    "在__init__()函数中定义实例变量\n",
    "\n",
    "    class Student:\n",
    "        def __init__(self,name: str) -> None:\n",
    "            self.name = name\n",
    "            \n",
    "    s1 = Student('Jack')"
   ]
  },
  {
   "cell_type": "markdown",
   "metadata": {},
   "source": [
    "## 3.4. <a id='toc3_4_'></a>[实例函数中访问实例变量](#toc0_)\n",
    "\n",
    "在实例函数中通过self访问实例变量\n",
    "\n",
    "    class Student:\n",
    "        def __init__(self,name: str) -> None:\n",
    "            self.name = name\n",
    "            \n",
    "            \n",
    "        def say_hello(self, msg: str) -> None:\n",
    "            print(f\"hello {msg}, {self.name}\")"
   ]
  },
  {
   "cell_type": "markdown",
   "metadata": {},
   "source": [
    "## 3.5. <a id='toc3_5_'></a>[外部访问实例变量与函数](#toc0_)\n",
    "\n",
    "在类的外部访问实例变量与函数\n",
    "\n",
    "    class Student:\n",
    "        def __init__(self,name: str) -> None:\n",
    "            self.name = name\n",
    "\n",
    "        def say_hello(self, msg: str) -> None:\n",
    "            print(f\"hello {msg}, {self.name}\")\n",
    "            \n",
    "    s1 = Student('Jack')\n",
    "    s1.name = 'Tom'\n",
    "    s1.say_hello('11111')"
   ]
  }
 ],
 "metadata": {
  "kernelspec": {
   "display_name": "study",
   "language": "python",
   "name": "python3"
  },
  "language_info": {
   "codemirror_mode": {
    "name": "ipython",
    "version": 3
   },
   "file_extension": ".py",
   "mimetype": "text/x-python",
   "name": "python",
   "nbconvert_exporter": "python",
   "pygments_lexer": "ipython3",
   "version": "3.9.15 (main, Nov  4 2022, 16:35:55) [MSC v.1916 64 bit (AMD64)]"
  },
  "orig_nbformat": 4,
  "vscode": {
   "interpreter": {
    "hash": "49fdd20b2b68a4dd8ebcbb061b9c04f8e52f6472af90d6159269a7c8abf5d944"
   }
  }
 },
 "nbformat": 4,
 "nbformat_minor": 2
}
