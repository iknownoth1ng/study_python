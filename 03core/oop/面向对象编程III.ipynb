{
 "cells": [
  {
   "cell_type": "markdown",
   "metadata": {},
   "source": [
    "**Table of contents**<a id='toc0_'></a>    \n",
    "1. [property类](#toc1_)    \n",
    "1.1. [如何防止实例变量被外部错误修改](#toc1_1_)    \n",
    "1.2. [编写setter和getter方法](#toc1_2_)    \n",
    "1.3. [引入property类](#toc1_3_)    \n",
    "2. [@property装饰器](#toc2_)    \n",
    "2.1. [@property装饰器](#toc2_1_)    \n",
    "2.2. [@property.setter装饰器](#toc2_2_)    \n",
    "3. [只读property](#toc3_)    \n",
    "3.1. [标记一个方法为property](#toc3_1_)    \n",
    "3.2. [缓存property的值](#toc3_2_)    \n",
    "4. [删除property](#toc4_)    \n",
    "4.1. [@property.deleter装饰器](#toc4_1_)    \n",
    "\n",
    "<!-- vscode-jupyter-toc-config\n",
    "\tnumbering=true\n",
    "\tanchor=true\n",
    "\tflat=true\n",
    "\tminLevel=1\n",
    "\tmaxLevel=6\n",
    "\t/vscode-jupyter-toc-config -->\n",
    "<!-- THIS CELL WILL BE REPLACED ON TOC UPDATE. DO NOT WRITE YOUR TEXT IN THIS CELL -->"
   ]
  },
  {
   "cell_type": "markdown",
   "metadata": {},
   "source": [
    "# 1. <a id='toc1_'></a>[property类](#toc0_)\n",
    "---\n",
    "## 1.1. <a id='toc1_1_'></a>[如何防止实例变量被外部错误修改](#toc0_)\n"
   ]
  },
  {
   "cell_type": "code",
   "execution_count": 7,
   "metadata": {},
   "outputs": [
    {
     "name": "stdout",
     "output_type": "stream",
     "text": [
      "Jack 的年龄是：-2岁\n"
     ]
    }
   ],
   "source": [
    "class Student:\n",
    "    def __init__(self, name, age):\n",
    "        self.name = name\n",
    "        self.age = age\n",
    "    \n",
    "    def __str__(self) -> str:\n",
    "        return (f'{self.name} 的年龄是：{self.age}岁')\n",
    "    \n",
    "student =Student('Jack',19)\n",
    "student.age = -2 #! this is wrong value for the age\n",
    "\n",
    "print(student)"
   ]
  },
  {
   "cell_type": "markdown",
   "metadata": {},
   "source": [
    "## 1.2. <a id='toc1_2_'></a>[编写setter和getter方法](#toc0_)\n",
    "\n",
    "通过使用setter方法来阻止外部错误修改"
   ]
  },
  {
   "cell_type": "code",
   "execution_count": 11,
   "metadata": {},
   "outputs": [
    {
     "ename": "Exception",
     "evalue": "age must be between 0 and 200",
     "output_type": "error",
     "traceback": [
      "\u001b[1;31m---------------------------------------------------------------------------\u001b[0m",
      "\u001b[1;31mException\u001b[0m                                 Traceback (most recent call last)",
      "Cell \u001b[1;32mIn[11], line 22\u001b[0m\n\u001b[0;32m     19\u001b[0m student\u001b[39m.\u001b[39mset_age(\u001b[39m25\u001b[39m)\n\u001b[0;32m     20\u001b[0m student\u001b[39m.\u001b[39mget_age()\n\u001b[1;32m---> 22\u001b[0m student\u001b[39m.\u001b[39;49mset_age(\u001b[39m250\u001b[39;49m)\n",
      "Cell \u001b[1;32mIn[11], line 8\u001b[0m, in \u001b[0;36mStudent.set_age\u001b[1;34m(self, age)\u001b[0m\n\u001b[0;32m      6\u001b[0m \u001b[39mdef\u001b[39;00m \u001b[39mset_age\u001b[39m(\u001b[39mself\u001b[39m,age:\u001b[39mint\u001b[39m):\n\u001b[0;32m      7\u001b[0m     \u001b[39mif\u001b[39;00m age \u001b[39m<\u001b[39m \u001b[39m0\u001b[39m \u001b[39mor\u001b[39;00m age \u001b[39m>\u001b[39m \u001b[39m200\u001b[39m:\n\u001b[1;32m----> 8\u001b[0m         \u001b[39mraise\u001b[39;00m \u001b[39mException\u001b[39;00m(\u001b[39m\"\u001b[39m\u001b[39mage must be between 0 and 200\u001b[39m\u001b[39m\"\u001b[39m)\n\u001b[0;32m      9\u001b[0m     \u001b[39mself\u001b[39m\u001b[39m.\u001b[39m__age \u001b[39m=\u001b[39m age\n",
      "\u001b[1;31mException\u001b[0m: age must be between 0 and 200"
     ]
    }
   ],
   "source": [
    "class Student:\n",
    "    def __init__(self, name, age):\n",
    "        self.name = name\n",
    "        self.__age = age\n",
    "        \n",
    "    def set_age(self,age:int):\n",
    "        if age < 0 or age > 200:\n",
    "            raise ValueError(\"age must be between 0 and 200\")\n",
    "        self.__age = age\n",
    "    \n",
    "    def get_age(self) -> int:\n",
    "        return self.__age\n",
    "        \n",
    "    def __str__(self) -> str:\n",
    "        return (f'{self.name} 的年龄是：{self.__age}岁')\n",
    "    \n",
    "student =Student('Jack',19)\n",
    "# student.age = -2 #! this is wrong value for the age \n",
    "student.set_age(25)\n",
    "student.get_age()\n",
    "\n",
    "# student.age = 18 #? 如果别人之前用你的代码，就是这样赋值的怎么办？ \n",
    "student.set_age(250)"
   ]
  },
  {
   "cell_type": "markdown",
   "metadata": {},
   "source": [
    "## 1.3. <a id='toc1_3_'></a>[引入property类](#toc0_)"
   ]
  },
  {
   "cell_type": "code",
   "execution_count": 14,
   "metadata": {},
   "outputs": [
    {
     "name": "stdout",
     "output_type": "stream",
     "text": [
      "19\n"
     ]
    },
    {
     "ename": "Exception",
     "evalue": "age must be between 0 and 200",
     "output_type": "error",
     "traceback": [
      "\u001b[1;31m---------------------------------------------------------------------------\u001b[0m",
      "\u001b[1;31mException\u001b[0m                                 Traceback (most recent call last)",
      "Cell \u001b[1;32mIn[14], line 21\u001b[0m\n\u001b[0;32m     19\u001b[0m student \u001b[39m=\u001b[39mStudent(\u001b[39m'\u001b[39m\u001b[39mJack\u001b[39m\u001b[39m'\u001b[39m,\u001b[39m19\u001b[39m)\n\u001b[0;32m     20\u001b[0m \u001b[39mprint\u001b[39m(student\u001b[39m.\u001b[39mage)\n\u001b[1;32m---> 21\u001b[0m student\u001b[39m.\u001b[39mage \u001b[39m=\u001b[39m \u001b[39m-\u001b[39m\u001b[39m2\u001b[39m\n",
      "Cell \u001b[1;32mIn[14], line 8\u001b[0m, in \u001b[0;36mStudent.set_age\u001b[1;34m(self, age)\u001b[0m\n\u001b[0;32m      6\u001b[0m \u001b[39mdef\u001b[39;00m \u001b[39mset_age\u001b[39m(\u001b[39mself\u001b[39m,age:\u001b[39mint\u001b[39m):\n\u001b[0;32m      7\u001b[0m     \u001b[39mif\u001b[39;00m age \u001b[39m<\u001b[39m \u001b[39m0\u001b[39m \u001b[39mor\u001b[39;00m age \u001b[39m>\u001b[39m \u001b[39m200\u001b[39m:\n\u001b[1;32m----> 8\u001b[0m         \u001b[39mraise\u001b[39;00m \u001b[39mException\u001b[39;00m(\u001b[39m\"\u001b[39m\u001b[39mage must be between 0 and 200\u001b[39m\u001b[39m\"\u001b[39m)\n\u001b[0;32m      9\u001b[0m     \u001b[39mself\u001b[39m\u001b[39m.\u001b[39m__age \u001b[39m=\u001b[39m age\n",
      "\u001b[1;31mException\u001b[0m: age must be between 0 and 200"
     ]
    }
   ],
   "source": [
    "class Student:\n",
    "    def __init__(self, name, age):\n",
    "        self.name = name\n",
    "        self.__age = age\n",
    "        \n",
    "    def set_age(self,age:int):\n",
    "        if age < 0 or age > 200:\n",
    "            raise ValueError(\"age must be between 0 and 200\")\n",
    "        self.__age = age\n",
    "    \n",
    "    def get_age(self) -> int:\n",
    "        return self.__age\n",
    "        \n",
    "    def __str__(self) -> str:\n",
    "        return (f'{self.name} 的年龄是：{self.__age}岁')\n",
    "    \n",
    "    age=property(fget=get_age,fset=set_age) # * 关键代码\n",
    "    \n",
    "student =Student('Jack',19)\n",
    "print(student.age)\n",
    "student.age = -2 #! this is wrong value for the age "
   ]
  },
  {
   "cell_type": "markdown",
   "metadata": {},
   "source": [
    "# 2. <a id='toc2_'></a>[@property装饰器](#toc0_)\n",
    "---\n",
    "## 2.1. <a id='toc2_1_'></a>[@property装饰器](#toc0_)\n",
    "该装饰器用来取值"
   ]
  },
  {
   "cell_type": "code",
   "execution_count": 16,
   "metadata": {},
   "outputs": [
    {
     "name": "stdout",
     "output_type": "stream",
     "text": [
      "19\n"
     ]
    }
   ],
   "source": [
    "class Student:\n",
    "    def __init__(self, name, age):\n",
    "        self.name = name\n",
    "        self.__age = age\n",
    "        \n",
    "    def set_age(self,age:int):\n",
    "        if age < 0 or age > 200:\n",
    "            raise ValueError(\"age must be between 0 and 200\")\n",
    "        self.__age = age\n",
    "    \n",
    "    @property #* 关键代码->函数名称要于属性名称相同\n",
    "    def age(self) -> int:\n",
    "        return self.__age\n",
    "        \n",
    "    def __str__(self) -> str:\n",
    "        return (f'{self.name} 的年龄是：{self.__age}岁')\n",
    "    \n",
    "    \n",
    "student =Student('Jack',19)\n",
    "print(student.age)"
   ]
  },
  {
   "cell_type": "markdown",
   "metadata": {},
   "source": [
    "## 2.2. <a id='toc2_2_'></a>[@property.setter装饰器](#toc0_)\n",
    "该装饰器用来赋值"
   ]
  },
  {
   "cell_type": "code",
   "execution_count": 24,
   "metadata": {},
   "outputs": [
    {
     "name": "stdout",
     "output_type": "stream",
     "text": [
      "3\n"
     ]
    }
   ],
   "source": [
    "class Student:\n",
    "    def __init__(self, name, age):\n",
    "        self.name = name\n",
    "        self.__age = age\n",
    "\n",
    "    @property  # * 关键代码->函数名称要于属性名称相同\n",
    "    def age(self) -> int:\n",
    "        return self.__age\n",
    "\n",
    "    @age.setter\n",
    "    def age(self, age: int):\n",
    "        if age < 0 or age > 200:\n",
    "            raise ValueError(\"age must be between 0 and 200\")\n",
    "        self.__age = age\n",
    "\n",
    "    def __str__(self) -> str:\n",
    "        return f\"{self.name} 的年龄是：{self.__age}岁\"\n",
    "\n",
    "\n",
    "student = Student(\"Jack\", 19)\n",
    "student.age = 3\n",
    "print(student.age)"
   ]
  },
  {
   "cell_type": "markdown",
   "metadata": {},
   "source": [
    "# 3. <a id='toc3_'></a>[只读property](#toc0_)\n",
    "---\n",
    "## 3.1. <a id='toc3_1_'></a>[标记一个方法为property](#toc0_)\n",
    "\n"
   ]
  },
  {
   "cell_type": "code",
   "execution_count": 26,
   "metadata": {},
   "outputs": [
    {
     "name": "stdout",
     "output_type": "stream",
     "text": [
      "25\n"
     ]
    }
   ],
   "source": [
    "class Square:\n",
    "    def __init__(self, width) -> None:\n",
    "        self.__width = width\n",
    "\n",
    "    @property\n",
    "    def area(self):\n",
    "        return self.__width**2\n",
    "\n",
    "\n",
    "square = Square(5)\n",
    "print(square.area)"
   ]
  },
  {
   "cell_type": "markdown",
   "metadata": {},
   "source": [
    "## 3.2. <a id='toc3_2_'></a>[缓存property的值](#toc0_)"
   ]
  },
  {
   "cell_type": "code",
   "execution_count": 35,
   "metadata": {},
   "outputs": [
    {
     "name": "stdout",
     "output_type": "stream",
     "text": [
      "25\n",
      "25\n",
      "36\n"
     ]
    }
   ],
   "source": [
    "class Square:\n",
    "    def __init__(self, width) -> None:\n",
    "        self.__width = width\n",
    "        self.__area=None\n",
    "\n",
    "    @property\n",
    "    def area(self):\n",
    "        if self.__area is None :\n",
    "            self.__area = self.__width**2\n",
    "        return self.__area \n",
    "\n",
    "    @property\n",
    "    def width(self):\n",
    "        return self.__width\n",
    "    \n",
    "    @width.setter\n",
    "    def width(self, width):\n",
    "        if width <=0:\n",
    "            raise ValueError(\"width is not illegal\")\n",
    "        self.__width = width\n",
    "        self.__area = None #* 关键代码：将__area置为None\n",
    "    \n",
    "square = Square(5)\n",
    "print(square.area)\n",
    "print(square.area)\n",
    "\n",
    "square.width = 6\n",
    "print(square.area)"
   ]
  },
  {
   "cell_type": "markdown",
   "metadata": {},
   "source": [
    "# 4. <a id='toc4_'></a>[删除property](#toc0_)\n",
    "---\n",
    "\n",
    "## 4.1. <a id='toc4_1_'></a>[@property.deleter装饰器](#toc0_)"
   ]
  },
  {
   "cell_type": "code",
   "execution_count": 38,
   "metadata": {},
   "outputs": [
    {
     "name": "stdout",
     "output_type": "stream",
     "text": [
      "25\n",
      "36\n"
     ]
    }
   ],
   "source": [
    "class Square:\n",
    "    def __init__(self, width) -> None:\n",
    "        self.__width = width\n",
    "        self.__area=None\n",
    "\n",
    "    @property\n",
    "    def area(self):\n",
    "        if self.__area is None :\n",
    "            self.__area = self.__width**2\n",
    "        return self.__area \n",
    "    \n",
    "    @area.deleter\n",
    "    def area(self):\n",
    "        self.__area = None\n",
    "\n",
    "    @property\n",
    "    def width(self):\n",
    "        return self.__width\n",
    "    \n",
    "    @width.setter\n",
    "    def width(self, width):\n",
    "        if width <=0:\n",
    "            raise ValueError(\"width is not illegal\")\n",
    "        self.__width = width\n",
    "        # del square.area #todo 写在这里也可以\n",
    "    \n",
    "square = Square(5)\n",
    "print(square.area)\n",
    "\n",
    "square.width = 6\n",
    "del square.area # * 关键代码：将__area置为None\n",
    "print(square.area)"
   ]
  }
 ],
 "metadata": {
  "kernelspec": {
   "display_name": "study",
   "language": "python",
   "name": "python3"
  },
  "language_info": {
   "codemirror_mode": {
    "name": "ipython",
    "version": 3
   },
   "file_extension": ".py",
   "mimetype": "text/x-python",
   "name": "python",
   "nbconvert_exporter": "python",
   "pygments_lexer": "ipython3",
   "version": "3.9.15 (main, Nov  4 2022, 16:35:55) [MSC v.1916 64 bit (AMD64)]"
  },
  "orig_nbformat": 4,
  "vscode": {
   "interpreter": {
    "hash": "49fdd20b2b68a4dd8ebcbb061b9c04f8e52f6472af90d6159269a7c8abf5d944"
   }
  }
 },
 "nbformat": 4,
 "nbformat_minor": 2
}
