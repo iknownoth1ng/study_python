{
 "cells": [
  {
   "attachments": {},
   "cell_type": "markdown",
   "metadata": {},
   "source": [
    "# 多继承\n",
    "---\n",
    "## 多继承的语法\n"
   ]
  },
  {
   "cell_type": "code",
   "execution_count": 1,
   "metadata": {},
   "outputs": [
    {
     "name": "stdout",
     "output_type": "stream",
     "text": [
      "A\n",
      "hello B\n"
     ]
    }
   ],
   "source": [
    "class A():\n",
    "    def render(self):\n",
    "        print('A')\n",
    "\n",
    "class B():\n",
    "    def hello(self):\n",
    "        print('hello B')\n",
    "\n",
    "class C(A,B):\n",
    "    pass\n",
    "\n",
    "c = C()\n",
    "c.render()\n",
    "c.hello()"
   ]
  },
  {
   "attachments": {},
   "cell_type": "markdown",
   "metadata": {},
   "source": [
    "## 同名函数的继承问题"
   ]
  },
  {
   "attachments": {},
   "cell_type": "markdown",
   "metadata": {},
   "source": [
    "按照继承的顺序调用首先出现的函数"
   ]
  },
  {
   "cell_type": "code",
   "execution_count": 2,
   "metadata": {},
   "outputs": [
    {
     "name": "stdout",
     "output_type": "stream",
     "text": [
      "A\n",
      "hello B\n"
     ]
    }
   ],
   "source": [
    "class A():\n",
    "    def render(self):\n",
    "        print('A')\n",
    "\n",
    "class B():\n",
    "    def render(self):\n",
    "        print('B')\n",
    "    \n",
    "    def hello(self):\n",
    "        print('hello B')\n",
    "\n",
    "class C(A,B):\n",
    "    pass\n",
    "\n",
    "c = C()\n",
    "c.render()\n",
    "c.hello()"
   ]
  },
  {
   "cell_type": "code",
   "execution_count": 5,
   "metadata": {},
   "outputs": [
    {
     "name": "stdout",
     "output_type": "stream",
     "text": [
      "B\n",
      "hello B\n"
     ]
    }
   ],
   "source": [
    "class A():\n",
    "    def render(self):\n",
    "        print('A')\n",
    "\n",
    "class B():\n",
    "    def render(self):\n",
    "        print('B')\n",
    "    \n",
    "    def hello(self):\n",
    "        print('hello B')\n",
    "\n",
    "class C(B,A):\n",
    "    pass\n",
    "\n",
    "c = C()\n",
    "c.render()\n",
    "c.hello()"
   ]
  },
  {
   "attachments": {},
   "cell_type": "markdown",
   "metadata": {},
   "source": [
    "指定要执行哪个父类的函数"
   ]
  },
  {
   "cell_type": "code",
   "execution_count": 6,
   "metadata": {},
   "outputs": [
    {
     "name": "stdout",
     "output_type": "stream",
     "text": [
      "A\n",
      "hello A\n"
     ]
    }
   ],
   "source": [
    "class A():\n",
    "    def render(self):\n",
    "        print('A')\n",
    "        \n",
    "    def hello(self):\n",
    "        print('hello A')\n",
    "\n",
    "class B():\n",
    "    def render(self):\n",
    "        print('B')\n",
    "    \n",
    "    def hello(self):\n",
    "        print('hello B')\n",
    "\n",
    "class C(B,A):\n",
    "    def hello(self):\n",
    "        # super().hello() #! 这样还是无法指定\n",
    "        A.hello(self)\n",
    "        \n",
    "    def render(self):\n",
    "        A.render(self)\n",
    "        \n",
    "c = C()\n",
    "c.render()\n",
    "c.hello()"
   ]
  },
  {
   "attachments": {},
   "cell_type": "markdown",
   "metadata": {},
   "source": [
    "# 描述符\n",
    "---\n",
    "## 类属性定义时的麻烦\n",
    "\n",
    "相同的逻辑判断，需要写两遍甚至多遍。"
   ]
  },
  {
   "cell_type": "code",
   "execution_count": 13,
   "metadata": {},
   "outputs": [
    {
     "name": "stdout",
     "output_type": "stream",
     "text": [
      "Jack\n",
      "alice\n"
     ]
    },
    {
     "ename": "ValueError",
     "evalue": "Last name must not be empty",
     "output_type": "error",
     "traceback": [
      "\u001b[1;31m---------------------------------------------------------------------------\u001b[0m",
      "\u001b[1;31mValueError\u001b[0m                                Traceback (most recent call last)",
      "Cell \u001b[1;32mIn[13], line 38\u001b[0m\n\u001b[0;32m     34\u001b[0m \u001b[39mprint\u001b[39m(s\u001b[39m.\u001b[39mfirst_name)\n\u001b[0;32m     35\u001b[0m \u001b[39m# s.first_name=1\u001b[39;00m\n\u001b[0;32m     36\u001b[0m \u001b[39m# s.first_name=''\u001b[39;00m\n\u001b[0;32m     37\u001b[0m \u001b[39m# print(s.first_name) #! First name must not be empty\u001b[39;00m\n\u001b[1;32m---> 38\u001b[0m s\u001b[39m.\u001b[39mlast_name\u001b[39m=\u001b[39m\u001b[39m\"\u001b[39m\u001b[39m\"\u001b[39m\n\u001b[0;32m     39\u001b[0m \u001b[39mprint\u001b[39m(s\u001b[39m.\u001b[39mlast_name)\n",
      "Cell \u001b[1;32mIn[13], line 27\u001b[0m, in \u001b[0;36mStudent1.last_name\u001b[1;34m(self, last_name)\u001b[0m\n\u001b[0;32m     25\u001b[0m     \u001b[39mraise\u001b[39;00m \u001b[39mValueError\u001b[39;00m(\u001b[39m\"\u001b[39m\u001b[39mLast name must be a string\u001b[39m\u001b[39m\"\u001b[39m)\n\u001b[0;32m     26\u001b[0m \u001b[39mif\u001b[39;00m \u001b[39mnot\u001b[39;00m last_name:\n\u001b[1;32m---> 27\u001b[0m     \u001b[39mraise\u001b[39;00m \u001b[39mValueError\u001b[39;00m(\u001b[39m\"\u001b[39m\u001b[39mLast name must not be empty\u001b[39m\u001b[39m\"\u001b[39m)\n\u001b[0;32m     28\u001b[0m \u001b[39mself\u001b[39m\u001b[39m.\u001b[39m__last_name \u001b[39m=\u001b[39m last_name\n",
      "\u001b[1;31mValueError\u001b[0m: Last name must not be empty"
     ]
    }
   ],
   "source": [
    "class Student1:\n",
    "    def __init__(self,first_name:str,last_name:str) -> None:\n",
    "        self.first_name = first_name\n",
    "        self.last_name = last_name\n",
    "        \n",
    "    @property\n",
    "    def first_name(self) -> str:\n",
    "        return self.__first_name\n",
    "    \n",
    "    @first_name.setter\n",
    "    def first_name(self,first_name:str):\n",
    "        if not isinstance(first_name,str):\n",
    "            raise ValueError(\"First name must be a string\")\n",
    "        if not first_name:\n",
    "            raise ValueError(\"First name must not be empty\")\n",
    "        self.__first_name = first_name\n",
    "    \n",
    "    @property\n",
    "    def last_name(self) -> str:\n",
    "        return self.__last_name\n",
    "    \n",
    "    @last_name.setter\n",
    "    def last_name(self,last_name:str):\n",
    "        if not isinstance(last_name,str):\n",
    "            raise ValueError(\"Last name must be a string\")\n",
    "        if not last_name:\n",
    "            raise ValueError(\"Last name must not be empty\")\n",
    "        self.__last_name = last_name\n",
    "        \n",
    "        \n",
    "s = Student1('Jack','M')\n",
    "print(s.first_name)\n",
    "s.first_name='alice'\n",
    "print(s.first_name)\n",
    "# s.first_name=1\n",
    "# s.first_name=''\n",
    "# print(s.first_name) #! First name must not be empty\n",
    "s.last_name=\"\"\n",
    "print(s.last_name) #! Last name must not be empty"
   ]
  },
  {
   "attachments": {},
   "cell_type": "markdown",
   "metadata": {},
   "source": [
    "## 描述符的规定\n",
    "\n",
    "描述符是一个特殊的类，要求实现如下一些方法\n",
    "\n",
    "- \\_\\_set_name__(self,owner,name)\n",
    "- \\_\\_get__(self,instance,owner)\n",
    "- \\_\\_set__(self,instance,value)\n",
    "- \\_\\_delete__(self,instance)"
   ]
  },
  {
   "cell_type": "code",
   "execution_count": 50,
   "metadata": {},
   "outputs": [
    {
     "name": "stdout",
     "output_type": "stream",
     "text": [
      "Jack M : None\n",
      "None\n"
     ]
    },
    {
     "ename": "ValueError",
     "evalue": "first_name must be not empty",
     "output_type": "error",
     "traceback": [
      "\u001b[1;31m---------------------------------------------------------------------------\u001b[0m",
      "\u001b[1;31mValueError\u001b[0m                                Traceback (most recent call last)",
      "Cell \u001b[1;32mIn[50], line 40\u001b[0m\n\u001b[0;32m     37\u001b[0m s2\u001b[39m.\u001b[39mpassword \u001b[39m=\u001b[39m \u001b[39m\"\u001b[39m\u001b[39m1\u001b[39m\u001b[39m\"\u001b[39m\n\u001b[0;32m     38\u001b[0m \u001b[39mprint\u001b[39m(s2\u001b[39m.\u001b[39mfirst_name)\n\u001b[1;32m---> 40\u001b[0m s2\u001b[39m.\u001b[39mfirst_name \u001b[39m=\u001b[39m \u001b[39m\"\u001b[39m\u001b[39m  \u001b[39m\u001b[39m\"\u001b[39m\n\u001b[0;32m     41\u001b[0m \u001b[39mprint\u001b[39m(s2)\n",
      "Cell \u001b[1;32mIn[50], line 17\u001b[0m, in \u001b[0;36mRequireString.__set__\u001b[1;34m(self, instance, value)\u001b[0m\n\u001b[0;32m     15\u001b[0m     \u001b[39mraise\u001b[39;00m \u001b[39mTypeError\u001b[39;00m(\u001b[39mf\u001b[39m\u001b[39m\"\u001b[39m\u001b[39m{\u001b[39;00m\u001b[39mself\u001b[39m\u001b[39m.\u001b[39m__property_name\u001b[39m}\u001b[39;00m\u001b[39m must be a string\u001b[39m\u001b[39m\"\u001b[39m)\n\u001b[0;32m     16\u001b[0m \u001b[39mif\u001b[39;00m \u001b[39mself\u001b[39m\u001b[39m.\u001b[39m__trim \u001b[39mand\u001b[39;00m \u001b[39mnot\u001b[39;00m value\u001b[39m.\u001b[39mstrip():\n\u001b[1;32m---> 17\u001b[0m     \u001b[39mraise\u001b[39;00m \u001b[39mValueError\u001b[39;00m(\u001b[39mf\u001b[39m\u001b[39m\"\u001b[39m\u001b[39m{\u001b[39;00m\u001b[39mself\u001b[39m\u001b[39m.\u001b[39m__property_name\u001b[39m}\u001b[39;00m\u001b[39m must be not empty\u001b[39m\u001b[39m\"\u001b[39m)\n\u001b[0;32m     18\u001b[0m instance\u001b[39m.\u001b[39m\u001b[39m__dict__\u001b[39m[\u001b[39mself\u001b[39m\u001b[39m.\u001b[39m__property_name] \u001b[39m=\u001b[39m value\n",
      "\u001b[1;31mValueError\u001b[0m: first_name must be not empty"
     ]
    }
   ],
   "source": [
    "class RequireString():\n",
    "    def __init__(self,trim=False):\n",
    "        self.__trim = trim\n",
    "    \n",
    "    def __set_name__(self,owner,name):\n",
    "        self.__property_name = name\n",
    "\n",
    "    def __get__(self,instance,owner):\n",
    "        if self.__property_name in instance.__dict__:\n",
    "            return instance.__dict__[self.__property_name]\n",
    "        return None\n",
    "        \n",
    "    def __set__(self,instance,value):\n",
    "        if not isinstance(value,str):\n",
    "            raise TypeError(f\"{self.__property_name} must be a string\")\n",
    "        if self.__trim and not value.strip():\n",
    "            raise ValueError(f\"{self.__property_name} must be not empty\")\n",
    "        instance.__dict__[self.__property_name] = value\n",
    "\n",
    "class Student:\n",
    "    first_name = RequireString(True)\n",
    "    last_name = RequireString(True)\n",
    "    password = RequireString()\n",
    "    \n",
    "        \n",
    "    def __str__(self):\n",
    "        return f\"{self.first_name} {self.last_name} : {self.password}\"\n",
    "        \n",
    "\n",
    "s1 = Student()\n",
    "s2 = Student()\n",
    "\n",
    "s1.first_name = 'Jack'\n",
    "s1.last_name = \"M\"\n",
    "print(s1)\n",
    "\n",
    "s2.password = \"1\"\n",
    "print(s2.first_name)\n",
    "\n",
    "s2.first_name = \"  \"\n",
    "print(s2)"
   ]
  },
  {
   "attachments": {},
   "cell_type": "markdown",
   "metadata": {},
   "source": [
    "## 实例演示"
   ]
  },
  {
   "cell_type": "code",
   "execution_count": 51,
   "metadata": {},
   "outputs": [
    {
     "name": "stdout",
     "output_type": "stream",
     "text": [
      "Writing AbstractValidator.py\n"
     ]
    }
   ],
   "source": [
    "%%writefile AbstractValidator.py\n",
    "#!/usr/bin/env python\n",
    "# -*- encoding: utf-8 -*-\n",
    "\"\"\"\n",
    "@File    :   面向对象编程VI.ipynb\n",
    "@Time    :   2023/01/10 21:27:37\n",
    "@Author  :   owl\n",
    "@Email   :   xxxxx@163.com\n",
    "@Desp    :   验证器是一个用于托管属性访问的描述器。在存储任何数据之前，它会验证新值是否满足各种类型和范围限制。如果不满足这些限制，它将引发异常，从源头上防止数据损坏。\n",
    "这个 Validator 类既是一个 abstract base class 也是一个托管属性描述器。\n",
    "\"\"\"\n",
    "\n",
    "# here put the import lib\n",
    "from abc import ABC, abstractmethod\n",
    "\n",
    "\n",
    "class Validator(ABC):\n",
    "    def __set_name__(self, owner, name):\n",
    "        self.private_name = f\"_{name}\"\n",
    "\n",
    "    def __get__(self, obj, objtype=None):\n",
    "        return getattr(obj, self.private_name)\n",
    "\n",
    "    def __set__(self, obj, value):\n",
    "        self.validate(value)\n",
    "        setattr(obj, self.private_name, value)\n",
    "\n",
    "    @abstractmethod\n",
    "    def validate(self, value):\n",
    "        pass"
   ]
  },
  {
   "cell_type": "code",
   "execution_count": 52,
   "metadata": {},
   "outputs": [
    {
     "name": "stdout",
     "output_type": "stream",
     "text": [
      "Writing CustomValidator.py\n"
     ]
    }
   ],
   "source": [
    "%%writefile CustomValidator.py\n",
    "#!/usr/bin/env python\n",
    "# -*- encoding: utf-8 -*-\n",
    "\"\"\"\n",
    "@File    :   面向对象编程VI.ipynb\n",
    "@Time    :   2023/01/10 21:28:57\n",
    "@Author  :   owl\n",
    "@Email   :   xxxxx@163.com\n",
    "@Desp    :   自定义验证器需要从 Validator 继承，并且必须提供 validate() 方法以根据需要测试各种约束。\n",
    "\"\"\"\n",
    "\n",
    "# here put the import lib\n",
    "from AbstractValidator import Validator\n",
    "\n",
    "\"\"\"\n",
    "这是三个实用的数据验证工具：\n",
    "\n",
    "1. OneOf 验证值是一组受约束的选项之一。\n",
    "\n",
    "2. Number 验证值是否为 int 或 float。根据可选参数，它还可以验证值在给定的最小值或最大值之间。\n",
    "\n",
    "3. String 验证值是否为 str。根据可选参数，它可以验证给定的最小或最大长度。它还可以验证用户定义的 predicate。\n",
    "\"\"\"\n",
    "\n",
    "\n",
    "class OneOf(Validator):\n",
    "    def __init__(self, *options):\n",
    "        self.options = set(options)\n",
    "\n",
    "    def validate(self, value):\n",
    "        if value not in self.options:\n",
    "            raise ValueError(f\"Expected {value!r} to be one of {self.options!r}\")\n",
    "\n",
    "\n",
    "class Number(Validator):\n",
    "    def __init__(self, minvalue=None, maxvalue=None):\n",
    "        self.minvalue = minvalue\n",
    "        self.maxvalue = maxvalue\n",
    "\n",
    "    def validate(self, value):\n",
    "        if not isinstance(value, (int, float)):\n",
    "            raise TypeError(f\"Expected {value!r} to be an int or float\")\n",
    "        if self.minvalue is not None and value < self.minvalue:\n",
    "            raise ValueError(f\"Expected {value!r} to be at least {self.minvalue!r}\")\n",
    "        if self.maxvalue is not None and value > self.maxvalue:\n",
    "            raise ValueError(f\"Expected {value!r} to be no more than {self.maxvalue!r}\")\n",
    "\n",
    "\n",
    "class String(Validator):\n",
    "    def __init__(self, minsize=None, maxsize=None, predicate=None):\n",
    "        self.minsize = minsize\n",
    "        self.maxsize = maxsize\n",
    "        self.predicate = predicate\n",
    "\n",
    "    def validate(self, value):\n",
    "        if not isinstance(value, str):\n",
    "            raise TypeError(f\"Expected {value!r} to be an str\")\n",
    "        if self.minsize is not None and len(value) < self.minsize:\n",
    "            raise ValueError(\n",
    "                f\"Expected {value!r} to be no smaller than {self.minsize!r}\"\n",
    "            )\n",
    "        if self.maxsize is not None and len(value) > self.maxsize:\n",
    "            raise ValueError(\n",
    "                f\"Expected {value!r} to be no bigger than {self.maxsize!r}\"\n",
    "            )\n",
    "        if self.predicate is not None and not self.predicate(value):\n",
    "            raise ValueError(f\"Expected {self.predicate} to be true for {value!r}\")\n",
    "\n"
   ]
  },
  {
   "cell_type": "code",
   "execution_count": 53,
   "metadata": {},
   "outputs": [
    {
     "name": "stdout",
     "output_type": "stream",
     "text": [
      "Writing PracticalApplication.py\n"
     ]
    }
   ],
   "source": [
    "%%writefile PracticalApplication.py\n",
    "#!/usr/bin/env python\n",
    "# -*- encoding: utf-8 -*-\n",
    "\"\"\"\n",
    "@File    :   面向对象编程VI.ipynb\n",
    "@Time    :   2023/01/10 21:33:05\n",
    "@Author  :   owl\n",
    "@Email   :   xxxxx@163.com\n",
    "@Desp    :   这是在真实类中使用数据验证器的方法：\n",
    "\"\"\"\n",
    "\n",
    "# here put the import lib\n",
    "from CustomValidator import *\n",
    "\n",
    "\n",
    "class Component:\n",
    "\n",
    "    name = String(minsize=3, maxsize=10, predicate=str.isupper)\n",
    "    kind = OneOf(\"wood\", \"metal\", \"plastic\")\n",
    "    quantity = Number(minvalue=0)\n",
    "\n",
    "    def __init__(self, name, kind, quantity):\n",
    "        self.name = name\n",
    "        self.kind = kind\n",
    "        self.quantity = quantity\n",
    "\n",
    "\n",
    "Component(\"Widget\", \"metal\", 5)\n",
    "Component(\"WIDGET\", \"metle\", 5)\n",
    "Component(\"WIDGET\", \"metal\", -5)\n",
    "Component(\"WIDGET\", \"metal\", \"V\")\n",
    "c = Component(\"WIDGET\", \"metal\", 5)"
   ]
  }
 ],
 "metadata": {
  "kernelspec": {
   "display_name": "study",
   "language": "python",
   "name": "python3"
  },
  "language_info": {
   "codemirror_mode": {
    "name": "ipython",
    "version": 3
   },
   "file_extension": ".py",
   "mimetype": "text/x-python",
   "name": "python",
   "nbconvert_exporter": "python",
   "pygments_lexer": "ipython3",
   "version": "3.9.15"
  },
  "orig_nbformat": 4,
  "vscode": {
   "interpreter": {
    "hash": "49fdd20b2b68a4dd8ebcbb061b9c04f8e52f6472af90d6159269a7c8abf5d944"
   }
  }
 },
 "nbformat": 4,
 "nbformat_minor": 2
}
