{
 "cells": [
  {
   "cell_type": "markdown",
   "metadata": {},
   "source": [
    "**Table of contents**<a id='toc0_'></a>    \n",
    "1. [类的继承](#toc1_)    \n",
    "1.1. [类继承的定义](#toc1_1_)    \n",
    "1.2. [isinstance()](#toc1_2_)    \n",
    "1.3. [issubclass()](#toc1_3_)    \n",
    "2. [方法重写](#toc2_)    \n",
    "2.1. [什么是方法重写](#toc2_1_)    \n",
    "2.2. [方法重写](#toc2_2_)    \n",
    "2.3. [类属性重写](#toc2_3_)    \n",
    "2.4. [调用父类方法](#toc2_4_)    \n",
    "3. [抽象类](#toc3_)    \n",
    "3.1. [什么是抽象类](#toc3_1_)    \n",
    "3.2. [如何定义抽象类](#toc3_2_)    \n",
    "3.3. [如何定义抽象方法](#toc3_3_)    \n",
    "3.4. [实例](#toc3_4_)    \n",
    "\n",
    "<!-- vscode-jupyter-toc-config\n",
    "\tnumbering=true\n",
    "\tanchor=true\n",
    "\tflat=true\n",
    "\tminLevel=1\n",
    "\tmaxLevel=6\n",
    "\t/vscode-jupyter-toc-config -->\n",
    "<!-- THIS CELL WILL BE REPLACED ON TOC UPDATE. DO NOT WRITE YOUR TEXT IN THIS CELL -->"
   ]
  },
  {
   "cell_type": "markdown",
   "metadata": {},
   "source": [
    "# 1. <a id='toc1_'></a>[类的继承](#toc0_)\n",
    "---\n",
    "## 1.1. <a id='toc1_1_'></a>[类继承的定义](#toc0_)\n"
   ]
  },
  {
   "cell_type": "code",
   "execution_count": 12,
   "metadata": {},
   "outputs": [
    {
     "name": "stdout",
     "output_type": "stream",
     "text": [
      "Person : init is called\n",
      "Jack\n",
      "Tom\n"
     ]
    }
   ],
   "source": [
    "class Person:\n",
    "    def __init__(self):\n",
    "        print(\"Person : init is called\")\n",
    "        self.name = \"Jack\"\n",
    "        \n",
    "class Student(Person):\n",
    "    pass\n",
    "\n",
    "student = Student()\n",
    "print(student.name)\n",
    "\n",
    "student.name = \"Tom\"\n",
    "print(student.name)"
   ]
  },
  {
   "cell_type": "code",
   "execution_count": 13,
   "metadata": {},
   "outputs": [
    {
     "name": "stdout",
     "output_type": "stream",
     "text": [
      "Student : init is called\n"
     ]
    },
    {
     "ename": "AttributeError",
     "evalue": "'Student' object has no attribute 'name'",
     "output_type": "error",
     "traceback": [
      "\u001b[1;31m---------------------------------------------------------------------------\u001b[0m",
      "\u001b[1;31mAttributeError\u001b[0m                            Traceback (most recent call last)",
      "Cell \u001b[1;32mIn[13], line 12\u001b[0m\n\u001b[0;32m      9\u001b[0m         \u001b[39mself\u001b[39m\u001b[39m.\u001b[39mschool\u001b[39m=\u001b[39m\u001b[39m'\u001b[39m\u001b[39mABC\u001b[39m\u001b[39m'\u001b[39m\n\u001b[0;32m     11\u001b[0m student \u001b[39m=\u001b[39m Student()\n\u001b[1;32m---> 12\u001b[0m \u001b[39mprint\u001b[39m(student\u001b[39m.\u001b[39;49mname)\n",
      "\u001b[1;31mAttributeError\u001b[0m: 'Student' object has no attribute 'name'"
     ]
    }
   ],
   "source": [
    "class Person:\n",
    "    def __init__(self):\n",
    "        print(\"Person : init is called\")\n",
    "        self.name = \"Jack\"\n",
    "        \n",
    "class Student(Person):\n",
    "    def __init__(self): #! 子类有__init__（）函数后，不会再执行父类的初始化方法。\n",
    "        print(\"Student : init is called\")\n",
    "        self.school='ABC'\n",
    "\n",
    "student = Student()\n",
    "print(student.name)"
   ]
  },
  {
   "cell_type": "code",
   "execution_count": 16,
   "metadata": {},
   "outputs": [
    {
     "name": "stdout",
     "output_type": "stream",
     "text": [
      "Student : init is called\n",
      "Person : init is called\n",
      "Jack\n",
      "ABC\n"
     ]
    }
   ],
   "source": [
    "class Person:\n",
    "    def __init__(self):\n",
    "        print(\"Person : init is called\")\n",
    "        self.name = \"Jack\"\n",
    "        \n",
    "class Student(Person):\n",
    "    def __init__(self): #! 子类有__init__（）函数后，不会再执行父类的初始化方法。\n",
    "        print(\"Student : init is called\")\n",
    "        super().__init__()\n",
    "        self.school='ABC'\n",
    "\n",
    "student = Student()\n",
    "print(student.name)\n",
    "print(student.school)"
   ]
  },
  {
   "cell_type": "markdown",
   "metadata": {},
   "source": [
    "## 1.2. <a id='toc1_2_'></a>[isinstance()](#toc0_)\n"
   ]
  },
  {
   "cell_type": "code",
   "execution_count": 23,
   "metadata": {},
   "outputs": [
    {
     "name": "stdout",
     "output_type": "stream",
     "text": [
      "True\n",
      "True\n",
      "Person : init is called\n",
      "False\n"
     ]
    }
   ],
   "source": [
    "print(isinstance(student, Student))\n",
    "print(isinstance(student,Person))\n",
    "\n",
    "person = Person()\n",
    "print(isinstance(person,Student))"
   ]
  },
  {
   "cell_type": "markdown",
   "metadata": {},
   "source": [
    "## 1.3. <a id='toc1_3_'></a>[issubclass()](#toc0_)"
   ]
  },
  {
   "cell_type": "code",
   "execution_count": 25,
   "metadata": {},
   "outputs": [
    {
     "name": "stdout",
     "output_type": "stream",
     "text": [
      "False\n",
      "True\n",
      "False\n"
     ]
    }
   ],
   "source": [
    "class Stone:\n",
    "    pass\n",
    "\n",
    "print(issubclass(Person,Student))\n",
    "print(issubclass(Student,Person))\n",
    "\n",
    "print(issubclass(Stone,Person))"
   ]
  },
  {
   "cell_type": "markdown",
   "metadata": {},
   "source": [
    "# 2. <a id='toc2_'></a>[方法重写](#toc0_)\n",
    "---\n",
    "## 2.1. <a id='toc2_1_'></a>[什么是方法重写](#toc0_)\n",
    "\n",
    "方法重写特指在子类中重新定义父类的方法"
   ]
  },
  {
   "cell_type": "markdown",
   "metadata": {},
   "source": [
    "## 2.2. <a id='toc2_2_'></a>[方法重写](#toc0_)"
   ]
  },
  {
   "cell_type": "code",
   "execution_count": 32,
   "metadata": {},
   "outputs": [
    {
     "name": "stdout",
     "output_type": "stream",
     "text": [
      "Student\n",
      "Person\n"
     ]
    }
   ],
   "source": [
    "class Person:\n",
    "    def say(self):\n",
    "        print('Person')\n",
    "        \n",
    "    def beautify_method(self):\n",
    "        print('子类觉得很不错的方法')\n",
    "\n",
    "class Student(Person):\n",
    "    def say(self):\n",
    "        print('Student')\n",
    "\n",
    "student = Student()\n",
    "student.say()\n",
    "\n",
    "person = Person()\n",
    "person.say()"
   ]
  },
  {
   "cell_type": "code",
   "execution_count": 31,
   "metadata": {},
   "outputs": [
    {
     "name": "stdout",
     "output_type": "stream",
     "text": [
      "Student\n",
      "Person\n",
      "Person\n"
     ]
    }
   ],
   "source": [
    "class Person:\n",
    "    def say(self):\n",
    "        print('Person')\n",
    "        \n",
    "    def beautify_method(self):\n",
    "        print('子类觉得很不错的方法')\n",
    "\n",
    "class Student(Person):\n",
    "    def say(self):\n",
    "        print('Student')\n",
    "        \n",
    "class Worker(Person):\n",
    "    pass\n",
    "\n",
    "def render(person:Person):\n",
    "    person.say()\n",
    "\n",
    "\n",
    "student = Student()\n",
    "render(student)\n",
    "\n",
    "person = Person()\n",
    "render(person)\n",
    "\n",
    "render(Worker())"
   ]
  },
  {
   "cell_type": "markdown",
   "metadata": {},
   "source": [
    "## 2.3. <a id='toc2_3_'></a>[类属性重写](#toc0_)\n"
   ]
  },
  {
   "cell_type": "code",
   "execution_count": 36,
   "metadata": {},
   "outputs": [
    {
     "name": "stdout",
     "output_type": "stream",
     "text": [
      "zh\n"
     ]
    }
   ],
   "source": [
    "class Person:\n",
    "    language = \"wawawa\"\n",
    "    \n",
    "    def say(self):\n",
    "        print('Person')\n",
    "        \n",
    "    def print_language(self):\n",
    "        print(self.language)\n",
    "        \n",
    "\n",
    "class Student(Person):\n",
    "    language = \"zh\"\n",
    "    \n",
    "    def say(self):\n",
    "        print('Student')\n",
    "        \n",
    "student = Student()\n",
    "student.print_language()"
   ]
  },
  {
   "cell_type": "markdown",
   "metadata": {},
   "source": [
    "## 2.4. <a id='toc2_4_'></a>[调用父类方法](#toc0_)"
   ]
  },
  {
   "cell_type": "code",
   "execution_count": 37,
   "metadata": {},
   "outputs": [
    {
     "name": "stdout",
     "output_type": "stream",
     "text": [
      "Person\n",
      "Student\n"
     ]
    }
   ],
   "source": [
    "class Person:\n",
    "    language = \"wawawa\"\n",
    "    \n",
    "    def say(self):\n",
    "        print('Person')\n",
    "        \n",
    "    def print_language(self):\n",
    "        print(self.language)\n",
    "        \n",
    "\n",
    "class Student(Person):\n",
    "    language = \"zh\"\n",
    "    \n",
    "    def say(self):\n",
    "        super().say() #* 调用父类的方法\n",
    "        print('Student')\n",
    "        \n",
    "student = Student()\n",
    "student.say()\n"
   ]
  },
  {
   "cell_type": "markdown",
   "metadata": {},
   "source": [
    "# 3. <a id='toc3_'></a>[抽象类](#toc0_)\n",
    "---\n",
    "## 3.1. <a id='toc3_1_'></a>[什么是抽象类](#toc0_)\n",
    "抽象类是一个不能被实例化的类</br>\n",
    "抽象方法是一个没有具体实现的方法</br>\n",
    "一个抽象类可以有或者没有抽象方法</br>\n",
    "Python并没有直接支持抽象类，但是提供了一个模块（abc）来允许定义抽象类</br>"
   ]
  },
  {
   "cell_type": "markdown",
   "metadata": {},
   "source": [
    "## 3.2. <a id='toc3_2_'></a>[如何定义抽象类](#toc0_)\n",
    "通过继承abc.ABC类定义一个抽象类"
   ]
  },
  {
   "cell_type": "code",
   "execution_count": 39,
   "metadata": {},
   "outputs": [],
   "source": [
    "from abc import ABC\n",
    "\n",
    "class Action(ABC):\n",
    "    pass\n",
    "\n",
    "action = Action() #* 抽象类里没有抽象方法，可以实例化"
   ]
  },
  {
   "cell_type": "code",
   "execution_count": 40,
   "metadata": {},
   "outputs": [
    {
     "ename": "TypeError",
     "evalue": "Can't instantiate abstract class Action with abstract method excute",
     "output_type": "error",
     "traceback": [
      "\u001b[1;31m---------------------------------------------------------------------------\u001b[0m",
      "\u001b[1;31mTypeError\u001b[0m                                 Traceback (most recent call last)",
      "Cell \u001b[1;32mIn[40], line 10\u001b[0m\n\u001b[0;32m      5\u001b[0m     \u001b[39m@abstractmethod\u001b[39m\n\u001b[0;32m      6\u001b[0m     \u001b[39mdef\u001b[39;00m \u001b[39mexcute\u001b[39m(\u001b[39mself\u001b[39m):\n\u001b[0;32m      7\u001b[0m         \u001b[39mpass\u001b[39;00m\n\u001b[1;32m---> 10\u001b[0m action \u001b[39m=\u001b[39m Action()\n",
      "\u001b[1;31mTypeError\u001b[0m: Can't instantiate abstract class Action with abstract method excute"
     ]
    }
   ],
   "source": [
    "from abc import ABC, abstractmethod\n",
    "\n",
    "class Action(ABC):\n",
    "    \n",
    "    @abstractmethod\n",
    "    def excute(self):\n",
    "        pass\n",
    "    \n",
    "\n",
    "action = Action() #! Can't instantiate abstract class Action with abstract method excute"
   ]
  },
  {
   "cell_type": "markdown",
   "metadata": {},
   "source": [
    "## 3.3. <a id='toc3_3_'></a>[如何定义抽象方法](#toc0_)\n",
    "\n",
    "在方法上输入@abstractmethod"
   ]
  },
  {
   "cell_type": "code",
   "execution_count": 44,
   "metadata": {},
   "outputs": [
    {
     "name": "stdout",
     "output_type": "stream",
     "text": [
      "Create a student\n",
      "Delete a student\n",
      "Create a student\n",
      "Delete a student\n"
     ]
    }
   ],
   "source": [
    "from abc import ABC, abstractmethod\n",
    "\n",
    "class Action(ABC):\n",
    "    \n",
    "    @abstractmethod\n",
    "    def excute(self):\n",
    "        pass\n",
    "\n",
    "class CreateStudentAction(Action):\n",
    "    def excute(self):\n",
    "        print('Create a student')\n",
    "\n",
    "class DeleteStudentAction(Action):\n",
    "    def excute(self):\n",
    "        print('Delete a student')\n",
    "\n",
    "create_student_action=CreateStudentAction()\n",
    "create_student_action.excute()\n",
    "\n",
    "delete_student_action=DeleteStudentAction()\n",
    "delete_student_action.excute()\n",
    "\n",
    "def excute_aciton(action:Action):\n",
    "    action.excute()\n",
    "    \n",
    "excute_aciton(create_student_action)\n",
    "excute_aciton(delete_student_action)"
   ]
  },
  {
   "cell_type": "markdown",
   "metadata": {},
   "source": [
    "## 3.4. <a id='toc3_4_'></a>[实例](#toc0_)\n",
    "\n",
    "比如说大学里面的学生分为国内生和国际生</br>\n",
    "那么就可以定义Student类为抽象的父类</br>\n",
    "定义DomesticStudent和InternationalStudent为子类来实现抽象的父类</br>"
   ]
  }
 ],
 "metadata": {
  "kernelspec": {
   "display_name": "study",
   "language": "python",
   "name": "python3"
  },
  "language_info": {
   "codemirror_mode": {
    "name": "ipython",
    "version": 3
   },
   "file_extension": ".py",
   "mimetype": "text/x-python",
   "name": "python",
   "nbconvert_exporter": "python",
   "pygments_lexer": "ipython3",
   "version": "3.9.15 (main, Nov  4 2022, 16:35:55) [MSC v.1916 64 bit (AMD64)]"
  },
  "orig_nbformat": 4,
  "vscode": {
   "interpreter": {
    "hash": "49fdd20b2b68a4dd8ebcbb061b9c04f8e52f6472af90d6159269a7c8abf5d944"
   }
  }
 },
 "nbformat": 4,
 "nbformat_minor": 2
}
