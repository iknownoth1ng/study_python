{
 "cells": [
  {
   "attachments": {},
   "cell_type": "markdown",
   "metadata": {},
   "source": [
    "# 元类实现ORM\n",
    "---\n",
    "\n",
    "## ORM是什么\n",
    "\n",
    "ORM 是 python编程语言后端web框架 Django的核心思想，“Object Relational Mapping”，即对象-关系映射，简称ORM。\n",
    "\n",
    "一个句话理解就是：创建一个实例对象，用创建它的类名当做数据表名，用创建它的类属性对应数据表的字段，当对这个实例对象操作时，能够对应MySQL语句\n",
    "\n",
    "demo:"
   ]
  },
  {
   "cell_type": "code",
   "execution_count": null,
   "metadata": {},
   "outputs": [],
   "source": [
    "class User(父类省略):\n",
    "    uid = ('uid', \"int unsigned\")\n",
    "    name = ('username', \"varchar(30)\")\n",
    "    email = ('email', \"varchar(30)\")\n",
    "    password = ('password', \"varchar(30)\")\n",
    "    ...省略...\n",
    "\n",
    "\n",
    "u = User(uid=12345, name='Michael', email='test@orm.org', password='my-pwd')\n",
    "u.save()\n",
    "# 对应如下sql语句\n",
    "# insert into User (username,email,password,uid)\n",
    "# values ('Michael','test@orm.org','my-pwd',12345)"
   ]
  },
  {
   "attachments": {},
   "cell_type": "markdown",
   "metadata": {},
   "source": [
    "**说明**\n",
    "1. 所谓的ORM就是让开发者在操作数据库的时候，能够像操作对象时通过xxxx.属性=yyyy一样简单，这是开发ORM的初衷\n",
    "2. 只不过ORM的实现较为复杂，Django中已经实现了 很复杂的操作，本节知识 主要通过完成一个 insert相类似的ORM，理解其中的道理就就可以了\n",
    "\n",
    "## 通过元类简单实现ORM中的insert功能"
   ]
  },
  {
   "cell_type": "code",
   "execution_count": 2,
   "metadata": {},
   "outputs": [
    {
     "name": "stdout",
     "output_type": "stream",
     "text": [
      "Found mapping: uid ==> ('uid', 'int unsigned')\n",
      "Found mapping: name ==> ('username', 'varchar(30)')\n",
      "Found mapping: email ==> ('email', 'varchar(30)')\n",
      "Found mapping: password ==> ('password', 'varchar(30)')\n",
      "SQL: insert into User (uid,username,email,password) values (12345,Michael,test@orm.org,my-pwd)\n"
     ]
    }
   ],
   "source": [
    "class ModelMetaclass(type):\n",
    "    def __new__(cls, name, bases, attrs):\n",
    "        mappings = {}\n",
    "        # 判断是否需要保存\n",
    "        for k, v in attrs.items():\n",
    "            # 判断是否是指定的StringField或者IntegerField的实例对象\n",
    "            if isinstance(v, tuple):\n",
    "                print(f\"Found mapping: {k} ==> {v}\")\n",
    "                mappings[k] = v\n",
    "\n",
    "        # 删除这些已经在字典中存储的属性\n",
    "        for k in mappings:\n",
    "            attrs.pop(k)\n",
    "\n",
    "        # 将之前的uid/name/email/password以及对应的对象引用、类名字\n",
    "        attrs[\"__mappings__\"] = mappings  # 保存属性和列的映射关系\n",
    "        attrs[\"__table__\"] = name  # 假设表名和类名一致\n",
    "        return type.__new__(cls, name, bases, attrs)\n",
    "\n",
    "\n",
    "class User(metaclass=ModelMetaclass):\n",
    "    uid = (\"uid\", \"int unsigned\")\n",
    "    name = (\"username\", \"varchar(30)\")\n",
    "    email = (\"email\", \"varchar(30)\")\n",
    "    password = (\"password\", \"varchar(30)\")\n",
    "    # 当指定元类之后，以上的类属性将不在类中，而是在__mappings__属性指定的字典中存储\n",
    "    # 以上User类中有\n",
    "    # __mappings__ = {\n",
    "    #     \"uid\": ('uid', \"int unsigned\")\n",
    "    #     \"name\": ('username', \"varchar(30)\")\n",
    "    #     \"email\": ('email', \"varchar(30)\")\n",
    "    #     \"password\": ('password', \"varchar(30)\")\n",
    "    # }\n",
    "    # __table__ = \"User\"\n",
    "    def __init__(self, **kwargs):\n",
    "        for name, value in kwargs.items():\n",
    "            setattr(self, name, value)\n",
    "\n",
    "    def save(self):\n",
    "        fields = []\n",
    "        args = []\n",
    "        for k, v in self.__mappings__.items():\n",
    "            fields.append(v[0])\n",
    "            args.append(getattr(self, k, None))\n",
    "\n",
    "        sql = f'insert into {self.__table__} ({\",\".join(fields)}) values ({\",\".join([str(i) for i in args])})'\n",
    "        print(f\"SQL: {sql}\")\n",
    "\n",
    "\n",
    "u = User(uid=12345, name=\"Michael\", email=\"test@orm.org\", password=\"my-pwd\")\n",
    "# print(u.__dict__)\n",
    "u.save()"
   ]
  },
  {
   "attachments": {},
   "cell_type": "markdown",
   "metadata": {},
   "source": [
    "## 完善对数据类型的检测"
   ]
  },
  {
   "cell_type": "code",
   "execution_count": 3,
   "metadata": {},
   "outputs": [
    {
     "name": "stdout",
     "output_type": "stream",
     "text": [
      "Found mapping: uid ==> ('uid', 'int unsigned')\n",
      "Found mapping: name ==> ('username', 'varchar(30)')\n",
      "Found mapping: email ==> ('email', 'varchar(30)')\n",
      "Found mapping: password ==> ('password', 'varchar(30)')\n",
      "SQL: insert into User (uid,username,email,password) values (12345,'Michael','test@orm.org','my-pwd')\n"
     ]
    }
   ],
   "source": [
    "class ModelMetaclass(type):\n",
    "    def __new__(cls, name, bases, attrs):\n",
    "        mappings = {}\n",
    "        # 判断是否需要保存\n",
    "        for k, v in attrs.items():\n",
    "            # 判断是否是指定的StringField或者IntegerField的实例对象\n",
    "            if isinstance(v, tuple):\n",
    "                print(f'Found mapping: {k} ==> {v}')\n",
    "                mappings[k] = v\n",
    "\n",
    "        # 删除这些已经在字典中存储的属性\n",
    "        for k in mappings:\n",
    "            attrs.pop(k)\n",
    "\n",
    "        # 将之前的uid/name/email/password以及对应的对象引用、类名字\n",
    "        attrs['__mappings__'] = mappings  # 保存属性和列的映射关系\n",
    "        attrs['__table__'] = name  # 假设表名和类名一致\n",
    "        return type.__new__(cls, name, bases, attrs)\n",
    "\n",
    "\n",
    "class User(metaclass=ModelMetaclass):\n",
    "    uid = ('uid', \"int unsigned\")\n",
    "    name = ('username', \"varchar(30)\")\n",
    "    email = ('email', \"varchar(30)\")\n",
    "    password = ('password', \"varchar(30)\")\n",
    "    # 当指定元类之后，以上的类属性将不在类中，而是在__mappings__属性指定的字典中存储\n",
    "    # 以上User类中有 \n",
    "    # __mappings__ = {\n",
    "    #     \"uid\": ('uid', \"int unsigned\")\n",
    "    #     \"name\": ('username', \"varchar(30)\")\n",
    "    #     \"email\": ('email', \"varchar(30)\")\n",
    "    #     \"password\": ('password', \"varchar(30)\")\n",
    "    # }\n",
    "    # __table__ = \"User\"\n",
    "    def __init__(self, **kwargs):\n",
    "        for name, value in kwargs.items():\n",
    "            setattr(self, name, value)\n",
    "\n",
    "    def save(self):\n",
    "        fields = []\n",
    "        args = []\n",
    "        for k, v in self.__mappings__.items():\n",
    "            fields.append(v[0])\n",
    "            args.append(getattr(self, k, None))\n",
    "\n",
    "        args_temp = []\n",
    "        for temp in args:\n",
    "            # 判断入如果是数字类型\n",
    "            if isinstance(temp, int):\n",
    "                args_temp.append(str(temp))\n",
    "            elif isinstance(temp, str):\n",
    "                args_temp.append(f\"\"\"'{temp}'\"\"\")\n",
    "        sql = f\"insert into {self.__table__} ({','.join(fields)}) values ({','.join(args_temp)})\"\n",
    "        print(f'SQL: {sql}')\n",
    "\n",
    "\n",
    "u = User(uid=12345, name='Michael', email='test@orm.org', password='my-pwd')\n",
    "# print(u.__dict__)\n",
    "u.save()\n"
   ]
  },
  {
   "attachments": {},
   "cell_type": "markdown",
   "metadata": {},
   "source": [
    "##  抽取到基类中"
   ]
  },
  {
   "cell_type": "code",
   "execution_count": 4,
   "metadata": {},
   "outputs": [
    {
     "name": "stdout",
     "output_type": "stream",
     "text": [
      "Found mapping: uid ==> ('uid', 'int unsigned')\n",
      "Found mapping: name ==> ('username', 'varchar(30)')\n",
      "Found mapping: email ==> ('email', 'varchar(30)')\n",
      "Found mapping: password ==> ('password', 'varchar(30)')\n",
      "SQL: insert into User (uid,username,email,password) values (12345,'Michael','test@orm.org','my-pwd')\n"
     ]
    }
   ],
   "source": [
    "class ModelMetaclass(type):\n",
    "    def __new__(cls, name, bases, attrs):\n",
    "        mappings = {}\n",
    "        # 判断是否需要保存\n",
    "        for k, v in attrs.items():\n",
    "            # 判断是否是指定的StringField或者IntegerField的实例对象\n",
    "            if isinstance(v, tuple):\n",
    "                print(f'Found mapping: {k} ==> {v}')\n",
    "                mappings[k] = v\n",
    "\n",
    "        # 删除这些已经在字典中存储的属性\n",
    "        for k in mappings:\n",
    "            attrs.pop(k)\n",
    "\n",
    "        # 将之前的uid/name/email/password以及对应的对象引用、类名字\n",
    "        attrs['__mappings__'] = mappings  # 保存属性和列的映射关系\n",
    "        attrs['__table__'] = name  # 假设表名和类名一致\n",
    "        return type.__new__(cls, name, bases, attrs)\n",
    "\n",
    "\n",
    "class Model(object, metaclass=ModelMetaclass):\n",
    "    def __init__(self, **kwargs):\n",
    "        for name, value in kwargs.items():\n",
    "            setattr(self, name, value)\n",
    "\n",
    "    def save(self):\n",
    "        fields = []\n",
    "        args = []\n",
    "        for k, v in self.__mappings__.items():\n",
    "            fields.append(v[0])\n",
    "            args.append(getattr(self, k, None))\n",
    "\n",
    "        args_temp = []\n",
    "        for temp in args:\n",
    "            # 判断入如果是数字类型\n",
    "            if isinstance(temp, int):\n",
    "                args_temp.append(str(temp))\n",
    "            elif isinstance(temp, str):\n",
    "                args_temp.append(f\"\"\"'{temp}'\"\"\")\n",
    "        sql = f\"insert into {self.__table__} ({','.join(fields)}) values ({','.join(args_temp)})\"\n",
    "        print(f'SQL: {sql}')\n",
    "\n",
    "\n",
    "class User(Model):\n",
    "    uid = ('uid', \"int unsigned\")\n",
    "    name = ('username', \"varchar(30)\")\n",
    "    email = ('email', \"varchar(30)\")\n",
    "    password = ('password', \"varchar(30)\")\n",
    "\n",
    "\n",
    "u = User(uid=12345, name='Michael', email='test@orm.org', password='my-pwd')\n",
    "# print(u.__dict__)\n",
    "u.save()\n"
   ]
  }
 ],
 "metadata": {
  "kernelspec": {
   "display_name": "study",
   "language": "python",
   "name": "python3"
  },
  "language_info": {
   "codemirror_mode": {
    "name": "ipython",
    "version": 3
   },
   "file_extension": ".py",
   "mimetype": "text/x-python",
   "name": "python",
   "nbconvert_exporter": "python",
   "pygments_lexer": "ipython3",
   "version": "3.9.15"
  },
  "orig_nbformat": 4,
  "vscode": {
   "interpreter": {
    "hash": "49fdd20b2b68a4dd8ebcbb061b9c04f8e52f6472af90d6159269a7c8abf5d944"
   }
  }
 },
 "nbformat": 4,
 "nbformat_minor": 2
}
