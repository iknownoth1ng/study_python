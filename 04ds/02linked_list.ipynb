{
 "cells": [
  {
   "cell_type": "markdown",
   "metadata": {},
   "source": [
    "链表：\n",
    "- 我们先来讨论一个经典的链表应用场景，那就是 LRU 缓存淘汰算法。\n",
    "- 缓存的大小有限，当缓存被用满时，哪些数据应该被清理出去，哪些数据应该被保留？这就需要缓存淘汰策略来决定。常见的策略有三种：先进先出策略 FIFO（First In，First Out）、最少使用策略 LFU（Least Frequently Used）、最近最少使用策略 LRU（Least Recently Used）。"
   ]
  },
  {
   "cell_type": "markdown",
   "metadata": {},
   "source": [
    "循环链表和双向链表。<br>\n",
    "最简单、最常用的单链表"
   ]
  },
  {
   "cell_type": "code",
   "execution_count": null,
   "metadata": {},
   "outputs": [],
   "source": [
    "class Node():\n",
    "    \"\"\"链表结构的Node节点\"\"\"\n",
    "    def __init__(self, data,next_node=None):\n",
    "        self.__data=data\n",
    "        self.__next=next_node\n",
    "    \n",
    "    @property\n",
    "    def data(self):\n",
    "        return self.__data\n",
    "    \n",
    "    @data.setter\n",
    "    def data(self,data):\n",
    "        self.__data=data\n",
    "    \n",
    "    @property\n",
    "    def next_node(self):\n",
    "        return self.__next\n",
    "    \n",
    "    @next_node.setter\n",
    "    def next_node(self,node):\n",
    "        self.__next=node\n",
    "    \n",
    "class SingelyLinkedList():\n",
    "    \"\"\"单向链表\"\"\"\n",
    "\n",
    "    def __init__(self):\n",
    "        \"\"\"单向列表的初始化方法.\"\"\"\n",
    "        self.__head=None\n",
    "    \n",
    "    def find_by_value(self,value):\n",
    "        \"\"\"按照数据值在单向列表中查找.\n",
    "        参数:\n",
    "            value:查找的数据\n",
    "        返回:\n",
    "            Node\n",
    "        \"\"\"\n",
    "        current=self.__head\n",
    "        while not current:\n",
    "            if current.data==value:\n",
    "                return current\n",
    "            else:\n",
    "                current=current.next_node\n",
    "        return None\n",
    "\n"
   ]
  }
 ],
 "metadata": {
  "kernelspec": {
   "display_name": "Python 3.8.13 ('study')",
   "language": "python",
   "name": "python3"
  },
  "language_info": {
   "name": "python",
   "version": "3.8.13"
  },
  "orig_nbformat": 4,
  "vscode": {
   "interpreter": {
    "hash": "46cb6235441a8b74df724a68ed242e7b6759bfc907d92e7c8b163c38b1b4592e"
   }
  }
 },
 "nbformat": 4,
 "nbformat_minor": 2
}
