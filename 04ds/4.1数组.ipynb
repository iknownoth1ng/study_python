{
 "cells": [
  {
   "cell_type": "markdown",
   "metadata": {},
   "source": [
    "# 数组\n",
    "\n",
    "## 数组常用操作\n",
    "\n",
    "### 初始化数组\n"
   ]
  },
  {
   "cell_type": "code",
   "execution_count": 1,
   "metadata": {},
   "outputs": [],
   "source": [
    "# 初始化数组\n",
    "arr: list[int] = [0] * 5  # [ 0, 0, 0, 0, 0 ]\n",
    "nums: list[int] = [1, 3, 2, 5, 4]"
   ]
  },
  {
   "cell_type": "markdown",
   "metadata": {},
   "source": [
    "### 访问元素\n",
    "\n",
    "索引本质上是内存地址的偏移量。首个元素的地址偏移量是 0 ，因此它的索引为 0 是合理的。\n",
    "\n",
    "在数组中访问元素非常高效，我们可以在 O(1) 时间内随机访问数组中的任意一个元素。\n"
   ]
  },
  {
   "cell_type": "code",
   "execution_count": null,
   "metadata": {},
   "outputs": [],
   "source": [
    "import random\n",
    "\n",
    "\n",
    "def random_access(nums: list[int]) -> int:\n",
    "    \"\"\"随机访问元素\"\"\"\n",
    "    # 在区间 [0, len(nums)-1] 中随机抽取一个数字\n",
    "    random_index = random.randint(0, len(nums) - 1)\n",
    "    # 获取并返回随机元素\n",
    "    random_num = nums[random_index]\n",
    "    return random_num"
   ]
  },
  {
   "cell_type": "markdown",
   "metadata": {},
   "source": [
    "### 插入元素\n",
    "\n",
    "值得注意的是，由于数组的长度是固定的，因此插入一个元素必定会导致数组尾部元素“丢失”。我们将这个问题的解决方案留在“列表”章节中讨论。\n"
   ]
  },
  {
   "cell_type": "code",
   "execution_count": null,
   "metadata": {},
   "outputs": [],
   "source": [
    "def insert(nums: list[int], num: int, index: int):\n",
    "    \"\"\"在数组的索引 index 处插入元素 num\"\"\"\n",
    "    # 把索引 index 以及之后的所有元素向后移动一位\n",
    "    for i in range(len(nums) - 1, index, -1):\n",
    "        nums[i] = nums[i - 1]\n",
    "    # 将 num 赋给 index 处的元素\n",
    "    nums[index] = num"
   ]
  },
  {
   "cell_type": "markdown",
   "metadata": {},
   "source": [
    "### 删除元素\n",
    "\n",
    "请注意，删除元素完成后，原先末尾的元素变得“无意义”了，所以我们无须特意去修改它。\n"
   ]
  },
  {
   "cell_type": "code",
   "execution_count": null,
   "metadata": {},
   "outputs": [],
   "source": [
    "def remove(nums: list[int], index: int):\n",
    "    \"\"\"删除索引 index 处的元素\"\"\"\n",
    "    # 把索引 index 之后的所有元素向前移动一位\n",
    "    for i in range(index, len(nums) - 1):\n",
    "        nums[i] = nums[i + 1]"
   ]
  },
  {
   "cell_type": "markdown",
   "metadata": {},
   "source": [
    "### 遍历数组\n"
   ]
  },
  {
   "cell_type": "code",
   "execution_count": null,
   "metadata": {},
   "outputs": [],
   "source": [
    "def traverse(nums: list[int]):\n",
    "    \"\"\"遍历数组\"\"\"\n",
    "    count = 0\n",
    "    # 通过索引遍历数组\n",
    "    for i in range(len(nums)):\n",
    "        count += nums[i]\n",
    "    # 直接遍历数组元素\n",
    "    for num in nums:\n",
    "        count += num\n",
    "    # 同时遍历数据索引和元素\n",
    "    for i, num in enumerate(nums):\n",
    "        count += nums[i]\n",
    "        count += num"
   ]
  },
  {
   "cell_type": "markdown",
   "metadata": {},
   "source": [
    "### 查找元素\n",
    "\n",
    "在数组中查找指定元素需要遍历数组，每轮判断元素值是否匹配，若匹配则输出对应索引。\n",
    "\n",
    "因为数组是线性数据结构，所以上述查找操作被称为“线性查找”。\n"
   ]
  },
  {
   "cell_type": "code",
   "execution_count": null,
   "metadata": {},
   "outputs": [],
   "source": [
    "def find(nums: list[int], target: int) -> int:\n",
    "    \"\"\"在数组中查找指定元素\"\"\"\n",
    "    for i in range(len(nums)):\n",
    "        if nums[i] == target:\n",
    "            return i\n",
    "    return -1"
   ]
  },
  {
   "cell_type": "markdown",
   "metadata": {},
   "source": [
    "### 扩容数组\n",
    "\n",
    "在复杂的系统环境中，程序难以保证数组之后的内存空间是可用的，从而无法安全地扩展数组容量。因此在大多数编程语言中，数组的长度是不可变的。\n",
    "\n",
    "如果我们希望扩容数组，则需重新建立一个更大的数组，然后把原数组元素依次复制到新数组。这是一个 O(n)\n",
    "的操作，在数组很大的情况下非常耗时。代码如下所示：\n"
   ]
  },
  {
   "cell_type": "code",
   "execution_count": null,
   "metadata": {},
   "outputs": [],
   "source": [
    "def extend(nums: list[int], enlarge: int) -> list[int]:\n",
    "    \"\"\"扩展数组长度\"\"\"\n",
    "    # 初始化一个扩展长度后的数组\n",
    "    res = [0] * (len(nums) + enlarge)\n",
    "    # 将原数组中的所有元素复制到新数组\n",
    "    for i in range(len(nums)):\n",
    "        res[i] = nums[i]\n",
    "    # 返回扩展后的新数组\n",
    "    return res"
   ]
  },
  {
   "cell_type": "markdown",
   "metadata": {},
   "source": [
    "## 数组的优点与局限性\n",
    "数组存储在连续的内存空间内，且元素类型相同。这种做法包含丰富的先验信息，系统可以利用这些信息来优化数据结构的操作效率。\n",
    "\n",
    "- 空间效率高：数组为数据分配了连续的内存块，无须额外的结构开销。\n",
    "- 支持随机访问：数组允许在 O(1) 时间内访问任何元素。\n",
    "- 缓存局部性：当访问数组元素时，计算机不仅会加载它，还会缓存其周围的其他数据，从而借助高速缓存来提升后续操作的执行速度。\n",
    "\n",
    "连续空间存储是一把双刃剑，其存在以下局限性。\n",
    "\n",
    "- 插入与删除效率低：当数组中元素较多时，插入与删除操作需要移动大量的元素。\n",
    "- 长度不可变：数组在初始化后长度就固定了，扩容数组需要将所有数据复制到新数组，开销很大。\n",
    "- 空间浪费：如果数组分配的大小超过实际所需，那么多余的空间就被浪费了。\n",
    "\n",
    "## 数组典型应\n",
    "数组是一种基础且常见的数据结构，既频繁应用在各类算法之中，也可用于实现各种复杂数据结构。\n",
    "\n",
    "- 随机访问：如果我们想随机抽取一些样本，那么可以用数组存储，并生成一个随机序列，根据索引实现随机抽样。\n",
    "- 排序和搜索：数组是排序和搜索算法最常用的数据结构。快速排序、归并排序、二分查找等都主要在数组上进行。\n",
    "- 查找表：当需要快速查找一个元素或其对应关系时，可以使用数组作为查找表。假如我们想实现字符到 ASCII 码的映射，则可以将字符的 ASCII 码值作为索引，对应的元素存放在数组中的对应位置。\n",
    "- 机器学习：神经网络中大量使用了向量、矩阵、张量之间的线性代数运算，这些数据都是以数组的形式构建的。数组是神经网络编程中最常使用的数据结构。\n",
    "- 数据结构实现：数组可以用于实现栈、队列、哈希表、堆、图等数据结构。例如，图的邻接矩阵表示实际上是一个二维数组。"
   ]
  }
 ],
 "metadata": {
  "kernelspec": {
   "display_name": "study",
   "language": "python",
   "name": "python3"
  },
  "language_info": {
   "codemirror_mode": {
    "name": "ipython",
    "version": 3
   },
   "file_extension": ".py",
   "mimetype": "text/x-python",
   "name": "python",
   "nbconvert_exporter": "python",
   "pygments_lexer": "ipython3",
   "version": "3.9.19"
  }
 },
 "nbformat": 4,
 "nbformat_minor": 2
}
