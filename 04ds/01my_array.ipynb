{
 "cells": [
  {
   "cell_type": "markdown",
   "metadata": {},
   "source": [
    "数组（Array）是一种**线性表数据**结构。它用一组**连续的内存空间**，来存储一组具有**相同类型**的数据。"
   ]
  },
  {
   "cell_type": "code",
   "execution_count": 8,
   "metadata": {},
   "outputs": [
    {
     "name": "stdout",
     "output_type": "stream",
     "text": [
      "4\n",
      "5\n",
      "3\n",
      "10\n",
      "5\n"
     ]
    }
   ],
   "source": [
    "class MyArray:\n",
    "    def __init__(self, capacity:int):\n",
    "        self._data=[]\n",
    "        self._capacity = capacity\n",
    "    \n",
    "    def __getitem__(self, position: int) -> object:\n",
    "        return self._data[position]\n",
    "\n",
    "    def __setitem__(self, index: int, value: object) -> object:\n",
    "        self._data[index] = value\n",
    "    \n",
    "    def __len__(self) ->int:\n",
    "        return len(self._data)\n",
    "    \n",
    "    def __iter__(self):\n",
    "        for item in self._data:\n",
    "            yield item\n",
    "    \n",
    "    def find(self, index: int) -> object:\n",
    "        try:\n",
    "            return self._data[index]\n",
    "        except IndexError:\n",
    "            return None\n",
    "    \n",
    "    def delete(self,index:int) ->bool:\n",
    "        try:\n",
    "            self._data.pop(index)\n",
    "            return True\n",
    "        except IndexError:\n",
    "            return False\n",
    "    \n",
    "    def insert(self, index: int, value: int) -> bool:\n",
    "        if len(self) >= self._capacity:\n",
    "            return False\n",
    "        else:\n",
    "            return self._data.insert(index, value)\n",
    "\n",
    "    def print_all(self):\n",
    "        for item in self:\n",
    "            print(item)\n",
    "\n",
    "\n",
    "\n",
    "def test_myarray():\n",
    "    array = MyArray(5)\n",
    "    array.insert(0, 3)\n",
    "    array.insert(0, 4)\n",
    "    array.insert(1, 5)\n",
    "    array.insert(3, 9)\n",
    "    array.insert(3, 10)\n",
    "    assert array.insert(0, 100) is False\n",
    "    assert len(array) == 5\n",
    "    assert array.find(1) == 5\n",
    "    assert array.delete(4) is True\n",
    "    array.print_all()\n",
    "    print(array[1])\n",
    "\n",
    "\n",
    "if __name__ == \"__main__\":\n",
    "    test_myarray()\n"
   ]
  }
 ],
 "metadata": {
  "kernelspec": {
   "display_name": "Python 3.8.13 ('study')",
   "language": "python",
   "name": "python3"
  },
  "language_info": {
   "codemirror_mode": {
    "name": "ipython",
    "version": 3
   },
   "file_extension": ".py",
   "mimetype": "text/x-python",
   "name": "python",
   "nbconvert_exporter": "python",
   "pygments_lexer": "ipython3",
   "version": "3.8.13"
  },
  "orig_nbformat": 4,
  "vscode": {
   "interpreter": {
    "hash": "46cb6235441a8b74df724a68ed242e7b6759bfc907d92e7c8b163c38b1b4592e"
   }
  }
 },
 "nbformat": 4,
 "nbformat_minor": 2
}
