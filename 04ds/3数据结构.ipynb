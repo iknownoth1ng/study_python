{
 "cells": [
  {
   "cell_type": "markdown",
   "metadata": {},
   "source": [
    "# 数据结构\n",
    "\n",
    "## 数据结构分类\n",
    "\n",
    "-   逻辑结构：线性与非线性\n",
    "-   物理结构：连续与分散\n",
    "\n",
    "## 基本数据类型\n",
    "\n",
    "换句话说，基本数据类型提供了数据的“内容类型”，而数据结构提供了数据的“组织方式”。例如以下代码，我们用相同的数据结构（数组）来存储与表示不同的基本数据类型\n"
   ]
  },
  {
   "cell_type": "code",
   "execution_count": null,
   "metadata": {},
   "outputs": [],
   "source": [
    "class ListNode:\n",
    "    \"\"\"链表节点类\"\"\"\n",
    "\n",
    "    def __init__(self, val: int):\n",
    "        self.val: int = val  # 节点值\n",
    "        self.next: ListNode | None = None  # 后继节点引用\n",
    "\n",
    "\n",
    "# 使用多种基本数据类型来初始化数组\n",
    "numbers: list[int] = [0] * 5\n",
    "decimals: list[float] = [0.0] * 5\n",
    "# Python 的字符实际上是长度为 1 的字符串\n",
    "characters: list[str] = [\"0\"] * 5\n",
    "bools: list[bool] = [False] * 5\n",
    "# Python 的列表可以自由存储各种基本数据类型和对象引用\n",
    "data = [0, 0.0, \"a\", False, ListNode(0)]"
   ]
  }
 ],
 "metadata": {
  "kernelspec": {
   "display_name": "study",
   "language": "python",
   "name": "python3"
  },
  "language_info": {
   "name": "python",
   "version": "3.9.19"
  }
 },
 "nbformat": 4,
 "nbformat_minor": 2
}
