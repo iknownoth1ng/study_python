{
 "cells": [
  {
   "cell_type": "markdown",
   "metadata": {},
   "source": [
    "字典：\n",
    "- 一系列由键（key）值（value）配对组成的元素的集合。Python3.7+，字典被确定为有序，3.6之前是无序的，其长度大小可变，元素可以任意地删减和改变。\n",
    "集合：\n",
    "- 和字典基本相同，唯一的区别，就是集合没有键和值的配对，是一系列无序的、唯一的元素组合。"
   ]
  },
  {
   "cell_type": "code",
   "execution_count": 8,
   "metadata": {},
   "outputs": [
    {
     "name": "stdout",
     "output_type": "stream",
     "text": [
      "True\n",
      "True\n"
     ]
    }
   ],
   "source": [
    "d1 = {'name': 'jason', 'age': 18, 'gender': 'male'}\n",
    "d2 = dict({'name': 'jason', 'age': 18, 'gender': 'male'})\n",
    "d3 = dict([('name', 'jason'), ('age', 18), ('gender', 'male')])\n",
    "d4 = dict(name='jason', age=18, gender='male')\n",
    "print(d1 == d2 == d3 == d4)\n",
    "\n",
    "s1 = {1, 'name', 3}  # 集合和字典，无论是键还是值，都可以混合类型\n",
    "s2 = set({1, 'name', 3})\n",
    "print(s1 == s2)\n"
   ]
  },
  {
   "cell_type": "code",
   "execution_count": 1,
   "metadata": {},
   "outputs": [
    {
     "name": "stdout",
     "output_type": "stream",
     "text": [
      "jason\n"
     ]
    },
    {
     "ename": "KeyError",
     "evalue": "'lacation'",
     "output_type": "error",
     "traceback": [
      "\u001b[1;31m---------------------------------------------------------------------------\u001b[0m",
      "\u001b[1;31mKeyError\u001b[0m                                  Traceback (most recent call last)",
      "\u001b[1;32m~\\AppData\\Local\\Temp/ipykernel_337176/1936879686.py\u001b[0m in \u001b[0;36m<module>\u001b[1;34m\u001b[0m\n\u001b[0;32m      2\u001b[0m \u001b[0mprint\u001b[0m\u001b[1;33m(\u001b[0m\u001b[0md\u001b[0m\u001b[1;33m[\u001b[0m\u001b[1;34m'name'\u001b[0m\u001b[1;33m]\u001b[0m\u001b[1;33m)\u001b[0m\u001b[1;33m\u001b[0m\u001b[1;33m\u001b[0m\u001b[0m\n\u001b[0;32m      3\u001b[0m \u001b[1;33m\u001b[0m\u001b[0m\n\u001b[1;32m----> 4\u001b[1;33m \u001b[0mprint\u001b[0m\u001b[1;33m(\u001b[0m\u001b[0md\u001b[0m\u001b[1;33m[\u001b[0m\u001b[1;34m'lacation'\u001b[0m\u001b[1;33m]\u001b[0m\u001b[1;33m)\u001b[0m  \u001b[1;31m# 字典访问可以直接索引键，如果不存在，抛出异常\u001b[0m\u001b[1;33m\u001b[0m\u001b[1;33m\u001b[0m\u001b[0m\n\u001b[0m",
      "\u001b[1;31mKeyError\u001b[0m: 'lacation'"
     ]
    }
   ],
   "source": [
    "d = {'name': 'jason', 'age': 18, 'gender': 'male'}\n",
    "print(d['name'])\n",
    "\n",
    "print(d['lacation'])  # 字典访问可以直接索引键，如果不存在，抛出异常\n"
   ]
  },
  {
   "cell_type": "code",
   "execution_count": 3,
   "metadata": {},
   "outputs": [
    {
     "name": "stdout",
     "output_type": "stream",
     "text": [
      "jason\n",
      "null\n"
     ]
    }
   ],
   "source": [
    "d = {'name': 'jason', 'age': 18, 'gender': 'male'}\n",
    "print(d.get('name'))\n",
    "\n",
    "print(d.get('laction', 'null'))  # 也可以使用get(key,default)函数进行索引，如果键不存在，则返回一个默认值。\n"
   ]
  },
  {
   "cell_type": "code",
   "execution_count": 4,
   "metadata": {},
   "outputs": [
    {
     "ename": "TypeError",
     "evalue": "'set' object is not subscriptable",
     "output_type": "error",
     "traceback": [
      "\u001b[1;31m---------------------------------------------------------------------------\u001b[0m",
      "\u001b[1;31mTypeError\u001b[0m                                 Traceback (most recent call last)",
      "\u001b[1;32m~\\AppData\\Local\\Temp/ipykernel_337176/948606072.py\u001b[0m in \u001b[0;36m<module>\u001b[1;34m\u001b[0m\n\u001b[0;32m      1\u001b[0m \u001b[0ms\u001b[0m\u001b[1;33m=\u001b[0m \u001b[1;33m{\u001b[0m\u001b[1;36m1\u001b[0m\u001b[1;33m,\u001b[0m\u001b[1;36m2\u001b[0m\u001b[1;33m,\u001b[0m\u001b[1;36m3\u001b[0m\u001b[1;33m}\u001b[0m\u001b[1;33m\u001b[0m\u001b[1;33m\u001b[0m\u001b[0m\n\u001b[1;32m----> 2\u001b[1;33m \u001b[0ms\u001b[0m\u001b[1;33m[\u001b[0m\u001b[1;36m0\u001b[0m\u001b[1;33m]\u001b[0m \u001b[1;31m# 集合不支持索引操作，因为集合本质上是一个哈希表，和列表不一样。\u001b[0m\u001b[1;33m\u001b[0m\u001b[1;33m\u001b[0m\u001b[0m\n\u001b[0m",
      "\u001b[1;31mTypeError\u001b[0m: 'set' object is not subscriptable"
     ]
    }
   ],
   "source": [
    "s = {1, 2, 3}\n",
    "s[0]  # 集合不支持索引操作，因为集合本质上是一个哈希表，和列表不一样。\n"
   ]
  },
  {
   "cell_type": "code",
   "execution_count": 5,
   "metadata": {},
   "outputs": [
    {
     "name": "stdout",
     "output_type": "stream",
     "text": [
      "True\n",
      "False\n",
      "True\n",
      "False\n",
      "False\n"
     ]
    }
   ],
   "source": [
    "# 想判断一个元素在不在字典或者集合内，我们可以用 value in dict/set 来判断。\n",
    "s = {1, 2, 3}\n",
    "print(1 in s)\n",
    "print(10 in s)\n",
    "\n",
    "d = {'name': 'jason', 'age': 20}\n",
    "print('name' in d)\n",
    "print('jason' in d)  # False\n",
    "print('laction' in d)\n"
   ]
  },
  {
   "cell_type": "markdown",
   "metadata": {},
   "source": [
    "字典和集合的增加、删除、更新等操作\n"
   ]
  },
  {
   "cell_type": "code",
   "execution_count": 6,
   "metadata": {},
   "outputs": [
    {
     "name": "stdout",
     "output_type": "stream",
     "text": [
      "{'name': 'jason', 'age': 20, 'gender': 'male', 'dob': '1999-02-01'}\n",
      "{'name': 'jason', 'age': 20, 'gender': 'male'}\n",
      "{1, 2, 3, 4}\n",
      "{1, 2, 3}\n"
     ]
    }
   ],
   "source": [
    "d = {'name': 'jason', 'age': 20}\n",
    "d['gender'] = 'male'  # 增加元素对\n",
    "d['dob'] = '1999-02-01'  # 增加元素对\n",
    "print(d)\n",
    "\n",
    "d['dob'] = '1998-01-01'  # 更新\n",
    "d.pop('dob')  # 删除\n",
    "print(d)\n",
    "\n",
    "s = {1, 2, 3}\n",
    "s.add(4)  # 集合增加元素\n",
    "print(s)\n",
    "\n",
    "s.remove(4)  # 集合删除元素，因为集合是无序的，所以使用pop()删除不知道删除的是哪个元素。\n",
    "print(s)\n"
   ]
  },
  {
   "cell_type": "markdown",
   "metadata": {},
   "source": [
    "集合和字典的排序\n"
   ]
  },
  {
   "cell_type": "code",
   "execution_count": 7,
   "metadata": {},
   "outputs": [
    {
     "name": "stdout",
     "output_type": "stream",
     "text": [
      "[('a', 2), ('b', 1), ('c', 10)]\n",
      "[('b', 1), ('a', 2), ('c', 10)]\n"
     ]
    }
   ],
   "source": [
    "# 字典排序，可根据键或之，执行升序或降序排序。\n",
    "d = {'b': 1, 'a': 2, 'c': 10}\n",
    "d_sorted_by_key = sorted(d.items(), key=lambda x: x[0])\n",
    "d_sorted_by_value = sorted(d.items(), key=lambda x: x[1])\n",
    "\n",
    "print(d_sorted_by_key)\n",
    "print(d_sorted_by_value)\n"
   ]
  },
  {
   "cell_type": "code",
   "execution_count": 8,
   "metadata": {},
   "outputs": [
    {
     "name": "stdout",
     "output_type": "stream",
     "text": [
      "[1, 2, 3, 5, 10]\n"
     ]
    }
   ],
   "source": [
    "s = {3, 2, 5, 10, 1}\n",
    "print(sorted(s))\n"
   ]
  },
  {
   "cell_type": "markdown",
   "metadata": {},
   "source": [
    "集合和字典的性能\n",
    "- 是进行过性能高度优化的数据结构，特别是对于查找、添加、删除操作。"
   ]
  },
  {
   "cell_type": "code",
   "execution_count": 10,
   "metadata": {},
   "outputs": [
    {
     "name": "stdout",
     "output_type": "stream",
     "text": [
      "The price of product 342342342 is 30 \n"
     ]
    }
   ],
   "source": [
    "# 查找某件商品ID的价格\n",
    "# 使用列表实现 时间复杂度O(n),即使使用二分查找也要O(logn),更何况排序也要O(logn)\n",
    "products = [(143131231, 100), (342342342, 30), (12414341322, 150)]\n",
    "\n",
    "\n",
    "def find_product_price(products, product_id):\n",
    "    for id, price in products:\n",
    "        if id == product_id:\n",
    "            return price\n",
    "    return None\n",
    "\n",
    "\n",
    "print('The price of product 342342342 is {} '.format(\n",
    "    find_product_price(products, 342342342)))\n"
   ]
  },
  {
   "cell_type": "code",
   "execution_count": 12,
   "metadata": {},
   "outputs": [
    {
     "name": "stdout",
     "output_type": "stream",
     "text": [
      "The price of product 342342342 is 30 \n"
     ]
    }
   ],
   "source": [
    "# 使用字典实现 时间复杂度O(1)\n",
    "products = {143131231: 100, 342342342: 30, 12414341322: 150}\n",
    "\n",
    "print('The price of product 342342342 is {} '.format(\n",
    "    products.get(342342342, None)))\n"
   ]
  },
  {
   "cell_type": "code",
   "execution_count": 16,
   "metadata": {},
   "outputs": [
    {
     "name": "stdout",
     "output_type": "stream",
     "text": [
      "number of unique price is 3 \n",
      "number of unique price is 3 \n",
      "time elapse using list:47.53516889999446 \n",
      "time elapse using set:0.008260999995400198 \n"
     ]
    }
   ],
   "source": [
    "# 找出这些商品有多少不同价格\n",
    "import time\n",
    "products = [(143131231, 100), (342342342, 30),\n",
    "            (12414341322, 150), (24324242342, 30)]\n",
    "# 使用列表实现 时间复杂度O(n^2)\n",
    "\n",
    "\n",
    "def find_unique_price_list(products):\n",
    "    unique_price_list = []\n",
    "    for _, price in products:\n",
    "        if price not in unique_price_list:\n",
    "            unique_price_list.append(price)\n",
    "    return len(unique_price_list)\n",
    "\n",
    "\n",
    "print('number of unique price is {} '.format(find_unique_price_list(products)))\n",
    "\n",
    "# 使用集合实现 集合里的元素不能重复,且添加的时间复杂度O(1)\n",
    "\n",
    "\n",
    "def find_unique_price_set(products):  # 总时间复杂度O(n)\n",
    "    unique_price_set = set()\n",
    "    for _, price in products:\n",
    "        unique_price_set.add(price)\n",
    "    return len(unique_price_set)\n",
    "\n",
    "\n",
    "print('number of unique price is {} '.format(find_unique_price_set(products)))\n",
    "\n",
    "# 增大数据量来看差异\n",
    "id = [x for x in range(100000)]\n",
    "price = [x for x in range(100000)]\n",
    "products = list(zip(id, price))\n",
    "\n",
    "start_using_list = time.perf_counter()\n",
    "find_unique_price_list(products)\n",
    "end_using_list = time.perf_counter()\n",
    "print(\"time elapse using list:{} \".format(end_using_list-start_using_list))\n",
    "\n",
    "start_using_set = time.perf_counter()\n",
    "find_unique_price_set(products)\n",
    "end_using_set = time.perf_counter()\n",
    "print(\"time elapse using set:{} \".format(end_using_set-start_using_set))\n"
   ]
  },
  {
   "cell_type": "markdown",
   "metadata": {},
   "source": [
    "集合和字典的工作原理"
   ]
  },
  {
   "cell_type": "code",
   "execution_count": null,
   "metadata": {},
   "outputs": [],
   "source": [
    "# 老版本的字典数据结构\n",
    "dic = {'name': 'mike', 'dob': '1999-01-01', 'gender': 'male'}\n",
    "# 存储成下面的类似形式\n",
    "entires = [\n",
    "    ['--', '--', '--'],\n",
    "    [-230273521, 'dob', '1999-01-01'],\n",
    "    ['--', '--', '--'],\n",
    "    ['--', '--', '--'],\n",
    "    [1231236123, 'name', 'mike'],\n",
    "    ['--', '--', '--'],\n",
    "    [9371539127, 'gender', 'male']\n",
    "]\n",
    "\n",
    "# 新版本的会存储成下面的形式\n",
    "indices = [None, 1, None, None, 0, None, 2]\n",
    "entries = [\n",
    "    [1231236123, 'name', 'mike'],\n",
    "    [-230273521, 'dob', '1999-01-01'],\n",
    "    [9371539127, 'gender', 'male']\n",
    "]\n"
   ]
  },
  {
   "cell_type": "markdown",
   "metadata": {
    "notebookRunGroups": {
     "groupValue": ""
    }
   },
   "source": [
    "<img style=\"float: right;\" src=\"../../image/00/insert.png\">\n",
    "<img style=\"float: right;\" src=\"../../image/00/deleter_update.png\">"
   ]
  }
 ],
 "metadata": {
  "kernelspec": {
   "display_name": "Python 3.9.12 ('base')",
   "language": "python",
   "name": "python3"
  },
  "language_info": {
   "codemirror_mode": {
    "name": "ipython",
    "version": 3
   },
   "file_extension": ".py",
   "mimetype": "text/x-python",
   "name": "python",
   "nbconvert_exporter": "python",
   "pygments_lexer": "ipython3",
   "version": "3.9.12"
  },
  "orig_nbformat": 4,
  "vscode": {
   "interpreter": {
    "hash": "af2924f10f5eb76fd65ccea448a69e80be7838e947e8a1ae982ab7073141c8a7"
   }
  }
 },
 "nbformat": 4,
 "nbformat_minor": 2
}
