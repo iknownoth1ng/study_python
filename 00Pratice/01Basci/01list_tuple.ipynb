{
 "cells": [
  {
   "cell_type": "markdown",
   "metadata": {},
   "source": [
    "列表和元组概念：\n",
    "- 都是一个可以放置***任意数据类型***的有序集合"
   ]
  },
  {
   "cell_type": "code",
   "execution_count": 1,
   "metadata": {},
   "outputs": [
    {
     "name": "stdout",
     "output_type": "stream",
     "text": [
      "[1, 2, 'hello', 'world']\n",
      "('jason', 22)\n"
     ]
    }
   ],
   "source": [
    "l = [1, 2, 'hello', 'world']  # 列表中同时含有int和string类型的元素\n",
    "print(l)\n",
    "tup = ('jason', 22)  # 元组中同时含有int和string类型的元素\n",
    "print(tup)\n"
   ]
  },
  {
   "cell_type": "markdown",
   "metadata": {},
   "source": [
    "列表和元组的区别：\n",
    "- **列表是动态的**，长度大小不固定，可以随意地增加、删减或者改变元素（mutable）\n",
    "- **元组是静态的**，长度大小固定，无法增加删减或者改变（immutable）"
   ]
  },
  {
   "cell_type": "code",
   "execution_count": 2,
   "metadata": {},
   "outputs": [
    {
     "name": "stdout",
     "output_type": "stream",
     "text": [
      "[1, 2, 3, 40]\n"
     ]
    },
    {
     "ename": "TypeError",
     "evalue": "'tuple' object does not support item assignment",
     "output_type": "error",
     "traceback": [
      "\u001b[1;31m---------------------------------------------------------------------------\u001b[0m",
      "\u001b[1;31mTypeError\u001b[0m                                 Traceback (most recent call last)",
      "\u001b[1;32m~\\AppData\\Local\\Temp/ipykernel_164324/198562649.py\u001b[0m in \u001b[0;36m<module>\u001b[1;34m\u001b[0m\n\u001b[0;32m      4\u001b[0m \u001b[1;33m\u001b[0m\u001b[0m\n\u001b[0;32m      5\u001b[0m \u001b[0mtup\u001b[0m\u001b[1;33m=\u001b[0m\u001b[1;33m(\u001b[0m\u001b[1;36m1\u001b[0m\u001b[1;33m,\u001b[0m\u001b[1;36m2\u001b[0m\u001b[1;33m,\u001b[0m\u001b[1;36m3\u001b[0m\u001b[1;33m,\u001b[0m\u001b[1;36m4\u001b[0m\u001b[1;33m)\u001b[0m\u001b[1;33m\u001b[0m\u001b[1;33m\u001b[0m\u001b[0m\n\u001b[1;32m----> 6\u001b[1;33m \u001b[0mtup\u001b[0m\u001b[1;33m[\u001b[0m\u001b[1;36m3\u001b[0m\u001b[1;33m]\u001b[0m\u001b[1;33m=\u001b[0m\u001b[1;36m40\u001b[0m\u001b[1;33m\u001b[0m\u001b[1;33m\u001b[0m\u001b[0m\n\u001b[0m\u001b[0;32m      7\u001b[0m \u001b[0mprint\u001b[0m\u001b[1;33m(\u001b[0m\u001b[0mtup\u001b[0m\u001b[1;33m)\u001b[0m\u001b[1;33m\u001b[0m\u001b[1;33m\u001b[0m\u001b[0m\n",
      "\u001b[1;31mTypeError\u001b[0m: 'tuple' object does not support item assignment"
     ]
    }
   ],
   "source": [
    "l = [1, 2, 3, 4]\n",
    "l[3] = 40  # 和很多语言类似，python中索引同样从0开始\n",
    "print(l)\n",
    "\n",
    "tup = (1, 2, 3, 4)\n",
    "tup[3] = 40\n",
    "print(tup)\n"
   ]
  },
  {
   "cell_type": "markdown",
   "metadata": {},
   "source": [
    "对列表和元组进行改变：\n",
    "- 元组会**重新开辟一块内存**创建新的元组\n",
    "- 列表直接在末尾添加即可，不会创建新的列表"
   ]
  },
  {
   "cell_type": "code",
   "execution_count": 3,
   "metadata": {},
   "outputs": [
    {
     "name": "stdout",
     "output_type": "stream",
     "text": [
      "(1, 2, 3, 4, 5)\n",
      "[1, 2, 3, 4, 5]\n"
     ]
    }
   ],
   "source": [
    "tup = (1, 2, 3, 4)\n",
    "new_tup = tup+(5,)  # 创建新的元组new_tup，并依次填充原元组的值\n",
    "print(new_tup)\n",
    "\n",
    "l = [1, 2, 3, 4]\n",
    "l.append(5)  # 添加元素5到原列表的末尾\n",
    "print(l)\n"
   ]
  },
  {
   "cell_type": "markdown",
   "metadata": {},
   "source": [
    "列表和元组基本操作：\n",
    "- python中的列表和元组都支持负数索引\n",
    "- python中的列表和元组都支持切片操作\n",
    "- python中的列表和元组都支持随意嵌套\n",
    "- python中的列表和元组可以相互转换\n",
    "- python中的列表和元组的一些函数"
   ]
  },
  {
   "cell_type": "code",
   "execution_count": 4,
   "metadata": {},
   "outputs": [
    {
     "name": "stdout",
     "output_type": "stream",
     "text": [
      "3\n",
      "2\n"
     ]
    }
   ],
   "source": [
    "l = [1, 2, 3]\n",
    "print(l[-1])\n",
    "\n",
    "tup = (1, 2, 3)\n",
    "print(tup[-2])\n"
   ]
  },
  {
   "cell_type": "code",
   "execution_count": 5,
   "metadata": {},
   "outputs": [
    {
     "name": "stdout",
     "output_type": "stream",
     "text": [
      "[2, 3]\n",
      "(1, 2)\n"
     ]
    }
   ],
   "source": [
    "l = [1, 2, 3]\n",
    "print(l[1:3])  # 返回索引 1到2 的子列表\n",
    "\n",
    "tup = (1, 2, 3)\n",
    "print(tup[0:2])  # 返回索引 0到1 的子元组\n"
   ]
  },
  {
   "cell_type": "code",
   "execution_count": 6,
   "metadata": {},
   "outputs": [
    {
     "name": "stdout",
     "output_type": "stream",
     "text": [
      "[[1, 2, 3], [4, 5, 6]] <class 'list'>\n",
      "((1, 2, 3), (4, 5, 6)) <class 'tuple'>\n"
     ]
    }
   ],
   "source": [
    "l = [[1, 2, 3], [4, 5, 6]]\n",
    "print(l, type(l))\n",
    "\n",
    "tup = ((1, 2, 3), (4, 5, 6))\n",
    "print(tup, type(tup))\n"
   ]
  },
  {
   "cell_type": "code",
   "execution_count": 8,
   "metadata": {},
   "outputs": [
    {
     "name": "stdout",
     "output_type": "stream",
     "text": [
      "[1, 2, 3]\n",
      "(1, 2, 3)\n"
     ]
    }
   ],
   "source": [
    "print(list((1, 2, 3)))\n",
    "\n",
    "print(tuple([1, 2, 3]))\n"
   ]
  },
  {
   "cell_type": "markdown",
   "metadata": {},
   "source": [
    "- count(item)表示统计列表/元组中item出现的次数\n",
    "- index(item)表示返回列表/元组中item第一次出现的索引\n",
    "- list.reverse()和list.sort()分别表示原地倒转列表和排序(元组没有内置的这两个函数)\n",
    "- reversed()和sorted()同样表示对列表/元组进行倒转和排序，reversed()返回一个倒转后的迭代器(下文例子使用list()函数再将其转换成列表)；\n",
    "sorted()返回排好序的新列表。"
   ]
  },
  {
   "cell_type": "code",
   "execution_count": 11,
   "metadata": {},
   "outputs": [
    {
     "name": "stdout",
     "output_type": "stream",
     "text": [
      "2\n",
      "3\n",
      "[1, 8, 7, 3, 2, 3]\n",
      "[1, 2, 3, 3, 7, 8]\n",
      "2\n",
      "3\n",
      "[1, 8, 7, 3, 2, 3]\n",
      "[1, 2, 3, 3, 7, 8]\n"
     ]
    }
   ],
   "source": [
    "l = [3, 2, 3, 7, 8, 1]\n",
    "print(l.count(3))\n",
    "\n",
    "print(l.index(7))\n",
    "\n",
    "l.reverse()\n",
    "print(l)\n",
    "\n",
    "l.sort()\n",
    "print(l)\n",
    "\n",
    "tup = (3, 2, 3, 7, 8, 1)\n",
    "print(tup.count(3))\n",
    "\n",
    "print(tup.index(7))\n",
    "\n",
    "print(list(reversed(tup)))\n",
    "\n",
    "print(sorted(tup))\n"
   ]
  },
  {
   "cell_type": "markdown",
   "metadata": {},
   "source": [
    "列表和元组存储方式的差异\n",
    "- 下面的例子，大概描述了列表空间分配的过程。我们可以看到，为了减小每次增加/删除操作时空间分配的开销，Python每次分配空间时都会额外多分配一些，这样的机制（over-allocating）保证了其操作的高效性：增加/删除的时间复杂度均为O(1)。\n",
    "- 元组长度大小固定，元素不可变，所以存储空间固定。"
   ]
  },
  {
   "cell_type": "code",
   "execution_count": 19,
   "metadata": {},
   "outputs": [
    {
     "name": "stdout",
     "output_type": "stream",
     "text": [
      "104\n",
      "48\n",
      "40\n",
      "72\n",
      "72\n",
      "72\n",
      "72\n",
      "104\n"
     ]
    }
   ],
   "source": [
    "l = [1, 2, 3]\n",
    "print(l.__sizeof__())\n",
    "\n",
    "tup = (1, 2, 3)\n",
    "print(tup.__sizeof__())\n",
    "\n",
    "l = []\n",
    "print(l.__sizeof__())  # 空列表存储空间为40字节\n",
    "l.append(1)\n",
    "print(l.__sizeof__())  # 加了元素1后，为其分配了可以存储4个元素的空间(72-40)/8=4，(int型，8字节)\n",
    "l.append(2)\n",
    "print(l.__sizeof__())  # 由于之前分配了空间，所以加入元素2，列表空间不变\n",
    "l.append(3)\n",
    "print(l.__sizeof__())  # 同上\n",
    "l.append(4)\n",
    "print(l.__sizeof__())  # 同上\n",
    "l.append(5)\n",
    "print(l.__sizeof__())  # 加入元素5之后，列表空间不足，所以又额外分配了可以存储4个元素的空间\n"
   ]
  },
  {
   "cell_type": "markdown",
   "metadata": {},
   "source": [
    "列表和元组的性能：\n",
    "- 结论：元组比列表更加轻量级一些，所以总体上来说，元组的性能速度略优于列表。\n",
    "- 另外，Python在后台会对静态数据做一些资源缓存。也就是说对于一些静态变量，比如元组，如果不被使用并且占用空间不大，Python会暂时缓存这部分内存不会垃圾回收。这样下次再创建同样大小的元组时可以直接分配之前缓存的内存空间，大大加快程序的运行速度。\n",
    "- 当然你要是想增加、删减或者改变元素，那么列表显然更优。因为对于元组来说必须要通过新建一个元组才能完成。"
   ]
  },
  {
   "cell_type": "code",
   "execution_count": 2,
   "metadata": {},
   "outputs": [
    {
     "name": "stdout",
     "output_type": "stream",
     "text": [
      "0.07073519999999967\n",
      "0.0177082999999989\n",
      "0.08675190000000121\n",
      "0.036543999999999244\n"
     ]
    }
   ],
   "source": [
    "import timeit\n",
    "'''\n",
    "python中的timeit（）方法， 它用于获取代码的执行时间。该库将代码语句运行一百万次，并提供从集合中花费的最短时间。这是一种有用的方法，有助于检查代码的性能。\n",
    "timeit.timeit(stmt, setup,timer, number)\n",
    "stmt：这将采用您要测量其执行时间的代码。默认值为“pass”。\n",
    "setup：这将包含需要在stmt之前执行的设置详细信息。默认值为“ pass”。\n",
    "timer：它将具有计时器值，timeit（）已经设置了默认值，我们可以忽略它。\n",
    "number：stmt将按照此处给出的编号执行。默认值为1000000。'''\n",
    "# 初始化，元组比列表快5倍\n",
    "print(timeit.timeit(\"x=[1,2,3,4,5,6]\"))\n",
    "print(timeit.timeit(\"x=(1,2,3,4,5,6)\"))\n",
    "\n",
    "# 索引操作，两者差不多\n",
    "print(timeit.timeit(\"x=[1,2,3,4,5,6];y=x[3]\"))\n",
    "print(timeit.timeit(\"x=(1,2,3,4,5,6);y=x[3]\"))\n"
   ]
  },
  {
   "cell_type": "markdown",
   "metadata": {},
   "source": [
    "列表和元组的使用场景\n",
    "- 如果存储的数据和数量不变，比如你有一个函数，需要返回的是一个地点的经纬度，然后直接传给前端渲染，那么肯定使用元组更合适。\n",
    "def get_location():\n",
    "    ''''''\n",
    "    return (longitude,latitude)\n",
    "\n",
    "- 如果存储的数据和数量是可变的，比如社交平台上的日志功能，是统计一个用户在一周之内看了哪些用户的帖子，那么则用列表更合适。\n",
    "viewer_owner_id_list=[] # 里面的每个元素记录了这个viewer一周内看过的所有owner的id\n",
    "records=queryDB(viewer_id)# 索引数据库，拿到某个viewer一周内的日志\n",
    "for record in records:\n",
    "    viewer_owner_id_list.append(record.id)"
   ]
  },
  {
   "cell_type": "markdown",
   "metadata": {},
   "source": [
    "总结：\n",
    "总的来说，列表和元组都是有序的，且可以存储不同数据类型的集合。\n",
    "- 列表是动态的，长度可变，可以任意的增加、删减或改变元素。列表的存储空间略大于元组，性能略逊于元组。\n",
    "- 元组是静态的，长度大小固定，不可以对元组进行增加、删减或者改变操作。元组相对于列表更加轻量级，性能稍优。"
   ]
  },
  {
   "cell_type": "markdown",
   "metadata": {},
   "source": [
    "思考题\n",
    "- 想创建一个空的列表，我们可以用下面A、B两种方式，请问它们在效率上有什么区别吗？我们应该有限考虑使用哪种呢？可以说说你的理由。"
   ]
  },
  {
   "cell_type": "code",
   "execution_count": null,
   "metadata": {},
   "outputs": [],
   "source": [
    "# 创建空列表\n",
    "# option A\n",
    "empty_list = list()\n",
    "\n",
    "# option B\n",
    "empty_list = []\n",
    "\n",
    "# 区别主要在于list()是一个function call ，Python的function call 会创建stack，并且形成一系列参数检查的操作，比较expensive。\n",
    "# 反观[]是一个内置的C函数，可以直接被调用，因此效率高。\n"
   ]
  }
 ],
 "metadata": {
  "kernelspec": {
   "display_name": "Python 3.9.7 ('base')",
   "language": "python",
   "name": "python3"
  },
  "language_info": {
   "codemirror_mode": {
    "name": "ipython",
    "version": 3
   },
   "file_extension": ".py",
   "mimetype": "text/x-python",
   "name": "python",
   "nbconvert_exporter": "python",
   "pygments_lexer": "ipython3",
   "version": "3.9.7"
  },
  "orig_nbformat": 4,
  "vscode": {
   "interpreter": {
    "hash": "e42634819b8c191a5d07eaf23810ff32516dd8d3875f28ec3e488928fbd3c187"
   }
  }
 },
 "nbformat": 4,
 "nbformat_minor": 2
}
