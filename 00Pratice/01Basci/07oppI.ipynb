{
 "cells": [
  {
   "cell_type": "markdown",
   "metadata": {},
   "source": [
    "面向对象编程基础\n",
    "类：一群有着相同属性和函数的对象的集合。\n",
    "实例：集合中的一个事物\n",
    "属性：静态特征\n",
    "函数：动态能力"
   ]
  },
  {
   "cell_type": "code",
   "execution_count": 2,
   "metadata": {},
   "outputs": [
    {
     "name": "stdout",
     "output_type": "stream",
     "text": [
      "init funciton called\n",
      "Harry Potter\n",
      "J.K.Rowing\n",
      "71\n",
      "10\n"
     ]
    },
    {
     "ename": "AttributeError",
     "evalue": "'Document' object has no attribute '__context'",
     "output_type": "error",
     "traceback": [
      "\u001b[1;31m---------------------------------------------------------------------------\u001b[0m",
      "\u001b[1;31mAttributeError\u001b[0m                            Traceback (most recent call last)",
      "\u001b[1;32m~\\AppData\\Local\\Temp/ipykernel_125572/136098808.py\u001b[0m in \u001b[0;36m<module>\u001b[1;34m\u001b[0m\n\u001b[0;32m     19\u001b[0m \u001b[0mprint\u001b[0m\u001b[1;33m(\u001b[0m\u001b[0mharry_potter_book\u001b[0m\u001b[1;33m.\u001b[0m\u001b[0mget_context_length\u001b[0m\u001b[1;33m(\u001b[0m\u001b[1;33m)\u001b[0m\u001b[1;33m)\u001b[0m\u001b[1;33m\u001b[0m\u001b[1;33m\u001b[0m\u001b[0m\n\u001b[0;32m     20\u001b[0m \u001b[1;33m\u001b[0m\u001b[0m\n\u001b[1;32m---> 21\u001b[1;33m \u001b[0mprint\u001b[0m\u001b[1;33m(\u001b[0m\u001b[0mharry_potter_book\u001b[0m\u001b[1;33m.\u001b[0m\u001b[0m__context\u001b[0m\u001b[1;33m)\u001b[0m\u001b[1;33m\u001b[0m\u001b[1;33m\u001b[0m\u001b[0m\n\u001b[0m",
      "\u001b[1;31mAttributeError\u001b[0m: 'Document' object has no attribute '__context'"
     ]
    }
   ],
   "source": [
    "class Document():\n",
    "    def __init__(self,title,author,context):\n",
    "        print('init funciton called')\n",
    "        self.title=title\n",
    "        self.author=author\n",
    "        self.__context=context # __开头为私有属性\n",
    "    \n",
    "    def get_context_length(self):\n",
    "        return len(self.__context)\n",
    "    \n",
    "    def intercept_context(self,length):\n",
    "        self.__context=self.__context[:length]\n",
    "    \n",
    "harry_potter_book=Document('Harry Potter','J.K.Rowing','... Forever Do not believe any thing is capable of thinking indepent...')\n",
    "print(harry_potter_book.title)\n",
    "print(harry_potter_book.author)\n",
    "print(harry_potter_book.get_context_length())\n",
    "harry_potter_book.intercept_context(10)\n",
    "print(harry_potter_book.get_context_length())\n",
    "\n",
    "print(harry_potter_book.__context)"
   ]
  },
  {
   "cell_type": "markdown",
   "metadata": {},
   "source": [
    "- 如何在一个类中定义一些常量，每个对象都可以方便访问这些常量而不用重新构造\n",
    "- 如果一个函数不涉及访问修改这个类的属性，而放到类外面有点不恰当，怎么做才能更优雅呢？\n",
    "- 既然类是一个相似对象的集合，那么可不可以是一群相似的类的集合呢?"
   ]
  },
  {
   "cell_type": "code",
   "execution_count": 3,
   "metadata": {},
   "outputs": [
    {
     "name": "stdout",
     "output_type": "stream",
     "text": [
      "init funciton called\n",
      "0\n",
      "Welcome! The context for this book is indeed nothing\n"
     ]
    }
   ],
   "source": [
    "class Document():\n",
    "    WELCOME_STR='Welcome! The context for this book is {}'\n",
    "\n",
    "    def __init__(self,title,author,context):\n",
    "        print('init funciton called')\n",
    "        self.title=title\n",
    "        self.author=author\n",
    "        self.__context=context # __开头为私有属性\n",
    "\n",
    "    # 类函数\n",
    "    @classmethod\n",
    "    def get_empty_book(cls,title,author):\n",
    "        return cls(title,author,context='')\n",
    "\n",
    "    # 静态函数\n",
    "    @staticmethod\n",
    "    def get_welcome(context):\n",
    "        return Document.WELCOME_STR.format(context)\n",
    "\n",
    "    # 成员函数\n",
    "    def get_context_length(self):\n",
    "        return len(self.__context)\n",
    "\n",
    "empty_book=Document.get_empty_book('empty book','Yi Ming')\n",
    "print(empty_book.get_context_length())\n",
    "print(empty_book.get_welcome('indeed nothing'))"
   ]
  }
 ],
 "metadata": {
  "kernelspec": {
   "display_name": "Python 3.9.7 ('base')",
   "language": "python",
   "name": "python3"
  },
  "language_info": {
   "codemirror_mode": {
    "name": "ipython",
    "version": 3
   },
   "file_extension": ".py",
   "mimetype": "text/x-python",
   "name": "python",
   "nbconvert_exporter": "python",
   "pygments_lexer": "ipython3",
   "version": "3.9.7"
  },
  "orig_nbformat": 4,
  "vscode": {
   "interpreter": {
    "hash": "e42634819b8c191a5d07eaf23810ff32516dd8d3875f28ec3e488928fbd3c187"
   }
  }
 },
 "nbformat": 4,
 "nbformat_minor": 2
}
