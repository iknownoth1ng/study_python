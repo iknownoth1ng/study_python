{
 "cells": [
  {
   "cell_type": "markdown",
   "metadata": {},
   "source": [
    "函数的嵌套，只要有两方面的作用。\n",
    "- 安全性。\n",
    "- 合理运用，可以提高运行效率。"
   ]
  },
  {
   "cell_type": "code",
   "execution_count": 3,
   "metadata": {},
   "outputs": [
    {
     "name": "stdout",
     "output_type": "stream",
     "text": [
      "120\n"
     ]
    }
   ],
   "source": [
    "# 保证内部函数的隐私。内部函数只能被外部函数所调用和访问，不会暴露在全局作用域。\n",
    "def connect_DB():\n",
    "    '''\n",
    "    def get_DB_configuration():\n",
    "        ''''''\n",
    "        return host,username,password\n",
    "    con=connector.connect(get_DB_configuration())\n",
    "    return con\n",
    "    '''\n",
    "\n",
    "# 提升效率(只需要一次检测合法输入)\n",
    "\n",
    "\n",
    "def factorial(input):\n",
    "    # validation check\n",
    "    if not isinstance(input, int):\n",
    "        raise Exception('input must be an integer.')\n",
    "    if input < 0:\n",
    "        raise Exception('input must be greater or equal to 0')\n",
    "    ''''''\n",
    "\n",
    "    def inner_factorial(input):\n",
    "        if input <= 1:\n",
    "            return 1\n",
    "        else:\n",
    "            return inner_factorial(input-1) * input\n",
    "    return inner_factorial(input)\n",
    "\n",
    "\n",
    "print(factorial(5))\n"
   ]
  },
  {
   "cell_type": "markdown",
   "metadata": {},
   "source": [
    "函数变量定义域"
   ]
  },
  {
   "cell_type": "code",
   "execution_count": 4,
   "metadata": {},
   "outputs": [
    {
     "ename": "UnboundLocalError",
     "evalue": "local variable 'MIN_VALUE' referenced before assignment",
     "output_type": "error",
     "traceback": [
      "\u001b[1;31m---------------------------------------------------------------------------\u001b[0m",
      "\u001b[1;31mUnboundLocalError\u001b[0m                         Traceback (most recent call last)",
      "\u001b[1;32m~\\AppData\\Local\\Temp/ipykernel_75964/3592145498.py\u001b[0m in \u001b[0;36m<module>\u001b[1;34m\u001b[0m\n\u001b[0;32m      7\u001b[0m \u001b[1;33m\u001b[0m\u001b[0m\n\u001b[0;32m      8\u001b[0m     \u001b[0mMIN_VALUE\u001b[0m\u001b[1;33m+=\u001b[0m\u001b[1;36m1\u001b[0m \u001b[1;31m# 不能修改\u001b[0m\u001b[1;33m\u001b[0m\u001b[1;33m\u001b[0m\u001b[0m\n\u001b[1;32m----> 9\u001b[1;33m \u001b[0mvalidation_check\u001b[0m\u001b[1;33m(\u001b[0m\u001b[1;36m5\u001b[0m\u001b[1;33m)\u001b[0m\u001b[1;33m\u001b[0m\u001b[1;33m\u001b[0m\u001b[0m\n\u001b[0m",
      "\u001b[1;32m~\\AppData\\Local\\Temp/ipykernel_75964/3592145498.py\u001b[0m in \u001b[0;36mvalidation_check\u001b[1;34m(value)\u001b[0m\n\u001b[0;32m      3\u001b[0m \u001b[0mMAX_VALUE\u001b[0m\u001b[1;33m=\u001b[0m\u001b[1;36m10\u001b[0m\u001b[1;33m\u001b[0m\u001b[1;33m\u001b[0m\u001b[0m\n\u001b[0;32m      4\u001b[0m \u001b[1;32mdef\u001b[0m \u001b[0mvalidation_check\u001b[0m\u001b[1;33m(\u001b[0m\u001b[0mvalue\u001b[0m\u001b[1;33m)\u001b[0m\u001b[1;33m:\u001b[0m\u001b[1;33m\u001b[0m\u001b[1;33m\u001b[0m\u001b[0m\n\u001b[1;32m----> 5\u001b[1;33m     \u001b[1;32mif\u001b[0m \u001b[0mvalue\u001b[0m\u001b[1;33m<\u001b[0m \u001b[0mMIN_VALUE\u001b[0m \u001b[1;32mor\u001b[0m \u001b[0mvalue\u001b[0m\u001b[1;33m>\u001b[0m\u001b[0mMAX_VALUE\u001b[0m\u001b[1;33m:\u001b[0m \u001b[1;31m# 可以访问\u001b[0m\u001b[1;33m\u001b[0m\u001b[1;33m\u001b[0m\u001b[0m\n\u001b[0m\u001b[0;32m      6\u001b[0m         \u001b[1;32mraise\u001b[0m \u001b[0mException\u001b[0m\u001b[1;33m(\u001b[0m\u001b[1;34m'validation check fails'\u001b[0m\u001b[1;33m)\u001b[0m\u001b[1;33m\u001b[0m\u001b[1;33m\u001b[0m\u001b[0m\n\u001b[0;32m      7\u001b[0m \u001b[1;33m\u001b[0m\u001b[0m\n",
      "\u001b[1;31mUnboundLocalError\u001b[0m: local variable 'MIN_VALUE' referenced before assignment"
     ]
    }
   ],
   "source": [
    "# 全局变量可以在文件内任何地方被访问，函数内部也是可以的。不过不能在函数内部随意改变全局变量的值。\n",
    "MIN_VALUE = 1\n",
    "MAX_VALUE = 10\n",
    "\n",
    "\n",
    "def validation_check(value):\n",
    "    if value < MIN_VALUE or value > MAX_VALUE:  # 可以访问\n",
    "        raise Exception('validation check fails')\n",
    "\n",
    "    MIN_VALUE += 1  # 不能修改\n",
    "\n",
    "\n",
    "validation_check(5)\n"
   ]
  },
  {
   "cell_type": "code",
   "execution_count": 5,
   "metadata": {},
   "outputs": [
    {
     "name": "stdout",
     "output_type": "stream",
     "text": [
      "2\n"
     ]
    }
   ],
   "source": [
    "MIN_VALUE = 1\n",
    "MAX_VALUE = 10\n",
    "\n",
    "\n",
    "def validation_check(value):\n",
    "    global MIN_VALUE\n",
    "    MIN_VALUE += 1  # 需要加上 global\n",
    "\n",
    "\n",
    "validation_check(5)\n",
    "print(MIN_VALUE)\n"
   ]
  },
  {
   "cell_type": "code",
   "execution_count": 6,
   "metadata": {},
   "outputs": [
    {
     "name": "stdout",
     "output_type": "stream",
     "text": [
      "内部MIN_VALUE值为：3\n",
      "全局变量MIN_VALUE值为：1\n"
     ]
    }
   ],
   "source": [
    "MIN_VALUE = 1\n",
    "MAX_VALUE = 10\n",
    "\n",
    "\n",
    "def validation_check(value):\n",
    "    MIN_VALUE = 3  # 如果同名，那么函数内部的MIN_VALUE会变成3\n",
    "    print('内部MIN_VALUE值为：{}'.format(MIN_VALUE))\n",
    "\n",
    "\n",
    "validation_check(5)\n",
    "print('全局变量MIN_VALUE值为：{}'.format(MIN_VALUE))\n"
   ]
  },
  {
   "cell_type": "code",
   "execution_count": 8,
   "metadata": {},
   "outputs": [
    {
     "name": "stdout",
     "output_type": "stream",
     "text": [
      "inner: nonlocal\n",
      "outer: nonlocal\n"
     ]
    }
   ],
   "source": [
    "# 类似的，对于嵌套函数，内部函数如果想修改外部函数的变量，需要加上 nonlocal关键字\n",
    "def outer():\n",
    "    x = 'local'\n",
    "\n",
    "    def inner():\n",
    "        nonlocal x\n",
    "        x = 'nonlocal'\n",
    "        print('inner:', x)\n",
    "    inner()\n",
    "    print('outer:', x)\n",
    "\n",
    "\n",
    "outer()\n"
   ]
  },
  {
   "cell_type": "markdown",
   "metadata": {},
   "source": [
    "闭包，又称返回函数"
   ]
  },
  {
   "cell_type": "code",
   "execution_count": 11,
   "metadata": {},
   "outputs": [
    {
     "name": "stdout",
     "output_type": "stream",
     "text": [
      "<function nth_power.<locals>.exponent_of at 0x000001B36EF43040>\n",
      "<function nth_power.<locals>.exponent_of at 0x000001B36EF43670>\n",
      "4\n",
      "8\n"
     ]
    }
   ],
   "source": [
    "# 计算一个数的n次幂，用闭包写\n",
    "def nth_power(exponent):\n",
    "    def exponent_of(base):\n",
    "        print(base**exponent)\n",
    "    return exponent_of\n",
    "\n",
    "\n",
    "square = nth_power(2)  # 计算一个数的平方\n",
    "cube = nth_power(3)  # 计算一个数的立方\n",
    "\n",
    "print(square)\n",
    "print(cube)\n",
    "\n",
    "square(2)  # 2的平方\n",
    "cube(2)  # 2的立方\n"
   ]
  },
  {
   "cell_type": "markdown",
   "metadata": {},
   "source": [
    "匿名函数基础\n",
    "- 格式：lambda argument1, argument2, ...argumentN: expression"
   ]
  },
  {
   "cell_type": "code",
   "execution_count": 29,
   "metadata": {},
   "outputs": [
    {
     "name": "stdout",
     "output_type": "stream",
     "text": [
      "[0, 1, 4, 9, 16, 25, 36, 49, 64, 81]\n"
     ]
    }
   ],
   "source": [
    "# 用在列表内部\n",
    "print([(lambda x:x**2)(x) for x in range(10)])\n"
   ]
  },
  {
   "cell_type": "code",
   "execution_count": 27,
   "metadata": {},
   "outputs": [
    {
     "name": "stdout",
     "output_type": "stream",
     "text": [
      "[(2, -1), (3, 0), (9, 10), (1, 20)]\n"
     ]
    }
   ],
   "source": [
    "# 可以被用作某些函数的参数\n",
    "l = [(1, 20), (3, 0), (9, 10), (2, -1)]\n",
    "l.sort(key=lambda x: x[1])\n",
    "print(l)\n"
   ]
  },
  {
   "cell_type": "markdown",
   "metadata": {},
   "source": [
    "使用函数的目的：\n",
    "- 减少代码的重复性（需要多次调用）\n",
    "- 模块化代码（内容比较多，要提高代码的可读性）\n",
    "\n",
    "但是当你需要一个函数，不过它非常简短只需要一行就能完成，而且只调用一次而已。这时就需要使用到匿名函数。"
   ]
  },
  {
   "cell_type": "code",
   "execution_count": 25,
   "metadata": {},
   "outputs": [
    {
     "name": "stdout",
     "output_type": "stream",
     "text": [
      "[0, 1, 4, 9, 16, 25, 36]\n"
     ]
    }
   ],
   "source": [
    "square = map(lambda x: x**2, [0, 1, 2, 3, 4, 5, 6])\n",
    "print(list(square))\n"
   ]
  },
  {
   "cell_type": "code",
   "execution_count": 16,
   "metadata": {},
   "outputs": [
    {
     "name": "stdout",
     "output_type": "stream",
     "text": [
      "being pressed\n",
      "being pressed\n"
     ]
    }
   ],
   "source": [
    "from tkinter import Button, mainloop\n",
    "button = Button(\n",
    "    text='This is a button',\n",
    "    command=lambda: print('being pressed')  # 点击时调用lambda函数\n",
    ")\n",
    "button.pack()\n",
    "mainloop()\n"
   ]
  },
  {
   "cell_type": "markdown",
   "metadata": {},
   "source": [
    "Python函数式编程\n",
    "- 所谓函数式编程，是指代码中每一块都是不可变的(immutable)，都是由纯函数(pure function)的形式组成。这里的纯函数，是指函数本身相互独立、互不影响，对于相同的输入，总会有相同的输出，没有任何副作用。"
   ]
  },
  {
   "cell_type": "code",
   "execution_count": 35,
   "metadata": {},
   "outputs": [
    {
     "name": "stdout",
     "output_type": "stream",
     "text": [
      "[2, 4, 6]\n",
      "[4, 8, 12]\n",
      "[8, 16, 24]\n",
      "[1, 4, 9]\n",
      "[1, 4, 9]\n",
      "[1, 4, 9]\n"
     ]
    }
   ],
   "source": [
    "# 对于一个列表，想让列表中的元素值都变成原来的两倍\n",
    "# 这段代码就不是一个纯函数的形式，多次调用每次结果都不一样。因为列表中的值被改变了。\n",
    "def multiply_2(l):\n",
    "    for index in range(0, len(l)):\n",
    "        l[index] *= 2\n",
    "    return l\n",
    "\n",
    "\n",
    "l = [1, 2, 3]\n",
    "print(multiply_2(l))\n",
    "print(multiply_2(l))\n",
    "print(multiply_2(l))\n",
    "\n",
    "# 使用纯函数编写\n",
    "\n",
    "\n",
    "def multiply_2_pure(l):\n",
    "    new_list = []\n",
    "    for item in l:\n",
    "        new_list.append(item**2)\n",
    "    return new_list\n",
    "\n",
    "\n",
    "l = [1, 2, 3]\n",
    "print(multiply_2_pure(l))\n",
    "print(multiply_2_pure(l))\n",
    "print(multiply_2_pure(l))\n"
   ]
  },
  {
   "cell_type": "markdown",
   "metadata": {},
   "source": [
    "Python提供了一些函数式编程的特性：\n",
    "- map(function,iterable)\n",
    "- filter(function,iterable)\n",
    "- reduce(function,iterable)"
   ]
  },
  {
   "cell_type": "code",
   "execution_count": 38,
   "metadata": {},
   "outputs": [
    {
     "data": {
      "text/plain": [
       "[2, 4, 6, 8, 10]"
      ]
     },
     "execution_count": 38,
     "metadata": {},
     "output_type": "execute_result"
    }
   ],
   "source": [
    "l = [1, 2, 3, 4, 5]\n",
    "new_list = map(lambda x: x*2, l)\n",
    "list(new_list)\n"
   ]
  },
  {
   "cell_type": "code",
   "execution_count": 39,
   "metadata": {},
   "outputs": [
    {
     "data": {
      "text/plain": [
       "[2, 4]"
      ]
     },
     "execution_count": 39,
     "metadata": {},
     "output_type": "execute_result"
    }
   ],
   "source": [
    "l = [1, 2, 3, 4, 5]\n",
    "new_list = filter(lambda x: x % 2 == 0, l)\n",
    "list(new_list)\n"
   ]
  },
  {
   "cell_type": "code",
   "execution_count": 42,
   "metadata": {},
   "outputs": [
    {
     "data": {
      "text/plain": [
       "120"
      ]
     },
     "execution_count": 42,
     "metadata": {},
     "output_type": "execute_result"
    }
   ],
   "source": [
    "from functools import reduce\n",
    "l = [1, 2, 3, 4, 5]\n",
    "new_list = reduce(lambda x, y: x*y, l)\n",
    "new_list\n"
   ]
  },
  {
   "cell_type": "markdown",
   "metadata": {},
   "source": [
    "函数式编程、列表推导式、for循环性能比较"
   ]
  },
  {
   "cell_type": "code",
   "execution_count": 13,
   "metadata": {},
   "outputs": [
    {
     "name": "stdout",
     "output_type": "stream",
     "text": [
      "0.00031279999998901076\n",
      "6.915345099999996\n",
      "15.55490309999999\n"
     ]
    }
   ],
   "source": [
    "import timeit\n",
    "print(timeit.timeit(\"map(lambda x:x*2,xs)\", setup='xs=range(100000)', number=1000))\n",
    "print(timeit.timeit(\"[x*2 for x in xs]\",\n",
    "      setup='xs=range(100000)', number=1000))\n",
    "print(timeit.timeit(\"for i in xs: l.append(i*2)\",\n",
    "      setup='xs=range(100000);l=[]', number=1000))\n"
   ]
  },
  {
   "cell_type": "code",
   "execution_count": 20,
   "metadata": {},
   "outputs": [
    {
     "name": "stdout",
     "output_type": "stream",
     "text": [
      "[('ben', 30), ('mike', 10), ('lucy', 2)]\n",
      "dict_items([('mike', 10), ('lucy', 2), ('ben', 30)])\n"
     ]
    }
   ],
   "source": [
    "d = {'mike': 10, 'lucy': 2, 'ben': 30}\n",
    "new_d = sorted(d.items(), key=lambda x: x[1],reverse=True)\n",
    "print(new_d)"
   ]
  }
 ],
 "metadata": {
  "kernelspec": {
   "display_name": "Python 3.9.7 ('base')",
   "language": "python",
   "name": "python3"
  },
  "language_info": {
   "codemirror_mode": {
    "name": "ipython",
    "version": 3
   },
   "file_extension": ".py",
   "mimetype": "text/x-python",
   "name": "python",
   "nbconvert_exporter": "python",
   "pygments_lexer": "ipython3",
   "version": "3.9.7"
  },
  "orig_nbformat": 4,
  "vscode": {
   "interpreter": {
    "hash": "e42634819b8c191a5d07eaf23810ff32516dd8d3875f28ec3e488928fbd3c187"
   }
  }
 },
 "nbformat": 4,
 "nbformat_minor": 2
}
