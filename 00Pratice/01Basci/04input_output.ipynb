{
 "cells": [
  {
   "cell_type": "markdown",
   "metadata": {},
   "source": [
    "输入输出基础"
   ]
  },
  {
   "cell_type": "code",
   "execution_count": 1,
   "metadata": {},
   "outputs": [
    {
     "name": "stdout",
     "output_type": "stream",
     "text": [
      "authorizing...\n",
      "Welcome to the matrix Mr. jack\n"
     ]
    }
   ],
   "source": [
    "name = input(\"your name\")\n",
    "gender = input('are you a boy?(y/n)')\n",
    "\n",
    "welcome_str = 'Welcome to the matrix {prefix} {name}'\n",
    "welcome_dic = {'prefix': 'Mr.'if gender == 'y' else 'Mrs.', 'name': name}\n",
    "\n",
    "print('authorizing...')\n",
    "print(welcome_str.format(**welcome_dic))\n"
   ]
  },
  {
   "cell_type": "markdown",
   "metadata": {},
   "source": [
    "json序列化与实战"
   ]
  },
  {
   "cell_type": "code",
   "execution_count": 2,
   "metadata": {},
   "outputs": [
    {
     "name": "stdout",
     "output_type": "stream",
     "text": [
      "序列化以后\n",
      "类型<class 'str'>,值{\"symbol\": \"123456\", \"type\": \"limit\", \"price\": 123.4, \"amount\": 23}\n",
      "在去序列化之后\n",
      "类型<class 'dict'>,值{'symbol': '123456', 'type': 'limit', 'price': 123.4, 'amount': 23}\n"
     ]
    }
   ],
   "source": [
    "# 使用JSON\n",
    "import json\n",
    "params = {\n",
    "    \"symbol\": \"123456\",\n",
    "    \"type\": \"limit\",\n",
    "    \"price\": 123.4,\n",
    "    \"amount\": 23\n",
    "}\n",
    "params_str = json.dumps(params)\n",
    "print(\"序列化以后\")\n",
    "print(\"类型{},值{}\".format(type(params_str), params_str))\n",
    "\n",
    "original_params = json.loads(params_str)\n",
    "print(\"在去序列化之后\")\n",
    "print(\"类型{},值{}\".format(type(original_params), original_params))\n"
   ]
  }
 ],
 "metadata": {
  "kernelspec": {
   "display_name": "Python 3.9.7 ('base')",
   "language": "python",
   "name": "python3"
  },
  "language_info": {
   "codemirror_mode": {
    "name": "ipython",
    "version": 3
   },
   "file_extension": ".py",
   "mimetype": "text/x-python",
   "name": "python",
   "nbconvert_exporter": "python",
   "pygments_lexer": "ipython3",
   "version": "3.9.7"
  },
  "orig_nbformat": 4,
  "vscode": {
   "interpreter": {
    "hash": "e42634819b8c191a5d07eaf23810ff32516dd8d3875f28ec3e488928fbd3c187"
   }
  }
 },
 "nbformat": 4,
 "nbformat_minor": 2
}
