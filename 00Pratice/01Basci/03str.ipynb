{
 "cells": [
  {
   "cell_type": "markdown",
   "metadata": {},
   "source": [
    "字符串基础"
   ]
  },
  {
   "cell_type": "code",
   "execution_count": null,
   "metadata": {},
   "outputs": [],
   "source": [
    "s1 = 'hello'\n",
    "s2 = \"hello\"\n",
    "s3 = '''hello'''\n",
    "print(s1 == s2 == s3)\n",
    "\n",
    "# 其中 \"I'm a student\" 双引号方便内嵌单引号的字符串\n",
    "'''三个引号\n",
    "只要用户多行字符串，比如注释'''\n"
   ]
  },
  {
   "cell_type": "markdown",
   "metadata": {},
   "source": [
    "转义字符\n",
    "![1656409207980](../../image/00/1656409207980.png)"
   ]
  },
  {
   "cell_type": "code",
   "execution_count": 2,
   "metadata": {},
   "outputs": [
    {
     "name": "stdout",
     "output_type": "stream",
     "text": [
      "a\n",
      "b\tc\n",
      "5\n"
     ]
    }
   ],
   "source": [
    "s = 'a\\nb\\tc'\n",
    "print(s)\n",
    "\n",
    "print(len(s))\n"
   ]
  },
  {
   "cell_type": "markdown",
   "metadata": {},
   "source": [
    "字符串的常用操作\n",
    "- 索引\n",
    "- 切片\n",
    "- 遍历\n",
    "- 字符串是不可变的（immutable）,如果想对字符串改变，只能通过创建新的字符串完成。"
   ]
  },
  {
   "cell_type": "code",
   "execution_count": 5,
   "metadata": {},
   "outputs": [
    {
     "name": "stdout",
     "output_type": "stream",
     "text": [
      "j\n",
      "as\n",
      "j a s o n \n",
      "'str' object does not support item assignment\n",
      "Hello\n",
      "Hello\n"
     ]
    }
   ],
   "source": [
    "name = 'jason'\n",
    "print(name[0])\n",
    "print(name[1:3])\n",
    "\n",
    "for char in name:\n",
    "    print(char, end=' ')\n",
    "\n",
    "print()\n",
    "\n",
    "try:\n",
    "    name[0] = 'J'\n",
    "except TypeError as e:\n",
    "    print(e)\n",
    "\n",
    "s = 'hello'\n",
    "s = 'H' + s[1:]\n",
    "print(s)\n",
    "s = s.replace('h', 'H')\n",
    "print(s)\n"
   ]
  },
  {
   "cell_type": "markdown",
   "metadata": {},
   "source": [
    "但是加法操作符+=的字符串拼接方法、打破了字符串不可变的特性。python2.5之后，每次处理字符串操作时（str1+str2），\n",
    "python会首先检测str1还有没有其他的引用。如果没有的话，就会尝试原地扩充字符串buffer的大小，而不是重新分配一块\n",
    "内存来创建新的字符串并拷贝。"
   ]
  },
  {
   "cell_type": "code",
   "execution_count": null,
   "metadata": {},
   "outputs": [],
   "source": [
    "s = ''\n",
    "for n in range(100000):  # python2.5之前的时间复杂度 O(1)+O(2)+……+O(n)=O(n^2)\n",
    "    s += str(n)  # python2.5之后的时间复杂度 O(n)\n",
    "\n",
    "# 另外，对于字符串拼接问题，还可以使用字符串内置的join函数。string.join(iterable)\n",
    "l = []\n",
    "for n in range(100000): # O(n)\n",
    "    l.append(str(n))\n",
    "l = ' '.join(l)\n"
   ]
  }
 ],
 "metadata": {
  "kernelspec": {
   "display_name": "Python 3.9.7 ('base')",
   "language": "python",
   "name": "python3"
  },
  "language_info": {
   "codemirror_mode": {
    "name": "ipython",
    "version": 3
   },
   "file_extension": ".py",
   "mimetype": "text/x-python",
   "name": "python",
   "nbconvert_exporter": "python",
   "pygments_lexer": "ipython3",
   "version": "3.9.7"
  },
  "orig_nbformat": 4,
  "vscode": {
   "interpreter": {
    "hash": "e42634819b8c191a5d07eaf23810ff32516dd8d3875f28ec3e488928fbd3c187"
   }
  }
 },
 "nbformat": 4,
 "nbformat_minor": 2
}
