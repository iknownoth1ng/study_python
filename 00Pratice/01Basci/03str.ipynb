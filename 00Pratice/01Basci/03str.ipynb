{
 "cells": [
  {
   "cell_type": "markdown",
   "metadata": {},
   "source": [
    "字符串基础"
   ]
  },
  {
   "cell_type": "code",
   "execution_count": null,
   "metadata": {},
   "outputs": [],
   "source": [
    "s1 = 'hello'\n",
    "s2 = \"hello\"\n",
    "s3 = '''hello'''\n",
    "print(s1 == s2 == s3)\n",
    "\n",
    "# 其中 \"I'm a student\" 双引号方便内嵌单引号的字符串\n",
    "'''三个引号\n",
    "只要用户多行字符串，比如注释'''\n"
   ]
  },
  {
   "cell_type": "markdown",
   "metadata": {},
   "source": [
    "转义字符\n",
    "![1656409207980](../../image/00/1656409207980.png)"
   ]
  },
  {
   "cell_type": "code",
   "execution_count": 2,
   "metadata": {},
   "outputs": [
    {
     "name": "stdout",
     "output_type": "stream",
     "text": [
      "a\n",
      "b\tc\n",
      "5\n"
     ]
    }
   ],
   "source": [
    "s = 'a\\nb\\tc'\n",
    "print(s)\n",
    "\n",
    "print(len(s))\n"
   ]
  },
  {
   "cell_type": "markdown",
   "metadata": {},
   "source": [
    "字符串的常用操作\n",
    "- 索引\n",
    "- 切片\n",
    "- 遍历\n",
    "- 字符串是不可变的（immutable）,如果想对字符串改变，只能通过创建新的字符串完成。"
   ]
  },
  {
   "cell_type": "code",
   "execution_count": 5,
   "metadata": {},
   "outputs": [
    {
     "name": "stdout",
     "output_type": "stream",
     "text": [
      "j\n",
      "as\n",
      "j a s o n \n",
      "'str' object does not support item assignment\n",
      "Hello\n",
      "Hello\n"
     ]
    }
   ],
   "source": [
    "name = 'jason'\n",
    "print(name[0])\n",
    "print(name[1:3])\n",
    "\n",
    "for char in name:\n",
    "    print(char, end=' ')\n",
    "\n",
    "print()\n",
    "\n",
    "try:\n",
    "    name[0] = 'J'\n",
    "except TypeError as e:\n",
    "    print(e)\n",
    "\n",
    "s = 'hello'\n",
    "s = 'H' + s[1:]\n",
    "print(s)\n",
    "s = s.replace('h', 'H')\n",
    "print(s)\n"
   ]
  },
  {
   "cell_type": "markdown",
   "metadata": {},
   "source": [
    "但是加法操作符+=的字符串拼接方法、打破了字符串不可变的特性。python2.5之后，每次处理字符串操作时（str1+str2），\n",
    "python会首先检测str1还有没有其他的引用。如果没有的话，就会尝试原地扩充字符串buffer的大小，而不是重新分配一块\n",
    "内存来创建新的字符串并拷贝。"
   ]
  },
  {
   "cell_type": "code",
   "execution_count": null,
   "metadata": {},
   "outputs": [],
   "source": [
    "s = ''\n",
    "for n in range(100000):  # python2.5之前的时间复杂度 O(1)+O(2)+……+O(n)=O(n^2)\n",
    "    s += str(n)  # python2.5之后的时间复杂度 O(n)\n",
    "\n",
    "# 另外，对于字符串拼接问题，还可以使用字符串内置的join函数。string.join(iterable)\n",
    "l = []\n",
    "for n in range(100000):  # O(n)\n",
    "    l.append(str(n))\n",
    "l = ' '.join(l)\n"
   ]
  },
  {
   "cell_type": "markdown",
   "metadata": {},
   "source": [
    "字符分割函数string.split(separator),表示把字符串按照separator分割成子字符串，并返回一个分割后的子字符串组合的列表。"
   ]
  },
  {
   "cell_type": "code",
   "execution_count": 7,
   "metadata": {},
   "outputs": [
    {
     "name": "stdout",
     "output_type": "stream",
     "text": [
      "ads\n",
      "traing_table\n"
     ]
    }
   ],
   "source": [
    "def query_data(namespace, table):\n",
    "    '''given namespace and table,query database to get corresponding data'''\n",
    "\n",
    "\n",
    "path = 'hive://ads/traing_table'\n",
    "namespace = path.split('//')[1].split('/')[0]\n",
    "print(namespace)\n",
    "table = path.split('//')[1].split('/')[1]\n",
    "print(table)\n",
    "data = query_data(namespace, table)\n"
   ]
  },
  {
   "cell_type": "markdown",
   "metadata": {},
   "source": [
    "Strip()函数，string.find(sub,start,end)，表示从start到end查找字符串中子字符串sub的位置等等。"
   ]
  },
  {
   "cell_type": "code",
   "execution_count": 8,
   "metadata": {},
   "outputs": [
    {
     "name": "stdout",
     "output_type": "stream",
     "text": [
      "my name is jason\n",
      "my name is jason \n",
      " my name is jason\n",
      "1\n",
      "6\n"
     ]
    }
   ],
   "source": [
    "s = ' my name is jason '\n",
    "print(s.strip())\n",
    "print(s.lstrip())\n",
    "print(s.rstrip())\n",
    "\n",
    "print(s.find('m'))\n",
    "print(s.find('m', 4, 10))\n"
   ]
  },
  {
   "cell_type": "markdown",
   "metadata": {},
   "source": [
    "字符串的格式化"
   ]
  },
  {
   "cell_type": "code",
   "execution_count": 9,
   "metadata": {},
   "outputs": [
    {
     "name": "stdout",
     "output_type": "stream",
     "text": [
      "我的名字叫张三,今年18岁了\n",
      "我的名字叫张三,今年18岁了,我真的叫张三\n",
      "我的名字叫张三,今年18岁了\n",
      "        99\n",
      "99        \n",
      "3.142\n",
      "     3.142\n",
      "growth rate: 7 %\n",
      "3.14\n",
      "3.142\n",
      "     3.142\n"
     ]
    }
   ],
   "source": [
    "# 1.使用%占位符\n",
    "name = '张三'\n",
    "age = 18\n",
    "print('我的名字叫%s,今年%d岁了' % (name, age))\n",
    "# 2.使用{}占位符\n",
    "print(\"我的名字叫{0},今年{1}岁了,我真的叫{0}\".format(name, age))\n",
    "# 3.f-string\n",
    "print(f'我的名字叫{name},今年{age}岁了')\n",
    "\n",
    "print('%10d' % 99)  # 10表示的是总共宽度,右对齐\n",
    "print('%-10d' % 99)  # 左对齐\n",
    "print('%.3f' % 3.1415926)  # .3表示的是小数点后三位\n",
    "print('%10.3f' % 3.1415926)  # 同时表示精度和宽度\n",
    "\n",
    "print('growth rate: %d %%' % 7)  # 用%%来表示一个%\n",
    "\n",
    "print('{0:.3}'.format(3.1415926))  # 3.14\n",
    "print('{0:.3f}'.format(3.1415926))  # 3.142\n",
    "print('{0:10.3f}'.format(3.1415926))  # 同时表示精度和宽度\n"
   ]
  }
 ],
 "metadata": {
  "kernelspec": {
   "display_name": "Python 3.9.7 ('base')",
   "language": "python",
   "name": "python3"
  },
  "language_info": {
   "codemirror_mode": {
    "name": "ipython",
    "version": 3
   },
   "file_extension": ".py",
   "mimetype": "text/x-python",
   "name": "python",
   "nbconvert_exporter": "python",
   "pygments_lexer": "ipython3",
   "version": "3.9.7"
  },
  "orig_nbformat": 4,
  "vscode": {
   "interpreter": {
    "hash": "e42634819b8c191a5d07eaf23810ff32516dd8d3875f28ec3e488928fbd3c187"
   }
  }
 },
 "nbformat": 4,
 "nbformat_minor": 2
}
