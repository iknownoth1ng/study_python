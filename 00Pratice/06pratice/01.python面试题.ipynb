{
 "cells": [
  {
   "attachments": {},
   "cell_type": "markdown",
   "metadata": {},
   "source": [
    "# python基础\n",
    "## 深拷贝与浅拷贝"
   ]
  },
  {
   "cell_type": "code",
   "execution_count": 4,
   "metadata": {},
   "outputs": [
    {
     "name": "stdout",
     "output_type": "stream",
     "text": [
      "[1, 2, 'tt', [4, 5, 6, 7]]\n",
      "[1, 2, 'tt', [4, 5, 6, 7]]\n",
      "[1, 2, 3, [4, 5, 6, 7]]\n",
      "[1, 2, 3, [4, 5, 6]]\n"
     ]
    }
   ],
   "source": [
    "import copy\n",
    "\n",
    "a = [1, 2, 3, [4, 5, 6]]\n",
    "b = a\n",
    "c = copy.copy(a)\n",
    "d = copy.deepcopy(a)\n",
    "b[2] = \"tt\"\n",
    "a[-1].append(7)\n",
    "# * 一个列表中包含列表元素，当列表元素发生改变时，如果只是浅拷贝，拷贝后的对象也会变化，而深拷贝的对象是不会改变的。\n",
    "print(a)\n",
    "print(b)\n",
    "print(c)\n",
    "print(d)"
   ]
  },
  {
   "attachments": {},
   "cell_type": "markdown",
   "metadata": {},
   "source": [
    "## 文件操作\n",
    "\n",
    "### 1. 编程题：\n",
    "有一个语音文件文件夹内的50个后缀是*pc文件名称都需要修改，文件后缀保留，修改的名称参考：rename.csv中的影射关系，第一列是文件原来的名字，第二列是文件现在的名字，每行都有影射关系（第一列老名\n",
    "字，第二列是对应的新名字），要求将文件夹的文件都名称都改成B列的名字-不限制语言。"
   ]
  },
  {
   "cell_type": "code",
   "execution_count": 5,
   "metadata": {},
   "outputs": [
    {
     "name": "stdout",
     "output_type": "stream",
     "text": [
      "None\n"
     ]
    }
   ],
   "source": [
    "import os\n",
    "import csv\n",
    "\n",
    "\n",
    "def batch_modify_name(csv_path, filepath):\n",
    "    \"\"\"_summary_\n",
    "\n",
    "    Parameters\n",
    "    ----------\n",
    "    csv : _type_\n",
    "        _description_ csv文件路径\n",
    "    filepath : _type_\n",
    "        _description_ 要修改的语音文件夹路径\n",
    "    \"\"\"\n",
    "    # 获取csv文件中所有新老文件的名\n",
    "    with open(csv_path, newline=\"\") as f:\n",
    "        csv_data = csv.reader(f)\n",
    "        # 将csv文件中的第一列和第二列组成字典格式的数据\n",
    "        name_map = {i[0]: i[1] for i in csv_data}\n",
    "        print(name_map)\n",
    "        # 获取要修改的目录下的所有文件和目录\n",
    "        files = os.listdir(filepath)\n",
    "        for name in files:\n",
    "            # 通过文件名获取到新文件名称\n",
    "            new_name = name_map.get(name)\n",
    "            # 判断文件名称是否以.pcm结尾,csv有对应的新文件名\n",
    "            if new_name and name.endswith(\".pcm\"):\n",
    "                # 修改文件名称\n",
    "                os.rename(\n",
    "                    os.path.join(filepath, name), os.path.join(filepath, new_name)\n",
    "                )"
   ]
  },
  {
   "attachments": {},
   "cell_type": "markdown",
   "metadata": {},
   "source": [
    "## 数组、列表、字典操作(字典排序)\n",
    "### 1. 编程题\n",
    "需求：给定一个只包含正整数且非空的数组，返回该数组中重复次数最多的前N个数字（返回结果按重复次数从多到少降序排列，不存在取值非法的情况），请用熟悉的语言实现该需求。。。。。10分钟内写出来"
   ]
  },
  {
   "cell_type": "code",
   "execution_count": 34,
   "metadata": {},
   "outputs": [
    {
     "name": "stdout",
     "output_type": "stream",
     "text": [
      "{2: 5, 8: 3, 1: 2, 5: 1, 6: 1, 7: 1}\n"
     ]
    }
   ],
   "source": [
    "def get_data(s):\n",
    "    d = {}\n",
    "    l = list(set(s))\n",
    "    for item in l:\n",
    "        n = 0\n",
    "        for j in range(len(s)):\n",
    "            if item == s[j]:\n",
    "                n = n + 1\n",
    "        d[item] = n\n",
    "\n",
    "    lst = list(d.values())\n",
    "    lst.sort(reverse=True)\n",
    "\n",
    "    t = {}\n",
    "    for item in lst:\n",
    "        for key, value in d.items():\n",
    "            if item == value and key not in t.keys():\n",
    "                t[key] = value\n",
    "    print(t)\n",
    "\n",
    "\n",
    "s = [1, 5, 2, 6, 1, 7, 2, 8, 8, 8, 2, 2, 2]\n",
    "get_data(s)"
   ]
  },
  {
   "cell_type": "code",
   "execution_count": 32,
   "metadata": {},
   "outputs": [
    {
     "name": "stdout",
     "output_type": "stream",
     "text": [
      "[5, 3, 2, 1, 1, 1]\n"
     ]
    },
    {
     "data": {
      "text/plain": [
       "[2, 8, 1, 5, 6, 7]"
      ]
     },
     "execution_count": 32,
     "metadata": {},
     "output_type": "execute_result"
    }
   ],
   "source": [
    "def get_data(a):\n",
    "    result = []\n",
    "    data_dict = {item: a.count(item) for item in set(a)}\n",
    "    res = sorted(data_dict.values(),reverse=True)\n",
    "    for num in res:\n",
    "        for key,value in data_dict.items():\n",
    "            if num ==value and key not in result:\n",
    "                result.append(key)\n",
    "    return result\n",
    "        \n",
    "s = [1, 5, 2, 6, 1, 7, 2, 8, 8, 8, 2, 2, 2]\n",
    "get_data(s)"
   ]
  },
  {
   "attachments": {},
   "cell_type": "markdown",
   "metadata": {},
   "source": [
    "### 2.根据要求实现对应的方法\n",
    "1. 等长的两个列表合并到一个字典\n",
    "keys=[\"A\",\"B\",\"C\"]\n",
    "values=[\"1\",\"2\",\"3\"]\n",
    "要求：合并成{\"A\":1,\"B\":2,\"C\":3},请用一行\n",
    "代码实现"
   ]
  },
  {
   "cell_type": "code",
   "execution_count": 41,
   "metadata": {},
   "outputs": [
    {
     "name": "stdout",
     "output_type": "stream",
     "text": [
      "{'A': 1, 'B': 2, 'C': 3}\n"
     ]
    }
   ],
   "source": [
    "keys = [\"A\", \"B\", \"C\"]\n",
    "values = [\"1\", \"2\", \"3\"]\n",
    "d = dict(zip(keys, [int(x) for x in values]))\n",
    "print(d)"
   ]
  },
  {
   "attachments": {},
   "cell_type": "markdown",
   "metadata": {},
   "source": [
    "2. 合并两个列表并消除重复值\n",
    "list1= [\"a\",\"b\",\"c\",\"1\",\"A\",\"winning\"]\n",
    "list2= [\"a\",\"python\",\"string\",\"1\"]"
   ]
  },
  {
   "cell_type": "code",
   "execution_count": 40,
   "metadata": {},
   "outputs": [
    {
     "name": "stdout",
     "output_type": "stream",
     "text": [
      "['b', 'c', 'string', 'a', 'python', '1', 'A', 'winning']\n"
     ]
    }
   ],
   "source": [
    "list1 = [\"a\", \"b\", \"c\", \"1\", \"A\", \"winning\"]\n",
    "list2 = [\"a\", \"python\", \"string\", \"1\"]\n",
    "list1.extend(list2)\n",
    "print(list(set(list1)))"
   ]
  },
  {
   "attachments": {},
   "cell_type": "markdown",
   "metadata": {},
   "source": [
    "3. 已知一个列表，根据字典中的x,由大到小\n",
    "排序这个列表\n",
    "已知列表：a = [{\"x\": 1, \"y\": 2}, {\"x\": 2, \"y\": 3}, {\"x\": 3, \"y\": 4}]"
   ]
  },
  {
   "cell_type": "code",
   "execution_count": 42,
   "metadata": {},
   "outputs": [
    {
     "data": {
      "text/plain": [
       "[{'x': 3, 'y': 4}, {'x': 2, 'y': 3}, {'x': 1, 'y': 2}]"
      ]
     },
     "execution_count": 42,
     "metadata": {},
     "output_type": "execute_result"
    }
   ],
   "source": [
    "a = [{\"x\": 1, \"y\": 2}, {\"x\": 2, \"y\": 3}, {\"x\": 3, \"y\": 4}]\n",
    "\n",
    "sorted(a,key=lambda item:item[\"x\"],reverse=True)"
   ]
  },
  {
   "attachments": {},
   "cell_type": "markdown",
   "metadata": {},
   "source": [
    "## 函数类\n",
    "### 1.简答"
   ]
  },
  {
   "cell_type": "code",
   "execution_count": 43,
   "metadata": {},
   "outputs": [
    {
     "name": "stdout",
     "output_type": "stream",
     "text": [
      "[0, 1]\n",
      "[3, 2, 1, 0, 1, 4]\n",
      "[0, 1, 4]\n"
     ]
    }
   ],
   "source": [
    "def f(x, l=None):\n",
    "    if l is None:\n",
    "        l = []\n",
    "    for i in range(x):\n",
    "        l.append(i * i)\n",
    "    print(l)\n",
    "\n",
    "\n",
    "f(2)\n",
    "f(3, [3, 2, 1])\n",
    "f(3)"
   ]
  },
  {
   "attachments": {},
   "cell_type": "markdown",
   "metadata": {},
   "source": [
    "### 2.简答 enumerate\n",
    "已知列表x=[1,2],那么表达式list(enumerate(x))的值为"
   ]
  },
  {
   "cell_type": "code",
   "execution_count": 44,
   "metadata": {},
   "outputs": [
    {
     "data": {
      "text/plain": [
       "[(0, 1), (1, 2)]"
      ]
     },
     "execution_count": 44,
     "metadata": {},
     "output_type": "execute_result"
    }
   ],
   "source": [
    "list(enumerate([1, 2]))"
   ]
  },
  {
   "attachments": {},
   "cell_type": "markdown",
   "metadata": {},
   "source": [
    "### 3. 简答 sum、 range\n",
    "表达式sum(range(1,10,2))的值为？"
   ]
  },
  {
   "cell_type": "code",
   "execution_count": 45,
   "metadata": {},
   "outputs": [
    {
     "data": {
      "text/plain": [
       "25"
      ]
     },
     "execution_count": 45,
     "metadata": {},
     "output_type": "execute_result"
    }
   ],
   "source": [
    "sum(range(1,10,2))"
   ]
  },
  {
   "attachments": {},
   "cell_type": "markdown",
   "metadata": {},
   "source": [
    "### 4.简答,排序sorted，拼接join\n",
    "用python:写一个函数，将一个字符串中给定的\n",
    "子串字符按从小到大的输出，第一个字符的位\n",
    "置为0\n",
    "如：myOrder('abejykhsesm',2,5)\n",
    "输出：ehjky"
   ]
  },
  {
   "cell_type": "code",
   "execution_count": 51,
   "metadata": {},
   "outputs": [
    {
     "name": "stdout",
     "output_type": "stream",
     "text": [
      "ehjky\n"
     ]
    }
   ],
   "source": [
    "def my_order(s:str,start,length):\n",
    "    # 切片\n",
    "    s = s[start:start+length]\n",
    "    l = sorted(s)\n",
    "    s = \"\".join(l)\n",
    "    print(s)\n",
    "\n",
    "my_order('abejykhsesm',2,5)    "
   ]
  }
 ],
 "metadata": {
  "kernelspec": {
   "display_name": "study",
   "language": "python",
   "name": "python3"
  },
  "language_info": {
   "codemirror_mode": {
    "name": "ipython",
    "version": 3
   },
   "file_extension": ".py",
   "mimetype": "text/x-python",
   "name": "python",
   "nbconvert_exporter": "python",
   "pygments_lexer": "ipython3",
   "version": "3.9.15"
  },
  "orig_nbformat": 4
 },
 "nbformat": 4,
 "nbformat_minor": 2
}
