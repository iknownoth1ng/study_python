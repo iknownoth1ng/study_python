{
 "cells": [
  {
   "cell_type": "markdown",
   "metadata": {},
   "source": [
    "字典：\n",
    "- 一系列由键（key）值（value）配对组成的元素的集合。Python3.7+，字典被确定为有序，3.6之前是无序的，其长度大小可变，元素可以任意地删减和改变。\n",
    "集合：\n",
    "- 和字典基本相同，唯一的区别，就是集合没有键和值的配对，是一系列无序的、唯一的元素组合。"
   ]
  },
  {
   "cell_type": "code",
   "execution_count": 8,
   "metadata": {},
   "outputs": [
    {
     "name": "stdout",
     "output_type": "stream",
     "text": [
      "True\n",
      "True\n"
     ]
    }
   ],
   "source": [
    "d1 = {'name': 'jason', 'age': 18, 'gender': 'male'}\n",
    "d2 = dict({'name': 'jason', 'age': 18, 'gender': 'male'})\n",
    "d3 = dict([('name', 'jason'), ('age', 18), ('gender', 'male')])\n",
    "d4 = dict(name='jason', age=18, gender='male')\n",
    "print(d1 == d2 == d3 == d4)\n",
    "\n",
    "s1 = {1, 'name', 3}\n",
    "s2 = set({1, 'name', 3})\n",
    "print(s1 == s2)\n"
   ]
  }
 ],
 "metadata": {
  "kernelspec": {
   "display_name": "Python 3.9.7 ('base')",
   "language": "python",
   "name": "python3"
  },
  "language_info": {
   "codemirror_mode": {
    "name": "ipython",
    "version": 3
   },
   "file_extension": ".py",
   "mimetype": "text/x-python",
   "name": "python",
   "nbconvert_exporter": "python",
   "pygments_lexer": "ipython3",
   "version": "3.9.7"
  },
  "orig_nbformat": 4,
  "vscode": {
   "interpreter": {
    "hash": "e42634819b8c191a5d07eaf23810ff32516dd8d3875f28ec3e488928fbd3c187"
   }
  }
 },
 "nbformat": 4,
 "nbformat_minor": 2
}
