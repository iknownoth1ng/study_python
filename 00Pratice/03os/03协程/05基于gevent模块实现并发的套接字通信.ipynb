{
 "cells": [
  {
   "attachments": {},
   "cell_type": "markdown",
   "metadata": {},
   "source": [
    "# 客户端"
   ]
  },
  {
   "cell_type": "code",
   "execution_count": 4,
   "metadata": {},
   "outputs": [
    {
     "name": "stdout",
     "output_type": "stream",
     "text": [
      "Overwriting client.py\n"
     ]
    }
   ],
   "source": [
    "%%writefile client.py\n",
    "from socket import *\n",
    "from threading import Thread,current_thread\n",
    "\n",
    "def client():\n",
    "    client=socket(AF_INET, SOCK_STREAM)\n",
    "    client.connect((\"127.0.0.1\", 8080))\n",
    "\n",
    "    while True:\n",
    "        client.send((f\"{current_thread().getName()} say: hello\").encode('utf-8'))\n",
    "        data=client.recv(1024)\n",
    "        print(data.decode(\"utf-8\"))\n",
    "    client.close()\n",
    "    \n",
    "if __name__ == \"__main__\":\n",
    "    for _ in range(500):\n",
    "        t=Thread(target=client)\n",
    "        t.start()"
   ]
  },
  {
   "attachments": {},
   "cell_type": "markdown",
   "metadata": {},
   "source": [
    "# 服务端"
   ]
  },
  {
   "cell_type": "code",
   "execution_count": 3,
   "metadata": {},
   "outputs": [
    {
     "name": "stdout",
     "output_type": "stream",
     "text": [
      "Overwriting server.py\n"
     ]
    }
   ],
   "source": [
    "%%writefile server.py\n",
    "from gevent import spawn,joinall,monkey;monkey.patch_all()\n",
    "from socket import *\n",
    "\n",
    "\n",
    "def talk(conn):\n",
    "    while True:\n",
    "        try:\n",
    "            if data := conn.recv(1024): #* 海象运算符 在表达式中进行变量赋值\n",
    "                conn.send(data.upper())\n",
    "            else:\n",
    "                break\n",
    "        except ConnectionResetError:\n",
    "            break\n",
    "    conn.close()\n",
    "\n",
    "\n",
    "def server(ip,port):\n",
    "    server = socket(AF_INET, SOCK_STREAM)\n",
    "    server.setsockopt(SOL_SOCKET, SO_REUSEADDR, 1)\n",
    "    server.bind((ip,port))\n",
    "\n",
    "    server.listen(5)\n",
    "    while True:\n",
    "        conn,add=server.accept()\n",
    "        spawn(talk,conn)\n",
    "    server.close()    \n",
    "\n",
    "\n",
    "if __name__ == \"__main__\":\n",
    "    g=spawn(server,'127.0.0.1', 8080)\n",
    "    g.join()\n"
   ]
  }
 ],
 "metadata": {
  "kernelspec": {
   "display_name": "Python 3.8.13 ('study')",
   "language": "python",
   "name": "python3"
  },
  "language_info": {
   "codemirror_mode": {
    "name": "ipython",
    "version": 3
   },
   "file_extension": ".py",
   "mimetype": "text/x-python",
   "name": "python",
   "nbconvert_exporter": "python",
   "pygments_lexer": "ipython3",
   "version": "3.8.13"
  },
  "orig_nbformat": 4,
  "vscode": {
   "interpreter": {
    "hash": "49fdd20b2b68a4dd8ebcbb061b9c04f8e52f6472af90d6159269a7c8abf5d944"
   }
  }
 },
 "nbformat": 4,
 "nbformat_minor": 2
}
