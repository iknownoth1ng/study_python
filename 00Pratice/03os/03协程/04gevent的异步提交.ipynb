{
 "cells": [
  {
   "attachments": {},
   "cell_type": "markdown",
   "metadata": {},
   "source": [
    "1. 下面程序的重要部分是将task函数封装到Greenlet内部线程的gevent.spawn。 \n",
    "\n",
    "2. 初始化的greenlet列表存放在数组threads中，此数组被传给gevent.joinall 函数，后者阻塞当前流程，并执行所有给定的greenlet。\n",
    "\n",
    "3. 执行流程只会在 所有greenlet执行完后才会继续向下走。"
   ]
  },
  {
   "cell_type": "code",
   "execution_count": 1,
   "metadata": {},
   "outputs": [],
   "source": [
    "import gevent\n",
    "from gevent import monkey\n",
    "monkey.patch_all()  # * 对所有IO操作打补丁\n",
    "    \n",
    "import timeit\n",
    "import time\n",
    "\n",
    "def task(pid):\n",
    "    \"\"\"\n",
    "    Some non-deterministic task 非确定\n",
    "    \"\"\"\n",
    "    time.sleep(0.5)\n",
    "    print(f\"Task {pid} done\")\n",
    "\n",
    "\n",
    "def synchronous():\n",
    "    for i in range(10):\n",
    "        task(i)\n",
    "\n",
    "\n",
    "def asynchronous():\n",
    "    g_l = [gevent.spawn(task, i) for i in range(10)]\n",
    "    gevent.joinall(g_l)\n",
    "\n",
    "\n",
    "if __name__ == \"__main__\":\n",
    "    print(\"Synchronous:\")\n",
    "    print(timeit.timeit(synchronous, number=1))\n",
    "\n",
    "    print(\"Asynchronous:\")\n",
    "    print(timeit.timeit(asynchronous, number=1))"
   ]
  }
 ],
 "metadata": {
  "kernelspec": {
   "display_name": "Python 3.8.13 ('study')",
   "language": "python",
   "name": "python3"
  },
  "language_info": {
   "codemirror_mode": {
    "name": "ipython",
    "version": 3
   },
   "file_extension": ".py",
   "mimetype": "text/x-python",
   "name": "python",
   "nbconvert_exporter": "python",
   "pygments_lexer": "ipython3",
   "version": "3.8.13"
  },
  "orig_nbformat": 4,
  "vscode": {
   "interpreter": {
    "hash": "49fdd20b2b68a4dd8ebcbb061b9c04f8e52f6472af90d6159269a7c8abf5d944"
   }
  }
 },
 "nbformat": 4,
 "nbformat_minor": 2
}
