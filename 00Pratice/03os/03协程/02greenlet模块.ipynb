{
 "cells": [
  {
   "cell_type": "markdown",
   "metadata": {},
   "source": [
    "# Greenlet\n",
    "\n",
    "如果我们在单个线程内有20个任务，要想实现在多个任务之间切换，\n",
    "\n",
    "使用yield生成器的方式过于麻烦（需要先得到初始化一次的生成器，然后再调用send。。。非常麻烦），\n",
    "\n",
    "而使用greenlet模块可以非常简单地实现这20个任务直接的切换"
   ]
  },
  {
   "cell_type": "code",
   "execution_count": 1,
   "metadata": {},
   "outputs": [
    {
     "name": "stdout",
     "output_type": "stream",
     "text": [
      "egon eat 1\n",
      "egon play 1\n",
      "egon eat 2\n",
      "egon play 2\n"
     ]
    }
   ],
   "source": [
    "from greenlet import greenlet\n",
    "\n",
    "def eat(name):\n",
    "    print(f'{name} eat 1')\n",
    "    g2.switch('egon')\n",
    "    print(f'{name} eat 2')\n",
    "    g2.switch()\n",
    "    \n",
    "def play(name):\n",
    "    print(f'{name} play 1')\n",
    "    g1.switch()\n",
    "    print(f'{name} play 2')\n",
    "\n",
    "g1=greenlet(eat)\n",
    "g2=greenlet(play)\n",
    "\n",
    "g1.switch('egon')#可以在第一次switch时传入参数，以后都不需要"
   ]
  },
  {
   "cell_type": "markdown",
   "metadata": {},
   "source": [
    "单纯的切换（在没有io的情况下或者没有重复开辟内存空间的操作），反而会降低程序的执行速度"
   ]
  },
  {
   "cell_type": "code",
   "execution_count": 2,
   "metadata": {},
   "outputs": [
    {
     "name": "stdout",
     "output_type": "stream",
     "text": [
      "run time is 9.597684383392334\n"
     ]
    }
   ],
   "source": [
    "#顺序执行\n",
    "import time\n",
    "def f1():\n",
    "    res=1\n",
    "    for i in range(100000000):\n",
    "        res+=i\n",
    "\n",
    "def f2():\n",
    "    res=1\n",
    "    for i in range(100000000):\n",
    "        res*=i\n",
    "\n",
    "start=time.time()\n",
    "f1()\n",
    "f2()\n",
    "stop=time.time()\n",
    "print(f'run time is {stop - start}')\n",
    "\n"
   ]
  },
  {
   "cell_type": "code",
   "execution_count": 3,
   "metadata": {},
   "outputs": [
    {
     "name": "stdout",
     "output_type": "stream",
     "text": [
      "run time is 55.699546337127686\n"
     ]
    }
   ],
   "source": [
    "#切换\n",
    "from greenlet import greenlet\n",
    "import time\n",
    "def f1():\n",
    "    res=1\n",
    "    for i in range(100000000):\n",
    "        res+=i\n",
    "        g2.switch()\n",
    "\n",
    "def f2():\n",
    "    res=1\n",
    "    for i in range(100000000):\n",
    "        res*=i\n",
    "        g1.switch()\n",
    "\n",
    "start=time.time()\n",
    "g1=greenlet(f1)\n",
    "g2=greenlet(f2)\n",
    "g1.switch()\n",
    "stop=time.time()\n",
    "print(f'run time is {stop - start}')"
   ]
  },
  {
   "cell_type": "markdown",
   "metadata": {},
   "source": [
    "greenlet只是提供了一种比generator更加便捷的切换方式，当切到一个任务执行时如果遇到io，那就原地阻塞，仍然是没有解决遇到IO自动切换来提升效率的问题。\n",
    "\n",
    "单线程里的这20个任务的代码通常会既有计算操作又有阻塞操作，我们完全可以在执行任务1时遇到阻塞，就利用阻塞的时间去执行任务2。。。。如此，才能提高效率，这就用到了Gevent模块。"
   ]
  }
 ],
 "metadata": {
  "kernelspec": {
   "display_name": "Python 3.9.12 ('base')",
   "language": "python",
   "name": "python3"
  },
  "language_info": {
   "codemirror_mode": {
    "name": "ipython",
    "version": 3
   },
   "file_extension": ".py",
   "mimetype": "text/x-python",
   "name": "python",
   "nbconvert_exporter": "python",
   "pygments_lexer": "ipython3",
   "version": "3.9.12"
  },
  "orig_nbformat": 4,
  "vscode": {
   "interpreter": {
    "hash": "af2924f10f5eb76fd65ccea448a69e80be7838e947e8a1ae982ab7073141c8a7"
   }
  }
 },
 "nbformat": 4,
 "nbformat_minor": 2
}
