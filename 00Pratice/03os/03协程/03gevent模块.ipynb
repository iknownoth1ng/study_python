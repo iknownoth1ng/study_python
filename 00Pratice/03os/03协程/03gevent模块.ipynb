{
 "cells": [
  {
   "cell_type": "markdown",
   "metadata": {},
   "source": [
    "# Gevent模块\n",
    "\n",
    "Gevent 是一个第三方库,可以轻松通过gevent实现并发同步或异步编程,在gevent中用到的主要模式是Greenlet, 它是以C扩展模块形式接入Python的轻量级协程。 \n",
    "\n",
    "Greenlet全部运行在主程序操作系统进程的内部,但它们被协作式地调度。"
   ]
  },
  {
   "cell_type": "code",
   "execution_count": 4,
   "metadata": {},
   "outputs": [
    {
     "name": "stdout",
     "output_type": "stream",
     "text": [
      "egon eat 1\n",
      "alex play 1\n",
      "egon eat 2\n",
      "alex play 2\n"
     ]
    }
   ],
   "source": [
    "'''\n",
    "#用法\n",
    "创建一个协程对象g1,spawn括号内第一个参数是函数名,如eat,后面可以有多个参数,可以是位置实参或关键字实参,都是传给函数eat的\n",
    "g1=gevent.spawn(func,1,,2,3,x=4,y=5)\n",
    "\n",
    "g2=gevent.spawn(func2)\n",
    "\n",
    "g1.join() #等待g1结束\n",
    "\n",
    "g2.join() #等待g2结束\n",
    "\n",
    "#或者上述两步合作一步：gevent.joinall([g1,g2])\n",
    "\n",
    "g1.value#拿到func1的返回值\n",
    "'''\n",
    "import gevent\n",
    "import time\n",
    "\n",
    "def eat(name):\n",
    "    print(f\"{name} eat 1\")\n",
    "    gevent.sleep(3) #* 遇到IO阻塞时会自动切换任务\n",
    "    print(f\"{name} eat 2\")\n",
    "\n",
    "def play(name):\n",
    "    print(f\"{name} play 1\")\n",
    "    gevent.sleep(4)\n",
    "    print(f\"{name} play 2\")\n",
    "\n",
    "g1=gevent.spawn(eat,\"egon\")\n",
    "g2=gevent.spawn(play,\"alex\")\n",
    "\n",
    "g1.join()\n",
    "g2.join()"
   ]
  },
  {
   "cell_type": "markdown",
   "metadata": {},
   "source": [
    "## 如果是其他模块的IO操作,不会自动切换"
   ]
  },
  {
   "cell_type": "code",
   "execution_count": 5,
   "metadata": {},
   "outputs": [
    {
     "name": "stdout",
     "output_type": "stream",
     "text": [
      "egon eat 1\n",
      "egon eat 2\n",
      "alex play 1\n",
      "alex play 2\n"
     ]
    }
   ],
   "source": [
    "import gevent\n",
    "import time\n",
    "\n",
    "def eat(name):\n",
    "    print(f\"{name} eat 1\")\n",
    "    time.sleep(3) #! 如果是time.sleep() 不会自动切换\n",
    "    print(f\"{name} eat 2\")\n",
    "\n",
    "def play(name):\n",
    "    print(f\"{name} play 1\")\n",
    "    time.sleep(4)\n",
    "    print(f\"{name} play 2\")\n",
    "\n",
    "g1=gevent.spawn(eat,\"egon\")\n",
    "g2=gevent.spawn(play,\"alex\")\n",
    "\n",
    "g1.join()\n",
    "g2.join()"
   ]
  },
  {
   "cell_type": "markdown",
   "metadata": {},
   "source": [
    "## 解决办法,引入monkey\n",
    "上例gevent.sleep(2)模拟的是gevent可以识别的io阻塞,\n",
    "\n",
    "而time.sleep(2)或其他的阻塞,gevent是不能直接识别的需要用下面一行代码,打补丁,就可以识别了\n",
    "\n",
    "from gevent import monkey;monkey.patch_all()必须放到被打补丁者的前面，如time，socket模块之前\n",
    "\n",
    "或者我们干脆记忆成：要用gevent，需要将from gevent import monkey;monkey.patch_all()放到文件的开头"
   ]
  },
  {
   "cell_type": "code",
   "execution_count": 1,
   "metadata": {},
   "outputs": [
    {
     "name": "stdout",
     "output_type": "stream",
     "text": [
      "egon eat 1\n",
      "alex play 1\n",
      "egon eat 2\n",
      "alex play 2\n"
     ]
    },
    {
     "name": "stderr",
     "output_type": "stream",
     "text": [
      "d:\\python\\Anaconda3\\envs\\study\\lib\\site-packages\\gevent\\hub.py:161: UserWarning: libuv only supports millisecond timer resolution; all times less will be set to 1 ms\n",
      "  with loop.timer(seconds, ref=ref) as t:\n"
     ]
    }
   ],
   "source": [
    "import gevent\n",
    "from gevent import monkey\n",
    "monkey.patch_all()  # * 对所有IO操作打补丁\n",
    "import time\n",
    "\n",
    "def eat(name):\n",
    "    print(f\"{name} eat 1\")\n",
    "    time.sleep(3) \n",
    "    print(f\"{name} eat 2\")\n",
    "\n",
    "def play(name):\n",
    "    print(f\"{name} play 1\")\n",
    "    time.sleep(4)\n",
    "    print(f\"{name} play 2\")\n",
    "\n",
    "g1=gevent.spawn(eat,\"egon\")\n",
    "g2=gevent.spawn(play,\"alex\")\n",
    "\n",
    "g1.join()\n",
    "g2.join()"
   ]
  },
  {
   "cell_type": "markdown",
   "metadata": {},
   "source": [
    "##  我们可以用threading.current_thread().getName()来查看每个g1和g2，查看的结果为DummyThread-n，即假线程"
   ]
  },
  {
   "cell_type": "code",
   "execution_count": 1,
   "metadata": {},
   "outputs": [
    {
     "name": "stdout",
     "output_type": "stream",
     "text": [
      "egon eat 1\n",
      "alex play 1\n",
      "egon eat 2\n",
      "eat threadname is Dummy-3\n",
      "alex play 2\n",
      "play threadname is Dummy-4\n"
     ]
    },
    {
     "data": {
      "text/plain": [
       "[<Greenlet at 0x22c08faa2c0: _run>, <Greenlet at 0x22c091355e0: _run>]"
      ]
     },
     "execution_count": 1,
     "metadata": {},
     "output_type": "execute_result"
    },
    {
     "name": "stderr",
     "output_type": "stream",
     "text": [
      "d:\\python\\Anaconda3\\envs\\study\\lib\\site-packages\\gevent\\hub.py:161: UserWarning: libuv only supports millisecond timer resolution; all times less will be set to 1 ms\n",
      "  with loop.timer(seconds, ref=ref) as t:\n"
     ]
    }
   ],
   "source": [
    "from threading import current_thread\n",
    "import gevent\n",
    "from gevent import monkey\n",
    "monkey.patch_all()  # * 对所有IO操作打补丁\n",
    "import time\n",
    "\n",
    "def eat(name):\n",
    "    print(f\"{name} eat 1\")\n",
    "    time.sleep(3)\n",
    "    print(f\"{name} eat 2\")\n",
    "    print(f\"eat threadname is {current_thread().getName()}\")\n",
    "\n",
    "def play(name):\n",
    "    print(f\"{name} play 1\")\n",
    "    time.sleep(4)\n",
    "    print(f\"{name} play 2\")\n",
    "    print(f\"play threadname is {current_thread().getName()}\")\n",
    "\n",
    "g1=gevent.spawn(eat,\"egon\")\n",
    "g2=gevent.spawn(play,\"alex\")\n",
    "\n",
    "gevent.joinall([g1,g2])"
   ]
  }
 ],
 "metadata": {
  "kernelspec": {
   "display_name": "Python 3.8.13 ('study')",
   "language": "python",
   "name": "python3"
  },
  "language_info": {
   "codemirror_mode": {
    "name": "ipython",
    "version": 3
   },
   "file_extension": ".py",
   "mimetype": "text/x-python",
   "name": "python",
   "nbconvert_exporter": "python",
   "pygments_lexer": "ipython3",
   "version": "3.8.13"
  },
  "orig_nbformat": 4,
  "vscode": {
   "interpreter": {
    "hash": "49fdd20b2b68a4dd8ebcbb061b9c04f8e52f6472af90d6159269a7c8abf5d944"
   }
  }
 },
 "nbformat": 4,
 "nbformat_minor": 2
}
