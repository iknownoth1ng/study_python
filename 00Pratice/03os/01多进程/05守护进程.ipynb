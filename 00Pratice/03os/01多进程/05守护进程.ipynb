{
 "cells": [
  {
   "cell_type": "markdown",
   "metadata": {},
   "source": [
    "# 守护进程\n",
    "- 主进程死亡，守护进程立刻死亡"
   ]
  },
  {
   "cell_type": "code",
   "execution_count": 2,
   "metadata": {},
   "outputs": [
    {
     "name": "stdout",
     "output_type": "stream",
     "text": [
      "Writing test_daemon.py\n"
     ]
    }
   ],
   "source": [
    "%%writefile  test_daemon.py\n",
    "from multiprocessing import Process\n",
    "import time\n",
    "\n",
    "def task(name):\n",
    "    print(\"{} is running\".format(name))\n",
    "    time.sleep(1)\n",
    "    print(\"{} is done\".format(name))\n",
    "\n",
    "if __name__ == \"__main__\":\n",
    "    p=Process(target=task, args=(\"守护进程1\",))\n",
    "    p.daemon = True # 将该子进程设置为守护进程\n",
    "    p.start()\n",
    "\n",
    "    print(\"主进程结束\")\n"
   ]
  },
  {
   "cell_type": "markdown",
   "metadata": {},
   "source": [
    "- 守护进程不能再开启子进程\n"
   ]
  },
  {
   "cell_type": "code",
   "execution_count": 3,
   "metadata": {},
   "outputs": [
    {
     "name": "stdout",
     "output_type": "stream",
     "text": [
      "Overwriting test_daemon.py\n"
     ]
    }
   ],
   "source": [
    "%%writefile  test_daemon.py\n",
    "from multiprocessing import Process\n",
    "import time\n",
    "\n",
    "def task(name):\n",
    "    print(\"{} is running\".format(name))\n",
    "    time.sleep(1)\n",
    "    p=Process(target=time.sleep, args=(3,))\n",
    "    p.start()\n",
    "    p.join() #! daemonic processes are not allowed to have children\n",
    "    print(\"{}的子进程 is done\")\n",
    "    print(\"{} is done\".format(name))\n",
    "\n",
    "if __name__ == \"__main__\":\n",
    "    p=Process(target=task, args=(\"守护进程1\",))\n",
    "    p.daemon = True # 将该子进程设置为守护进程\n",
    "    p.start()\n",
    "\n",
    "    p.join()\n",
    "    print(\"主进程结束\")\n",
    "    "
   ]
  },
  {
   "cell_type": "markdown",
   "metadata": {},
   "source": [
    "# 练习题"
   ]
  },
  {
   "cell_type": "code",
   "execution_count": 5,
   "metadata": {},
   "outputs": [
    {
     "name": "stdout",
     "output_type": "stream",
     "text": [
      "Overwriting test_daemon.py\n"
     ]
    }
   ],
   "source": [
    "%%writefile  test_daemon.py\n",
    "# 思考下列代码的执行结果有哪些情况，为什么？\n",
    "from multiprocessing  import Process\n",
    "import time\n",
    "\n",
    "def foo():\n",
    "    print(\"123\")\n",
    "    time.sleep(1)\n",
    "    print(\"end123\")\n",
    "\n",
    "def bar():\n",
    "    print(\"456\")\n",
    "    time.sleep(1)\n",
    "    print(\"end456\")\n",
    "\n",
    "if __name__ == \"__main__\":\n",
    "    p1 = Process(target=foo)\n",
    "    p2 = Process(target=bar)\n",
    "    p1.daemon = True\n",
    "    p1.start()\n",
    "    p2.start()\n",
    "\n",
    "    print(\"主进程结束\")"
   ]
  }
 ],
 "metadata": {
  "kernelspec": {
   "display_name": "Python 3.9.12 ('base')",
   "language": "python",
   "name": "python3"
  },
  "language_info": {
   "codemirror_mode": {
    "name": "ipython",
    "version": 3
   },
   "file_extension": ".py",
   "mimetype": "text/x-python",
   "name": "python",
   "nbconvert_exporter": "python",
   "pygments_lexer": "ipython3",
   "version": "3.9.12"
  },
  "orig_nbformat": 4,
  "vscode": {
   "interpreter": {
    "hash": "af2924f10f5eb76fd65ccea448a69e80be7838e947e8a1ae982ab7073141c8a7"
   }
  }
 },
 "nbformat": 4,
 "nbformat_minor": 2
}
