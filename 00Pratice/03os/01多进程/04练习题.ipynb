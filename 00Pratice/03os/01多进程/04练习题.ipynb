{
 "cells": [
  {
   "cell_type": "markdown",
   "metadata": {},
   "source": [
    "# 1.进程之间的内存空间是共享的还是隔离的？"
   ]
  },
  {
   "cell_type": "code",
   "execution_count": 4,
   "metadata": {},
   "outputs": [
    {
     "name": "stdout",
     "output_type": "stream",
     "text": [
      "Overwriting temp_multi.py\n"
     ]
    }
   ],
   "source": [
    "%%writefile  temp_multi.py\n",
    "from multiprocessing import Process\n",
    "\n",
    "n=100\n",
    "\n",
    "def work():\n",
    "    global n\n",
    "    n=0\n",
    "    print(\"子进程n：{}\".format(n))\n",
    "\n",
    "if __name__ == \"__main__\":\n",
    "    __spec__ = \"ModuleSpec(name='builtins', loader=<class '_frozen_importlib.BuiltinImporter'>)\"\n",
    "\n",
    "    p=Process(target=work,)\n",
    "    p.start()\n",
    "    p.join()\n",
    "\n",
    "    print(\"主进程n：{}\".format(n))"
   ]
  },
  {
   "cell_type": "markdown",
   "metadata": {},
   "source": [
    "# 2.基于多进程实现的并发的套接字通信\n",
    "\n",
    "## 服务端"
   ]
  },
  {
   "cell_type": "code",
   "execution_count": 1,
   "metadata": {},
   "outputs": [
    {
     "name": "stdout",
     "output_type": "stream",
     "text": [
      "Writing server.py\n"
     ]
    }
   ],
   "source": [
    "%%writefile  server.py\n",
    "from socket import *\n",
    "from multiprocessing import Process\n",
    "\n",
    "def talk(conn):\n",
    "    while True:\n",
    "        try:\n",
    "            data=conn.recv(1024)\n",
    "            if not data:\n",
    "                break\n",
    "            conn.send(data.upper())\n",
    "        except ConnectionResetError:\n",
    "            break\n",
    "    conn.close()\n",
    "\n",
    "\n",
    "def server(ip,port):\n",
    "    server = socket(AF_INET, SOCK_STREAM)\n",
    "    server.setsockopt(SOL_SOCKET, SO_REUSEADDR, 1)\n",
    "    server.bind((ip,port))\n",
    "\n",
    "    server.listen(5)\n",
    "    while True:\n",
    "        conn,add=server.accept()\n",
    "        p=Process(target=talk,args=(conn,))\n",
    "        p.start()\n",
    "\n",
    "    server.close()    \n",
    "\n",
    "\n",
    "if __name__ == \"__main__\":\n",
    "    server('127.0.0.1', 8080)"
   ]
  },
  {
   "cell_type": "code",
   "execution_count": 2,
   "metadata": {},
   "outputs": [
    {
     "name": "stdout",
     "output_type": "stream",
     "text": [
      "Writing client.py\n"
     ]
    }
   ],
   "source": [
    "%%writefile  client.py\n",
    "from socket import *\n",
    "\n",
    "client=socket(AF_INET, SOCK_STREAM)\n",
    "client.connect((\"127.0.0.1\", 8080))\n",
    "\n",
    "while True:\n",
    "    msg=input('>>: '.strip())\n",
    "    if not msg:continue\n",
    "\n",
    "    client.send(msg.encode('utf-8'))\n",
    "    data=client.recv(1024)\n",
    "    print(data.decode(\"utf-8\"))"
   ]
  },
  {
   "cell_type": "markdown",
   "metadata": {},
   "source": [
    "# 3.进程按顺序执行"
   ]
  },
  {
   "cell_type": "code",
   "execution_count": 1,
   "metadata": {},
   "outputs": [
    {
     "name": "stdout",
     "output_type": "stream",
     "text": [
      "Overwriting temp_multi.py\n"
     ]
    }
   ],
   "source": [
    "%%writefile  temp_multi.py\n",
    "# 查看子进程的父进程id\n",
    "from multiprocessing import Process\n",
    "import time\n",
    "import random\n",
    "\n",
    "def task(n):\n",
    "    time.sleep(random.randint(1, 3))\n",
    "    print(\"--------->{}\".format(n))\n",
    "    \n",
    "\n",
    "if __name__ == \"__main__\":\n",
    "    __spec__ = \"ModuleSpec(name='builtins', loader=<class '_frozen_importlib.BuiltinImporter'>)\"\n",
    "\n",
    "    start_time = time.time()\n",
    "    p1=Process(target=task,args=(1,))\n",
    "    p2=Process(target=task,args=(2,))\n",
    "    p3=Process(target=task,args=(3,))\n",
    "    p_l=[p1,p2,p3]\n",
    "    \n",
    "    for p in p_l:\n",
    "        p.start() # 仅仅只是给操作系统发送了一个信号\n",
    "        p.join()\n",
    "\n",
    "\n",
    "    print('--------->4')"
   ]
  }
 ],
 "metadata": {
  "kernelspec": {
   "display_name": "Python 3.9.12 ('base')",
   "language": "python",
   "name": "python3"
  },
  "language_info": {
   "codemirror_mode": {
    "name": "ipython",
    "version": 3
   },
   "file_extension": ".py",
   "mimetype": "text/x-python",
   "name": "python",
   "nbconvert_exporter": "python",
   "pygments_lexer": "ipython3",
   "version": "3.9.12"
  },
  "orig_nbformat": 4,
  "vscode": {
   "interpreter": {
    "hash": "af2924f10f5eb76fd65ccea448a69e80be7838e947e8a1ae982ab7073141c8a7"
   }
  }
 },
 "nbformat": 4,
 "nbformat_minor": 2
}
