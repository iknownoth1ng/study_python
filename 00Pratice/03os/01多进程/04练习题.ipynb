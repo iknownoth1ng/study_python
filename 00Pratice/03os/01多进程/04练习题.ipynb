{
 "cells": [
  {
   "cell_type": "markdown",
   "metadata": {},
   "source": [
    "# 1.进程之间的内存空间是共享的还是隔离的？"
   ]
  },
  {
   "cell_type": "code",
   "execution_count": 4,
   "metadata": {},
   "outputs": [
    {
     "name": "stdout",
     "output_type": "stream",
     "text": [
      "Overwriting temp_multi.py\n"
     ]
    }
   ],
   "source": [
    "%%writefile  temp_multi.py\n",
    "from multiprocessing import Process\n",
    "\n",
    "n=100\n",
    "\n",
    "def work():\n",
    "    global n\n",
    "    n=0\n",
    "    print(\"子进程n：{}\".format(n))\n",
    "\n",
    "if __name__ == \"__main__\":\n",
    "    __spec__ = \"ModuleSpec(name='builtins', loader=<class '_frozen_importlib.BuiltinImporter'>)\"\n",
    "\n",
    "    p=Process(target=work,)\n",
    "    p.start()\n",
    "    p.join()\n",
    "\n",
    "    print(\"主进程n：{}\".format(n))"
   ]
  },
  {
   "cell_type": "markdown",
   "metadata": {},
   "source": [
    "# 2.基于多进程实现的并发的套接字通信\n",
    "\n",
    "## 服务端"
   ]
  }
 ],
 "metadata": {
  "kernelspec": {
   "display_name": "Python 3.9.7 ('base')",
   "language": "python",
   "name": "python3"
  },
  "language_info": {
   "codemirror_mode": {
    "name": "ipython",
    "version": 3
   },
   "file_extension": ".py",
   "mimetype": "text/x-python",
   "name": "python",
   "nbconvert_exporter": "python",
   "pygments_lexer": "ipython3",
   "version": "3.9.7"
  },
  "orig_nbformat": 4,
  "vscode": {
   "interpreter": {
    "hash": "e42634819b8c191a5d07eaf23810ff32516dd8d3875f28ec3e488928fbd3c187"
   }
  }
 },
 "nbformat": 4,
 "nbformat_minor": 2
}
