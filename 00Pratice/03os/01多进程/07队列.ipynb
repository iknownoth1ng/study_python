{
 "cells": [
  {
   "cell_type": "markdown",
   "metadata": {},
   "source": [
    "# 队列\n",
    "- 加锁可以保证多个进程修改同一块数据时，同一时间只能有一个任务可以进行修改，即串行的修改，没错，速度是慢了，但牺牲了速度却保证了数据安全。</br>\n",
    "虽然可以用文件共享数据实现进程间通信，但问题是：</br>\n",
    "1. 效率低（共享数据基于文件，而文件是硬盘上的数据）\n",
    "2. 需要自己加锁处理\n",
    "\n",
    "- 因此我们最好找寻一种解决方案能够兼顾：1、效率高（多个进程共享一块内存的数据）2、帮我们处理好锁问题。这就是mutiprocessing模块为我们提供的基于消息的IPC通信机制：队列和管道。\n",
    "1. 队列和管道都是将数据存放于内存中\n",
    "2. 队列又是基于（管道+锁）实现的，可以让我们从复杂的锁问题中解脱出来，\n",
    "\n",
    "- 我们应该尽量避免使用共享数据，尽可能使用消息传递和队列，避免处理复杂的同步和锁问题，而且在进程数目增多时，往往可以获得更好的可获展性。"
   ]
  },
  {
   "cell_type": "code",
   "execution_count": 1,
   "metadata": {},
   "outputs": [
    {
     "name": "stdout",
     "output_type": "stream",
     "text": [
      "True\n",
      "3\n",
      "3\n",
      "3\n",
      "True\n"
     ]
    }
   ],
   "source": [
    "# 进程彼此之间互相隔离，要实现进程间通信（IPC），multiprocessing模块支持两种形式：队列和管道，这两种方式都是使用消息传递的\n",
    "\n",
    "from multiprocessing import Queue\n",
    "\n",
    "# Queue([maxsize]):创建共享的进程队列，Queue是多进程安全的队列，可以使用Queue实现多进程之间的数据传递。 \n",
    "q=Queue(3)  # maxsize是队列中允许最大项数，省略则无大小限制。\n",
    "\n",
    "q.put(3)\n",
    "q.put(3)\n",
    "q.put(3)\n",
    "print(q.full()) #满了\n",
    "\n",
    "print(q.get())\n",
    "print(q.get())\n",
    "print(q.get())\n",
    "print(q.empty()) #空了\n",
    "\n",
    "\n",
    "# q.put方法用以插入数据到队列中，put方法还有两个可选参数：blocked和timeout。如果blocked为True（默认值），并且timeout为正值，该方法会阻塞timeout指定的时间，直到该队列有剩余的空间。如果超时，会抛出Queue.Full异常。如果blocked为False，但该Queue已满，会立即抛出Queue.Full异常。\n",
    "# q.get方法可以从队列读取并且删除一个元素。同样，get方法有两个可选参数：blocked和timeout。如果blocked为True（默认值），并且timeout为正值，那么在等待时间内没有取到任何元素，会抛出Queue.Empty异常。如果blocked为False，有两种情况存在，如果Queue有一个值可用，则立即返回该值，否则，如果队列为空，则立即抛出Queue.Empty异常.\n",
    "\n",
    "# q.get_nowait():同q.get(False)\n",
    "# q.put_nowait():同q.put(False)\n",
    "\n",
    "# q.empty():调用此方法时q为空则返回True，该结果不可靠，比如在返回True的过程中，如果队列中又加入了项目。\n",
    "# q.full()：调用此方法时q已满则返回True，该结果不可靠，比如在返回True的过程中，如果队列中的项目被取走。\n",
    "# q.qsize():返回队列中目前项目的正确数量，结果也不可靠，理由同q.empty()和q.full()一样\n"
   ]
  },
  {
   "cell_type": "markdown",
   "metadata": {},
   "source": [
    "# 生产者消费者模型\n",
    "- 普通版本"
   ]
  },
  {
   "cell_type": "code",
   "execution_count": 2,
   "metadata": {},
   "outputs": [
    {
     "name": "stdout",
     "output_type": "stream",
     "text": [
      "生产者生产了包子1\n",
      "消费者吃了包子1\n",
      "生产者生产了包子2\n",
      "消费者吃了包子2\n",
      "生产者生产了包子3\n",
      "消费者吃了包子3\n"
     ]
    }
   ],
   "source": [
    "import time\n",
    "\n",
    "def producer():\n",
    "    for i in range(1,4):\n",
    "        res=f\"包子{i}\"\n",
    "        time.sleep(2)\n",
    "        print(f\"生产者生产了{res}\")\n",
    "        consumer(res)\n",
    "\n",
    "def consumer(res):\n",
    "    time.sleep(1)\n",
    "    print(f\"消费者吃了{res}\")\n",
    "\n",
    "if __name__ == \"__main__\":\n",
    "    producer()"
   ]
  },
  {
   "cell_type": "markdown",
   "metadata": {},
   "source": [
    "- 队列版本</br>\n",
    "1. 生产者消费者模式是通过一个容器来解决生产者和消费者的强耦合问题。\n",
    "2. 生产者和消费者彼此之间不直接通讯，而通过阻塞队列来进行通讯，所以生产者生产完数据之后不用等待消费者处理，</br>直接扔给阻塞队列，消费者不找生产者要数据，而是直接从阻塞队列里取，</br>阻塞队列就相当于一个缓冲区，平衡了生产者和消费者的处理能力。"
   ]
  },
  {
   "cell_type": "code",
   "execution_count": 3,
   "metadata": {},
   "outputs": [
    {
     "name": "stdout",
     "output_type": "stream",
     "text": [
      "Overwriting test_producer_consumer.py\n"
     ]
    }
   ],
   "source": [
    "%%writefile test_producer_consumer.py\n",
    "from multiprocessing import Queue,Process\n",
    "import time\n",
    "\n",
    "def producer(q,name,product):\n",
    "    \"\"\"生产者\n",
    "\n",
    "    Parameters\n",
    "    ----------\n",
    "    q : _type_ queue\n",
    "        _description_ 队列容器\n",
    "    name : _type_\n",
    "        _description_ 生产者名字\n",
    "    product : _type_\n",
    "        _description_ 生产的产品名字\n",
    "    \"\"\"\n",
    "    for i in range(1,10):\n",
    "        res=f\"{product}{i}\"\n",
    "        time.sleep(0.5)\n",
    "        print(f\"{name} 生产了 {res}\")\n",
    "        q.put(res)\n",
    "    #*q.put(None) 单个生产者的话，可以在这里加，多个则不行\n",
    "    \n",
    "def consumer(q,name):\n",
    "    \"\"\"消费者\n",
    "\n",
    "    Parameters\n",
    "    ----------\n",
    "    q : _type_\n",
    "        _description_ 队列容器\n",
    "    name : _type_\n",
    "        _description_ 消费者名字\n",
    "    \"\"\"\n",
    "    while True:\n",
    "        time.sleep(1.5)\n",
    "        res=q.get()\n",
    "        if res is None: break\n",
    "        print(f\"{name} 消费了 {res}\")\n",
    "    \n",
    "if __name__==\"__main__\":\n",
    "    #* 容器\n",
    "    q=Queue()\n",
    "    p1=Process(target=producer,args=(q,\"生产者1\",\"包子\"))\n",
    "    c1=Process(target=consumer,args=(q,\"消费者1\"))\n",
    "    p1.start()\n",
    "    c1.start()\n",
    "\n",
    "    p1.join() #* 在主线程里发信号，需要等待生产者结束\n",
    "    q.put(None) #* 加入生产者生产完毕的信号，不加的话消费者会死循环\n",
    "    print(\"主线程\")"
   ]
  },
  {
   "cell_type": "markdown",
   "metadata": {},
   "source": [
    "- 多个生产者、消费者"
   ]
  },
  {
   "cell_type": "code",
   "execution_count": 4,
   "metadata": {},
   "outputs": [
    {
     "name": "stdout",
     "output_type": "stream",
     "text": [
      "Overwriting test_producer_consumer.py\n"
     ]
    }
   ],
   "source": [
    "%%writefile test_producer_consumer.py\n",
    "from multiprocessing import Queue,Process\n",
    "import time\n",
    "\n",
    "def producer(q,name,product):\n",
    "    \"\"\"生产者\n",
    "\n",
    "    Parameters\n",
    "    ----------\n",
    "    q : _type_ queue\n",
    "        _description_ 队列容器\n",
    "    name : _type_\n",
    "        _description_ 生产者名字\n",
    "    product : _type_\n",
    "        _description_ 生产的产品名字\n",
    "    \"\"\"\n",
    "    for i in range(1,6):\n",
    "        res=f\"{product}{i}\"\n",
    "        time.sleep(0.5)\n",
    "        print(f\"{name} 生产了 {res}\")\n",
    "        q.put(res)\n",
    "        \n",
    "def consumer(q,name):\n",
    "    \"\"\"生产者\n",
    "\n",
    "    Parameters\n",
    "    ----------\n",
    "    q : _type_\n",
    "        _description_ 队列容器\n",
    "    name : _type_\n",
    "        _description_ 消费者名字\n",
    "    \"\"\"\n",
    "    while True:\n",
    "        time.sleep(1.5)\n",
    "        res=q.get()\n",
    "        if res is None: break\n",
    "        print(f\"{name} 消费了 {res}\")\n",
    "    \n",
    "if __name__==\"__main__\":\n",
    "    #* 容器\n",
    "    q=Queue()\n",
    "    p1=Process(target=producer,args=(q,\"生产者1\",\"包子\"))\n",
    "    p2=Process(target=producer,args=(q,\"生产者2\",\"饺子\"))\n",
    "    p3=Process(target=producer,args=(q,\"生产者3\",\"粽子\"))\n",
    "    c1=Process(target=consumer,args=(q,\"雅木茶\"))\n",
    "    c2=Process(target=consumer,args=(q,\"悟空\"))\n",
    "    p1.start()\n",
    "    p2.start()\n",
    "    p3.start()\n",
    "    c1.start()\n",
    "    c2.start()\n",
    "\n",
    "    p1.join()\n",
    "    p2.join()\n",
    "    p3.join()\n",
    "    q.put(None) #* 有几个消费者就要发几个None,有点不优雅\n",
    "    q.put(None)\n",
    "    print(\"主线程\")\n"
   ]
  }
 ],
 "metadata": {
  "kernelspec": {
   "display_name": "Python 3.8.13 ('study')",
   "language": "python",
   "name": "python3"
  },
  "language_info": {
   "codemirror_mode": {
    "name": "ipython",
    "version": 3
   },
   "file_extension": ".py",
   "mimetype": "text/x-python",
   "name": "python",
   "nbconvert_exporter": "python",
   "pygments_lexer": "ipython3",
   "version": "3.8.13"
  },
  "orig_nbformat": 4,
  "vscode": {
   "interpreter": {
    "hash": "46cb6235441a8b74df724a68ed242e7b6759bfc907d92e7c8b163c38b1b4592e"
   }
  }
 },
 "nbformat": 4,
 "nbformat_minor": 2
}
