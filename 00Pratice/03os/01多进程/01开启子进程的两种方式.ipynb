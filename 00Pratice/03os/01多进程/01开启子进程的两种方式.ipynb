{
 "cells": [
  {
   "cell_type": "code",
   "execution_count": 6,
   "metadata": {},
   "outputs": [
    {
     "name": "stdout",
     "output_type": "stream",
     "text": [
      "Writing 01temp_multi.py\n"
     ]
    }
   ],
   "source": [
    "%%writefile  temp_multi.py\n",
    "# 方式一\n",
    "from multiprocessing import Process\n",
    "import time\n",
    "\n",
    "def task(name):\n",
    "    print(\"{} is running\".format(name))\n",
    "    time.sleep(3)\n",
    "    print(\"{} is done\".format(name))\n",
    "\n",
    "if __name__ == \"__main__\":\n",
    "    __spec__ = \"ModuleSpec(name='builtins', loader=<class '_frozen_importlib.BuiltinImporter'>)\"\n",
    "\n",
    "    # p=Process(target=task, kwargs={'name':\"子进程1\"})\n",
    "    p=Process(target=task, args=('子进程1',)) # 加一个逗号，表示元组\n",
    "    p.start() # 仅仅只是给操作系统发送了一个信号\n",
    "\n",
    "    print('主进程')"
   ]
  },
  {
   "cell_type": "code",
   "execution_count": 10,
   "metadata": {},
   "outputs": [
    {
     "name": "stdout",
     "output_type": "stream",
     "text": [
      "Overwriting temp_multi.py\n"
     ]
    }
   ],
   "source": [
    "%%writefile  temp_multi.py\n",
    "# 方式二\n",
    "from multiprocessing import Process\n",
    "import time\n",
    "\n",
    "class MyProcess(Process):\n",
    "    def __init__(self, name):\n",
    "        super().__init__()\n",
    "        self.name = name\n",
    "    \n",
    "\n",
    "    def run(self):\n",
    "        print(\"{} is running\".format(self.name))\n",
    "        time.sleep(3)\n",
    "        print(\"{} is done\".format(self.name))\n",
    "\n",
    "if __name__ == \"__main__\":\n",
    "    __spec__ = \"ModuleSpec(name='builtins', loader=<class '_frozen_importlib.BuiltinImporter'>)\"\n",
    "\n",
    "    p=MyProcess('子进程1')\n",
    "    p.start()\n",
    "\n",
    "    print('主进程')\n"
   ]
  }
 ],
 "metadata": {
  "kernelspec": {
   "display_name": "Python 3.9.7 ('base')",
   "language": "python",
   "name": "python3"
  },
  "language_info": {
   "codemirror_mode": {
    "name": "ipython",
    "version": 3
   },
   "file_extension": ".py",
   "mimetype": "text/x-python",
   "name": "python",
   "nbconvert_exporter": "python",
   "pygments_lexer": "ipython3",
   "version": "3.9.7"
  },
  "orig_nbformat": 4,
  "vscode": {
   "interpreter": {
    "hash": "e42634819b8c191a5d07eaf23810ff32516dd8d3875f28ec3e488928fbd3c187"
   }
  }
 },
 "nbformat": 4,
 "nbformat_minor": 2
}
