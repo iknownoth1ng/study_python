{
 "cells": [
  {
   "cell_type": "markdown",
   "metadata": {},
   "source": [
    "# join()方法"
   ]
  },
  {
   "cell_type": "code",
   "execution_count": 1,
   "metadata": {},
   "outputs": [
    {
     "name": "stdout",
     "output_type": "stream",
     "text": [
      "Overwriting temp_multi.py\n"
     ]
    }
   ],
   "source": [
    "%%writefile  temp_multi.py\n",
    "# 查看子进程的父进程id\n",
    "from multiprocessing import Process\n",
    "import time\n",
    "import os\n",
    "\n",
    "def task():\n",
    "    print(\"{} is running, parent id is {}\".format(os.getpid(),os.getppid()))\n",
    "    time.sleep(3)\n",
    "    print(\"{} is done, parent id is {}\".format(os.getpid(),os.getppid()))\n",
    "\n",
    "if __name__ == \"__main__\":\n",
    "    __spec__ = \"ModuleSpec(name='builtins', loader=<class '_frozen_importlib.BuiltinImporter'>)\"\n",
    "\n",
    "    p=Process(target=task)\n",
    "    p.start() # 仅仅只是给操作系统发送了一个信号\n",
    "\n",
    "    p.join() # 等待子进程执行完毕\n",
    "    print('主进程{}，父id{}'.format(os.getpid(),os.getppid()))\n",
    "\n",
    "    print(p.pid) # 僵尸进程id（子进程id）\n",
    "\n"
   ]
  },
  {
   "cell_type": "markdown",
   "metadata": {},
   "source": [
    "# 多个子进程"
   ]
  },
  {
   "cell_type": "code",
   "execution_count": 2,
   "metadata": {},
   "outputs": [
    {
     "name": "stdout",
     "output_type": "stream",
     "text": [
      "Overwriting temp_multi.py\n"
     ]
    }
   ],
   "source": [
    "%%writefile  temp_multi.py\n",
    "# 查看子进程的父进程id\n",
    "from multiprocessing import Process\n",
    "import time\n",
    "import os\n",
    "\n",
    "def task(name):\n",
    "    print(\"{} is running\".format(name))\n",
    "    time.sleep(3)\n",
    "    print(\"{} is done\".format(name))\n",
    "\n",
    "if __name__ == \"__main__\":\n",
    "    __spec__ = \"ModuleSpec(name='builtins', loader=<class '_frozen_importlib.BuiltinImporter'>)\"\n",
    "\n",
    "    p1=Process(target=task,args=('子进程1',))\n",
    "    p2=Process(target=task,args=('子进程2',))\n",
    "    p3=Process(target=task,args=('子进程3',))\n",
    "\n",
    "    p1.start() # 仅仅只是给操作系统发送了一个信号\n",
    "    p2.start() \n",
    "    p3.start() \n",
    "\n",
    "    # p1.join() # 等待子进程执行完毕\n",
    "    # p2.join() \n",
    "    # p3.join() \n",
    "    print('主进程{}，父id{}'.format(os.getpid(),os.getppid()))\n",
    "\n",
    "\n"
   ]
  }
 ],
 "metadata": {
  "kernelspec": {
   "display_name": "Python 3.9.7 ('base')",
   "language": "python",
   "name": "python3"
  },
  "language_info": {
   "codemirror_mode": {
    "name": "ipython",
    "version": 3
   },
   "file_extension": ".py",
   "mimetype": "text/x-python",
   "name": "python",
   "nbconvert_exporter": "python",
   "pygments_lexer": "ipython3",
   "version": "3.9.7"
  },
  "orig_nbformat": 4,
  "vscode": {
   "interpreter": {
    "hash": "e42634819b8c191a5d07eaf23810ff32516dd8d3875f28ec3e488928fbd3c187"
   }
  }
 },
 "nbformat": 4,
 "nbformat_minor": 2
}
