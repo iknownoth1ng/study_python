{
 "cells": [
  {
   "cell_type": "markdown",
   "metadata": {},
   "source": [
    "# join()方法和is_alive()方法"
   ]
  },
  {
   "cell_type": "code",
   "execution_count": 8,
   "metadata": {},
   "outputs": [
    {
     "name": "stdout",
     "output_type": "stream",
     "text": [
      "Overwriting temp_multi.py\n"
     ]
    }
   ],
   "source": [
    "%%writefile  temp_multi.py\n",
    "# 查看子进程的父进程id\n",
    "from multiprocessing import Process\n",
    "import time\n",
    "import os\n",
    "\n",
    "def task():\n",
    "    print(\"{} is running, parent id is {}\".format(os.getpid(),os.getppid()))\n",
    "    time.sleep(3)\n",
    "    print(\"{} is done, parent id is {}\".format(os.getpid(),os.getppid()))\n",
    "\n",
    "if __name__ == \"__main__\":\n",
    "    __spec__ = \"ModuleSpec(name='builtins', loader=<class '_frozen_importlib.BuiltinImporter'>)\"\n",
    "\n",
    "    p=Process(target=task)\n",
    "    p.start() # 仅仅只是给操作系统发送了一个信号\n",
    "    print(p.is_alive())\n",
    "    \n",
    "    p.join() # 等待子进程执行完毕\n",
    "    print('主进程{}，父id{}'.format(os.getpid(),os.getppid()))\n",
    "\n",
    "    print(p.pid) # 僵尸进程id（子进程id）\n",
    "    print(p.is_alive())\n",
    "\n"
   ]
  },
  {
   "cell_type": "markdown",
   "metadata": {},
   "source": [
    "# 多个子进程"
   ]
  },
  {
   "cell_type": "code",
   "execution_count": 5,
   "metadata": {},
   "outputs": [
    {
     "name": "stdout",
     "output_type": "stream",
     "text": [
      "Overwriting temp_multi.py\n"
     ]
    }
   ],
   "source": [
    "%%writefile  temp_multi.py\n",
    "# 查看子进程的父进程id\n",
    "from multiprocessing import Process\n",
    "import time\n",
    "import os\n",
    "\n",
    "def task(name,n):\n",
    "    print(\"{} is running\".format(name))\n",
    "    time.sleep(n)\n",
    "    print(\"{} is done\".format(name))\n",
    "\n",
    "if __name__ == \"__main__\":\n",
    "    __spec__ = \"ModuleSpec(name='builtins', loader=<class '_frozen_importlib.BuiltinImporter'>)\"\n",
    "\n",
    "    start_time = time.time()\n",
    "    p1=Process(target=task,args=('子进程1',5))\n",
    "    p2=Process(target=task,args=('子进程2',3))\n",
    "    p3=Process(target=task,args=('子进程3',2))\n",
    "    p_l=[p1,p2,p3]\n",
    "    \n",
    "    # p1.start() \n",
    "    # p2.start() \n",
    "    # p3.start() \n",
    "    for p in p_l:\n",
    "        p.start() # 仅仅只是给操作系统发送了一个信号\n",
    "\n",
    "    # p1.join() \n",
    "    # p2.join() \n",
    "    # p3.join() \n",
    "    for p in p_l:\n",
    "        p.join() # 等待子进程执行完毕\n",
    "\n",
    "    print('主进程{}'.format(time.time()-start_time))\n",
    "\n",
    "\n"
   ]
  },
  {
   "cell_type": "markdown",
   "metadata": {},
   "source": [
    "# terminate方法和name方法"
   ]
  },
  {
   "cell_type": "code",
   "execution_count": 4,
   "metadata": {},
   "outputs": [
    {
     "name": "stdout",
     "output_type": "stream",
     "text": [
      "Overwriting temp_multi.py\n"
     ]
    }
   ],
   "source": [
    "%%writefile  temp_multi.py\n",
    "# 查看子进程的父进程id\n",
    "from multiprocessing import Process\n",
    "import time\n",
    "import os\n",
    "\n",
    "def task():\n",
    "    print(\"{} is running, parent id is {}\".format(os.getpid(),os.getppid()))\n",
    "    time.sleep(3)\n",
    "    print(\"{} is done, parent id is {}\".format(os.getpid(),os.getppid()))\n",
    "\n",
    "if __name__ == \"__main__\":\n",
    "    __spec__ = \"ModuleSpec(name='builtins', loader=<class '_frozen_importlib.BuiltinImporter'>)\"\n",
    "\n",
    "    p=Process(target=task)\n",
    "    p.start() # 仅仅只是给操作系统发送了一个信号\n",
    "    p.terminate() # 发送中断信号\n",
    "    # print(p.is_alive()) # True\n",
    "\n",
    "    p.join() # 或者time.sleep(3) 等待操作系统中断该进程\n",
    "    print(p.is_alive()) # false\n",
    "    \n",
    "    p.join() # 等待子进程执行完毕\n",
    "    print('主进程')\n",
    "\n",
    "    print(p.name) # 未起名会默认Process-1\n",
    "    \n"
   ]
  }
 ],
 "metadata": {
  "kernelspec": {
   "display_name": "Python 3.9.12 ('base')",
   "language": "python",
   "name": "python3"
  },
  "language_info": {
   "codemirror_mode": {
    "name": "ipython",
    "version": 3
   },
   "file_extension": ".py",
   "mimetype": "text/x-python",
   "name": "python",
   "nbconvert_exporter": "python",
   "pygments_lexer": "ipython3",
   "version": "3.9.12"
  },
  "orig_nbformat": 4,
  "vscode": {
   "interpreter": {
    "hash": "af2924f10f5eb76fd65ccea448a69e80be7838e947e8a1ae982ab7073141c8a7"
   }
  }
 },
 "nbformat": 4,
 "nbformat_minor": 2
}
