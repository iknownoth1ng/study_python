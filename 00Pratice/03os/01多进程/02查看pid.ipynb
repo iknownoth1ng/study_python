{
 "cells": [
  {
   "cell_type": "code",
   "execution_count": 3,
   "metadata": {},
   "outputs": [
    {
     "name": "stdout",
     "output_type": "stream",
     "text": [
      "Overwriting temp_multi.py\n"
     ]
    }
   ],
   "source": [
    "%%writefile  temp_multi.py\n",
    "# 查看进程id\n",
    "from multiprocessing import Process\n",
    "import time\n",
    "import os\n",
    "\n",
    "def task():\n",
    "    print(\"{} is running\".format(os.getpid()))\n",
    "    time.sleep(3)\n",
    "    print(\"{} is done\".format(os.getpid()))\n",
    "\n",
    "if __name__ == \"__main__\":\n",
    "    __spec__ = \"ModuleSpec(name='builtins', loader=<class '_frozen_importlib.BuiltinImporter'>)\"\n",
    "\n",
    "    p=Process(target=task)\n",
    "    p.start() # 仅仅只是给操作系统发送了一个信号\n",
    "\n",
    "    print('主进程{}'.format(os.getpid()))"
   ]
  },
  {
   "cell_type": "code",
   "execution_count": 5,
   "metadata": {},
   "outputs": [
    {
     "name": "stdout",
     "output_type": "stream",
     "text": [
      "Overwriting temp_multi.py\n"
     ]
    }
   ],
   "source": [
    "%%writefile  temp_multi.py\n",
    "# 查看子进程的父进程id\n",
    "from multiprocessing import Process\n",
    "import time\n",
    "import os\n",
    "\n",
    "def task():\n",
    "    print(\"{} is running, parent id is {}\".format(os.getpid(),os.getppid()))\n",
    "    time.sleep(3)\n",
    "    print(\"{} is done, parent id is {}\".format(os.getpid(),os.getppid()))\n",
    "\n",
    "if __name__ == \"__main__\":\n",
    "    __spec__ = \"ModuleSpec(name='builtins', loader=<class '_frozen_importlib.BuiltinImporter'>)\"\n",
    "\n",
    "    p=Process(target=task)\n",
    "    p.start() # 仅仅只是给操作系统发送了一个信号\n",
    "\n",
    "    print('主进程{}，父id{}'.format(os.getpid(),os.getppid()))\n",
    "\n",
    "# windows 下 tasklist | findstr \"30204\"\n",
    "# linux 下 ps aux | grep '30204'"
   ]
  }
 ],
 "metadata": {
  "kernelspec": {
   "display_name": "Python 3.9.7 ('base')",
   "language": "python",
   "name": "python3"
  },
  "language_info": {
   "codemirror_mode": {
    "name": "ipython",
    "version": 3
   },
   "file_extension": ".py",
   "mimetype": "text/x-python",
   "name": "python",
   "nbconvert_exporter": "python",
   "pygments_lexer": "ipython3",
   "version": "3.9.7"
  },
  "orig_nbformat": 4,
  "vscode": {
   "interpreter": {
    "hash": "e42634819b8c191a5d07eaf23810ff32516dd8d3875f28ec3e488928fbd3c187"
   }
  }
 },
 "nbformat": 4,
 "nbformat_minor": 2
}
