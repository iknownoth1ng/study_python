{
 "cells": [
  {
   "cell_type": "code",
   "execution_count": 3,
   "metadata": {},
   "outputs": [
    {
     "name": "stdout",
     "output_type": "stream",
     "text": [
      "Overwriting temp_multi.py\n"
     ]
    }
   ],
   "source": [
    "%%writefile  temp_multi.py\n",
    "# 查看进程id\n",
    "from multiprocessing import Process\n",
    "import time\n",
    "import os\n",
    "\n",
    "def task():\n",
    "    print(\"{} is running\".format(os.getpid()))\n",
    "    time.sleep(3)\n",
    "    print(\"{} is done\".format(os.getpid()))\n",
    "\n",
    "if __name__ == \"__main__\":\n",
    "\n",
    "    p=Process(target=task)\n",
    "    p.start() # 仅仅只是给操作系统发送了一个信号\n",
    "\n",
    "    print('主进程{}'.format(os.getpid()))"
   ]
  },
  {
   "cell_type": "code",
   "execution_count": 5,
   "metadata": {},
   "outputs": [
    {
     "name": "stdout",
     "output_type": "stream",
     "text": [
      "Overwriting temp_multi.py\n"
     ]
    }
   ],
   "source": [
    "%%writefile  temp_multi.py\n",
    "# 查看子进程的父进程id\n",
    "from multiprocessing import Process\n",
    "import time\n",
    "import os\n",
    "\n",
    "def task():\n",
    "    print(\"{} is running, parent id is {}\".format(os.getpid(),os.getppid()))\n",
    "    time.sleep(3)\n",
    "    print(\"{} is done, parent id is {}\".format(os.getpid(),os.getppid()))\n",
    "\n",
    "if __name__ == \"__main__\":\n",
    "\n",
    "    p=Process(target=task)\n",
    "    p.start() # 仅仅只是给操作系统发送了一个信号\n",
    "\n",
    "    print('主进程{}，父id{}'.format(os.getpid(),os.getppid()))\n",
    "\n",
    "# windows 下 tasklist | findstr \"30204\"\n",
    "# linux 下 ps aux | grep '30204'"
   ]
  }
 ],
 "metadata": {
  "kernelspec": {
   "display_name": "Python 3.9.12 ('base')",
   "language": "python",
   "name": "python3"
  },
  "language_info": {
   "codemirror_mode": {
    "name": "ipython",
    "version": 3
   },
   "file_extension": ".py",
   "mimetype": "text/x-python",
   "name": "python",
   "nbconvert_exporter": "python",
   "pygments_lexer": "ipython3",
   "version": "3.9.12"
  },
  "orig_nbformat": 4,
  "vscode": {
   "interpreter": {
    "hash": "af2924f10f5eb76fd65ccea448a69e80be7838e947e8a1ae982ab7073141c8a7"
   }
  }
 },
 "nbformat": 4,
 "nbformat_minor": 2
}
