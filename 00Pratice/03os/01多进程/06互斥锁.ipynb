{
 "cells": [
  {
   "cell_type": "markdown",
   "metadata": {},
   "source": [
    "# 互斥锁\n",
    "- 抢占资源"
   ]
  },
  {
   "cell_type": "code",
   "execution_count": 2,
   "metadata": {},
   "outputs": [
    {
     "name": "stdout",
     "output_type": "stream",
     "text": [
      "Writing test_mutex.py\n"
     ]
    }
   ],
   "source": [
    "%%writefile test_mutex.py\n",
    "from multiprocessing import Process\n",
    "import time\n",
    "\n",
    "def task(name):\n",
    "    print(f\"{name} 1\")\n",
    "    time.sleep(1)\n",
    "    print(f\"{name} 2\")\n",
    "    time.sleep(1)\n",
    "    print(f\"{name} 3\")\n",
    "\n",
    "if __name__ =='__main__':\n",
    "    # 共享控制台，谁抢到谁输出\n",
    "    for i in range(3):\n",
    "        p=Process(target=task,args=(f\"进程{i}\",))\n",
    "        p.start()\n",
    "\n",
    "            "
   ]
  },
  {
   "cell_type": "markdown",
   "metadata": {},
   "source": [
    "- 加互斥锁"
   ]
  },
  {
   "cell_type": "code",
   "execution_count": 1,
   "metadata": {},
   "outputs": [
    {
     "name": "stdout",
     "output_type": "stream",
     "text": [
      "Overwriting test_mutex.py\n"
     ]
    }
   ],
   "source": [
    "%%writefile test_mutex.py\n",
    "from multiprocessing import Process,Lock\n",
    "import time\n",
    "\n",
    "def task(name,mutex):\n",
    "    mutex.acquire() #* 加锁！\n",
    "    print(f\"{name} 1\")\n",
    "    time.sleep(1)\n",
    "    print(f\"{name} 2\")\n",
    "    time.sleep(1)\n",
    "    print(f\"{name} 3\")\n",
    "    mutex.release() #* 解锁！\n",
    "\n",
    "if __name__ =='__main__':\n",
    "    # 主进程创建一把共享锁\n",
    "    mutex=Lock()\n",
    "    for i in range(3):\n",
    "        #* 将共享锁传给子进程，确保大家公用一把锁\n",
    "        p=Process(target=task,args=(f\"进程{i}\",mutex))\n",
    "        p.start()\n",
    "            "
   ]
  },
  {
   "cell_type": "markdown",
   "metadata": {},
   "source": [
    "# 抢票练习\n",
    " - 无锁"
   ]
  },
  {
   "cell_type": "code",
   "execution_count": 3,
   "metadata": {},
   "outputs": [
    {
     "name": "stdout",
     "output_type": "stream",
     "text": [
      "Overwriting test_mutex.py\n"
     ]
    }
   ],
   "source": [
    "%%writefile test_mutex.py\n",
    "from multiprocessing import Process \n",
    "import time\n",
    "import json\n",
    "\n",
    "def search(name):\n",
    "    time.sleep(1)\n",
    "    dic=json.loads(open(\"db.txt\", \"r\"))\n",
    "    print(f'{name} 查看剩余票数：{dic[\"count\"]}')\n",
    "    \n",
    "def get(name):\n",
    "    time.sleep(1)\n",
    "    dic=json.loads(open(\"db.txt\", \"r\"))\n",
    "    if dic[\"count\"] > 0:\n",
    "        dic[\"count\"]=dic[\"count\"]-1\n",
    "        print(f\"{name} 购票成功\")\n",
    "        time.sleep(3)\n",
    "        json.dump(dic, open(\"db.txt\", \"w\"))\n",
    "    else:\n",
    "        print(f\"{name} 购票失败\")\n",
    "\n",
    "def task(name):\n",
    "    search(name)\n",
    "    get(name)\n",
    "\n",
    "if __name__ ==\"__main__\":\n",
    "    #* 无锁，都会抢票成功\n",
    "    for i in range(10):\n",
    "        p=Process(target=task,args=(f\"路人{i}\",))\n",
    "        p.start()\n",
    "    "
   ]
  },
  {
   "cell_type": "markdown",
   "metadata": {},
   "source": [
    " - 加锁"
   ]
  },
  {
   "cell_type": "code",
   "execution_count": 1,
   "metadata": {},
   "outputs": [
    {
     "name": "stdout",
     "output_type": "stream",
     "text": [
      "Overwriting test_mutex.py\n"
     ]
    }
   ],
   "source": [
    "%%writefile test_mutex.py\n",
    "from multiprocessing import Process,Lock\n",
    "import time\n",
    "import json\n",
    "\n",
    "def search(name):\n",
    "    # 模拟网络延迟\n",
    "    time.sleep(1)\n",
    "    dic=json.load(open(r\"00Pratice\\03os\\01多进程\\db.txt\", \"r\"))\n",
    "    print(f'{name} 查看剩余票数：{dic[\"count\"]}')\n",
    "    \n",
    "def get(name,mutex):\n",
    "    time.sleep(1)\n",
    "    mutex.acquire() #* 加锁\n",
    "    dic=json.load(open(r\"00Pratice\\03os\\01多进程\\db.txt\", \"r\"))\n",
    "    if dic[\"count\"] > 0:\n",
    "        dic[\"count\"]=dic[\"count\"]-1\n",
    "        print(f\"{name} 购票成功\")\n",
    "        time.sleep(3)\n",
    "        json.dump(dic, open(r\"00Pratice\\03os\\01多进程\\db.txt\", \"w\"))\n",
    "    else:\n",
    "        print(f\"{name} 购票失败\")\n",
    "    mutex.release() #* 解锁\n",
    "\n",
    "def task(name,mutex):\n",
    "    #! 查票操作不要加锁，影响效率。\n",
    "    search(name)\n",
    "    get(name,mutex)\n",
    "\n",
    "if __name__ ==\"__main__\":\n",
    "    #* 加锁\n",
    "    mutex=Lock()\n",
    "    for i in range(10):\n",
    "        p=Process(target=task,args=(f\"路人{i}\",mutex))\n",
    "        p.start()\n",
    "    "
   ]
  },
  {
   "cell_type": "markdown",
   "metadata": {},
   "source": [
    " - 互斥锁与join的区别</br>\n",
    "   join方法效率低，会变成单进程。</br>\n",
    "   互斥锁可以提升效率，锁的粒度可以控制。\n"
   ]
  },
  {
   "cell_type": "code",
   "execution_count": null,
   "metadata": {},
   "outputs": [],
   "source": [
    "%%writefile test_mutex.py\n",
    "from multiprocessing import Process,Lock\n",
    "import time\n",
    "import json\n",
    "\n",
    "def search(name):\n",
    "    # 模拟网络延迟\n",
    "    time.sleep(1)\n",
    "    dic=json.load(open(r\"00Pratice\\03os\\01多进程\\db.txt\", \"r\"))\n",
    "    print(f'{name} 查看剩余票数：{dic[\"count\"]}')\n",
    "    \n",
    "def get(name,mutex):\n",
    "    time.sleep(1)\n",
    "    dic=json.load(open(r\"00Pratice\\03os\\01多进程\\db.txt\", \"r\"))\n",
    "    if dic[\"count\"] > 0:\n",
    "        dic[\"count\"]=dic[\"count\"]-1\n",
    "        print(f\"{name} 购票成功\")\n",
    "        time.sleep(3)\n",
    "        json.dump(dic, open(r\"00Pratice\\03os\\01多进程\\db.txt\", \"w\"))\n",
    "    else:\n",
    "        print(f\"{name} 购票失败\")\n",
    "\n",
    "def task(name):\n",
    "    #! 查票操作不要加锁，影响效率。\n",
    "    search(name)\n",
    "    get(name)\n",
    "\n",
    "if __name__ ==\"__main__\":\n",
    "    #* 加锁\n",
    "    mutex=Lock()\n",
    "    for i in range(10):\n",
    "        p=Process(target=task,args=(f\"路人{i}\",))\n",
    "        p.start()\n",
    "        p.join()\n",
    "    "
   ]
  }
 ],
 "metadata": {
  "kernelspec": {
   "display_name": "Python 3.9.7 ('base')",
   "language": "python",
   "name": "python3"
  },
  "language_info": {
   "codemirror_mode": {
    "name": "ipython",
    "version": 3
   },
   "file_extension": ".py",
   "mimetype": "text/x-python",
   "name": "python",
   "nbconvert_exporter": "python",
   "pygments_lexer": "ipython3",
   "version": "3.9.7"
  },
  "orig_nbformat": 4,
  "vscode": {
   "interpreter": {
    "hash": "e42634819b8c191a5d07eaf23810ff32516dd8d3875f28ec3e488928fbd3c187"
   }
  }
 },
 "nbformat": 4,
 "nbformat_minor": 2
}
