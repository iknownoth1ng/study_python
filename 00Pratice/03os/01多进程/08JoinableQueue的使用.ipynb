{
 "cells": [
  {
   "cell_type": "markdown",
   "metadata": {},
   "source": [
    "# JoinableQueue的使用"
   ]
  },
  {
   "cell_type": "code",
   "execution_count": 1,
   "metadata": {},
   "outputs": [
    {
     "name": "stdout",
     "output_type": "stream",
     "text": [
      "Overwriting test_producer_consumer.py\n"
     ]
    }
   ],
   "source": [
    "%%writefile test_producer_consumer.py\n",
    "from multiprocessing import JoinableQueue,Process\n",
    "import time\n",
    "\n",
    "def producer(q,name,product):\n",
    "    \"\"\"生产者\n",
    "\n",
    "    Parameters\n",
    "    ----------\n",
    "    q : _type_ queue\n",
    "        _description_ 队列容器\n",
    "    name : _type_\n",
    "        _description_ 生产者名字\n",
    "    product : _type_\n",
    "        _description_ 生产的产品名字\n",
    "    \"\"\"\n",
    "    for i in range(1,6):\n",
    "        res=f\"{product}{i}\"\n",
    "        time.sleep(0.5)\n",
    "        print(f\"{name} 生产了 {res}\")\n",
    "        q.put(res)\n",
    "    q.join() #* 一直等待队列被取空，取空就会结束。\n",
    "        \n",
    "def consumer(q,name):\n",
    "    \"\"\"生产者\n",
    "\n",
    "    Parameters\n",
    "    ----------\n",
    "    q : _type_\n",
    "        _description_ 队列容器\n",
    "    name : _type_\n",
    "        _description_ 消费者名字\n",
    "    \"\"\"\n",
    "    while True:\n",
    "        time.sleep(1.5)\n",
    "        res=q.get() #* 如果不是守护进程，会一直在这里等着取数据\n",
    "        if res is None: break\n",
    "        print(f\"{name} 消费了 {res}\")\n",
    "        q.task_done() #* 向队列发送取完一个数据的信号\n",
    "    \n",
    "if __name__==\"__main__\":\n",
    "    #* 容器\n",
    "    q=JoinableQueue()\n",
    "    p1=Process(target=producer,args=(q,\"生产者1\",\"包子\"))\n",
    "    p2=Process(target=producer,args=(q,\"生产者2\",\"饺子\"))\n",
    "    p3=Process(target=producer,args=(q,\"生产者3\",\"粽子\"))\n",
    "    c1=Process(target=consumer,args=(q,\"雅木茶\"))\n",
    "    c2=Process(target=consumer,args=(q,\"悟空\"))\n",
    "    c1.daemon = True #* 主进程结束，生产者结束\n",
    "    c2.daemon = True\n",
    "    \n",
    "    #开始\n",
    "    p_l=[p1,p2,p3,c1,c2]\n",
    "    for p in p_l:\n",
    "        p.start()\n",
    "    \n",
    "    #* 等到生产者结束，生产者结束，q一定结束。\n",
    "    p_2=[p1,p2,p3]\n",
    "    for p in p_2:\n",
    "        p.join()\n",
    "        \n",
    "    print(\"主线程\")\n",
    "\n",
    "# 主进程等--->p1,p2,p3等---->c1,c2\n",
    "# p1,p2,p3结束了,证明c1,c2肯定全都收完了p1,p2,p3发到队列的数据\n",
    "# 因而c1,c2也没有存在的价值了,应该随着主进程的结束而结束,所以设置成守护进程"
   ]
  }
 ],
 "metadata": {
  "kernelspec": {
   "display_name": "Python 3.9.12 ('base')",
   "language": "python",
   "name": "python3"
  },
  "language_info": {
   "codemirror_mode": {
    "name": "ipython",
    "version": 3
   },
   "file_extension": ".py",
   "mimetype": "text/x-python",
   "name": "python",
   "nbconvert_exporter": "python",
   "pygments_lexer": "ipython3",
   "version": "3.9.12"
  },
  "orig_nbformat": 4,
  "vscode": {
   "interpreter": {
    "hash": "af2924f10f5eb76fd65ccea448a69e80be7838e947e8a1ae982ab7073141c8a7"
   }
  }
 },
 "nbformat": 4,
 "nbformat_minor": 2
}
