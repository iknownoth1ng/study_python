{
 "cells": [
  {
   "cell_type": "markdown",
   "metadata": {},
   "source": [
    "# [全局解释器锁（GIL： Global Interpreter Lock）](https://www.cnblogs.com/linhaifeng/articles/7449853.html \"GIL\")\n",
    "\n",
    "- 保证python解释器同一时间只能执行一个任务的代码 </br>\n",
    "![这是图片](../../../image\\00\\GIL执行流程1.png \"保证python解释器同一时间只能执行一个任务的代码\")\n",
    "\n",
    "- GIL保护的是解释器级的数据，保护用户自己的数据则需要自己加锁处理，如下图 </br>\n",
    "![这是图片](../../../image\\00\\GIL执行流程2.png \"GIL保护的是解释器级的数据，保护用户自己的数据则需要自己加锁处理，如下图\")"
   ]
  }
 ],
 "metadata": {
  "kernelspec": {
   "display_name": "Python 3.9.7 ('base')",
   "language": "python",
   "name": "python3"
  },
  "language_info": {
   "name": "python",
   "version": "3.9.7"
  },
  "orig_nbformat": 4,
  "vscode": {
   "interpreter": {
    "hash": "e42634819b8c191a5d07eaf23810ff32516dd8d3875f28ec3e488928fbd3c187"
   }
  }
 },
 "nbformat": 4,
 "nbformat_minor": 2
}
