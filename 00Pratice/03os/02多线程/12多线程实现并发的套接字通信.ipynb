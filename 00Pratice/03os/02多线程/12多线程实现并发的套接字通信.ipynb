{
 "cells": [
  {
   "cell_type": "markdown",
   "metadata": {},
   "source": [
    "# 客户端"
   ]
  },
  {
   "cell_type": "code",
   "execution_count": 2,
   "metadata": {},
   "outputs": [
    {
     "name": "stdout",
     "output_type": "stream",
     "text": [
      "Writing client.py\n"
     ]
    }
   ],
   "source": [
    "%%writefile client.py\n",
    "from socket import *\n",
    "\n",
    "client=socket(AF_INET, SOCK_STREAM)\n",
    "client.connect((\"127.0.0.1\", 8080))\n",
    "\n",
    "while True:\n",
    "    msg=input('>>: '.strip())\n",
    "    if not msg:continue\n",
    "\n",
    "    client.send(msg.encode('utf-8'))\n",
    "    data=client.recv(1024)\n",
    "    print(data.decode(\"utf-8\"))\n"
   ]
  },
  {
   "cell_type": "markdown",
   "metadata": {},
   "source": [
    "# 服务端"
   ]
  },
  {
   "cell_type": "code",
   "execution_count": 1,
   "metadata": {},
   "outputs": [
    {
     "name": "stdout",
     "output_type": "stream",
     "text": [
      "Writing server.py\n"
     ]
    }
   ],
   "source": [
    "%%writefile server.py\n",
    "from socket import *\n",
    "from threading import Thread\n",
    "\n",
    "def talk(conn):\n",
    "    while True:\n",
    "        try:\n",
    "            if data := conn.recv(1024): #* 海象运算符 在表达式中进行变量赋值\n",
    "                conn.send(data.upper())\n",
    "            else:\n",
    "                break\n",
    "        except ConnectionResetError:\n",
    "            break\n",
    "    conn.close()\n",
    "\n",
    "\n",
    "def server(ip,port):\n",
    "    server = socket(AF_INET, SOCK_STREAM)\n",
    "    server.setsockopt(SOL_SOCKET, SO_REUSEADDR, 1)\n",
    "    server.bind((ip,port))\n",
    "\n",
    "    server.listen(5)\n",
    "    while True:\n",
    "        conn,add=server.accept()\n",
    "        t=Thread(target=talk,args=(conn,))\n",
    "        t.start()\n",
    "\n",
    "    server.close()    \n",
    "\n",
    "\n",
    "if __name__ == \"__main__\":\n",
    "    server('127.0.0.1', 8080)\n"
   ]
  }
 ],
 "metadata": {
  "kernelspec": {
   "display_name": "Python 3.9.12 ('base')",
   "language": "python",
   "name": "python3"
  },
  "language_info": {
   "codemirror_mode": {
    "name": "ipython",
    "version": 3
   },
   "file_extension": ".py",
   "mimetype": "text/x-python",
   "name": "python",
   "nbconvert_exporter": "python",
   "pygments_lexer": "ipython3",
   "version": "3.9.12"
  },
  "orig_nbformat": 4,
  "vscode": {
   "interpreter": {
    "hash": "af2924f10f5eb76fd65ccea448a69e80be7838e947e8a1ae982ab7073141c8a7"
   }
  }
 },
 "nbformat": 4,
 "nbformat_minor": 2
}
