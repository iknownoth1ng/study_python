{
 "cells": [
  {
   "cell_type": "code",
   "execution_count": 1,
   "metadata": {},
   "outputs": [
    {
     "name": "stdout",
     "output_type": "stream",
     "text": [
      "Overwriting test_thread.py\n"
     ]
    }
   ],
   "source": [
    "%%writefile test_thread.py\n",
    "from threading import Thread\n",
    "import time\n",
    "\n",
    "def task(name):\n",
    "    print(f\"{name} is running\")\n",
    "    time.sleep(1)\n",
    "    print(f\"{name} is done\")\n",
    "\n",
    "if __name__ == \"__main__\":\n",
    "    t1=Thread(target=task,args=(\"子线程1\",))\n",
    "    t1.start()\n",
    "\n",
    "    print(\"主线程\") #* 资源角度看是主进程，执行角度看是主线程\n",
    "    "
   ]
  },
  {
   "cell_type": "code",
   "execution_count": 4,
   "metadata": {},
   "outputs": [
    {
     "name": "stdout",
     "output_type": "stream",
     "text": [
      "Overwriting test_thread.py\n"
     ]
    }
   ],
   "source": [
    "%%writefile test_thread.py\n",
    "from threading import Thread\n",
    "import time\n",
    "\n",
    "class MyThread(Thread):\n",
    "    def __init__(self, name):\n",
    "        super().__init__()\n",
    "        self.name = name\n",
    "    \n",
    "\n",
    "    def run(self):\n",
    "        print(f\"{self.name} is running\")\n",
    "        time.sleep(1)\n",
    "        print(f\"{self.name} is done\")\n",
    "\n",
    "if __name__ == \"__main__\":\n",
    "\n",
    "    t=MyThread('子线程1')\n",
    "    t.start()\n",
    "\n",
    "    print('主线程')"
   ]
  }
 ],
 "metadata": {
  "kernelspec": {
   "display_name": "Python 3.9.12 ('base')",
   "language": "python",
   "name": "python3"
  },
  "language_info": {
   "codemirror_mode": {
    "name": "ipython",
    "version": 3
   },
   "file_extension": ".py",
   "mimetype": "text/x-python",
   "name": "python",
   "nbconvert_exporter": "python",
   "pygments_lexer": "ipython3",
   "version": "3.9.12"
  },
  "orig_nbformat": 4,
  "vscode": {
   "interpreter": {
    "hash": "af2924f10f5eb76fd65ccea448a69e80be7838e947e8a1ae982ab7073141c8a7"
   }
  }
 },
 "nbformat": 4,
 "nbformat_minor": 2
}
