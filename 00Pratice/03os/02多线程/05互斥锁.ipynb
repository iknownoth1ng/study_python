{
 "cells": [
  {
   "cell_type": "markdown",
   "metadata": {},
   "source": [
    "# 互斥锁mutex\n",
    "- 无锁"
   ]
  },
  {
   "cell_type": "code",
   "execution_count": 1,
   "metadata": {},
   "outputs": [
    {
     "name": "stdout",
     "output_type": "stream",
     "text": [
      "Overwriting test_thread.py\n"
     ]
    }
   ],
   "source": [
    "%%writefile test_thread.py\n",
    "from threading import Thread\n",
    "import time\n",
    "\n",
    "n=100\n",
    "\n",
    "def task():\n",
    "    global n \n",
    "    temp=n\n",
    "    time.sleep(0.1)\n",
    "    n=temp-1\n",
    "\n",
    "if __name__ == \"__main__\":\n",
    "    t_L=[]\n",
    "    for _ in range(100):\n",
    "        t=Thread(target=task)\n",
    "        t_L.append(t)\n",
    "        t.start()\n",
    "        \n",
    "    for t in t_L:\n",
    "        t.join()\n",
    "    \n",
    "    print('主线程',n) #! 99"
   ]
  },
  {
   "cell_type": "markdown",
   "metadata": {},
   "source": [
    "- 加锁"
   ]
  },
  {
   "cell_type": "code",
   "execution_count": 3,
   "metadata": {},
   "outputs": [
    {
     "name": "stdout",
     "output_type": "stream",
     "text": [
      "Overwriting test_thread.py\n"
     ]
    }
   ],
   "source": [
    "%%writefile test_thread.py\n",
    "from threading import Thread,Lock\n",
    "import time\n",
    "\n",
    "n=100\n",
    "\n",
    "def task(mutex):\n",
    "    global n \n",
    "    mutex.acquire()\n",
    "    temp=n\n",
    "    time.sleep(0.1)\n",
    "    n=temp-1\n",
    "    mutex.release()\n",
    "\n",
    "if __name__ == \"__main__\":\n",
    "    mutex=Lock()\n",
    "    t_L=[]\n",
    "    for _ in range(100):\n",
    "        t=Thread(target=task,args=(mutex,))\n",
    "        t_L.append(t)\n",
    "        t.start()\n",
    "        \n",
    "    for t in t_L:\n",
    "        t.join()\n",
    "    \n",
    "    print('主线程',n) #! 0"
   ]
  }
 ],
 "metadata": {
  "kernelspec": {
   "display_name": "Python 3.9.12 ('base')",
   "language": "python",
   "name": "python3"
  },
  "language_info": {
   "codemirror_mode": {
    "name": "ipython",
    "version": 3
   },
   "file_extension": ".py",
   "mimetype": "text/x-python",
   "name": "python",
   "nbconvert_exporter": "python",
   "pygments_lexer": "ipython3",
   "version": "3.9.12 (main, Apr  4 2022, 05:22:27) [MSC v.1916 64 bit (AMD64)]"
  },
  "orig_nbformat": 4,
  "vscode": {
   "interpreter": {
    "hash": "af2924f10f5eb76fd65ccea448a69e80be7838e947e8a1ae982ab7073141c8a7"
   }
  }
 },
 "nbformat": 4,
 "nbformat_minor": 2
}
