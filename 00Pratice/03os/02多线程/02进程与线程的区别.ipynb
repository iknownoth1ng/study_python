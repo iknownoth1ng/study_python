{
 "cells": [
  {
   "cell_type": "markdown",
   "metadata": {},
   "source": [
    "# 进程与线程的区别\n",
    "1. 开进程的开销远大于开线程\n",
    "2. 同一进程内的多个线程共享该进程的地址空间\n",
    "3. 瞅一眼pid"
   ]
  },
  {
   "cell_type": "code",
   "execution_count": null,
   "metadata": {},
   "outputs": [],
   "source": [
    "%%writefile test_thread.py\n",
    "from threading import Thread\n",
    "from multiprocessing import Process\n",
    "import time\n",
    "\n",
    "def task(name):\n",
    "    print(f\"{name} is running\")\n",
    "    time.sleep(1)\n",
    "    print(f\"{name} is done\")\n",
    "\n",
    "if __name__ == \"__main__\":\n",
    "    t1=Thread(target=task,args=(\"子线程1\",)) #* 1.981 seconds\n",
    "    t1.start()\n",
    "    # 子线程1 is running\n",
    "    # 主线程\n",
    "    # 子线程1 is done\n",
    "    \n",
    "    # p1=Process(target=task,args=(\"子进程1\",))\n",
    "    # p1.start()\n",
    "\n",
    "    print(\"主线程\") #* 2.194 seconds\n",
    "    # 主线程\n",
    "    # 子进程1 is running\n",
    "    # 子进程1 is done\n",
    "    "
   ]
  },
  {
   "cell_type": "code",
   "execution_count": 5,
   "metadata": {},
   "outputs": [
    {
     "name": "stdout",
     "output_type": "stream",
     "text": [
      "主线程 0\n"
     ]
    }
   ],
   "source": [
    "from threading import Thread\n",
    "from multiprocessing import Process\n",
    "import time\n",
    "\n",
    "n=100\n",
    "\n",
    "def task():\n",
    "    global n\n",
    "    n=0\n",
    "\n",
    "if __name__ == \"__main__\":\n",
    "    t1=Thread(target=task) \n",
    "    t1.start()\n",
    "    t1.join()\n",
    "    \n",
    "    # p1=Process(target=task)\n",
    "    # p1.start()\n",
    "    # p1.join()\n",
    "\n",
    "    print(\"主线程\",n) \n",
    "    "
   ]
  },
  {
   "cell_type": "code",
   "execution_count": 7,
   "metadata": {},
   "outputs": [
    {
     "name": "stdout",
     "output_type": "stream",
     "text": [
      "Overwriting test_thread.py\n"
     ]
    }
   ],
   "source": [
    "%%writefile test_thread.py\n",
    "from multiprocessing import Process\n",
    "import os\n",
    "\n",
    "def task():\n",
    "    print(f\"子进程ID：{os.getpid()},父进程ID：{os.getppid()}\")\n",
    "\n",
    "if __name__ == \"__main__\":\n",
    "    p1=Process(target=task)\n",
    "    p1.start()\n",
    "\n",
    "    print(\"主进程ID\",os.getpid()) \n",
    "    "
   ]
  },
  {
   "cell_type": "code",
   "execution_count": 6,
   "metadata": {},
   "outputs": [
    {
     "name": "stdout",
     "output_type": "stream",
     "text": [
      "子线程ID：992主线程ID 992\n",
      "\n"
     ]
    }
   ],
   "source": [
    "from threading import Thread\n",
    "import os\n",
    "\n",
    "def task():\n",
    "    print(f\"子线程ID：{os.getpid()}\")\n",
    "if __name__ == \"__main__\":\n",
    "    t1=Thread(target=task) \n",
    "    t1.start()\n",
    "\n",
    "    print(\"主线程ID\",os.getpid()) #* 线程之间是平级的\n",
    "    "
   ]
  }
 ],
 "metadata": {
  "kernelspec": {
   "display_name": "Python 3.9.7 ('base')",
   "language": "python",
   "name": "python3"
  },
  "language_info": {
   "codemirror_mode": {
    "name": "ipython",
    "version": 3
   },
   "file_extension": ".py",
   "mimetype": "text/x-python",
   "name": "python",
   "nbconvert_exporter": "python",
   "pygments_lexer": "ipython3",
   "version": "3.9.7"
  },
  "orig_nbformat": 4,
  "vscode": {
   "interpreter": {
    "hash": "e42634819b8c191a5d07eaf23810ff32516dd8d3875f28ec3e488928fbd3c187"
   }
  }
 },
 "nbformat": 4,
 "nbformat_minor": 2
}
