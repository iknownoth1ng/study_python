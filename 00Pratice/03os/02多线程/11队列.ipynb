{
 "cells": [
  {
   "cell_type": "markdown",
   "metadata": {},
   "source": [
    "# 队列\n",
    "- 使用import queue，用法与进程Queue一样\n",
    "\n",
    "- 模块实现了三种类型的队列，它们的区别仅仅是条目取回的顺序。\n",
    "1. 在 FIFO 队列中，先添加的任务先取回。\n",
    "2. 在 LIFO 队列中，最近被添加的条目先取回(操作类似一个堆栈)。\n",
    "3. 优先级队列中，条目将保持排序( 使用 heapq 模块 ) 并且最小值的条目第一个返回。"
   ]
  },
  {
   "cell_type": "code",
   "execution_count": 1,
   "metadata": {},
   "outputs": [
    {
     "name": "stdout",
     "output_type": "stream",
     "text": [
      "first\n",
      "2\n",
      "[3]\n"
     ]
    }
   ],
   "source": [
    "import queue\n",
    "\n",
    "#* 在 FIFO 队列中，先添加的任务先取回。\n",
    "q=queue.Queue(3)\n",
    "\n",
    "q.put('first')\n",
    "q.put(2)\n",
    "q.put([3])\n",
    "\n",
    "# q.put((4))  #卡住\n",
    "\n",
    "for _ in range(q.qsize()):\n",
    "    print(q.get())\n",
    "    \n",
    "q.get()   #卡住"
   ]
  },
  {
   "cell_type": "code",
   "execution_count": 2,
   "metadata": {},
   "outputs": [
    {
     "name": "stdout",
     "output_type": "stream",
     "text": [
      "first\n",
      "2\n",
      "[3]\n"
     ]
    },
    {
     "ename": "Empty",
     "evalue": "",
     "output_type": "error",
     "traceback": [
      "\u001b[1;31m---------------------------------------------------------------------------\u001b[0m",
      "\u001b[1;31mEmpty\u001b[0m                                     Traceback (most recent call last)",
      "\u001b[1;32md:\\study\\vsworkspace\\study_python\\00Pratice\\03os\\02多线程\\11队列.ipynb Cell 3\u001b[0m in \u001b[0;36m<cell line: 16>\u001b[1;34m()\u001b[0m\n\u001b[0;32m     <a href='vscode-notebook-cell:/d%3A/study/vsworkspace/study_python/00Pratice/03os/02%E5%A4%9A%E7%BA%BF%E7%A8%8B/11%E9%98%9F%E5%88%97.ipynb#W0sZmlsZQ%3D%3D?line=12'>13</a>\u001b[0m     \u001b[39mprint\u001b[39m(q\u001b[39m.\u001b[39mget())\n\u001b[0;32m     <a href='vscode-notebook-cell:/d%3A/study/vsworkspace/study_python/00Pratice/03os/02%E5%A4%9A%E7%BA%BF%E7%A8%8B/11%E9%98%9F%E5%88%97.ipynb#W0sZmlsZQ%3D%3D?line=14'>15</a>\u001b[0m \u001b[39m# q.get(block=False,timeout=3)   #! 报错 Empty:\u001b[39;00m\n\u001b[1;32m---> <a href='vscode-notebook-cell:/d%3A/study/vsworkspace/study_python/00Pratice/03os/02%E5%A4%9A%E7%BA%BF%E7%A8%8B/11%E9%98%9F%E5%88%97.ipynb#W0sZmlsZQ%3D%3D?line=15'>16</a>\u001b[0m q\u001b[39m.\u001b[39;49mget_nowait()\n",
      "File \u001b[1;32md:\\python\\Anaconda3\\lib\\queue.py:199\u001b[0m, in \u001b[0;36mQueue.get_nowait\u001b[1;34m(self)\u001b[0m\n\u001b[0;32m    193\u001b[0m \u001b[39mdef\u001b[39;00m \u001b[39mget_nowait\u001b[39m(\u001b[39mself\u001b[39m):\n\u001b[0;32m    194\u001b[0m     \u001b[39m'''Remove and return an item from the queue without blocking.\u001b[39;00m\n\u001b[0;32m    195\u001b[0m \n\u001b[0;32m    196\u001b[0m \u001b[39m    Only get an item if one is immediately available. Otherwise\u001b[39;00m\n\u001b[0;32m    197\u001b[0m \u001b[39m    raise the Empty exception.\u001b[39;00m\n\u001b[0;32m    198\u001b[0m \u001b[39m    '''\u001b[39;00m\n\u001b[1;32m--> 199\u001b[0m     \u001b[39mreturn\u001b[39;00m \u001b[39mself\u001b[39;49m\u001b[39m.\u001b[39;49mget(block\u001b[39m=\u001b[39;49m\u001b[39mFalse\u001b[39;49;00m)\n",
      "File \u001b[1;32md:\\python\\Anaconda3\\lib\\queue.py:168\u001b[0m, in \u001b[0;36mQueue.get\u001b[1;34m(self, block, timeout)\u001b[0m\n\u001b[0;32m    166\u001b[0m \u001b[39mif\u001b[39;00m \u001b[39mnot\u001b[39;00m block:\n\u001b[0;32m    167\u001b[0m     \u001b[39mif\u001b[39;00m \u001b[39mnot\u001b[39;00m \u001b[39mself\u001b[39m\u001b[39m.\u001b[39m_qsize():\n\u001b[1;32m--> 168\u001b[0m         \u001b[39mraise\u001b[39;00m Empty\n\u001b[0;32m    169\u001b[0m \u001b[39melif\u001b[39;00m timeout \u001b[39mis\u001b[39;00m \u001b[39mNone\u001b[39;00m:\n\u001b[0;32m    170\u001b[0m     \u001b[39mwhile\u001b[39;00m \u001b[39mnot\u001b[39;00m \u001b[39mself\u001b[39m\u001b[39m.\u001b[39m_qsize():\n",
      "\u001b[1;31mEmpty\u001b[0m: "
     ]
    }
   ],
   "source": [
    "import queue\n",
    "\n",
    "#* 在 FIFO 队列中，先添加的任务先取回。 maxsize 是个整数，用于设置可以放入队列中的项目数的上限。当达到这个大小的时候，插入操作将阻塞至队列中的项目被消费掉。如果 maxsize 小于等于零，队列尺寸为无限大。\n",
    "q=queue.Queue(3)\n",
    "\n",
    "q.put('first')\n",
    "q.put(2)\n",
    "q.put([3])\n",
    "\n",
    "# q.put((4),block=False,timeout=3)  #! 报错 Full: \n",
    "\n",
    "for _ in range(q.qsize()):\n",
    "    print(q.get())\n",
    "    \n",
    "# q.get(block=False,timeout=3)   #! 报错 Empty:\n",
    "q.get_nowait() #! 报错 Empty:"
   ]
  },
  {
   "cell_type": "code",
   "execution_count": 3,
   "metadata": {},
   "outputs": [
    {
     "name": "stdout",
     "output_type": "stream",
     "text": [
      "[3]\n",
      "2\n",
      "first\n"
     ]
    }
   ],
   "source": [
    "import queue\n",
    "\n",
    "q=queue.LifoQueue(3) #* LIFO 队列构造函数。 \n",
    "\n",
    "q.put('first')\n",
    "q.put(2)\n",
    "q.put([3])\n",
    "\n",
    "for _ in range(q.qsize()):\n",
    "    print(q.get())"
   ]
  },
  {
   "cell_type": "code",
   "execution_count": 4,
   "metadata": {},
   "outputs": [
    {
     "name": "stdout",
     "output_type": "stream",
     "text": [
      "(1, 'first')\n",
      "(2, 2)\n",
      "(3, [3])\n"
     ]
    }
   ],
   "source": [
    "import queue\n",
    "\n",
    "q=queue.PriorityQueue(3) #* 优先级队列构造函数。最小值先被取出( 最小值条目是由 sorted(list(entries))[0] 返回的条目)。条目的典型模式是一个以下形式的元组： (priority_number, data) 。\n",
    "\n",
    "q.put((1,'first'))\n",
    "q.put((3,[3]))\n",
    "q.put((2,2))\n",
    "\n",
    "\n",
    "for _ in range(q.qsize()):\n",
    "    print(q.get())"
   ]
  }
 ],
 "metadata": {
  "kernelspec": {
   "display_name": "Python 3.9.12 ('base')",
   "language": "python",
   "name": "python3"
  },
  "language_info": {
   "codemirror_mode": {
    "name": "ipython",
    "version": 3
   },
   "file_extension": ".py",
   "mimetype": "text/x-python",
   "name": "python",
   "nbconvert_exporter": "python",
   "pygments_lexer": "ipython3",
   "version": "3.9.12"
  },
  "orig_nbformat": 4,
  "vscode": {
   "interpreter": {
    "hash": "af2924f10f5eb76fd65ccea448a69e80be7838e947e8a1ae982ab7073141c8a7"
   }
  }
 },
 "nbformat": 4,
 "nbformat_minor": 2
}
