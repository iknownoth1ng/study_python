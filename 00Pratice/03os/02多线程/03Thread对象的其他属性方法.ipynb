{
 "cells": [
  {
   "cell_type": "markdown",
   "metadata": {},
   "source": [
    "# Thread对象的其他属性方法\n",
    "- 当前线程的名称currentThread().getName()"
   ]
  },
  {
   "cell_type": "code",
   "execution_count": 4,
   "metadata": {},
   "outputs": [
    {
     "name": "stdout",
     "output_type": "stream",
     "text": [
      "子线程1 is running主线程的名字：主线程MainThread \n",
      "\n"
     ]
    },
    {
     "name": "stdout",
     "output_type": "stream",
     "text": [
      "儿子线程1 is done\n"
     ]
    }
   ],
   "source": [
    "from threading import Thread, currentThread\n",
    "import time\n",
    "\n",
    "\n",
    "def task():\n",
    "    print(f\"{currentThread().getName()} is running\")\n",
    "    time.sleep(2)\n",
    "    print(f\"{currentThread().getName()} is done\")\n",
    "\n",
    "\n",
    "if __name__ == \"__main__\":\n",
    "    t1 = Thread(target=task, name=\"子线程1\")\n",
    "    t1.start()\n",
    "    t1.setName(\"儿子线程1\")\n",
    "\n",
    "    currentThread().setName(\"主线程MainThread\")\n",
    "    print(f\"主线程的名字：{currentThread().getName()} \")"
   ]
  },
  {
   "cell_type": "markdown",
   "metadata": {},
   "source": [
    "- 是否存活is_alive()"
   ]
  },
  {
   "cell_type": "code",
   "execution_count": 7,
   "metadata": {},
   "outputs": [
    {
     "name": "stdout",
     "output_type": "stream",
     "text": [
      "Thread-10 is running\n",
      "Thread-10 is done\n",
      "False\n",
      "主线程的名字：主线程MainThread \n"
     ]
    }
   ],
   "source": [
    "from threading import Thread, currentThread\n",
    "import time\n",
    "\n",
    "\n",
    "def task():\n",
    "    print(f\"{currentThread().getName()} is running\")\n",
    "    time.sleep(2)\n",
    "    print(f\"{currentThread().getName()} is done\")\n",
    "\n",
    "\n",
    "if __name__ == \"__main__\":\n",
    "    t1 = Thread(target=task)\n",
    "    t1.start()\n",
    "    t1.join()\n",
    "\n",
    "    print(t1.is_alive())\n",
    "    print(f\"主线程的名字：{currentThread().getName()} \")"
   ]
  },
  {
   "cell_type": "markdown",
   "metadata": {},
   "source": [
    "- 线程活跃数active_count()"
   ]
  },
  {
   "cell_type": "code",
   "execution_count": 1,
   "metadata": {},
   "outputs": [
    {
     "name": "stdout",
     "output_type": "stream",
     "text": [
      "Thread-6 is running\n",
      "Thread-6 is done\n",
      "线程活跃的总数：6\n",
      "主线程的名字：MainThread \n"
     ]
    }
   ],
   "source": [
    "from threading import Thread, currentThread, active_count\n",
    "import time\n",
    "\n",
    "\n",
    "def task():\n",
    "    print(f\"{currentThread().getName()} is running\")\n",
    "    time.sleep(2)\n",
    "    print(f\"{currentThread().getName()} is done\")\n",
    "\n",
    "\n",
    "if __name__ == \"__main__\":\n",
    "    t1 = Thread(target=task)\n",
    "    t1.start()\n",
    "    t1.join()\n",
    "\n",
    "    print(f\"线程活跃的总数：{active_count()}\")\n",
    "    print(f\"主线程的名字：{currentThread().getName()} \")"
   ]
  },
  {
   "cell_type": "markdown",
   "metadata": {},
   "source": [
    "- 获取活跃的线程对象enumerate()"
   ]
  },
  {
   "cell_type": "code",
   "execution_count": 2,
   "metadata": {},
   "outputs": [
    {
     "name": "stdout",
     "output_type": "stream",
     "text": [
      "Thread-7 is running\n",
      "Thread-7 is done\n",
      "线程活跃的对象：[<_MainThread(MainThread, started 39756)>, <Thread(Thread-4, started daemon 39792)>, <Heartbeat(Thread-5, started daemon 2752)>, <ControlThread(Thread-3, started daemon 34916)>, <HistorySavingThread(IPythonHistorySavingThread, started 25716)>, <ParentPollerWindows(Thread-2, started daemon 38560)>]\n",
      "主线程的名字：MainThread \n"
     ]
    }
   ],
   "source": [
    "from threading import Thread, currentThread, enumerate\n",
    "import time\n",
    "\n",
    "\n",
    "def task():\n",
    "    print(f\"{currentThread().getName()} is running\")\n",
    "    time.sleep(2)\n",
    "    print(f\"{currentThread().getName()} is done\")\n",
    "\n",
    "\n",
    "if __name__ == \"__main__\":\n",
    "    t1 = Thread(target=task)\n",
    "    t1.start()\n",
    "    t1.join()\n",
    "\n",
    "    print(f\"线程活跃的对象：{enumerate()}\")\n",
    "    print(f\"主线程的名字：{currentThread().getName()} \")"
   ]
  }
 ],
 "metadata": {
  "kernelspec": {
   "display_name": "Python 3.9.12 ('base')",
   "language": "python",
   "name": "python3"
  },
  "language_info": {
   "codemirror_mode": {
    "name": "ipython",
    "version": 3
   },
   "file_extension": ".py",
   "mimetype": "text/x-python",
   "name": "python",
   "nbconvert_exporter": "python",
   "pygments_lexer": "ipython3",
   "version": "3.9.12"
  },
  "orig_nbformat": 4,
  "vscode": {
   "interpreter": {
    "hash": "af2924f10f5eb76fd65ccea448a69e80be7838e947e8a1ae982ab7073141c8a7"
   }
  }
 },
 "nbformat": 4,
 "nbformat_minor": 2
}
