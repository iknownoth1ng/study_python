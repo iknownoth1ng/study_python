{
 "cells": [
  {
   "cell_type": "markdown",
   "metadata": {},
   "source": [
    "# 提交任务的两种方式\n",
    "- 同步调用：提交完任务后，就在原地等待任务执行完毕，拿到任务，再执行下一行代码。\n",
    "- 异步调用：提交完任务后，不在原地等待任务执行完毕\n",
    "\n",
    "\n",
    "\n",
    "首先一个IO操作其实分成了两个步骤：1.发起IO请求，2.实际的IO操作。\n",
    "\n",
    "阻塞IO和非阻塞IO的区别在于第一步，发起IO请求是否会被阻塞，</br>\n",
    "如果阻塞直到完成那么就是传统的阻塞IO，</br>\n",
    "如果不阻塞，那么就是非阻塞IO。</br>\n",
    "\n",
    "同步IO和异步IO的区别就在于第二个步骤是否阻塞。</br>\n",
    "如果实际的IO读写阻塞请求进程，那么就是同步IO，因此阻塞IO、非阻塞IO、IO复用、信号驱动IO都是同步IO；</br>\n",
    "如果不阻塞，而是操作系统帮你做完IO操作再将结果返回给你，那么就是异步IO。</br>\n",
    "\n",
    "作者：预流\n",
    "链接：https://www.zhihu.com/question/19732473/answer/25643464\n",
    "来源：知乎\n",
    "著作权归作者所有。商业转载请联系作者获得授权，非商业转载请注明出处。"
   ]
  },
  {
   "cell_type": "code",
   "execution_count": 1,
   "metadata": {},
   "outputs": [
    {
     "name": "stdout",
     "output_type": "stream",
     "text": [
      "alex is laing\n",
      "alex la le 13kg\n",
      "egon is laing\n",
      "egon la le 10kg\n",
      "jim is laing\n",
      "jim la le 11kg\n"
     ]
    }
   ],
   "source": [
    "# 同步调用\n",
    "from concurrent.futures import ThreadPoolExecutor\n",
    "import time, random\n",
    "\n",
    "\n",
    "def la(name):\n",
    "    print(f\"{name} is laing\")\n",
    "    time.sleep(random.randint(3, 5))\n",
    "    res = random.randint(7, 13) * \"#\"\n",
    "    return {\"name\": name, \"res\": res}\n",
    "\n",
    "\n",
    "def weight(shit):\n",
    "    name = shit[\"name\"]\n",
    "    size = len(shit[\"res\"])\n",
    "    print(f\"{name} la le {size}kg\")\n",
    "\n",
    "\n",
    "if __name__ == \"__main__\":\n",
    "\n",
    "    with ThreadPoolExecutor(max_workers=5) as pool:\n",
    "        future1 = pool.submit(la, \"alex\")\n",
    "        weight(future1.result())\n",
    "\n",
    "        future2 = pool.submit(la, \"egon\")\n",
    "        weight(future2.result())\n",
    "\n",
    "        future3 = pool.submit(la, \"jim\")\n",
    "        weight(future3.result())"
   ]
  },
  {
   "cell_type": "code",
   "execution_count": 2,
   "metadata": {},
   "outputs": [
    {
     "name": "stdout",
     "output_type": "stream",
     "text": [
      "alex is laing\n",
      "egon is laing\n",
      "jim is laing\n",
      "egon la le 9kg\n",
      "jim la le 9kg\n",
      "alex la le 9kg\n"
     ]
    }
   ],
   "source": [
    "# 异步调用\n",
    "from concurrent.futures import ThreadPoolExecutor\n",
    "import time, random\n",
    "\n",
    "\n",
    "def la(name):\n",
    "    print(f\"{name} is laing\")\n",
    "    time.sleep(random.randint(3, 5))\n",
    "    res = random.randint(7, 13) * \"#\"\n",
    "    return {\"name\": name, \"res\": res}\n",
    "\n",
    "\n",
    "def weight(shit):\n",
    "    shit = shit.result()\n",
    "    name = shit[\"name\"]\n",
    "    size = len(shit[\"res\"])\n",
    "    print(f\"{name} la le {size}kg\")\n",
    "\n",
    "\n",
    "if __name__ == \"__main__\":\n",
    "\n",
    "    with ThreadPoolExecutor(max_workers=5) as pool:\n",
    "        pool.submit(la, \"alex\").add_done_callback(weight)\n",
    "\n",
    "        pool.submit(la, \"egon\").add_done_callback(weight)\n",
    "\n",
    "        pool.submit(la, \"jim\").add_done_callback(weight)"
   ]
  }
 ],
 "metadata": {
  "kernelspec": {
   "display_name": "Python 3.8.13 ('study')",
   "language": "python",
   "name": "python3"
  },
  "language_info": {
   "codemirror_mode": {
    "name": "ipython",
    "version": 3
   },
   "file_extension": ".py",
   "mimetype": "text/x-python",
   "name": "python",
   "nbconvert_exporter": "python",
   "pygments_lexer": "ipython3",
   "version": "3.8.13"
  },
  "orig_nbformat": 4,
  "vscode": {
   "interpreter": {
    "hash": "49fdd20b2b68a4dd8ebcbb061b9c04f8e52f6472af90d6159269a7c8abf5d944"
   }
  }
 },
 "nbformat": 4,
 "nbformat_minor": 2
}
