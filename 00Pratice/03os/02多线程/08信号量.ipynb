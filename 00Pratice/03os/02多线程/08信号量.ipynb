{
 "cells": [
  {
   "cell_type": "markdown",
   "metadata": {},
   "source": [
    " [信号量](https://mp.weixin.qq.com/s?__biz=MzIwNTc4NTEwOQ==&mid=2247484323&idx=1&sn=ea7e50be369f9992c6305555554a1252&chksm=972ad2d9a05d5bcfa9216d59cb063970f5bb52f262e657de9978db0250a90e84a9f49a8f0f7a&mpshare=1&scene=23&srcid=0106KZS0oSBKryf95uvWo3HU#rd)\n",
    "\n",
    " ![这是图片](../../../image\\00\\信号量.png)"
   ]
  },
  {
   "cell_type": "code",
   "execution_count": 3,
   "metadata": {},
   "outputs": [
    {
     "name": "stdout",
     "output_type": "stream",
     "text": [
      "Overwriting test_thread.py\n"
     ]
    }
   ],
   "source": [
    "%%writefile test_thread.py\n",
    "from threading import Thread,Semaphore,currentThread\n",
    "import time,random\n",
    "\n",
    "sm=Semaphore(3)\n",
    "\n",
    "def task():\n",
    "    with sm: #* 等效于sm.acquire()  sm.release()\n",
    "        print(f\"{currentThread().getName()} in\")\n",
    "        time.sleep(random.randint(1,3))\n",
    "    \n",
    "if __name__ == \"__main__\":\n",
    "    for _ in range(10):\n",
    "        t=Thread(target=task)\n",
    "        t.start()"
   ]
  }
 ],
 "metadata": {
  "kernelspec": {
   "display_name": "Python 3.9.12 ('base')",
   "language": "python",
   "name": "python3"
  },
  "language_info": {
   "codemirror_mode": {
    "name": "ipython",
    "version": 3
   },
   "file_extension": ".py",
   "mimetype": "text/x-python",
   "name": "python",
   "nbconvert_exporter": "python",
   "pygments_lexer": "ipython3",
   "version": "3.9.12"
  },
  "orig_nbformat": 4,
  "vscode": {
   "interpreter": {
    "hash": "af2924f10f5eb76fd65ccea448a69e80be7838e947e8a1ae982ab7073141c8a7"
   }
  }
 },
 "nbformat": 4,
 "nbformat_minor": 2
}
