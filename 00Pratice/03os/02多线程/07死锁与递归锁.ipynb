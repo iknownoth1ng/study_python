{
 "cells": [
  {
   "cell_type": "markdown",
   "metadata": {},
   "source": [
    "# 死锁\n",
    "所谓死锁： 是指两个或两个以上的进程或线程在执行过程中，因争夺资源而造成的一种互相等待的现象，若无外力作用，它们都将无法推进下去。\n",
    "\n",
    "此时称系统处于死锁状态或系统产生了死锁，这些永远在互相等待的进程称为死锁进程，如下就是死锁"
   ]
  },
  {
   "cell_type": "code",
   "execution_count": 3,
   "metadata": {},
   "outputs": [
    {
     "name": "stdout",
     "output_type": "stream",
     "text": [
      "Overwriting test_thread.py\n"
     ]
    }
   ],
   "source": [
    "%%writefile test_thread.py\n",
    "from threading import Thread,Lock\n",
    "import time\n",
    "\n",
    "mutexA=Lock()\n",
    "mutexB=Lock()\n",
    "\n",
    "class MyThread(Thread):\n",
    "    def run(self) -> None:\n",
    "        self.f1()\n",
    "        self.f2()\n",
    "    \n",
    "    def f1(self) -> None:\n",
    "        mutexA.acquire()\n",
    "        print(f\"{self.name} 拿到了A锁\")\n",
    "        \n",
    "        mutexB.acquire()\n",
    "        print(f\"{self.name} 拿到了B锁\")\n",
    "        \n",
    "        mutexB.release()\n",
    "        print(f\"{self.name} 释放了B锁\")\n",
    "        \n",
    "        mutexA.release()\n",
    "        print(f\"{self.name} 释放了A锁\")\n",
    "\n",
    "    def f2(self) -> None:\n",
    "        mutexB.acquire()\n",
    "        print(f\"{self.name} 拿到了B锁\")\n",
    "        time.sleep(0.1)\n",
    "        \n",
    "        mutexA.acquire()\n",
    "        print(f\"{self.name} 拿到了A锁\")\n",
    "        \n",
    "        mutexA.release()\n",
    "        print(f\"{self.name} 释放了A锁\")\n",
    "        \n",
    "        mutexB.release()\n",
    "        print(f\"{self.name} 释放了B锁\")\n",
    "        \n",
    "if __name__ == \"__main__\":\n",
    "    for _ in range(10):\n",
    "        m=MyThread()\n",
    "        m.start()\n",
    "    "
   ]
  },
  {
   "cell_type": "markdown",
   "metadata": {},
   "source": [
    "# 使用递归锁解决死锁\n",
    "\n",
    "解决方法，递归锁，在Python中为了支持在同一线程中多次请求同一资源，python提供了可重入锁RLock。\n",
    "\n",
    "这个RLock内部维护着一个Lock和一个counter变量，counter记录了acquire的次数，从而使得资源可以被多次require。直到一个线程所有的acquire都被release，其他的线程才能获得资源。上面的例子如果使用RLock代替Lock，则不会发生死锁："
   ]
  },
  {
   "cell_type": "code",
   "execution_count": 4,
   "metadata": {},
   "outputs": [
    {
     "name": "stdout",
     "output_type": "stream",
     "text": [
      "Overwriting test_thread.py\n"
     ]
    }
   ],
   "source": [
    "\n",
    "\n",
    "%%writefile test_thread.py\n",
    "from threading import Thread,RLock\n",
    "import time\n",
    "\n",
    "mutexA=mutexB=RLock() #一个线程拿到锁，counter加1,该线程内又碰到加锁的情况，则counter继续加1，这期间所有其他线程都只能等待，等待该线程释放所有锁，即counter递减到0为止\n",
    "\n",
    "class MyThread(Thread):\n",
    "    def run(self) -> None:\n",
    "        self.f1()\n",
    "        self.f2()\n",
    "    \n",
    "    def f1(self) -> None:\n",
    "        mutexA.acquire()\n",
    "        print(f\"{self.name} 拿到了A锁\")\n",
    "        \n",
    "        mutexB.acquire()\n",
    "        print(f\"{self.name} 拿到了B锁\")\n",
    "        \n",
    "        mutexB.release()\n",
    "        print(f\"{self.name} 释放了B锁\")\n",
    "        \n",
    "        mutexA.release()\n",
    "        print(f\"{self.name} 释放了A锁\")\n",
    "\n",
    "    def f2(self) -> None:\n",
    "        mutexB.acquire()\n",
    "        print(f\"{self.name} 拿到了B锁\")\n",
    "        time.sleep(3)\n",
    "        \n",
    "        mutexA.acquire()\n",
    "        print(f\"{self.name} 拿到了A锁\")\n",
    "        \n",
    "        mutexA.release()\n",
    "        print(f\"{self.name} 释放了A锁\")\n",
    "        \n",
    "        mutexB.release()\n",
    "        print(f\"{self.name} 释放了B锁\")\n",
    "        \n",
    "if __name__ == \"__main__\":\n",
    "    for _ in range(10):\n",
    "        m=MyThread()\n",
    "        m.start()\n",
    "    "
   ]
  }
 ],
 "metadata": {
  "kernelspec": {
   "display_name": "Python 3.9.12 ('base')",
   "language": "python",
   "name": "python3"
  },
  "language_info": {
   "codemirror_mode": {
    "name": "ipython",
    "version": 3
   },
   "file_extension": ".py",
   "mimetype": "text/x-python",
   "name": "python",
   "nbconvert_exporter": "python",
   "pygments_lexer": "ipython3",
   "version": "3.9.12"
  },
  "orig_nbformat": 4,
  "vscode": {
   "interpreter": {
    "hash": "af2924f10f5eb76fd65ccea448a69e80be7838e947e8a1ae982ab7073141c8a7"
   }
  }
 },
 "nbformat": 4,
 "nbformat_minor": 2
}
