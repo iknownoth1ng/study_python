{
 "cells": [
  {
   "cell_type": "markdown",
   "metadata": {},
   "source": [
    "# 定时器\n",
    "- 指定n秒后执行某操作"
   ]
  },
  {
   "cell_type": "code",
   "execution_count": 1,
   "metadata": {},
   "outputs": [
    {
     "name": "stdout",
     "output_type": "stream",
     "text": [
      "hello egon\n"
     ]
    }
   ],
   "source": [
    "from threading import Timer\n",
    "\n",
    "def task(name):\n",
    "    print(f\"hello {name}\")\n",
    "    \n",
    "t=Timer(5,task,args=('egon',))\n",
    "t.start()"
   ]
  },
  {
   "cell_type": "markdown",
   "metadata": {},
   "source": [
    "## 验证码"
   ]
  },
  {
   "cell_type": "code",
   "execution_count": 2,
   "metadata": {},
   "outputs": [
    {
     "name": "stdout",
     "output_type": "stream",
     "text": [
      "Overwriting test_thread.py\n"
     ]
    }
   ],
   "source": [
    "%%writefile test_thread.py\n",
    "from threading import Timer\n",
    "import random\n",
    "\n",
    "class Code:\n",
    "    def __init__(self):\n",
    "        self.make_cached()\n",
    "    \n",
    "    def make_cached(self,interval=10):\n",
    "        self.cache=self.make_code()\n",
    "        print(self.cache)\n",
    "        self.t=Timer(interval,self.make_cached)\n",
    "        self.t.start()\n",
    "    \n",
    "    def make_code(self,n=4):\n",
    "        res=''\n",
    "        for _ in range(n):\n",
    "            s1=str(random.randint(0,9))\n",
    "            s2=chr(random.randint(65,90))\n",
    "            res+=random.choice([s1,s2])\n",
    "        return res\n",
    "    \n",
    "    def check(self):\n",
    "        while True:\n",
    "            code=input(\"请输入验证码==>: \").strip()\n",
    "            if code.upper()==self.cache:\n",
    "                print('密码输入正确！')\n",
    "                self.t.cancel()\n",
    "                break\n",
    "            \n",
    "    \n",
    "if __name__ == \"__main__\":\n",
    "    c=Code()\n",
    "    c.check()\n"
   ]
  }
 ],
 "metadata": {
  "kernelspec": {
   "display_name": "Python 3.9.12 ('base')",
   "language": "python",
   "name": "python3"
  },
  "language_info": {
   "codemirror_mode": {
    "name": "ipython",
    "version": 3
   },
   "file_extension": ".py",
   "mimetype": "text/x-python",
   "name": "python",
   "nbconvert_exporter": "python",
   "pygments_lexer": "ipython3",
   "version": "3.9.12"
  },
  "orig_nbformat": 4,
  "vscode": {
   "interpreter": {
    "hash": "af2924f10f5eb76fd65ccea448a69e80be7838e947e8a1ae982ab7073141c8a7"
   }
  }
 },
 "nbformat": 4,
 "nbformat_minor": 2
}
