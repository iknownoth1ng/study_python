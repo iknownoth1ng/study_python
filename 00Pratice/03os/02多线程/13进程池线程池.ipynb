{
 "cells": [
  {
   "cell_type": "markdown",
   "metadata": {},
   "source": [
    "# [concurrent.futures 模块提供异步执行可调用对象高层接口。](https://docs.python.org/zh-cn/3/library/concurrent.futures.html#module-concurrent.futures)\n",
    "\n",
    "##  异步执行可以由 ThreadPoolExecutor 使用线程或由 ProcessPoolExecutor 使用单独的进程来实现。 两者都是实现抽像类 Executor 定义的接口。"
   ]
  },
  {
   "cell_type": "code",
   "execution_count": 1,
   "metadata": {},
   "outputs": [
    {
     "name": "stdout",
     "output_type": "stream",
     "text": [
      "Overwriting test_thread.py\n"
     ]
    }
   ],
   "source": [
    "%%writefile test_thread.py\n",
    "from concurrent.futures import ProcessPoolExecutor,ThreadPoolExecutor\n",
    "import os,time,random\n",
    "\n",
    "def task(name,n):\n",
    "    print(f\"{name} is running, pid is {os.getpid()}\")\n",
    "    time.sleep(random.randint(1,3))\n",
    "    return n*n\n",
    "\n",
    "if __name__ == \"__main__\":\n",
    "    pool=ProcessPoolExecutor(max_workers=5)\n",
    "    \n",
    "    for i in range(10):\n",
    "        future=pool.submit(task,f\"egon{i}\",i)\n",
    "        print(f\"egon{i}'s result is {future.result()}\") #* 如果注销该行，会直接异步提交下一个，否则会等到有结果才会继续下一个提交\n",
    "    \n",
    "    print('主')\n",
    "        "
   ]
  },
  {
   "cell_type": "markdown",
   "metadata": {},
   "source": [
    "## shutdown(wait=True, *, cancel_futures=False)\n",
    "相当于进程池的pool.close()+pool.join()操作\n",
    "\n",
    "wait=True，等待池内所有任务执行完毕回收完资源后才继续\n",
    "\n",
    "wait=False，立即返回，并不会等待池内的任务执行完毕\n",
    "\n",
    "但不管wait参数为何值，整个程序都会等到所有任务执行完毕\n",
    "\n",
    "submit和map必须在shutdown之前"
   ]
  },
  {
   "cell_type": "code",
   "execution_count": 2,
   "metadata": {},
   "outputs": [
    {
     "name": "stdout",
     "output_type": "stream",
     "text": [
      "Overwriting test_thread.py\n"
     ]
    }
   ],
   "source": [
    "%%writefile test_thread.py\n",
    "from concurrent.futures import ProcessPoolExecutor\n",
    "import os,time,random\n",
    "\n",
    "def task(name):\n",
    "    print(f\"{name} is running, pid is {os.getpid()}\")\n",
    "    time.sleep(random.randint(1,3))\n",
    "\n",
    "if __name__ == \"__main__\":\n",
    "    pool=ProcessPoolExecutor(max_workers=5)\n",
    "    \n",
    "    for i in range(10):\n",
    "        pool.submit(task,f\"egon{i}\")\n",
    "        \n",
    "    # 如果 wait 为 True 则此方法只有在所有待执行的 future 对象完成执行且释放已分配的资源后才会返回。 如果 wait 为 False，方法立即返回，所有待执行的 future 对象完成执行后会释放已分配的资源。 不管 wait 的值是什么，整个 Python 程序将等到所有待执行的 future 对象完成执行后才退出。\n",
    "    pool.shutdown(wait=True) #* 如果使用 with 语句，你就可以避免显式调用这个方法，它将会停止 Executor (就好像 Executor.shutdown() 调用时 wait 设为 True 一样等待):\n",
    "    \n",
    "    #* 上式等效于\n",
    "    # with ProcessPoolExecutor(max_workers=5) as executor:\n",
    "    #     for i in range(10):\n",
    "    #         executor.submit(task,f\"egon{i}\")\n",
    "    \n",
    "    \n",
    "    print('主')\n",
    "        "
   ]
  },
  {
   "cell_type": "markdown",
   "metadata": {},
   "source": [
    "## map(func, *iterables, timeout=None, chunksize=1)"
   ]
  },
  {
   "cell_type": "code",
   "execution_count": 3,
   "metadata": {},
   "outputs": [
    {
     "name": "stdout",
     "output_type": "stream",
     "text": [
      "Overwriting test_thread.py\n"
     ]
    }
   ],
   "source": [
    "%%writefile test_thread.py\n",
    "from concurrent.futures import ThreadPoolExecutor\n",
    "from threading import currentThread\n",
    "import os,time,random\n",
    "\n",
    "def task():\n",
    "    print(f\"{currentThread().getName()} is running, pid is {os.getpid()}\")\n",
    "    time.sleep(random.randint(1,3))\n",
    "\n",
    "if __name__ == \"__main__\":\n",
    "   with ThreadPoolExecutor(max_workers=5) as executor:\n",
    "        executor.map(task,range(1,12))\n",
    "\n",
    "    print('主')"
   ]
  }
 ],
 "metadata": {
  "kernelspec": {
   "display_name": "Python 3.9.12 ('base')",
   "language": "python",
   "name": "python3"
  },
  "language_info": {
   "codemirror_mode": {
    "name": "ipython",
    "version": 3
   },
   "file_extension": ".py",
   "mimetype": "text/x-python",
   "name": "python",
   "nbconvert_exporter": "python",
   "pygments_lexer": "ipython3",
   "version": "3.9.12"
  },
  "orig_nbformat": 4,
  "vscode": {
   "interpreter": {
    "hash": "af2924f10f5eb76fd65ccea448a69e80be7838e947e8a1ae982ab7073141c8a7"
   }
  }
 },
 "nbformat": 4,
 "nbformat_minor": 2
}
