{
 "cells": [
  {
   "cell_type": "markdown",
   "metadata": {},
   "source": [
    "# 守护线程\n",
    "- 无论是进程还是线程，都遵循：守护xxx会等待主xxx运行完毕后被销毁\n",
    "\n",
    "- 需要强调的是：运行完毕并非终止运行\n",
    "    1. 对主进程来说，运行完毕指的是主进程代码运行完毕\n",
    "\n",
    "    2. 对主线程来说，运行完毕指的是主线程所在的进程内所有非守护线程统统运行完毕，主线程才算运行完毕\n",
    "\n",
    "## 详细解释\n",
    "1. 主进程在其代码结束后就已经算运行完毕了（守护进程在此时就被回收）,然后主进程会一直等(如果有wait函数)非守护的子进程都运行完毕后回收子进程的资源(否则会产生僵尸进程)，才会结束。</br>\n",
    "（孤儿进程：一个父进程退出，而它的一个或多个子进程还在运行，那么那些子进程将成为孤儿进程。孤儿进程将被init进程(进程号为1)所收养，并由init进程对它们完成状态收集工作。）</br>\n",
    "（僵尸进程：一个进程使用fork创建子进程，如果子进程退出，而父进程并没有调用wait或waitpid获取子进程的状态信息，那么子进程的进程描述符仍然保存在系统中。这种进程称之为僵死进程。）</br>\n",
    "\n",
    "2. 主线程在其他非守护线程运行完毕后才算运行完毕（守护线程在此时就被回收）。因为主线程的结束意味着进程的结束，进程整体的资源都将被回收，而进程必须保证非守护线程都运行完毕后才能结束。"
   ]
  },
  {
   "cell_type": "code",
   "execution_count": 1,
   "metadata": {},
   "outputs": [
    {
     "name": "stdout",
     "output_type": "stream",
     "text": [
      "Overwriting test_thread.py\n"
     ]
    }
   ],
   "source": [
    "%%writefile test_thread.py\n",
    "# 开启守护线程\n",
    "from threading import Thread,enumerate\n",
    "import time\n",
    "\n",
    "\n",
    "def sayhi(name):\n",
    "    time.sleep(2)\n",
    "    print(f\"{name} say hello\")\n",
    "\n",
    "\n",
    "if __name__ == \"__main__\":\n",
    "    t1 = Thread(target=sayhi, args=(\"线程1\",))\n",
    "    t1.daemon = True  # * 设置守护进程\n",
    "    t1.start()\n",
    "\n",
    "    print(\"主线程\")\n",
    "    print(enumerate())\n",
    "    print(t1.is_alive())\n"
   ]
  },
  {
   "cell_type": "code",
   "execution_count": 5,
   "metadata": {},
   "outputs": [
    {
     "name": "stdout",
     "output_type": "stream",
     "text": [
      "Overwriting test_thread.py\n"
     ]
    }
   ],
   "source": [
    "%%writefile test_thread.py\n",
    "# 练习，猜测下列代码运行结果\n",
    "from threading import Thread\n",
    "import time\n",
    "\n",
    "\n",
    "def foo():\n",
    "    print(123)\n",
    "    time.sleep(1)\n",
    "    print(\"end123\")\n",
    "\n",
    "\n",
    "def bar():\n",
    "    print(456)\n",
    "    time.sleep(3)\n",
    "    print(\"end456\")\n",
    "\n",
    "\n",
    "t1 = Thread(target=foo)\n",
    "t2 = Thread(target=bar)\n",
    "\n",
    "t1.daemon = True\n",
    "t1.start()\n",
    "t2.start()\n",
    "print(\"main-------\")"
   ]
  }
 ],
 "metadata": {
  "kernelspec": {
   "display_name": "Python 3.9.12 ('base')",
   "language": "python",
   "name": "python3"
  },
  "language_info": {
   "codemirror_mode": {
    "name": "ipython",
    "version": 3
   },
   "file_extension": ".py",
   "mimetype": "text/x-python",
   "name": "python",
   "nbconvert_exporter": "python",
   "pygments_lexer": "ipython3",
   "version": "3.9.12"
  },
  "orig_nbformat": 4,
  "vscode": {
   "interpreter": {
    "hash": "af2924f10f5eb76fd65ccea448a69e80be7838e947e8a1ae982ab7073141c8a7"
   }
  }
 },
 "nbformat": 4,
 "nbformat_minor": 2
}
