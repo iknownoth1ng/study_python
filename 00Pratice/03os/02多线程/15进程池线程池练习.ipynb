{
 "cells": [
  {
   "cell_type": "markdown",
   "metadata": {},
   "source": [
    "# 练习\n",
    "1. "
   ]
  },
  {
   "cell_type": "code",
   "execution_count": 4,
   "metadata": {},
   "outputs": [
    {
     "name": "stdout",
     "output_type": "stream",
     "text": [
      "GET https://docs.python.org/zh-cn/dev/library/concurrent.futures.html\n",
      "GET https://www.cnblogs.com/linhaifeng/articles/6817679.html\n",
      "https://www.cnblogs.com/linhaifeng/articles/6817679.html pares res is 47745\n",
      "GET https://egonlin.com/?p=4210\n",
      "https://docs.python.org/zh-cn/dev/library/concurrent.futures.html pares res is 81528\n",
      "https://egonlin.com/?p=4210 pares res is 329142\n"
     ]
    }
   ],
   "source": [
    "from concurrent.futures import ThreadPoolExecutor\n",
    "import requests\n",
    "import time\n",
    "\n",
    "\n",
    "def get(url):\n",
    "    print(f'GET {url}')\n",
    "    response = requests.get(url)\n",
    "    time.sleep(1)\n",
    "    return {\"url\": url, \"content\": response.text}\n",
    "\n",
    "\n",
    "def parse(res):\n",
    "    res=res.result()\n",
    "    print(f\"{res['url']} pares res is {len(res['content'])}\")\n",
    "\n",
    "\n",
    "if __name__ == \"__main__\":\n",
    "    urls = [\n",
    "        \"https://docs.python.org/zh-cn/dev/library/concurrent.futures.html\",\n",
    "        \"https://www.cnblogs.com/linhaifeng/articles/6817679.html\",\n",
    "        \"https://egonlin.com/?p=4210\",\n",
    "    ]\n",
    "    \n",
    "    with ThreadPoolExecutor(2) as executor:\n",
    "        for url in urls:\n",
    "            executor.submit(get,url).add_done_callback(parse)\n",
    "            \n",
    "    "
   ]
  }
 ],
 "metadata": {
  "kernelspec": {
   "display_name": "Python 3.9.12 ('base')",
   "language": "python",
   "name": "python3"
  },
  "language_info": {
   "codemirror_mode": {
    "name": "ipython",
    "version": 3
   },
   "file_extension": ".py",
   "mimetype": "text/x-python",
   "name": "python",
   "nbconvert_exporter": "python",
   "pygments_lexer": "ipython3",
   "version": "3.9.12"
  },
  "orig_nbformat": 4,
  "vscode": {
   "interpreter": {
    "hash": "af2924f10f5eb76fd65ccea448a69e80be7838e947e8a1ae982ab7073141c8a7"
   }
  }
 },
 "nbformat": 4,
 "nbformat_minor": 2
}
