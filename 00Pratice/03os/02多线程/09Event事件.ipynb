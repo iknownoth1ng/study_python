{
 "cells": [
  {
   "cell_type": "markdown",
   "metadata": {},
   "source": [
    "# Event事件\n",
    "\n",
    "同进程的一样\n",
    "\n",
    "线程的一个关键特性是每个线程都是独立运行且状态不可预测。\n",
    "\n",
    "如果程序中的其 他线程需要通过判断某个线程的状态来确定自己下一步的操作,这时线程同步问题就会变得非常棘手。\n",
    "\n",
    "为了解决这些问题,我们需要使用threading库中的Event对象。 对象包含一个可由线程设置的信号标志,它允许线程等待某些事件的发生。\n",
    "\n",
    "在 初始情况下,Event对象中的信号标志被设置为假。如果有线程等待一个Event对象, 而这个Event对象的标志为假,那么这个线程将会被一直阻塞直至该标志为真。\n",
    "\n",
    "一个线程如果将一个Event对象的信号标志设置为真,它将唤醒所有等待这个Event对象的线程。如果一个线程等待一个已经被设置为真的Event对象,那么它将忽略这个事件, 继续执行。\n",
    "\n",
    "- event.isSet()：返回event的状态值；\n",
    "\n",
    "- event.wait()：如果 event.isSet()==False将阻塞线程；\n",
    "\n",
    "- event.set()： 设置event的状态值为True，所有阻塞池的线程激活进入就绪状态， 等待操作系统调度；\n",
    "\n",
    "- event.clear()：恢复event的状态值为False。\n",
    "\n",
    "## event.wait()   event.set()"
   ]
  },
  {
   "cell_type": "code",
   "execution_count": 3,
   "metadata": {},
   "outputs": [
    {
     "name": "stdout",
     "output_type": "stream",
     "text": [
      "Overwriting test_thread.py\n"
     ]
    }
   ],
   "source": [
    "%%writefile test_thread.py\n",
    "# 老师上课\n",
    "from threading import Thread,Event,currentThread\n",
    "import time\n",
    "\n",
    "event=Event()\n",
    "\n",
    "def student():\n",
    "    print(f\"学生{currentThread().getName()} 在上课\")\n",
    "    event.wait()\n",
    "    print(f\"学生{currentThread().getName()} 课间活动\")\n",
    "\n",
    "def teacher():\n",
    "    print(f\"老师{currentThread().getName()} 在授课\")\n",
    "    time.sleep(3)\n",
    "    print(f\"老师{currentThread().getName()} 宣布下课\")\n",
    "    event.set()\n",
    "    \n",
    "\n",
    "if __name__ == \"__main__\":\n",
    "    for _ in range(3):\n",
    "        s=Thread(target=student)\n",
    "        s.start()\n",
    "        \n",
    "    t=Thread(target=teacher)\n",
    "    t.start()\n",
    "\n"
   ]
  },
  {
   "cell_type": "markdown",
   "metadata": {},
   "source": [
    "## event.wait(3)"
   ]
  },
  {
   "cell_type": "code",
   "execution_count": 4,
   "metadata": {},
   "outputs": [
    {
     "name": "stdout",
     "output_type": "stream",
     "text": [
      "Overwriting test_thread.py\n"
     ]
    }
   ],
   "source": [
    "%%writefile test_thread.py\n",
    "# 老师上课\n",
    "from threading import Thread,Event,currentThread\n",
    "import time\n",
    "\n",
    "event=Event()\n",
    "\n",
    "def student():\n",
    "    print(f\"学生{currentThread().getName()} 在上课\")\n",
    "    event.wait(3)\n",
    "    print(f\"学生{currentThread().getName()} 课间活动\")\n",
    "\n",
    "def teacher():\n",
    "    print(f\"老师{currentThread().getName()} 在授课\")\n",
    "    time.sleep(7)\n",
    "    print(f\"老师{currentThread().getName()} 宣布下课\")\n",
    "    event.set()\n",
    "    \n",
    "\n",
    "if __name__ == \"__main__\":\n",
    "    for _ in range(3):\n",
    "        s=Thread(target=student)\n",
    "        s.start()\n",
    "        \n",
    "    t=Thread(target=teacher)\n",
    "    t.start()\n",
    "\n"
   ]
  },
  {
   "cell_type": "markdown",
   "metadata": {},
   "source": [
    "## event.isSet()"
   ]
  },
  {
   "cell_type": "code",
   "execution_count": 6,
   "metadata": {},
   "outputs": [
    {
     "name": "stdout",
     "output_type": "stream",
     "text": [
      "Overwriting test_thread.py\n"
     ]
    }
   ],
   "source": [
    "%%writefile test_thread.py\n",
    "# 连接数据库\n",
    "from threading import Thread,Event,currentThread\n",
    "import time\n",
    "\n",
    "event=Event()\n",
    "\n",
    "def conn():\n",
    "    n=0\n",
    "    while not event.is_set():\n",
    "        if n ==3 :\n",
    "            print(f\"{currentThread().getName()}  try too many times\")\n",
    "            return\n",
    "        print(f\"{currentThread().getName()} is connecting\")\n",
    "        event.wait(0.5)\n",
    "        n+=1\n",
    "    \n",
    "    print(f\"{currentThread().getName()} is connected\")\n",
    "\n",
    "def check():\n",
    "    print(f\"{currentThread().getName()} is checking\")\n",
    "    time.sleep(7)\n",
    "    print(f\"{currentThread().getName()} is checked\")\n",
    "    event.set()\n",
    "    \n",
    "\n",
    "if __name__ == \"__main__\":\n",
    "    for _ in range(3):\n",
    "        c=Thread(target=conn)\n",
    "        c.start()\n",
    "        \n",
    "    t=Thread(target=check)\n",
    "    t.start()\n",
    "\n"
   ]
  }
 ],
 "metadata": {
  "kernelspec": {
   "display_name": "Python 3.9.12 ('base')",
   "language": "python",
   "name": "python3"
  },
  "language_info": {
   "codemirror_mode": {
    "name": "ipython",
    "version": 3
   },
   "file_extension": ".py",
   "mimetype": "text/x-python",
   "name": "python",
   "nbconvert_exporter": "python",
   "pygments_lexer": "ipython3",
   "version": "3.9.12"
  },
  "orig_nbformat": 4,
  "vscode": {
   "interpreter": {
    "hash": "af2924f10f5eb76fd65ccea448a69e80be7838e947e8a1ae982ab7073141c8a7"
   }
  }
 },
 "nbformat": 4,
 "nbformat_minor": 2
}
