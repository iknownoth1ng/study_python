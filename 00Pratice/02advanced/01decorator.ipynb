{
 "cells": [
  {
   "cell_type": "markdown",
   "metadata": {},
   "source": [
    "装饰器\n",
    "函数的几个核心概念：\n",
    "- 函数也是对象，可以把函数赋予变量。"
   ]
  },
  {
   "cell_type": "code",
   "execution_count": 2,
   "metadata": {},
   "outputs": [
    {
     "name": "stdout",
     "output_type": "stream",
     "text": [
      "Got a message: hello world\n"
     ]
    }
   ],
   "source": [
    "def func(message):\n",
    "    print('Got a message: {}'.format(message))\n",
    "\n",
    "\n",
    "send_message = func\n",
    "send_message(\"hello world\")\n"
   ]
  },
  {
   "cell_type": "markdown",
   "metadata": {},
   "source": [
    "- 第二点，我们可以把函数当作参数，传入另一个函数中。"
   ]
  },
  {
   "cell_type": "code",
   "execution_count": 4,
   "metadata": {},
   "outputs": [
    {
     "name": "stdout",
     "output_type": "stream",
     "text": [
      "Got a message: hello world\n"
     ]
    }
   ],
   "source": [
    "def get_message(message):\n",
    "    return 'Got a message: '+message\n",
    "\n",
    "\n",
    "def root_call(func, message):\n",
    "    print(func(message))\n",
    "\n",
    "\n",
    "root_call(get_message, 'hello world')\n"
   ]
  },
  {
   "cell_type": "markdown",
   "metadata": {},
   "source": [
    "- 第三点，我们可以在函数里定义函数，也就是函数的嵌套。"
   ]
  },
  {
   "cell_type": "code",
   "execution_count": 5,
   "metadata": {},
   "outputs": [
    {
     "name": "stdout",
     "output_type": "stream",
     "text": [
      "Got a message: hello world\n"
     ]
    }
   ],
   "source": [
    "def func(message):\n",
    "    def get_message(message):\n",
    "        print('Got a message: {}'.format(message))\n",
    "    return get_message(message)\n",
    "\n",
    "\n",
    "func('hello world')\n"
   ]
  },
  {
   "cell_type": "markdown",
   "metadata": {},
   "source": [
    "- 第四点，函数的返回值也可以是函数对象（闭包）"
   ]
  },
  {
   "cell_type": "code",
   "execution_count": 2,
   "metadata": {},
   "outputs": [
    {
     "name": "stdout",
     "output_type": "stream",
     "text": [
      "Got a message: hello world\n"
     ]
    }
   ],
   "source": [
    "def func_closure():\n",
    "    def get_message(message):\n",
    "        print('Got a message: {}'.format(message))\n",
    "    return get_message\n",
    "\n",
    "\n",
    "send_message = func_closure()\n",
    "send_message('hello world')\n"
   ]
  },
  {
   "cell_type": "markdown",
   "metadata": {},
   "source": [
    "简单装饰器"
   ]
  },
  {
   "cell_type": "code",
   "execution_count": 3,
   "metadata": {},
   "outputs": [
    {
     "name": "stdout",
     "output_type": "stream",
     "text": [
      "warpper of decorator\n",
      "hello world\n"
     ]
    }
   ],
   "source": [
    "def my_decorator(func):\n",
    "    def wrapper():\n",
    "        print('warpper of decorator')\n",
    "        func()\n",
    "    return wrapper\n",
    "\n",
    "\n",
    "def greet():\n",
    "    print('hello world')\n",
    "\n",
    "\n",
    "greet = my_decorator(greet)\n",
    "greet()\n"
   ]
  },
  {
   "cell_type": "code",
   "execution_count": 5,
   "metadata": {},
   "outputs": [
    {
     "name": "stdout",
     "output_type": "stream",
     "text": [
      "warpper of decorator\n",
      "hello world\n"
     ]
    }
   ],
   "source": [
    "# 简洁写法\n",
    "def my_decorator(func):\n",
    "    def wrapper():\n",
    "        print('warpper of decorator')\n",
    "        func()\n",
    "    return wrapper\n",
    "\n",
    "\n",
    "@my_decorator\n",
    "def greet():\n",
    "    print('hello world')\n",
    "\n",
    "\n",
    "greet()\n"
   ]
  },
  {
   "cell_type": "markdown",
   "metadata": {},
   "source": [
    "带有参数的装饰器"
   ]
  },
  {
   "cell_type": "code",
   "execution_count": 9,
   "metadata": {},
   "outputs": [
    {
     "name": "stdout",
     "output_type": "stream",
     "text": [
      "warpper of decorator\n",
      "hello world\n"
     ]
    }
   ],
   "source": [
    "def my_decorator(func):\n",
    "    def wrapper(message):\n",
    "        print('warpper of decorator')\n",
    "        func(message)\n",
    "    return wrapper\n",
    "\n",
    "\n",
    "@my_decorator\n",
    "def greet(message):\n",
    "    print(message)\n",
    "\n",
    "\n",
    "greet('hello world')\n"
   ]
  },
  {
   "cell_type": "markdown",
   "metadata": {},
   "source": [
    "如果有一个新的函数，带有两个参数或者更多，该怎么办呢"
   ]
  },
  {
   "cell_type": "code",
   "execution_count": null,
   "metadata": {},
   "outputs": [],
   "source": [
    "def celebrate(name, message):\n",
    "    pass\n"
   ]
  },
  {
   "cell_type": "markdown",
   "metadata": {},
   "source": [
    "把*args和**kwargs，作为装饰器内部函数wrapper()的参数"
   ]
  },
  {
   "cell_type": "code",
   "execution_count": 14,
   "metadata": {},
   "outputs": [
    {
     "name": "stdout",
     "output_type": "stream",
     "text": [
      "wrapper of decorator\n",
      "jack 说：hello\n",
      "wrapper of decorator\n",
      "*args和**kwargs world\n"
     ]
    }
   ],
   "source": [
    "def my_decorator(func):\n",
    "    def wrapper(*args, **kwargs):\n",
    "        print('wrapper of decorator')\n",
    "        func(*args, **kwargs)\n",
    "    return wrapper\n",
    "\n",
    "\n",
    "@my_decorator\n",
    "def celebrate(name, message):\n",
    "    print('{0} 说：{1}'.format(name, message))\n",
    "\n",
    "\n",
    "@my_decorator\n",
    "def greet(message):\n",
    "    print('*args和**kwargs {0}'.format(message))\n",
    "\n",
    "\n",
    "celebrate('jack', 'hello')\n",
    "greet('world')\n"
   ]
  },
  {
   "cell_type": "markdown",
   "metadata": {},
   "source": [
    "带有自定义参数的装饰器"
   ]
  },
  {
   "cell_type": "code",
   "execution_count": 11,
   "metadata": {},
   "outputs": [
    {
     "name": "stdout",
     "output_type": "stream",
     "text": [
      "wrapper of decorator\n",
      "repeat hello world\n",
      "wrapper of decorator\n",
      "repeat hello world\n",
      "wrapper of decorator\n",
      "repeat hello world\n",
      "wrapper of decorator\n",
      "repeat hello world\n",
      "wrapper of decorator\n",
      "repeat hello world\n"
     ]
    }
   ],
   "source": [
    "def repeat(nums):\n",
    "    def my_decorator(func):\n",
    "        def wrapper(*args, **kwargs):\n",
    "            for _ in range(nums):\n",
    "                print('wrapper of decorator')\n",
    "                func(*args, **kwargs)\n",
    "        return wrapper\n",
    "    return my_decorator\n",
    "\n",
    "\n",
    "@repeat(5)\n",
    "def greet(message):\n",
    "    print('repeat {0}'.format(message))\n",
    "\n",
    "\n",
    "greet('hello world')\n"
   ]
  },
  {
   "cell_type": "markdown",
   "metadata": {},
   "source": [
    "原函数还是原函数吗"
   ]
  },
  {
   "cell_type": "code",
   "execution_count": 13,
   "metadata": {},
   "outputs": [
    {
     "name": "stdout",
     "output_type": "stream",
     "text": [
      "wrapper\n",
      "Help on function wrapper in module __main__:\n",
      "\n",
      "wrapper(*args, **kwargs)\n",
      "\n"
     ]
    }
   ],
   "source": [
    "print(greet.__name__)\n",
    "help(greet)\n"
   ]
  },
  {
   "cell_type": "markdown",
   "metadata": {},
   "source": [
    "如果保留原函数的元信息，使用@functools.wrap"
   ]
  },
  {
   "cell_type": "code",
   "execution_count": 15,
   "metadata": {},
   "outputs": [
    {
     "name": "stdout",
     "output_type": "stream",
     "text": [
      "greet\n"
     ]
    }
   ],
   "source": [
    "import functools\n",
    "\n",
    "\n",
    "def my_decorator(func):\n",
    "    @functools.wraps(func)\n",
    "    def wrapper(*args, **kwargs):\n",
    "        print('wrapper of decorator')\n",
    "        func(*args, **kwargs)\n",
    "    return wrapper\n",
    "\n",
    "\n",
    "@my_decorator\n",
    "def greet(message):\n",
    "    print('@functools.wrap {0}'.format(message))\n",
    "\n",
    "\n",
    "print(greet.__name__)\n"
   ]
  },
  {
   "cell_type": "markdown",
   "metadata": {},
   "source": [
    "类装饰器，主要依赖于函数__call__()，每当调用你个类的示例时，函数__call__()就会被执行一次"
   ]
  },
  {
   "cell_type": "code",
   "execution_count": 1,
   "metadata": {},
   "outputs": [
    {
     "name": "stdout",
     "output_type": "stream",
     "text": [
      "num of calls is : 1\n",
      "hello world\n",
      "num of calls is : 2\n",
      "hello world\n"
     ]
    }
   ],
   "source": [
    "class Count():\n",
    "    def __init__(self, func):\n",
    "        self.func = func\n",
    "        self.num_calls = 0\n",
    "    \n",
    "    def __call__(self, *args, **kwargs):\n",
    "        self.num_calls += 1\n",
    "        print('num of calls is : {}'.format(self.num_calls))\n",
    "        return self.func(*args, **kwargs)\n",
    "    \n",
    "\n",
    "@Count\n",
    "def example():\n",
    "    print(\"hello world\")\n",
    "\n",
    "example()\n",
    "\n",
    "example()\n"
   ]
  },
  {
   "cell_type": "markdown",
   "metadata": {},
   "source": [
    "装饰器嵌套<br>\n",
    "@decorator1<br>\n",
    "@decorator2<br>\n",
    "@decorator3<br>\n",
    "def func():<br>\n",
    "----pass<br>\n",
    "\n",
    "执行顺序从里到外，等效于decorator1(decorator2(decorator3(func)))\n"
   ]
  },
  {
   "cell_type": "code",
   "execution_count": 3,
   "metadata": {},
   "outputs": [
    {
     "name": "stdout",
     "output_type": "stream",
     "text": [
      "wrapper of decorator1\n",
      "wrapper of decorator2\n",
      "装饰器嵌套 hello world\n"
     ]
    }
   ],
   "source": [
    "\n",
    "import functools\n",
    "\n",
    "\n",
    "def my_decorator1(func):\n",
    "    @functools.wraps(func)\n",
    "    def wrapper(*args, **kwargs):\n",
    "        print('wrapper of decorator1')\n",
    "        func(*args, **kwargs)\n",
    "    return wrapper\n",
    "\n",
    "def my_decorator2(func):\n",
    "    @functools.wraps(func)\n",
    "    def wrapper(*args, **kwargs):\n",
    "        print('wrapper of decorator2')\n",
    "        func(*args, **kwargs)\n",
    "    return wrapper\n",
    "\n",
    "\n",
    "@my_decorator1\n",
    "@my_decorator2\n",
    "def greet(message):\n",
    "    print('装饰器嵌套 {0}'.format(message))\n",
    "\n",
    "greet('hello world')"
   ]
  },
  {
   "cell_type": "markdown",
   "metadata": {},
   "source": [
    "装饰器的用法实例\n",
    "- 身份认证\n",
    "- 日志记录\n",
    "- 输入合理性检查\n",
    "- 缓存\n"
   ]
  }
 ],
 "metadata": {
  "kernelspec": {
   "display_name": "Python 3.8.13 ('study')",
   "language": "python",
   "name": "python3"
  },
  "language_info": {
   "codemirror_mode": {
    "name": "ipython",
    "version": 3
   },
   "file_extension": ".py",
   "mimetype": "text/x-python",
   "name": "python",
   "nbconvert_exporter": "python",
   "pygments_lexer": "ipython3",
   "version": "3.8.13"
  },
  "orig_nbformat": 4,
  "vscode": {
   "interpreter": {
    "hash": "46cb6235441a8b74df724a68ed242e7b6759bfc907d92e7c8b163c38b1b4592e"
   }
  }
 },
 "nbformat": 4,
 "nbformat_minor": 2
}
