{
 "cells": [
  {
   "cell_type": "markdown",
   "metadata": {},
   "source": [
    "迭代器和生成器\n",
    "- 可迭代对象和迭代器"
   ]
  },
  {
   "cell_type": "markdown",
   "metadata": {},
   "source": [
    "容器：<br>\n",
    "Python中一切皆对象，对象的抽象是类，对象的集合是容器。\n",
    "- 列表、元组、字典、集合都是容器\n",
    "- 容器都是可以迭代的\n",
    "- 迭代器（iterator）提供一个next方法。\n",
    "- 可迭代对象可以通过iter()函数返回一个迭代器，再通过next()函数就可以实现遍历。\n",
    "- for in 语句将这个过程隐式化。"
   ]
  },
  {
   "cell_type": "code",
   "execution_count": 2,
   "metadata": {},
   "outputs": [
    {
     "name": "stdout",
     "output_type": "stream",
     "text": [
      "1234 is iterable? False False\n",
      "1234 is iterable? True True\n",
      "[1, 2, 3, 4] is iterable? True True\n",
      "{1, 2, 3, 4} is iterable? True True\n",
      "{1: 1, 2: 2, 3: 3, 4: 4} is iterable? True True\n",
      "(1, 2, 3, 4) is iterable? True True\n"
     ]
    }
   ],
   "source": [
    "from collections.abc import Iterable\n",
    "\n",
    "\n",
    "# 判断一个对象是否可迭代\n",
    "def is_iterable(param):\n",
    "    try:\n",
    "        iter(param)\n",
    "        return True\n",
    "    except TypeError:\n",
    "        return False\n",
    "# 或者\n",
    "\n",
    "\n",
    "def isNot_iterable(param):\n",
    "    return isinstance(param, Iterable)\n",
    "\n",
    "\n",
    "parms = [1234, '1234', [1, 2, 3, 4], set(\n",
    "    [1, 2, 3, 4]), {1: 1, 2: 2, 3: 3, 4: 4}, (1, 2, 3, 4)]\n",
    "\n",
    "for param in parms:\n",
    "    print('{} is iterable? {} {}'.format(\n",
    "        param, is_iterable(param), isNot_iterable(param)))\n"
   ]
  },
  {
   "cell_type": "markdown",
   "metadata": {},
   "source": [
    "-<br>\n",
    "- 生成器<br>\n",
    "懒人版本的迭代器\n"
   ]
  },
  {
   "cell_type": "code",
   "execution_count": 12,
   "metadata": {},
   "outputs": [
    {
     "name": "stdout",
     "output_type": "stream",
     "text": [
      "initing iterator memory used: 20.9765625 MB\n",
      "after iterator initiated memory used: 3891.31640625 MB\n",
      "4999999950000000\n",
      "after sum called memory used: 3891.81640625 MB\n",
      "CPU times: total: 13.4 s\n",
      "Wall time: 14.2 s\n",
      "initing generator memory used: 20.91796875 MB\n",
      "after generator initiated memory used: 20.91796875 MB\n",
      "4999999950000000\n",
      "after sum called memory used: 20.921875 MB\n",
      "CPU times: total: 11.6 s\n",
      "Wall time: 11.9 s\n"
     ]
    }
   ],
   "source": [
    "# 在迭代器中，如果我们想要枚举它的元素，这些元素要事先生成。举例如下：\n",
    "import os\n",
    "import psutil\n",
    "\n",
    "# 显示当前python程序占用的内存大小\n",
    "\n",
    "\n",
    "def show_memory_info(hint):\n",
    "    pid = os.getpid()\n",
    "    p = psutil.Process(pid)\n",
    "\n",
    "    info = p.memory_full_info()\n",
    "    memory = info.uss/1024./1024\n",
    "    print('{} memory used: {} MB'.format(hint, memory))\n",
    "\n",
    "\n",
    "def test_iterator():\n",
    "    show_memory_info('initing iterator')\n",
    "    list_1 = [i for i in range(100000000)]\n",
    "    # list_1=iter(list_1)\n",
    "    show_memory_info('after iterator initiated')\n",
    "    print(sum(list_1))\n",
    "    show_memory_info('after sum called')\n",
    "\n",
    "\n",
    "def test_generator():\n",
    "    show_memory_info('initing generator')\n",
    "    list_2 = (i for i in range(100000000))\n",
    "    show_memory_info('after generator initiated')\n",
    "    print(sum(list_2))\n",
    "    show_memory_info('after sum called')\n",
    "\n",
    "\n",
    "%time test_iterator()\n",
    "%time test_generator()\n"
   ]
  },
  {
   "cell_type": "markdown",
   "metadata": {},
   "source": [
    "迭代器，生成的元素都会保存到内存中，占用巨量的内存，内存不够可能会出现OOM错误。<br>\n",
    "有时候，我们并不需要在内存中保存这么多东西，比如对元素和，我们只知道每个元素在相加的那一刻是多少就行了，用完就可以扔掉了。<br>\n",
    "于是，生成器的概念应运而生，在调用next()函数的时候，才会生成下一个变量。\n"
   ]
  },
  {
   "cell_type": "markdown",
   "metadata": {},
   "source": [
    "生成器，还能玩出什么花样？\n",
    "- 数学中有一个恒等式，(1+2+3+...+n)^2=1^3+2^3+3^3+...+n^3,用代码来验证一下。"
   ]
  },
  {
   "cell_type": "code",
   "execution_count": 4,
   "metadata": {},
   "outputs": [
    {
     "name": "stdout",
     "output_type": "stream",
     "text": [
      "<generator object generator at 0x0000019F3F782DD0>\n",
      "<generator object generator at 0x0000019F3F782F90>\n",
      "next_1 = 1, next_3 = 1\n",
      "next_1 = 2, next_3 = 8\n",
      "next_1 = 3, next_3 = 27\n",
      "next_1 = 4, next_3 = 64\n",
      "next_1 = 5, next_3 = 125\n",
      "next_1 = 6, next_3 = 216\n",
      "next_1 = 7, next_3 = 343\n",
      "next_1 = 8, next_3 = 512\n",
      "1296 1296\n"
     ]
    }
   ],
   "source": [
    "def generator(k):\n",
    "    i = 1\n",
    "    while True:\n",
    "        yield i ** k\n",
    "        i = i + 1\n",
    "\n",
    "\n",
    "gen_1 = generator(1)\n",
    "gen_3 = generator(3)\n",
    "print(gen_1)\n",
    "print(gen_3)\n",
    "\n",
    "\n",
    "def get_sum(n):\n",
    "    sum_1, sum_3 = 0, 0\n",
    "    for _ in range(n):\n",
    "        next_1 = next(gen_1)\n",
    "        next_3 = next(gen_3)\n",
    "        print('next_1 = {}, next_3 = {}'.format(next_1, next_3))\n",
    "        sum_1 += next_1\n",
    "        sum_3 += next_3\n",
    "    print(sum_1*sum_1, sum_3)\n",
    "\n",
    "\n",
    "get_sum(8)\n"
   ]
  },
  {
   "cell_type": "markdown",
   "metadata": {},
   "source": [
    "给定一个list和一个指定数字，求这个数字在list的位置。"
   ]
  },
  {
   "cell_type": "code",
   "execution_count": 5,
   "metadata": {},
   "outputs": [
    {
     "name": "stdout",
     "output_type": "stream",
     "text": [
      "[2, 5, 9]\n"
     ]
    }
   ],
   "source": [
    "# 常规做法\n",
    "def index_normal(L, target):\n",
    "    result = []\n",
    "    for i, num in enumerate(L):\n",
    "        if num == target:\n",
    "            result.append(i)\n",
    "    return result\n",
    "\n",
    "\n",
    "print(index_normal([1, 6, 2, 4, 5, 2, 8, 6, 3, 2], 2))\n"
   ]
  },
  {
   "cell_type": "code",
   "execution_count": 7,
   "metadata": {},
   "outputs": [
    {
     "name": "stdout",
     "output_type": "stream",
     "text": [
      "[2, 5, 9]\n"
     ]
    }
   ],
   "source": [
    "# 迭代器做法\n",
    "def index_generator(L, target):\n",
    "    for i, num in enumerate(L):\n",
    "        if num == target:\n",
    "            yield i\n",
    "\n",
    "\n",
    "gen_1 = index_generator([1, 6, 2, 4, 5, 2, 8, 6, 3, 2], 2)\n",
    "\n",
    "print(list(gen_1))\n"
   ]
  },
  {
   "cell_type": "markdown",
   "metadata": {},
   "source": [
    "给定两个序列，判断第一个是不是第二个的子序列。"
   ]
  },
  {
   "cell_type": "code",
   "execution_count": 8,
   "metadata": {},
   "outputs": [
    {
     "name": "stdout",
     "output_type": "stream",
     "text": [
      "True\n",
      "False\n"
     ]
    }
   ],
   "source": [
    "def is_subsequence(a, b):\n",
    "    b = iter(b)\n",
    "    return all(i in b for i in a)\n",
    "\n",
    "\n",
    "print(is_subsequence([1, 3, 5], [1, 2, 3, 4, 5]))\n",
    "print(is_subsequence([1, 4, 3], [1, 2, 3, 4, 5]))\n",
    "\n",
    "# (i in b )等效于\n",
    "# while True:\n",
    "#     val=next(b)\n",
    "#     if val==i:\n",
    "#         yield True"
   ]
  },
  {
   "cell_type": "code",
   "execution_count": 15,
   "metadata": {},
   "outputs": [
    {
     "name": "stdout",
     "output_type": "stream",
     "text": [
      "<list_iterator object at 0x0000019F3F78FD90>\n",
      "<generator object is_subsequence.<locals>.<genexpr> at 0x0000019F3F7BACF0>\n",
      "1\n",
      "3\n",
      "5\n",
      "<generator object is_subsequence.<locals>.<genexpr> at 0x0000019F3F7BA660>\n",
      "True\n",
      "True\n",
      "True\n",
      "one False\n",
      "<list_iterator object at 0x0000019F3F78F220>\n",
      "<generator object is_subsequence.<locals>.<genexpr> at 0x0000019F3F7BA660>\n",
      "1\n",
      "4\n",
      "3\n",
      "<generator object is_subsequence.<locals>.<genexpr> at 0x0000019F3F7BACF0>\n",
      "True\n",
      "True\n",
      "False\n",
      "two False\n"
     ]
    }
   ],
   "source": [
    "def is_subsequence(a, b):\n",
    "    b = iter(b)\n",
    "    print(b)\n",
    "\n",
    "    gen = (i for i in a)\n",
    "    print(gen)\n",
    "\n",
    "    for i in gen:\n",
    "        print(i)\n",
    "\n",
    "    gen = ((i in b) for i in a)\n",
    "    print(gen)\n",
    "\n",
    "    for i in gen:\n",
    "        print(i)\n",
    "\n",
    "    # 迭代器b已经迭代结束\n",
    "    return all(((i in b) for i in a))\n",
    "\n",
    "\n",
    "print('one',is_subsequence([1, 3, 5], [1, 2, 3, 4, 5]))\n",
    "print('two',is_subsequence([1, 4, 3], [1, 2, 3, 4, 5]))\n"
   ]
  },
  {
   "cell_type": "markdown",
   "metadata": {},
   "source": [
    "\n",
    "![这是图片](../../image/00/generator.png \"generator\")"
   ]
  }
 ],
 "metadata": {
  "kernelspec": {
   "display_name": "Python 3.8.13 ('study')",
   "language": "python",
   "name": "python3"
  },
  "language_info": {
   "codemirror_mode": {
    "name": "ipython",
    "version": 3
   },
   "file_extension": ".py",
   "mimetype": "text/x-python",
   "name": "python",
   "nbconvert_exporter": "python",
   "pygments_lexer": "ipython3",
   "version": "3.8.13"
  },
  "orig_nbformat": 4,
  "vscode": {
   "interpreter": {
    "hash": "46cb6235441a8b74df724a68ed242e7b6759bfc907d92e7c8b163c38b1b4592e"
   }
  }
 },
 "nbformat": 4,
 "nbformat_minor": 2
}
