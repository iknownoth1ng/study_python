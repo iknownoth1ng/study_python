{
 "cells": [
  {
   "cell_type": "markdown",
   "metadata": {},
   "source": [
    "迭代器和生成器\n",
    "- 可迭代对象和迭代器"
   ]
  },
  {
   "cell_type": "markdown",
   "metadata": {},
   "source": [
    "容器：<br>\n",
    "Python中一切皆对象，对象的抽象是类，对象的集合是容器。\n",
    "- 列表、元组、字典、集合都是容器\n",
    "- 容器都是可以迭代的\n",
    "- 迭代器（iterator）提供一个next方法。\n",
    "- 可迭代对象可以通过iter()函数返回一个迭代器，再通过next()函数就可以实现遍历。\n",
    "- for in 语句将这个过程隐式化。"
   ]
  },
  {
   "cell_type": "code",
   "execution_count": 2,
   "metadata": {},
   "outputs": [
    {
     "name": "stdout",
     "output_type": "stream",
     "text": [
      "1234 is iterable? False False\n",
      "1234 is iterable? True True\n",
      "[1, 2, 3, 4] is iterable? True True\n",
      "{1, 2, 3, 4} is iterable? True True\n",
      "{1: 1, 2: 2, 3: 3, 4: 4} is iterable? True True\n",
      "(1, 2, 3, 4) is iterable? True True\n"
     ]
    }
   ],
   "source": [
    "from collections.abc import Iterable\n",
    "\n",
    "\n",
    "# 判断一个对象是否可迭代\n",
    "def is_iterable(param):\n",
    "    try:\n",
    "        iter(param)\n",
    "        return True\n",
    "    except TypeError:\n",
    "        return False\n",
    "# 或者\n",
    "\n",
    "\n",
    "def isNot_iterable(param):\n",
    "    return isinstance(param, Iterable)\n",
    "\n",
    "\n",
    "parms = [1234, '1234', [1, 2, 3, 4], set(\n",
    "    [1, 2, 3, 4]), {1: 1, 2: 2, 3: 3, 4: 4}, (1, 2, 3, 4)]\n",
    "\n",
    "for param in parms:\n",
    "    print('{} is iterable? {} {}'.format(\n",
    "        param, is_iterable(param), isNot_iterable(param)))\n"
   ]
  },
  {
   "cell_type": "markdown",
   "metadata": {},
   "source": [
    "-<br>\n",
    "- 生成器<br>\n",
    "懒人版本的迭代器\n"
   ]
  },
  {
   "cell_type": "code",
   "execution_count": 4,
   "metadata": {},
   "outputs": [
    {
     "name": "stdout",
     "output_type": "stream",
     "text": [
      "initing iterator memory used: 13.78515625 MB\n",
      "after iterator initiated memory used: 3885.16015625 MB\n",
      "4999999950000000\n",
      "after sum called memory used: 3885.16015625 MB\n",
      "CPU times: total: 11.5 s\n",
      "Wall time: 11.9 s\n",
      "initing generator memory used: 14.23046875 MB\n",
      "after generator initiated memory used: 14.23046875 MB\n",
      "4999999950000000\n",
      "after sum called memory used: 14.23828125 MB\n",
      "CPU times: total: 8.44 s\n",
      "Wall time: 8.61 s\n"
     ]
    }
   ],
   "source": [
    "# 在迭代器中，如果我们想要枚举它的元素，这些元素要事先生成。举例如下：\n",
    "import os\n",
    "import psutil\n",
    "\n",
    "# 显示当前python程序占用的内存大小\n",
    "def show_memory_info(hint):\n",
    "    pid = os.getpid()\n",
    "    p=psutil.Process(pid)\n",
    "\n",
    "    info = p.memory_full_info()\n",
    "    memory=info.uss/1024./1024\n",
    "    print('{} memory used: {} MB'.format(hint,memory))\n",
    "\n",
    "def test_iterator():\n",
    "    show_memory_info('initing iterator')\n",
    "    list_1=[i for i in range(100000000)]\n",
    "    show_memory_info('after iterator initiated')\n",
    "    print(sum(list_1))\n",
    "    show_memory_info('after sum called')\n",
    "\n",
    "\n",
    "def test_generator():\n",
    "    show_memory_info('initing generator')\n",
    "    list_2=(i for i in range(100000000))\n",
    "    show_memory_info('after generator initiated')\n",
    "    print(sum(list_2))\n",
    "    show_memory_info('after sum called')\n",
    "\n",
    "%time test_iterator()\n",
    "%time test_generator()"
   ]
  },
  {
   "cell_type": "markdown",
   "metadata": {},
   "source": [
    "迭代器，生成的元素都会保存到内存中，占用巨量的内存，内存不够可能会出现OOM错误。<br>\n",
    "有时候，我们并不需要在内存中保存这么多东西，比如对元素和，我们只知道每个元素在相加的那一刻是多少就行了，用完就可以扔掉了。<br>\n",
    "于是，生成器的概念应运而生，在调用next()函数的时候，才会生成下一个变量。\n"
   ]
  },
  {
   "cell_type": "markdown",
   "metadata": {},
   "source": [
    "生成器，还能玩出什么花样？"
   ]
  }
 ],
 "metadata": {
  "kernelspec": {
   "display_name": "Python 3.8.13 ('study')",
   "language": "python",
   "name": "python3"
  },
  "language_info": {
   "codemirror_mode": {
    "name": "ipython",
    "version": 3
   },
   "file_extension": ".py",
   "mimetype": "text/x-python",
   "name": "python",
   "nbconvert_exporter": "python",
   "pygments_lexer": "ipython3",
   "version": "3.8.13"
  },
  "orig_nbformat": 4,
  "vscode": {
   "interpreter": {
    "hash": "46cb6235441a8b74df724a68ed242e7b6759bfc907d92e7c8b163c38b1b4592e"
   }
  }
 },
 "nbformat": 4,
 "nbformat_minor": 2
}
