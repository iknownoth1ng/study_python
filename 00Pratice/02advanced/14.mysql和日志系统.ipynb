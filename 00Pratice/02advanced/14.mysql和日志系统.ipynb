{
 "cells": [
  {
   "attachments": {},
   "cell_type": "markdown",
   "metadata": {},
   "source": [
    "# DEEPIN安装mariadb\n",
    "1. sudo apt install mariadb-server mariadb-client\n",
    "2. mysql -u root -p \n",
    "3. show databases;\n",
    "\n",
    "# 安装python连接mysql的驱动\n",
    "pip install mysqlclient"
   ]
  },
  {
   "cell_type": "code",
   "execution_count": 1,
   "metadata": {},
   "outputs": [],
   "source": [
    "import MySQLdb\n",
    "\n",
    "\n",
    "def test_pymysql():\n",
    "    conn = MySQLdb.connect(\n",
    "        host=\"myos\",\n",
    "        port=3306,\n",
    "        user=\"editest\",\n",
    "        passwd=\"test1234\",\n",
    "        db=\"editestdb\",\n",
    "    )\n",
    "\n",
    "    cur = conn.cursor()\n",
    "    cur.execute(\n",
    "        \"\"\"\n",
    "            CREATE TABLE price (\n",
    "                timestamp TIMESTAMP NOT NULL,\n",
    "                BTCUSD FLOAT(8,2),\n",
    "                PRIMARY KEY (timestamp)\n",
    "            );\n",
    "        \"\"\"\n",
    "    )\n",
    "    cur.execute(\n",
    "        \"\"\"\n",
    "            INSERT INTO price VALUES(\n",
    "                \"2019-07-14 14:12:17\",\n",
    "                11234.56\n",
    "            );\n",
    "        \"\"\"\n",
    "    )\n",
    "\n",
    "    conn.commit()\n",
    "    conn.close()\n",
    "\n",
    "\n",
    "test_pymysql()"
   ]
  }
 ],
 "metadata": {
  "kernelspec": {
   "display_name": "study",
   "language": "python",
   "name": "python3"
  },
  "language_info": {
   "codemirror_mode": {
    "name": "ipython",
    "version": 3
   },
   "file_extension": ".py",
   "mimetype": "text/x-python",
   "name": "python",
   "nbconvert_exporter": "python",
   "pygments_lexer": "ipython3",
   "version": "3.9.15"
  },
  "orig_nbformat": 4,
  "vscode": {
   "interpreter": {
    "hash": "49fdd20b2b68a4dd8ebcbb061b9c04f8e52f6472af90d6159269a7c8abf5d944"
   }
  }
 },
 "nbformat": 4,
 "nbformat_minor": 2
}
