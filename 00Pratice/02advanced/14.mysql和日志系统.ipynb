{
 "cells": [
  {
   "cell_type": "markdown",
   "metadata": {},
   "source": [
    "**Table of contents**<a id='toc0_'></a>    \n",
    "1. [DEEPIN安装mariadb](#toc1_)    \n",
    "2. [安装python连接mysql的驱动](#toc2_)    \n",
    "3. [peewee](#toc3_)    \n",
    "\n",
    "<!-- vscode-jupyter-toc-config\n",
    "\tnumbering=true\n",
    "\tanchor=true\n",
    "\tflat=true\n",
    "\tminLevel=1\n",
    "\tmaxLevel=6\n",
    "\t/vscode-jupyter-toc-config -->\n",
    "<!-- THIS CELL WILL BE REPLACED ON TOC UPDATE. DO NOT WRITE YOUR TEXT IN THIS CELL -->"
   ]
  },
  {
   "attachments": {},
   "cell_type": "markdown",
   "metadata": {},
   "source": [
    "# 1. <a id='toc1_'></a>[DEEPIN安装mariadb](#toc0_)\n",
    "1. sudo apt install mariadb-server mariadb-client\n",
    "2. mysql_secure_installation\n",
    "3. mysql -u root -p \n",
    "4. show databases;\n",
    "\n",
    "其他操作：\n",
    "\n",
    "重启数据库：</br>\n",
    "service mysql restart\n",
    "查看数据库状态：</br>\n",
    "systemctl status mariadb\n",
    "\n",
    "create user 'setest'@'localhost' identified by 'test1234';\n",
    "\n",
    "create user 'setest'@'%' identified by 'test1234';\n",
    "\n",
    "grant all privileges on `se_db`.* to 'setest'@'localhost' identified by 'test1234' with grant option;\n",
    "\n",
    "grant all privileges on `se_db`.* to 'setest'@'%' identified by 'test1234' with grant option;\n",
    "\n",
    "grant all privileges on *.* to 'root'@'%' identified by 'test1234' with grant option;\n",
    "\n",
    "flush privileges;\n",
    "\n",
    "# 2. <a id='toc2_'></a>[安装python连接mysql的驱动](#toc0_)\n",
    "pip install mysqlclient"
   ]
  },
  {
   "cell_type": "code",
   "execution_count": 6,
   "metadata": {},
   "outputs": [
    {
     "name": "stdout",
     "output_type": "stream",
     "text": [
      "Overwriting ./00Pratice/02advanced/test.py\n"
     ]
    }
   ],
   "source": [
    "%%writefile ./00Pratice/02advanced/test.py\n",
    "import MySQLdb\n",
    "\n",
    "\n",
    "def test_pymysql():\n",
    "    conn = MySQLdb.connect(\n",
    "        host=\"myos\",\n",
    "        port=3306,\n",
    "        user=\"editest\",\n",
    "        passwd=\"test1234\",\n",
    "        db=\"editestdb\",\n",
    "    )\n",
    "\n",
    "    cur = conn.cursor()\n",
    "    cur.execute(\n",
    "        \"\"\"\n",
    "            CREATE TABLE price (\n",
    "                timestamp TIMESTAMP NOT NULL,\n",
    "                BTCUSD FLOAT(8,2),\n",
    "                PRIMARY KEY (timestamp)\n",
    "            );\n",
    "        \"\"\"\n",
    "    )\n",
    "    cur.execute(\n",
    "        \"\"\"\n",
    "            INSERT INTO price VALUES(\n",
    "                \"2019-07-14 14:12:17\",\n",
    "                11234.56\n",
    "            );\n",
    "        \"\"\"\n",
    "    )\n",
    "\n",
    "    conn.commit()\n",
    "    conn.close()\n",
    "\n",
    "\n",
    "test_pymysql()"
   ]
  },
  {
   "cell_type": "markdown",
   "metadata": {},
   "source": [
    "# 3. <a id='toc3_'></a>[peewee](#toc0_)\n",
    "pip install peewee"
   ]
  },
  {
   "cell_type": "code",
   "execution_count": 7,
   "metadata": {},
   "outputs": [
    {
     "name": "stdout",
     "output_type": "stream",
     "text": [
      "Overwriting ./00Pratice/02advanced/test.py\n"
     ]
    }
   ],
   "source": [
    "%%writefile ./00Pratice/02advanced/test.py\n",
    "import datetime\n",
    "\n",
    "import peewee\n",
    "from peewee import *\n",
    "\n",
    "db = MySQLDatabase(\"editestdb\", host=\"myos\", user=\"editest\", passwd=\"test1234\")\n",
    "db.connect()\n",
    "\n",
    "\n",
    "class Price(peewee.Model):\n",
    "    timestamp = peewee.DateField(default=datetime.date.today)\n",
    "    BTCUSD = peewee.FloatField()\n",
    "\n",
    "    class Meta:\n",
    "        database = db\n",
    "\n",
    "\n",
    "def test_peewee():\n",
    "    Price.create_table()\n",
    "    price = Price(BTCUSD=\"11234.56\")\n",
    "    price.save()\n",
    "\n",
    "\n",
    "if __name__ == \"__main__\":\n",
    "    Price.drop_table()\n",
    "    test_peewee()\n"
   ]
  }
 ],
 "metadata": {
  "kernelspec": {
   "display_name": "study",
   "language": "python",
   "name": "python3"
  },
  "language_info": {
   "codemirror_mode": {
    "name": "ipython",
    "version": 3
   },
   "file_extension": ".py",
   "mimetype": "text/x-python",
   "name": "python",
   "nbconvert_exporter": "python",
   "pygments_lexer": "ipython3",
   "version": "3.9.15 (main, Nov  4 2022, 16:35:55) [MSC v.1916 64 bit (AMD64)]"
  },
  "orig_nbformat": 4,
  "vscode": {
   "interpreter": {
    "hash": "49fdd20b2b68a4dd8ebcbb061b9c04f8e52f6472af90d6159269a7c8abf5d944"
   }
  }
 },
 "nbformat": 4,
 "nbformat_minor": 2
}
