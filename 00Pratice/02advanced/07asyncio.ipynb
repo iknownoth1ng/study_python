{
 "cells": [
  {
   "cell_type": "markdown",
   "metadata": {},
   "source": [
    "# 协程&Asyncio&异步编程\n",
    "---\n",
    "为什么要讲？\n",
    "- 越来越多的学生来问async异步相关问题，并且这一部分的知识点不太容易学习（异步非阻塞、asyncio）。\n",
    "- 异步相关话题和框架越来越多，例如：tornado、fastapi、django 3.xasgi、aiohttp都在异步->提升性能。\n",
    "\n",
    "如何讲解？\n",
    "- 第一部分：协程。\n",
    "- 第二部分：asyncio模块进行异步编程。\n",
    "- 第三部分：实战案例。\n",
    "\n",
    "## 协程\n",
    "---\n",
    "协程不是计算机提供，程序员人为创造。\n",
    "\n",
    "协程（Coroutine），也可以称为微线程，是一种用户态内的上下文切换技术。</br>\n",
    "简而言之，其实就是通过一个线程实现代码块相互切换执行。例如："
   ]
  },
  {
   "cell_type": "code",
   "execution_count": 3,
   "metadata": {},
   "outputs": [
    {
     "name": "stdout",
     "output_type": "stream",
     "text": [
      "1\n",
      "2\n",
      "3\n",
      "4\n"
     ]
    }
   ],
   "source": [
    "def func1():\n",
    "    print(1)\n",
    "    ...\n",
    "    print(2)\n",
    "\n",
    "\n",
    "def func2():\n",
    "    print(3)\n",
    "    ...\n",
    "    print(4)\n",
    "\n",
    "\n",
    "func1()\n",
    "func2()\n"
   ]
  },
  {
   "cell_type": "markdown",
   "metadata": {},
   "source": [
    "实现协程有这么几种方法：\n",
    "- greenlet,早期模块。\n",
    "- yield关键字\n",
    "- asyncio装饰器（py3.4）\n",
    "- async、await关键字（py3.5）[推荐]\n",
    "\n",
    "### greenlet实现协程\n"
   ]
  },
  {
   "cell_type": "code",
   "execution_count": 2,
   "metadata": {},
   "outputs": [
    {
     "name": "stdout",
     "output_type": "stream",
     "text": [
      "1\n",
      "3\n",
      "2\n",
      "4\n"
     ]
    }
   ],
   "source": [
    "from greenlet import greenlet\n",
    "\n",
    "\n",
    "def func1():\n",
    "    print(1)  # * 第2步：输出1\n",
    "    g2.switch()  # * 第3步：切换到func2\n",
    "    print(2)  # * 第6步：输出2\n",
    "    g2.switch()  # * 第7步：切换到func2\n",
    "\n",
    "\n",
    "def func2():\n",
    "    print(3)  # * 第4步：输出3\n",
    "    g1.switch()  # * 第5步：切换到func1\n",
    "    print(4)  # * 第8步：输出4\n",
    "\n",
    "\n",
    "g1 = greenlet(func1)\n",
    "g2 = greenlet(func2)\n",
    "\n",
    "g1.switch()  # * 第1步，去执行func1函数\n"
   ]
  },
  {
   "cell_type": "markdown",
   "metadata": {},
   "source": [
    "### 通过yield关键字实现协程"
   ]
  },
  {
   "cell_type": "code",
   "execution_count": 5,
   "metadata": {},
   "outputs": [
    {
     "name": "stdout",
     "output_type": "stream",
     "text": [
      "1\n",
      "3\n",
      "4\n",
      "2\n"
     ]
    }
   ],
   "source": [
    "def func1():\n",
    "    yield 1\n",
    "    yield from func2()\n",
    "    yield 2\n",
    "\n",
    "\n",
    "def func2():\n",
    "    yield 3\n",
    "    yield 4\n",
    "\n",
    "\n",
    "f1 = func1()\n",
    "for item in f1:\n",
    "    print(item)\n"
   ]
  },
  {
   "cell_type": "markdown",
   "metadata": {},
   "source": [
    "### asyncio实现协程\n",
    "在python3.4及之后的版本"
   ]
  },
  {
   "cell_type": "code",
   "execution_count": 7,
   "metadata": {},
   "outputs": [
    {
     "name": "stdout",
     "output_type": "stream",
     "text": [
      "Writing test_asyncio.py\n"
     ]
    }
   ],
   "source": [
    "%%writefile test_asyncio.py\n",
    "import asyncio\n",
    "\n",
    "@asyncio.coroutine\n",
    "def func1():\n",
    "    print(1)\n",
    "    # 网络IO请求：下载一张图片\n",
    "    yield from asyncio.sleep(2) #* 遇到IO耗时操作，自动切换到tasks中的其他任务\n",
    "    print(2)\n",
    "\n",
    "@asyncio.coroutine\n",
    "def func2():\n",
    "    print(3)\n",
    "    # 网络IO请求：下载一张图片\n",
    "    yield from asyncio.sleep(2) #* 遇到IO耗时操作，自动切换到tasks中的其他任务\n",
    "    print(4)\n",
    "    \n",
    "tasks=[asyncio.ensure_future(func1()),asyncio.ensure_future(func2())]\n",
    "\n",
    "loop=asyncio.get_event_loop()\n",
    "loop.run_until_complete(asyncio.wait(tasks))"
   ]
  },
  {
   "cell_type": "markdown",
   "metadata": {},
   "source": [
    "### async & await关键字实现协程\n",
    "用asyncio提供的@asyncio.coroutine可以把一个generator标记为coroutine类型，然后在coroutine内部用yield from调用另一个coroutine实现异步操作。\n",
    "\n",
    "为了简化并更好地标识异步IO，从Python 3.5开始引入了新的语法async和await，可以让coroutine的代码更简洁易读。\n",
    "\n",
    "请注意，async和await是针对coroutine的新语法，要使用新的语法，只需要做两步简单的替换：\n",
    "1. 把@asyncio.coroutine替换为async；\n",
    "2. 把yield from替换为await；"
   ]
  },
  {
   "cell_type": "code",
   "execution_count": 8,
   "metadata": {},
   "outputs": [
    {
     "name": "stdout",
     "output_type": "stream",
     "text": [
      "Overwriting test_asyncio.py\n"
     ]
    }
   ],
   "source": [
    "%%writefile test_asyncio.py\n",
    "import asyncio\n",
    "\n",
    "async def func1():\n",
    "    print(1)\n",
    "    # 网络IO请求：下载一张图片\n",
    "    await asyncio.sleep(2) #* 遇到IO耗时操作，自动切换到tasks中的其他任务\n",
    "    print(2)\n",
    "\n",
    "async def func2():\n",
    "    print(3)\n",
    "    # 网络IO请求：下载一张图片\n",
    "    await asyncio.sleep(2) #* 遇到IO耗时操作，自动切换到tasks中的其他任务\n",
    "    print(4)\n",
    "    \n",
    "tasks=[asyncio.ensure_future(func1()),asyncio.ensure_future(func2())]\n",
    "\n",
    "loop=asyncio.get_event_loop()\n",
    "loop.run_until_complete(asyncio.wait(tasks))"
   ]
  },
  {
   "cell_type": "markdown",
   "metadata": {},
   "source": [
    "## 协程意义\n",
    "---\n",
    "在一个线程中如果遇到IO等待时间，线程不会傻傻等，利用空闲的时候再去干点其他事。\n",
    "\n",
    "案例：去下载三张图片（网络IO）\n",
    "- 普通方式（同步）"
   ]
  },
  {
   "cell_type": "code",
   "execution_count": 14,
   "metadata": {},
   "outputs": [
    {
     "name": "stdout",
     "output_type": "stream",
     "text": [
      "Writing test.py\n"
     ]
    }
   ],
   "source": [
    "import requests\n",
    "\n",
    "\n",
    "def download_image(url):\n",
    "    print(\"开始下载\", url)\n",
    "    # 发送网络请求，下载图片\n",
    "    response = requests.get(url)\n",
    "    print(\"下载完成\")\n",
    "    # 图片保存到本地文件\n",
    "    file_name = url.split(\"_\")[-1]\n",
    "    with open(file_name, \"wb\") as f:\n",
    "        f.write(response.content)\n",
    "\n",
    "\n",
    "if __name__ == \"__main__\":\n",
    "    url_list = [\n",
    "        \"https://car2.autoimg.cn/cardfs/product/g30/M0B/07/4E/1400x0_1_q95_autohomecar__ChxknGNsfhSALeWKAAbD352xoh0016.jpg\",\n",
    "        \"https://car3.autoimg.cn/cardfs/product/g30/M01/5A/C8/1400x0_1_q95_autohomecar__ChsFJ2NsfhWAYM11AAbaasHf4YU139.jpg\",\n",
    "        \"https://car3.autoimg.cn/cardfs/product/g30/M01/07/4E/1400x0_1_q95_autohomecar__ChxknGNsfhSAQIchAAaXwNPGCb4158.jpg\",\n",
    "    ]\n",
    "\n",
    "    for item in url_list:\n",
    "        download_image(item)"
   ]
  },
  {
   "attachments": {},
   "cell_type": "markdown",
   "metadata": {},
   "source": [
    "- 协程方式(异步)"
   ]
  },
  {
   "cell_type": "code",
   "execution_count": 1,
   "metadata": {},
   "outputs": [
    {
     "name": "stdout",
     "output_type": "stream",
     "text": [
      "Overwriting test_coroutine.py\n"
     ]
    }
   ],
   "source": [
    "%%writefile test_coroutine.py\n",
    "import aiohttp\n",
    "import asyncio\n",
    "\n",
    "\n",
    "async def fetch(session, url):\n",
    "    print(\"发送请求\", url)\n",
    "    async with session.get(url, verify_ssl=False) as resp:\n",
    "        content = await resp.content.read()\n",
    "        file_name = url.split(\"_\")[-1]\n",
    "        # 图片保存到本地文件\n",
    "        print(\"下载完成\")\n",
    "        with open(file_name, \"wb\") as f:\n",
    "            f.write(content)\n",
    "\n",
    "\n",
    "async def main():\n",
    "    async with aiohttp.ClientSession() as session:\n",
    "        url_list = [\n",
    "            \"https://car2.autoimg.cn/cardfs/product/g30/M0B/07/4E/1400x0_1_q95_autohomecar__ChxknGNsfhSALeWKAAbD352xoh0016.jpg\",\n",
    "            \"https://car3.autoimg.cn/cardfs/product/g30/M01/5A/C8/1400x0_1_q95_autohomecar__ChsFJ2NsfhWAYM11AAbaasHf4YU139.jpg\",\n",
    "            \"https://car3.autoimg.cn/cardfs/product/g30/M01/07/4E/1400x0_1_q95_autohomecar__ChxknGNsfhSAQIchAAaXwNPGCb4158.jpg\",\n",
    "        ]\n",
    "\n",
    "        tasks = [asyncio.create_task(fetch(session, url)) for url in url_list]\n",
    "        await asyncio.wait(tasks)\n",
    "\n",
    "\n",
    "if __name__ == \"__main__\":\n",
    "    # asyncio.run(main())\n",
    "    loop=asyncio.get_event_loop()\n",
    "    loop.run_until_complete(main())"
   ]
  },
  {
   "cell_type": "markdown",
   "metadata": {},
   "source": [
    "## 异步编程\n",
    "---\n",
    "### 事件循环\n",
    "理解成为一个死循环，去检测并执行某些代码。\n",
    "\n",
    "- 伪代码\n",
    "\n",
    "        任务列表 = [ 任务1, 任务2, 任务3, ]\n",
    "        while True:\n",
    "\n",
    "            可执行的任务列表，已完成的任务列表 = 去任务列表中检查所有的任务，将“可执行”和“已完成”的任务返回\n",
    "\n",
    "            for 就绪任务 in 已准备就绪的任务列表:\n",
    "                执行已就绪的任务\n",
    "\n",
    "            for 已完成的任务 in 已完成的任务列表:\n",
    "                在任务列表中移除 已完成的任务\n",
    "\n",
    "            如果 任务列表 中的任务都已经完成，则终止循环"
   ]
  },
  {
   "cell_type": "code",
   "execution_count": null,
   "metadata": {},
   "outputs": [],
   "source": [
    "import asyncio\n",
    "\n",
    "# * 去生成或获取一个事件循环\n",
    "loop = asyncio.get_event_loop()\n",
    "\n",
    "# * 将任务放到‘任务列表’\n",
    "# * loop.run_until_complete(任务)"
   ]
  },
  {
   "cell_type": "markdown",
   "metadata": {},
   "source": [
    "### 快速上手\n",
    "协程函数(coroutine function)： 定义函数时候 async def 函数名。\n",
    "\n",
    "协程对象(coroutine object)：执行协程函数() 得到的协程对象。"
   ]
  },
  {
   "cell_type": "code",
   "execution_count": null,
   "metadata": {},
   "outputs": [],
   "source": [
    "import asyncio\n",
    "\n",
    "\n",
    "async def func():\n",
    "    pass\n",
    "\n",
    "\n",
    "result = func()"
   ]
  },
  {
   "attachments": {},
   "cell_type": "markdown",
   "metadata": {},
   "source": [
    "***注意：执行协程函数创建协程对象，函数内部代码不会执行***\n",
    "\n",
    "如果想要运行协程函数内部代码，必须要将协程对象交给事件循环来处理。"
   ]
  },
  {
   "cell_type": "code",
   "execution_count": 6,
   "metadata": {},
   "outputs": [
    {
     "name": "stdout",
     "output_type": "stream",
     "text": [
      "来执行我吧\n"
     ]
    }
   ],
   "source": [
    "# %%writefile test_coroutine.py\n",
    "import asyncio\n",
    "\n",
    "\n",
    "async def func():\n",
    "    print(\"来执行我吧\")\n",
    "\n",
    "\n",
    "result = func()\n",
    "\n",
    "# loop=asyncio.get_event_loop()\n",
    "# loop.run_until_complete(result)\n",
    "\n",
    "# asyncio.run(result) # python 3.7 之后的用法\n",
    "await result  # jupyter 用法"
   ]
  },
  {
   "cell_type": "markdown",
   "metadata": {},
   "source": [
    "### await\n",
    "await + 可等待对象（协程对象、Future、Task对象 -> IO等待）\n",
    "\n",
    "示例1："
   ]
  },
  {
   "cell_type": "code",
   "execution_count": 8,
   "metadata": {},
   "outputs": [
    {
     "name": "stdout",
     "output_type": "stream",
     "text": [
      "来呀\n",
      "结束 None\n"
     ]
    }
   ],
   "source": [
    "import asyncio\n",
    "\n",
    "\n",
    "async def func():\n",
    "    print(\"来呀\")\n",
    "    response = await asyncio.sleep(2)\n",
    "    print(\"结束\", response)\n",
    "\n",
    "\n",
    "# asyncio.run(func())\n",
    "await func()"
   ]
  },
  {
   "attachments": {},
   "cell_type": "markdown",
   "metadata": {},
   "source": [
    "示例2："
   ]
  },
  {
   "cell_type": "code",
   "execution_count": 9,
   "metadata": {},
   "outputs": [
    {
     "name": "stdout",
     "output_type": "stream",
     "text": [
      "执行协程函数内部代码\n",
      "start\n",
      "end\n",
      "IO请求结束，结果为： 返回值\n"
     ]
    }
   ],
   "source": [
    "import asyncio\n",
    "\n",
    "\n",
    "async def others():\n",
    "    print(\"start\")\n",
    "    await asyncio.sleep(2)\n",
    "    print(\"end\")\n",
    "    return \"返回值\"\n",
    "\n",
    "\n",
    "async def func():\n",
    "    print(\"执行协程函数内部代码\")\n",
    "\n",
    "    # * 遇到IO操作挂起当前协程（任务），等IO操作完成之后再继续往下执行。当前协程挂起时，事件循环可以去执行其他协程（任务）。\n",
    "    response = await others()\n",
    "\n",
    "    print(\"IO请求结束，结果为：\", response)\n",
    "\n",
    "\n",
    "# asyncio.run(func())\n",
    "\n",
    "await func()"
   ]
  },
  {
   "attachments": {},
   "cell_type": "markdown",
   "metadata": {},
   "source": [
    "示例3："
   ]
  },
  {
   "cell_type": "code",
   "execution_count": 10,
   "metadata": {},
   "outputs": [
    {
     "name": "stdout",
     "output_type": "stream",
     "text": [
      "执行协程函数内部代码\n",
      "start\n",
      "end\n",
      "IO请求结束，结果为： 返回值\n",
      "start\n",
      "end\n",
      "IO请求结束，结果为： 返回值\n"
     ]
    }
   ],
   "source": [
    "import asyncio\n",
    "\n",
    "\n",
    "async def others():\n",
    "    print(\"start\")\n",
    "    await asyncio.sleep(2)\n",
    "    print(\"end\")\n",
    "    return \"返回值\"\n",
    "\n",
    "\n",
    "async def func():\n",
    "    print(\"执行协程函数内部代码\")\n",
    "\n",
    "    # * 遇到IO操作挂起当前协程（任务），等IO操作完成之后再继续往下执行。当前协程挂起时，事件循环可以去执行其他协程（任务）。\n",
    "    response1 = await others()\n",
    "    print(\"IO请求结束，结果为：\", response1)\n",
    "\n",
    "    response2 = await others()\n",
    "    print(\"IO请求结束，结果为：\", response2)\n",
    "\n",
    "\n",
    "# asyncio.run(func())\n",
    "\n",
    "await func()"
   ]
  },
  {
   "cell_type": "markdown",
   "metadata": {},
   "source": [
    "await就是等待对象的值得到结果之后再继续向下走\n",
    "\n",
    "### Task对象\n",
    "\n",
    ">任务 被用来“并行的”调度协程</br>\n",
    ">当一个协程通过 asyncio.create_task() 等函数被封装为一个 任务，该协程会被自动调度执行:\n",
    "\n",
    "白话：在事件循环中添加多个任务的\n",
    "\n",
    "Tasks用于并发调度协程，通过使用高层级的 asyncio.create_task(协程对象) 函数来创建 Task 对象，这样可以让协程加入事件循环中等待被调度执行。</br>\n",
    "也可用低层级的 loop.create_task() 或 ensure_future() 函数。不建议手动实例化 Task 对象。\n",
    "\n",
    "***注意：asyncio.create_task()函数是在Python3.7中被加入。在Python3.7之前，可以改用低层级的asyncio.ensure_future()函数。***\n",
    "\n",
    "示例1："
   ]
  },
  {
   "cell_type": "code",
   "execution_count": 13,
   "metadata": {},
   "outputs": [
    {
     "name": "stdout",
     "output_type": "stream",
     "text": [
      "main 开始\n",
      "main结束\n",
      "1\n",
      "1\n",
      "2\n",
      "2\n",
      "获取到ret1\n",
      "获取到ret2\n",
      "返回值 返回值\n"
     ]
    }
   ],
   "source": [
    "import asyncio\n",
    "\n",
    "\n",
    "async def func():\n",
    "    print(1)\n",
    "    await asyncio.sleep(2)\n",
    "    print(2)\n",
    "    return \"返回值\"\n",
    "\n",
    "\n",
    "async def main():\n",
    "    print(\"main 开始\")\n",
    "\n",
    "    # * 创建Task对象，将当前执行func函数任务添加到事件循环\n",
    "    task1 = asyncio.create_task(func())\n",
    "\n",
    "    # * 创建Task对象，将当前执行func函数任务添加到事件循环\n",
    "    task2 = asyncio.create_task(func())\n",
    "\n",
    "    print(\"main结束\")\n",
    "\n",
    "    # * 当执行某协程遇到IO操作时，会自动化切换执行其他任务。\n",
    "    # * 此处的await是等待相对应的协程全都执行完毕并获取结果。\n",
    "    ret1 = await task1\n",
    "    print(\"获取到ret1\")\n",
    "    ret2 = await task2\n",
    "    print(\"获取到ret2\")\n",
    "    print(ret1, ret2)\n",
    "\n",
    "\n",
    "await main()\n",
    "# asyncio.run(main())"
   ]
  },
  {
   "attachments": {},
   "cell_type": "markdown",
   "metadata": {},
   "source": [
    "示例2："
   ]
  },
  {
   "cell_type": "code",
   "execution_count": 15,
   "metadata": {},
   "outputs": [
    {
     "name": "stdout",
     "output_type": "stream",
     "text": [
      "main 开始\n",
      "main结束\n",
      "1\n",
      "1\n",
      "2\n",
      "2\n",
      "{<Task finished name='n1' coro=<func() done, defined at C:\\Users\\15515\\AppData\\Local\\Temp\\ipykernel_8240\\692307068.py:3> result='返回值'>, <Task finished name='n2' coro=<func() done, defined at C:\\Users\\15515\\AppData\\Local\\Temp\\ipykernel_8240\\692307068.py:3> result='返回值'>}\n"
     ]
    }
   ],
   "source": [
    "import asyncio\n",
    "\n",
    "async def func():\n",
    "    print(1)\n",
    "    await asyncio.sleep(2)\n",
    "    print(2)\n",
    "    return \"返回值\"\n",
    "\n",
    "async def main():\n",
    "    print(\"main 开始\")\n",
    "\n",
    "    # * 创建Task对象，将当前执行func函数任务添加到事件循环\n",
    "    task_list = [asyncio.create_task(func(),name='n1'), asyncio.create_task(func(),name='n2')]\n",
    "\n",
    "    print(\"main结束\")\n",
    "\n",
    "    #* pending是还没有完成的，超时的任务。\n",
    "    done, pending = await asyncio.wait(task_list,timeout=None)\n",
    "    print(done)\n",
    "\n",
    "\n",
    "await main()\n",
    "# asyncio.run(main())"
   ]
  },
  {
   "attachments": {},
   "cell_type": "markdown",
   "metadata": {},
   "source": [
    "示例3："
   ]
  },
  {
   "cell_type": "code",
   "execution_count": 18,
   "metadata": {},
   "outputs": [
    {
     "name": "stdout",
     "output_type": "stream",
     "text": [
      "Overwriting test_coroutine.py\n"
     ]
    }
   ],
   "source": [
    "%%writefile test_coroutine.py\n",
    "import asyncio\n",
    "\n",
    "async def func():\n",
    "    print(1)\n",
    "    await asyncio.sleep(2)\n",
    "    print(2)\n",
    "    return \"返回值\"\n",
    "\n",
    "#! 会报错，因为没有创建事件循环。RuntimeError: no running event loop\n",
    "#! sys:1: RuntimeWarning: coroutine 'func' was never awaited\n",
    "# task_list = [asyncio.create_task(func(),name='n1'), asyncio.create_task(func(),name='n2')]\n",
    "\n",
    "task_list = [func(),func()]\n",
    "\n",
    "done, pending = asyncio.run(asyncio.wait(task_list))\n",
    "print(done)"
   ]
  },
  {
   "cell_type": "markdown",
   "metadata": {},
   "source": [
    "### asyncio的Future对象\n",
    "\n",
    ">Future 是一种特殊的 低层级 可等待对象，表示一个异步操作的 最终结果。</br>\n",
    ">当一个 Future 对象 被等待，这意味着协程将保持等待直到该 Future 对象在其他地方操作完毕。</br>\n",
    ">在 asyncio 中需要 Future 对象以便允许通过 async/await 使用基于回调的代码。</br>\n",
    ">通常情况下 没有必要 在应用层级的代码中创建 Future 对象。</br>\n",
    ">Future 对象有时会由库和某些 asyncio API 暴露给用户，用作可等待对象:</br>\n",
    "\n",
    "Task继承Future，Task对象内部await结果的处理基于Future对象来的。\n",
    "\n",
    "示例1："
   ]
  },
  {
   "cell_type": "code",
   "execution_count": 1,
   "metadata": {},
   "outputs": [],
   "source": [
    "import asyncio\n",
    "\n",
    "async def main():\n",
    "    # 获取当前事件循环\n",
    "    loop=asyncio.get_running_loop()\n",
    "\n",
    "    #* 创建一个任务（Future对象），这个任务什么都不干。\n",
    "    fut = loop.create_future()\n",
    "\n",
    "    #* 等待任务最终结果（Future对象），没有结果则会一直等下去。\n",
    "    await fut\n",
    "    \n",
    "await main()"
   ]
  },
  {
   "attachments": {},
   "cell_type": "markdown",
   "metadata": {},
   "source": [
    "示例2："
   ]
  },
  {
   "cell_type": "code",
   "execution_count": 1,
   "metadata": {},
   "outputs": [],
   "source": [
    "import asyncio\n",
    "\n",
    "async def set_after(fut):\n",
    "    await asyncio.sleep(2)\n",
    "    fut.set_result('666')\n",
    "\n",
    "async def main():\n",
    "    # 获取当前事件循环\n",
    "    loop=asyncio.get_running_loop()\n",
    "\n",
    "    #* 创建一个任务（Future对象），没绑定任何行为，则这个任务永远不知道什么时候结束。\n",
    "    fut = loop.create_future()\n",
    "    \n",
    "    #* 创建一个任务（Task对象），绑定了set_after()函数，这个函数2s后，会给fut赋值。\n",
    "    #* 即手动设置future任务的最终结果，那么fut就可以结束了。\n",
    "    await loop.create_task(set_after(fut))\n",
    "\n",
    "    await fut\n",
    "    \n",
    "await main()"
   ]
  },
  {
   "cell_type": "markdown",
   "metadata": {},
   "source": [
    "### concurrent.futures.Future对象\n",
    "使用线程池、进程池实现异步操作时用到的对象。"
   ]
  },
  {
   "cell_type": "code",
   "execution_count": 3,
   "metadata": {},
   "outputs": [
    {
     "name": "stdout",
     "output_type": "stream",
     "text": [
      "Writing test_future.py\n"
     ]
    }
   ],
   "source": [
    "%%writefile test_future.py\n",
    "import time\n",
    "from concurrent.futures import Future,ThreadPoolExecutor,ProcessPoolExecutor\n",
    "\n",
    "def func(value):\n",
    "    time.sleep(1)\n",
    "    print(value)\n",
    "\n",
    "# 创建线程池\n",
    "pool=ThreadPoolExecutor(max_workers=5)\n",
    "\n",
    "# 创建进程池\n",
    "# pool=ProcessPoolExecutor(max_workers=5)\n",
    "\n",
    "for i in range(10):\n",
    "    fut=pool.submit(func,i)\n",
    "    print(fut)\n",
    "    "
   ]
  },
  {
   "attachments": {},
   "cell_type": "markdown",
   "metadata": {},
   "source": [
    "以后写代码可能会存在交叉使用。例如：crm项目80%都是基于协程异步编程+MySQL(不支持)【线程、进程做异步编程】。"
   ]
  },
  {
   "cell_type": "code",
   "execution_count": 4,
   "metadata": {},
   "outputs": [
    {
     "name": "stdout",
     "output_type": "stream",
     "text": [
      "default thread pool SB\n"
     ]
    }
   ],
   "source": [
    "import time\n",
    "import asyncio\n",
    "import concurrent.futures\n",
    "def func1():\n",
    "    #某个耗时操作\n",
    "    time.sleep(2)\n",
    "    return \"SB\"\n",
    "\n",
    "async def main():\n",
    "    loop = asyncio.get_running_loop()\n",
    "    \n",
    "    # 1.Run in the default loop's executor(默认ThreadPoolExecutor)\n",
    "    # 第一步：内部会先调用ThreadPoolExecutor的submit方法去线程池中申请一个线程去执行func1函数，并返\n",
    "    # 回一个concurrent.futures.Future对象\n",
    "    # 第二步：调用asyncio.wrap_future将concurrent.futures.Future对象包装为asycio.Future对象。\n",
    "    # 因为concurrent.futures.Future对象不支持await语法，所以需要包装为asycio.Future对象才能使用。\n",
    "    fut = loop.run_in_executor(None,func1)\n",
    "    result = await fut\n",
    "    print('default thread pool',result)\n",
    "    \n",
    "    # 2.Run in a custom thread pool:\n",
    "    # with concurrent.futures.ThreadPoolExecutor()as pool:\n",
    "    #   result = await loop.run_in_executor(\n",
    "    #   pool,func1)\n",
    "    #   print('custom thread pool',result)\n",
    "    \n",
    "    # 3.Run in a custom process pool:\n",
    "    # with concurrent.futures.ProcessPoolExecutor()as pool:\n",
    "    #     result = await loop.run_in_executor(\n",
    "    #     pool,func1)\n",
    "    #     print('custom process pool',result)\n",
    "        \n",
    "# asyncio.run(main())\n",
    "await main()"
   ]
  },
  {
   "attachments": {},
   "cell_type": "markdown",
   "metadata": {},
   "source": [
    "案例：asyncio+不支持异步的模块"
   ]
  },
  {
   "cell_type": "code",
   "execution_count": 6,
   "metadata": {},
   "outputs": [
    {
     "name": "stdout",
     "output_type": "stream",
     "text": [
      "Overwriting test_coroutine.py\n"
     ]
    }
   ],
   "source": [
    "%%writefile test_coroutine.py\n",
    "import asyncio\n",
    "import requests\n",
    "\n",
    "\n",
    "async def download_image(ur1):\n",
    "    # 发送网络请求，下载图片（遇到网络下载图片的IO请求，自动化切换到其他任务）\n",
    "    print(\"开始下载：\", ur1)\n",
    "\n",
    "    loop = asyncio.get_running_loop()\n",
    "    # requests模块默认不支持异步操作，所以就使用线程池来配合实现了。\n",
    "    future = loop.run_in_executor(None, requests.get, ur1)\n",
    "\n",
    "    response = await future\n",
    "    print(\"下载完成\")\n",
    "    # 图片保存到本地文件\n",
    "    file_name = ur1.rsplit(\"_\")[-1]\n",
    "    with open(file_name, mode=\"wb\") as file_object:\n",
    "        file_object.write(response.content)\n",
    "\n",
    "\n",
    "if __name__ == \"__main__\":\n",
    "    url_list = [\n",
    "        \"https://car2.autoimg.cn/cardfs/product/g30/M0B/07/4E/1400x0_1_q95_autohomecar__ChxknGNsfhSALeWKAAbD352xoh0016.jpg\",\n",
    "        \"https://car3.autoimg.cn/cardfs/product/g30/M01/5A/C8/1400x0_1_q95_autohomecar__ChsFJ2NsfhWAYM11AAbaasHf4YU139.jpg\",\n",
    "        \"https://car3.autoimg.cn/cardfs/product/g30/M01/07/4E/1400x0_1_q95_autohomecar__ChxknGNsfhSAQIchAAaXwNPGCb4158.jpg\",\n",
    "    ]\n",
    "\n",
    "    tasks = [download_image(ur1) for ur1 in url_list]\n",
    "    \n",
    "    loop = asyncio.get_event_loop()\n",
    "    loop.run_until_complete(asyncio.wait(tasks))"
   ]
  },
  {
   "cell_type": "markdown",
   "metadata": {},
   "source": [
    "### 异步迭代器\n",
    "\n",
    "什么是异步迭代器？\n",
    "\n",
    "实现了__aiter__()和__anext__()方法的对象。__anext__必须返回一个awaitable对象。async for会\n",
    "处理异步迭代器的__anext__()方法所返回的可等待对象，直到其引发一个StopAsyncIteration异常。由\n",
    "PEP492引入。\n",
    "\n",
    "什么是异步可迭代对象？\n",
    "\n",
    "可在async for语句中被使用的对象。必须通过它的__aiter__()方法返回一个asynchronous iterator。由\n",
    "PEP492引入。"
   ]
  },
  {
   "cell_type": "code",
   "execution_count": 7,
   "metadata": {},
   "outputs": [
    {
     "name": "stdout",
     "output_type": "stream",
     "text": [
      "1\n",
      "2\n",
      "3\n",
      "4\n",
      "5\n",
      "6\n",
      "7\n",
      "8\n",
      "9\n",
      "10\n",
      "11\n",
      "12\n",
      "13\n",
      "14\n",
      "15\n",
      "16\n",
      "17\n",
      "18\n",
      "19\n",
      "20\n",
      "21\n",
      "22\n",
      "23\n",
      "24\n",
      "25\n",
      "26\n",
      "27\n",
      "28\n",
      "29\n",
      "30\n",
      "31\n",
      "32\n",
      "33\n",
      "34\n",
      "35\n",
      "36\n",
      "37\n",
      "38\n",
      "39\n",
      "40\n",
      "41\n",
      "42\n",
      "43\n",
      "44\n",
      "45\n",
      "46\n",
      "47\n",
      "48\n",
      "49\n",
      "50\n",
      "51\n",
      "52\n",
      "53\n",
      "54\n",
      "55\n",
      "56\n",
      "57\n",
      "58\n",
      "59\n",
      "60\n",
      "61\n",
      "62\n",
      "63\n",
      "64\n",
      "65\n",
      "66\n",
      "67\n",
      "68\n",
      "69\n",
      "70\n",
      "71\n",
      "72\n",
      "73\n",
      "74\n",
      "75\n",
      "76\n",
      "77\n",
      "78\n",
      "79\n",
      "80\n",
      "81\n",
      "82\n",
      "83\n",
      "84\n",
      "85\n",
      "86\n",
      "87\n",
      "88\n",
      "89\n",
      "90\n",
      "91\n",
      "92\n",
      "93\n",
      "94\n",
      "95\n",
      "96\n",
      "97\n",
      "98\n",
      "99\n"
     ]
    }
   ],
   "source": [
    "import asyncio\n",
    "\n",
    "class Reader(object):\n",
    "    \"\"\" 自定义异步送代器（同时也是异步可送代对象）\"\"\"\n",
    " \n",
    "    def __init__(self):\n",
    "        self.count = 0\n",
    "        \n",
    "    async def readline(self):\n",
    "        # awaitasyncio.sleep(1)\n",
    "        self.count += 1\n",
    "        return None if self.count ==100 else self.count\n",
    "    \n",
    "    def __aiter__(self):\n",
    "        return self\n",
    "        \n",
    "    async def __anext__(self):\n",
    "        val = await self.readline()\n",
    "        if val is None:\n",
    "            raise StopAsyncIteration\n",
    "        return val\n",
    "\n",
    "\n",
    "async def func():\n",
    "    obj= Reader()\n",
    "    async for item in obj:\n",
    "        print(item)\n",
    "        \n",
    "# asyncio.run(func())\n",
    "await func()"
   ]
  },
  {
   "cell_type": "markdown",
   "metadata": {},
   "source": [
    "### 异步上下文管理器\n",
    "此种对象通过定义__aenter__()和__aexit__()方法来对async with 语句中的环境进行控制。由PEP 492引入。"
   ]
  },
  {
   "cell_type": "code",
   "execution_count": null,
   "metadata": {},
   "outputs": [],
   "source": [
    "import asyncio\n",
    "\n",
    "class AsyncContextManager():\n",
    "    def __init__(self,conn):\n",
    "        self.conn=conn\n",
    "    \n",
    "    \n",
    "    async def do_something(self):\n",
    "        # 异步操作数据库\n",
    "        return 666\n",
    "    \n",
    "    \n",
    "    async def __aenter__(self):\n",
    "        # 异步连接数据库    \n",
    "        self.conn = await asyncio.sleep(1)\n",
    "        return self\n",
    "    \n",
    "    \n",
    "    async def __aexit__(self,exception_type,exception_value,exception_traceback):\n",
    "        # 异步关闭数据库连接\n",
    "        await asyncio.sleep(1)\n",
    "        \n",
    "\n",
    "async def main():\n",
    "    async with AsyncContextManager(\"mysql连接对象\") as f:\n",
    "        result = await f.do_something()\n",
    "        print(result)\n",
    "\n",
    "# asyncio.run(main())\n",
    "await main()"
   ]
  },
  {
   "attachments": {},
   "cell_type": "markdown",
   "metadata": {},
   "source": [
    "## uvloop\n",
    "是asyncio的事件循环替代方案，不支持windows系统。事件循环>默认asyncio的事件循环。"
   ]
  },
  {
   "cell_type": "code",
   "execution_count": null,
   "metadata": {},
   "outputs": [],
   "source": [
    "%%writefile test_uvloop.py\n",
    "import asyncio\n",
    "import uvloop\n",
    "asyncio.set_event_loop_policy(uvloop.EventLoopPolicy())\n",
    "\n",
    "# 编写asyncio的代码，与之前写的一致。\n",
    "\n",
    "#* 内部的事件循环自动会变为uvloop\n",
    "asyncio.run(...)"
   ]
  },
  {
   "attachments": {},
   "cell_type": "markdown",
   "metadata": {},
   "source": [
    "注意：一个asgi->uvicorn内部使用的就是uvloop\n",
    "\n",
    "## 实战案例\n",
    "\n",
    "### 异步操作redis\n"
   ]
  }
 ],
 "metadata": {
  "kernelspec": {
   "display_name": "Python 3.8.13 ('study')",
   "language": "python",
   "name": "python3"
  },
  "language_info": {
   "codemirror_mode": {
    "name": "ipython",
    "version": 3
   },
   "file_extension": ".py",
   "mimetype": "text/x-python",
   "name": "python",
   "nbconvert_exporter": "python",
   "pygments_lexer": "ipython3",
   "version": "3.9.15"
  },
  "orig_nbformat": 4,
  "vscode": {
   "interpreter": {
    "hash": "49fdd20b2b68a4dd8ebcbb061b9c04f8e52f6472af90d6159269a7c8abf5d944"
   }
  }
 },
 "nbformat": 4,
 "nbformat_minor": 2
}
