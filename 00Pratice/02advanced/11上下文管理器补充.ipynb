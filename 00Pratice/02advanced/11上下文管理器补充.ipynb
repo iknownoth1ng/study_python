{
 "cells": [
  {
   "attachments": {},
   "cell_type": "markdown",
   "metadata": {},
   "source": [
    "# 锁的上下文管理器"
   ]
  },
  {
   "cell_type": "code",
   "execution_count": null,
   "metadata": {},
   "outputs": [],
   "source": [
    "from threading import Lock\n",
    "\n",
    "# 普通写法\n",
    "lock = Lock()\n",
    "try:\n",
    "    lock.acquire()\n",
    "except Exception as e:\n",
    "    raise e\n",
    "finally:\n",
    "    lock.release()\n",
    "\n",
    "# 上下文管理写法\n",
    "with Lock() as lock:\n",
    "    pass"
   ]
  },
  {
   "attachments": {},
   "cell_type": "markdown",
   "metadata": {},
   "source": [
    "# 类的上下文管理器 （处理发生的异常）"
   ]
  },
  {
   "cell_type": "code",
   "execution_count": null,
   "metadata": {},
   "outputs": [],
   "source": [
    "# 基于类的上下文管理器\n",
    "class FileManager:\n",
    "    def __init__(self, filename, mode):\n",
    "        print(\"calling __init__ method\")\n",
    "        self.filename = filename\n",
    "        self.mode = mode\n",
    "        self.file = None\n",
    "\n",
    "    def __enter__(self):\n",
    "        print(\"calling __enter__ method\")\n",
    "        self.file = open(self.filename, self.mode)\n",
    "        return self.file\n",
    "\n",
    "    def __exit__(self, exc_type, exc_val, exc_tb):\n",
    "        print(\"calling __exit__ method\")\n",
    "        if self.file:\n",
    "            self.file.close()\n",
    "        if exc_type:  # * 异常会传入到__exit__()函数的参数里\n",
    "            print(f\"{exc_type},{exc_val},{exc_tb}\")\n",
    "        return True  # * 处理异常后必须要返回True，如果不加，仍会抛出异常\n",
    "\n",
    "\n",
    "with FileManager(\"test.txt\", \"w\") as f:\n",
    "    print(\"ready to write to file\")\n",
    "    f.write(\"hello world\")"
   ]
  },
  {
   "attachments": {},
   "cell_type": "markdown",
   "metadata": {},
   "source": [
    "# 上下文管理器（装饰器用法）"
   ]
  },
  {
   "cell_type": "code",
   "execution_count": null,
   "metadata": {},
   "outputs": [],
   "source": [
    "from contextlib import contextmanager\n",
    "\n",
    "\n",
    "@contextmanager\n",
    "def file_manager(filename, mode):\n",
    "    try:\n",
    "        f = open(filename, mode)\n",
    "        yield f\n",
    "    finally:\n",
    "        f.close()\n",
    "\n",
    "\n",
    "with file_manager(\"test.txt\", \"w\") as f:\n",
    "    f.write(\"hello world\")"
   ]
  }
 ],
 "metadata": {
  "kernelspec": {
   "display_name": "study",
   "language": "python",
   "name": "python3"
  },
  "language_info": {
   "name": "python",
   "version": "3.9.15 (main, Nov  4 2022, 16:35:55) [MSC v.1916 64 bit (AMD64)]"
  },
  "orig_nbformat": 4,
  "vscode": {
   "interpreter": {
    "hash": "49fdd20b2b68a4dd8ebcbb061b9c04f8e52f6472af90d6159269a7c8abf5d944"
   }
  }
 },
 "nbformat": 4,
 "nbformat_minor": 2
}
