{
 "cells": [
  {
   "cell_type": "markdown",
   "metadata": {},
   "source": [
    "property属性"
   ]
  },
  {
   "cell_type": "markdown",
   "metadata": {},
   "source": [
    "1.请问：假如说Game_zwdzjs类是另外一个开发人员设计的，而在对阳光数量加操作时，可能会出现不小心将+50写为了+500，这是不对的，因为每次都是加50才对，那么想想此时，我们应该怎样对sun_num这个属性进行防护呢？"
   ]
  },
  {
   "cell_type": "code",
   "execution_count": null,
   "metadata": {},
   "outputs": [],
   "source": [
    "class Game_zwdzjs():\n",
    "    \"\"\"\n",
    "    植物大战僵尸类\n",
    "    \"\"\"\n",
    "\n",
    "    def __init__(self):\n",
    "        self.sun_num = 0\n",
    "\n",
    "\n",
    "# 创建游戏对象\n",
    "game = Game_zwdzjs()\n",
    "\n",
    "# 点击一次阳光，数量+50\n",
    "game.sun_num += 50\n"
   ]
  },
  {
   "cell_type": "markdown",
   "metadata": {},
   "source": [
    "2.1理解property属性<br>\n",
    "property`属性，从功能方面来说的话，可以理解：\n",
    "\n",
    "虽然看上去调用的是普通属性，或者给属性赋值，但实际上是调用的指定的某个方法来获取数据或者设置数据\n",
    "\n",
    "我们把这种特殊的属性，称之为property属性"
   ]
  },
  {
   "cell_type": "markdown",
   "metadata": {},
   "source": [
    "2.2 使用方式demo"
   ]
  },
  {
   "cell_type": "code",
   "execution_count": 1,
   "metadata": {},
   "outputs": [
    {
     "name": "stdout",
     "output_type": "stream",
     "text": [
      "func被调用\n",
      "prop被调用\n"
     ]
    }
   ],
   "source": [
    "# ############### 定义 ###############\n",
    "class Foo:\n",
    "    def func(self):\n",
    "        print(\"func被调用\")\n",
    "\n",
    "    # 定义property属性\n",
    "    @property\n",
    "    def prop(self):\n",
    "        print(\"prop被调用\")\n",
    "\n",
    "\n",
    "# ############### 调用 ###############\n",
    "foo_obj = Foo()\n",
    "foo_obj.func()  # 调用实例方法\n",
    "foo_obj.prop  # 调用property属性，实际上会调用第8行的方法\n"
   ]
  },
  {
   "cell_type": "markdown",
   "metadata": {},
   "source": [
    "2.3案例"
   ]
  },
  {
   "cell_type": "code",
   "execution_count": 2,
   "metadata": {},
   "outputs": [
    {
     "name": "stdout",
     "output_type": "stream",
     "text": [
      "100\n"
     ]
    }
   ],
   "source": [
    "class Goods(object):\n",
    "    @property\n",
    "    def size(self):\n",
    "        return 100\n",
    "\n",
    "\n",
    "obj = Goods()\n",
    "ret = obj.size\n",
    "print(ret)\n"
   ]
  },
  {
   "cell_type": "markdown",
   "metadata": {},
   "source": [
    "2.4 使用注意<br>\n",
    "- 定义时，在实例方法的基础上添加 @property 装饰器；并且仅有一个self参数<br>\n",
    "- 调用时，无需括号<br>\n",
    "***\n",
    "<code>\n",
    "普通方法的调用方式<br>\n",
    "对象名.方法名()<br>\n",
    "property属性调用的方式<br>\n",
    "对象名.property属性名<br>\n",
    "</code>\n"
   ]
  },
  {
   "cell_type": "markdown",
   "metadata": {},
   "source": [
    "3. property的2种应用方式\n",
    "- 3.1 装饰器方式<br>\n",
    "Python中的类有经典类和新式类，新式类的属性比经典类的属性丰富。（ 如果类继object，那么该类是新式类 ）\n",
    "  - 3.1.1 经典类(有1种@property装饰器)"
   ]
  },
  {
   "cell_type": "code",
   "execution_count": 3,
   "metadata": {},
   "outputs": [
    {
     "name": "stdout",
     "output_type": "stream",
     "text": [
      "100\n"
     ]
    }
   ],
   "source": [
    "# coding=utf-8\n",
    "class Goods:\n",
    "    @property\n",
    "    def price(self):\n",
    "        return 100\n",
    "\n",
    "\n",
    "obj = Goods()\n",
    "result = obj.price  # 自动执行 @property 修饰的 price 方法，并获取方法的返回值\n",
    "print(result)\n"
   ]
  },
  {
   "cell_type": "markdown",
   "metadata": {},
   "source": [
    "  - 3.1.2 新式类(有3种@property装饰器)"
   ]
  },
  {
   "cell_type": "code",
   "execution_count": 4,
   "metadata": {},
   "outputs": [
    {
     "name": "stdout",
     "output_type": "stream",
     "text": [
      "@property\n",
      "@price.setter\n",
      "@price.deleter\n"
     ]
    }
   ],
   "source": [
    "# coding=utf-8\n",
    "class Goods:\n",
    "    \"\"\"\n",
    "    python3中默认继承object类\n",
    "    只有在python3中才有@xxx.setter  @xxx.deleter\n",
    "    \"\"\"\n",
    "    @property\n",
    "    def price(self):\n",
    "        print('@property')\n",
    "\n",
    "    @price.setter\n",
    "    def price(self, value):\n",
    "        print('@price.setter')\n",
    "\n",
    "    @price.deleter\n",
    "    def price(self):\n",
    "        print('@price.deleter')\n",
    "\n",
    "\n",
    "obj = Goods()\n",
    "obj.price          # 自动执行 @property 修饰的 price 方法，并获取方法的返回值\n",
    "obj.price = 123    # 自动执行 @price.setter 修饰的 price 方法，并将  123 赋值给方法的参数\n",
    "del obj.price      # 自动执行 @price.deleter 修饰的 price 方法\n"
   ]
  },
  {
   "cell_type": "markdown",
   "metadata": {},
   "source": [
    "3.1.3 注意\n",
    "- 经典类中的属性只有1种 @property 修饰的方法\n",
    "- 新式类中的属性有3种访问方式，并分别对应了三个被@property、@方法名.setter、@方法名.deleter修饰的方法"
   ]
  },
  {
   "cell_type": "markdown",
   "metadata": {},
   "source": [
    "3.2 类属性方式<br>\n",
    "此方式简单的说：创建值为property对象的 类属性\n",
    "> 当使用类属性的方式创建property属性时，经典类和新式类无区别"
   ]
  },
  {
   "cell_type": "markdown",
   "metadata": {},
   "source": [
    "3.2.1 demo"
   ]
  },
  {
   "cell_type": "code",
   "execution_count": 5,
   "metadata": {},
   "outputs": [
    {
     "name": "stdout",
     "output_type": "stream",
     "text": [
      "teacher\n"
     ]
    }
   ],
   "source": [
    "class Foo:\n",
    "    def get_bar(self):\n",
    "        return 'teacher'\n",
    "\n",
    "    BAR = property(get_bar)\n",
    "\n",
    "\n",
    "obj = Foo()\n",
    "reuslt = obj.BAR  # 自动调用get_bar方法，并获取方法的返回值\n",
    "print(reuslt)\n"
   ]
  },
  {
   "cell_type": "markdown",
   "metadata": {},
   "source": [
    "3.2.2 property说明<br>\n",
    "property方法中有个四个参数\n",
    "\n",
    "- 第1个参数：方法名，调用 对象.属性 时自动触发执行方法\n",
    "- 第2个参数：方法名，调用 对象.属性 ＝ XXX 时自动触发执行方法\n",
    "- 第3个参数：方法名，调用 del 对象.属性 时自动触发执行方法\n",
    "- 第4个参数：字符串，调用 对象.属性.__doc_ ，此参数是该属性的描述信息"
   ]
  },
  {
   "cell_type": "code",
   "execution_count": 6,
   "metadata": {},
   "outputs": [
    {
     "name": "stdout",
     "output_type": "stream",
     "text": [
      "getter...\n",
      "setter...\n",
      "description...\n",
      "deleter...\n"
     ]
    }
   ],
   "source": [
    "# coding=utf-8\n",
    "class Foo(object):\n",
    "    def get_bar(self):\n",
    "        print(\"getter...\")\n",
    "        return 'teacher'\n",
    "\n",
    "    def set_bar(self, value):\n",
    "        \"\"\"必须两个参数\"\"\"\n",
    "        print(\"setter...\")\n",
    "        return 'set value' + value\n",
    "\n",
    "    def del_bar(self):\n",
    "        print(\"deleter...\")\n",
    "        return 'teacher'\n",
    "\n",
    "    BAR = property(get_bar, set_bar, del_bar, \"description...\")\n",
    "\n",
    "\n",
    "obj = Foo()\n",
    "\n",
    "obj.BAR  # 自动调用第一个参数中定义的方法：get_bar\n",
    "obj.BAR = \"alex\"  # 自动调用第二个参数中定义的方法：set_bar方法，并将“alex”当作参数传入\n",
    "desc = Foo.BAR.__doc__  # 自动获取第四个参数中设置的值：description...\n",
    "print(desc)\n",
    "del obj.BAR  # 自动调用第三个参数中定义的方法：del_bar方法\n"
   ]
  },
  {
   "cell_type": "markdown",
   "metadata": {},
   "source": [
    "3.3.3 案例"
   ]
  },
  {
   "cell_type": "code",
   "execution_count": 9,
   "metadata": {},
   "outputs": [
    {
     "name": "stdout",
     "output_type": "stream",
     "text": [
      "80.0\n",
      "160.0\n",
      "价格属性描述...\n",
      "Convert a string or number to a floating point number, if possible.\n"
     ]
    }
   ],
   "source": [
    "class Goods(object):\n",
    "    def __init__(self):\n",
    "        # 原价\n",
    "        self.original_price = 100\n",
    "        # 折扣\n",
    "        self.discount = 0.8\n",
    "\n",
    "    def get_price(self):\n",
    "        # 实际价格 = 原价 * 折扣\n",
    "        new_price = self.original_price * self.discount\n",
    "        return new_price\n",
    "\n",
    "    def set_price(self, value):\n",
    "        self.original_price = value\n",
    "\n",
    "    def del_price(self):\n",
    "        del self.original_price\n",
    "\n",
    "    PRICE = property(get_price, set_price, del_price, '价格属性描述...')\n",
    "\n",
    "obj = Goods()\n",
    "print(obj.PRICE)  # 获取商品价格\n",
    "obj.PRICE = 200   # 修改商品原价\n",
    "print(obj.PRICE)\n",
    "print(Goods.PRICE.__doc__)\n",
    "print(obj.PRICE.__doc__)\n",
    "del obj.PRICE     # 删除商品原价\n"
   ]
  },
  {
   "cell_type": "markdown",
   "metadata": {},
   "source": [
    "4. 总结\n",
    "- 所谓property属性，简单理解为：可以向普通属性一样可以取值、赋值，但是其对应的是方法的调用\n",
    "- property有2种使用的方式，最好这2中都要掌握，因为在大项目中往往使用\n",
    "- 通过使用property属性，能够简化调用者在获取数据的流程"
   ]
  },
  {
   "cell_type": "markdown",
   "metadata": {},
   "source": [
    "5.作业<br>\n",
    "解决刚开始提出的问题，怎样防止修改”植物大战僵尸“游戏中的阳光数量"
   ]
  },
  {
   "cell_type": "code",
   "execution_count": 11,
   "metadata": {},
   "outputs": [
    {
     "name": "stdout",
     "output_type": "stream",
     "text": [
      "50\n",
      "100\n"
     ]
    },
    {
     "ename": "Exception",
     "evalue": "数量加错了，不是50",
     "output_type": "error",
     "traceback": [
      "\u001b[1;31m---------------------------------------------------------------------------\u001b[0m",
      "\u001b[1;31mException\u001b[0m                                 Traceback (most recent call last)",
      "\u001b[1;32md:\\cs\\language\\python\\study_python\\00Pratice\\02advanced\\02property.ipynb Cell 24\u001b[0m in \u001b[0;36m<cell line: 32>\u001b[1;34m()\u001b[0m\n\u001b[0;32m     <a href='vscode-notebook-cell:/d%3A/cs/language/python/study_python/00Pratice/02advanced/02property.ipynb#ch0000028?line=28'>29</a>\u001b[0m game\u001b[39m.\u001b[39msun_num\u001b[39m=\u001b[39m\u001b[39m50\u001b[39m\n\u001b[0;32m     <a href='vscode-notebook-cell:/d%3A/cs/language/python/study_python/00Pratice/02advanced/02property.ipynb#ch0000028?line=29'>30</a>\u001b[0m \u001b[39mprint\u001b[39m(game\u001b[39m.\u001b[39msun_num)\n\u001b[1;32m---> <a href='vscode-notebook-cell:/d%3A/cs/language/python/study_python/00Pratice/02advanced/02property.ipynb#ch0000028?line=31'>32</a>\u001b[0m game\u001b[39m.\u001b[39msun_num\u001b[39m=\u001b[39m\u001b[39m100\u001b[39m\n",
      "\u001b[1;32md:\\cs\\language\\python\\study_python\\00Pratice\\02advanced\\02property.ipynb Cell 24\u001b[0m in \u001b[0;36mGame_zwdzjs.sun_num\u001b[1;34m(self, num)\u001b[0m\n\u001b[0;32m     <a href='vscode-notebook-cell:/d%3A/cs/language/python/study_python/00Pratice/02advanced/02property.ipynb#ch0000028?line=15'>16</a>\u001b[0m     \u001b[39mself\u001b[39m\u001b[39m.\u001b[39m__sun_num\u001b[39m+\u001b[39m\u001b[39m=\u001b[39m\u001b[39m50\u001b[39m\n\u001b[0;32m     <a href='vscode-notebook-cell:/d%3A/cs/language/python/study_python/00Pratice/02advanced/02property.ipynb#ch0000028?line=16'>17</a>\u001b[0m \u001b[39melse\u001b[39;00m:\n\u001b[1;32m---> <a href='vscode-notebook-cell:/d%3A/cs/language/python/study_python/00Pratice/02advanced/02property.ipynb#ch0000028?line=17'>18</a>\u001b[0m     \u001b[39mraise\u001b[39;00m \u001b[39mException\u001b[39;00m(\u001b[39m'\u001b[39m\u001b[39m数量加错了，不是50\u001b[39m\u001b[39m'\u001b[39m)\n",
      "\u001b[1;31mException\u001b[0m: 数量加错了，不是50"
     ]
    }
   ],
   "source": [
    "class Game_zwdzjs():\n",
    "    \"\"\"\n",
    "    植物大战僵尸类\n",
    "    \"\"\"\n",
    "\n",
    "    def __init__(self):\n",
    "        self.__sun_num = 0\n",
    "    \n",
    "    @property\n",
    "    def sun_num(self):\n",
    "        return self.__sun_num\n",
    "    \n",
    "    @sun_num.setter\n",
    "    def sun_num(self,num):\n",
    "        if num ==50:\n",
    "            self.__sun_num+=50\n",
    "        else:\n",
    "            raise Exception('数量加错了，不是50')\n",
    "        \n",
    "\n",
    "\n",
    "# 创建游戏对象\n",
    "game = Game_zwdzjs()\n",
    "\n",
    "# 点击一次阳光，数量+50\n",
    "game.sun_num=50\n",
    "print(game.sun_num)\n",
    "\n",
    "game.sun_num=50\n",
    "print(game.sun_num)\n",
    "\n",
    "game.sun_num=100\n",
    "\n"
   ]
  }
 ],
 "metadata": {
  "kernelspec": {
   "display_name": "Python 3.8.13 ('study')",
   "language": "python",
   "name": "python3"
  },
  "language_info": {
   "codemirror_mode": {
    "name": "ipython",
    "version": 3
   },
   "file_extension": ".py",
   "mimetype": "text/x-python",
   "name": "python",
   "nbconvert_exporter": "python",
   "pygments_lexer": "ipython3",
   "version": "3.8.13"
  },
  "orig_nbformat": 4,
  "vscode": {
   "interpreter": {
    "hash": "46cb6235441a8b74df724a68ed242e7b6759bfc907d92e7c8b163c38b1b4592e"
   }
  }
 },
 "nbformat": 4,
 "nbformat_minor": 2
}
