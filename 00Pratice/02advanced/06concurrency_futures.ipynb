{
 "cells": [
  {
   "cell_type": "markdown",
   "metadata": {},
   "source": [
    "# Python并发编程之Futures\n",
    "\n",
    "## 区分并发（Concurrency）和并行（Parallelism）\n",
    "并发：\n",
    "- 多线程并发：多线程并发则由程序员管理并发处理的任务，这种并发方式可以方便地在线程间共享数据（前提是不能互斥）；<br/>\n",
    "\n",
    "- 异步IO（asyncio）:异步本质上是单线程的，因为 IO 操作在很多时候会存在阻塞，异步就是在这种阻塞的时候，通过控制权的交换来实现多任务的。即**异步本质上是运行过程中的控制权的交换**。最典型的例子就是生产者消费者模型。<br/>\n",
    "\n",
    "  - 异步这个概念在不同的地方有不同的说法，比如 python 里面叫做协程，内部通过生成器来实现控制权的交换。但是无论怎么称呼，异步这种并发方式都脱离不了控制权的交换这么一个事实。\n",
    "\n",
    "并行：多进程并发即运行多个独立的程序，优势在于并发处理的任务都由操作系统管理，不足之处在于程序与各进程之间的通信和数据共享不方便；<br/>\n",
    "\n",
    "区别：对于计算密集型程序，多进程并发优于多线程并发。计算密集型程序指的程序的运行时间大部分消耗在CPU的运算处理过程，而硬盘和内存的读写消耗的时间很短；相对地，IO密集型程序指的则是程序的运行时间大部分消耗在硬盘和内存的读写上，CPU的运算时间很短。\n",
    "\n",
    "## 单线程与多线程性能比较"
   ]
  },
  {
   "cell_type": "code",
   "execution_count": 4,
   "metadata": {},
   "outputs": [
    {
     "name": "stdout",
     "output_type": "stream",
     "text": [
      "Read 62788 from http://www.dapenti.com/blog/readforwx.asp?name=xilei&id=143655\n",
      "Read 62788 from http://www.dapenti.com/blog/readforwx.asp?name=xilei&id=143656\n",
      "Read 62788 from http://www.dapenti.com/blog/readforwx.asp?name=xilei&id=143657\n",
      "Read 62788 from http://www.dapenti.com/blog/readforwx.asp?name=xilei&id=143658\n",
      "Read 62788 from http://www.dapenti.com/blog/readforwx.asp?name=xilei&id=143659\n",
      "Read 62788 from http://www.dapenti.com/blog/readforwx.asp?name=xilei&id=143660\n",
      "Read 62788 from http://www.dapenti.com/blog/readforwx.asp?name=xilei&id=143661\n",
      "Read 62788 from http://www.dapenti.com/blog/readforwx.asp?name=xilei&id=143662\n",
      "Download 8 sites in 6.045021199999994 seconds\n"
     ]
    }
   ],
   "source": [
    "# 单线程\n",
    "import time\n",
    "\n",
    "import requests\n",
    "\n",
    "\n",
    "def download_one(url):\n",
    "    resp = requests.get(url)\n",
    "    print(\"Read {} from {}\".format(len(resp.content), url))\n",
    "\n",
    "\n",
    "def download_all(sites):\n",
    "    for site in sites:\n",
    "        download_one(site)\n",
    "\n",
    "\n",
    "def main():\n",
    "    sites = [\n",
    "        \"http://www.dapenti.com/blog/readforwx.asp?name=xilei&id=143655\",\n",
    "        \"http://www.dapenti.com/blog/readforwx.asp?name=xilei&id=143656\",\n",
    "        \"http://www.dapenti.com/blog/readforwx.asp?name=xilei&id=143657\",\n",
    "        \"http://www.dapenti.com/blog/readforwx.asp?name=xilei&id=143658\",\n",
    "        \"http://www.dapenti.com/blog/readforwx.asp?name=xilei&id=143659\",\n",
    "        \"http://www.dapenti.com/blog/readforwx.asp?name=xilei&id=143660\",\n",
    "        \"http://www.dapenti.com/blog/readforwx.asp?name=xilei&id=143661\",\n",
    "        \"http://www.dapenti.com/blog/readforwx.asp?name=xilei&id=143662\",\n",
    "    ]\n",
    "    start_time = time.perf_counter()\n",
    "    download_all(sites)\n",
    "    end_time = time.perf_counter()\n",
    "    print(\"Download {} sites in {} seconds\".format(len(sites), end_time - start_time))\n",
    "\n",
    "\n",
    "if __name__ == \"__main__\":\n",
    "    main()"
   ]
  },
  {
   "cell_type": "code",
   "execution_count": 3,
   "metadata": {},
   "outputs": [
    {
     "name": "stdout",
     "output_type": "stream",
     "text": [
      "Read 62788 from http://www.dapenti.com/blog/readforwx.asp?name=xilei&id=143656\n",
      "Read 62788 from http://www.dapenti.com/blog/readforwx.asp?name=xilei&id=143658\n",
      "Read 62788 from http://www.dapenti.com/blog/readforwx.asp?name=xilei&id=143655\n",
      "Read 62788 from http://www.dapenti.com/blog/readforwx.asp?name=xilei&id=143657\n",
      "Read 62788 from http://www.dapenti.com/blog/readforwx.asp?name=xilei&id=143659\n",
      "Read 62788 from http://www.dapenti.com/blog/readforwx.asp?name=xilei&id=143660\n",
      "Read 62788 from http://www.dapenti.com/blog/readforwx.asp?name=xilei&id=143662\n",
      "Read 62788 from http://www.dapenti.com/blog/readforwx.asp?name=xilei&id=143661\n",
      "Download 8 sites in 1.0352042999999966 seconds\n"
     ]
    }
   ],
   "source": [
    "# 多线程版本\n",
    "import concurrent.futures\n",
    "import time\n",
    "\n",
    "import requests\n",
    "\n",
    "\n",
    "def download_one(url):\n",
    "    resp = requests.get(url)\n",
    "    print(\"Read {} from {}\".format(len(resp.content), url))\n",
    "\n",
    "# 多线程处理\n",
    "def download_all(sites):\n",
    "    with concurrent.futures.ThreadPoolExecutor(max_workers=5) as executor:\n",
    "        # map与python内置map用法类似\n",
    "        executor.map(download_one, sites)\n",
    "\n",
    "def main():\n",
    "    sites = [\n",
    "        \"http://www.dapenti.com/blog/readforwx.asp?name=xilei&id=143655\",\n",
    "        \"http://www.dapenti.com/blog/readforwx.asp?name=xilei&id=143656\",\n",
    "        \"http://www.dapenti.com/blog/readforwx.asp?name=xilei&id=143657\",\n",
    "        \"http://www.dapenti.com/blog/readforwx.asp?name=xilei&id=143658\",\n",
    "        \"http://www.dapenti.com/blog/readforwx.asp?name=xilei&id=143659\",\n",
    "        \"http://www.dapenti.com/blog/readforwx.asp?name=xilei&id=143660\",\n",
    "        \"http://www.dapenti.com/blog/readforwx.asp?name=xilei&id=143661\",\n",
    "        \"http://www.dapenti.com/blog/readforwx.asp?name=xilei&id=143662\",\n",
    "    ]\n",
    "    start_time = time.perf_counter()\n",
    "    download_all(sites)\n",
    "    end_time = time.perf_counter()\n",
    "    print(\"Download {} sites in {} seconds\".format(len(sites), end_time - start_time))\n",
    "\n",
    "\n",
    "if __name__ == \"__main__\":\n",
    "    main()"
   ]
  },
  {
   "cell_type": "code",
   "execution_count": 6,
   "metadata": {},
   "outputs": [
    {
     "name": "stdout",
     "output_type": "stream",
     "text": [
      "Download 8 sites in 0.9625254999999697 seconds\n"
     ]
    }
   ],
   "source": [
    "# 多进程版本\n",
    "\n",
    "import concurrent.futures\n",
    "import time\n",
    "\n",
    "import requests\n",
    "\n",
    "\n",
    "def download_one(url):\n",
    "    resp = requests.get(url)\n",
    "    print(\"Read {} from {}\".format(len(resp.content), url))\n",
    "\n",
    "# 多进程处理\n",
    "def download_all(sites):\n",
    "    # 省略参数workers，系统会自动返回CPU的数量作为可以调用的进程数。\n",
    "    with concurrent.futures.ProcessPoolExecutor() as executor:\n",
    "        # map与python内置map用法类似\n",
    "        executor.map(download_one, sites)\n",
    "\n",
    "def main():\n",
    "    sites = [\n",
    "        \"http://www.dapenti.com/blog/readforwx.asp?name=xilei&id=143655\",\n",
    "        \"http://www.dapenti.com/blog/readforwx.asp?name=xilei&id=143656\",\n",
    "        \"http://www.dapenti.com/blog/readforwx.asp?name=xilei&id=143657\",\n",
    "        \"http://www.dapenti.com/blog/readforwx.asp?name=xilei&id=143658\",\n",
    "        \"http://www.dapenti.com/blog/readforwx.asp?name=xilei&id=143659\",\n",
    "        \"http://www.dapenti.com/blog/readforwx.asp?name=xilei&id=143660\",\n",
    "        \"http://www.dapenti.com/blog/readforwx.asp?name=xilei&id=143661\",\n",
    "        \"http://www.dapenti.com/blog/readforwx.asp?name=xilei&id=143662\",\n",
    "    ]\n",
    "    start_time = time.perf_counter()\n",
    "    download_all(sites)\n",
    "    end_time = time.perf_counter()\n",
    "    print(\"Download {} sites in {} seconds\".format(len(sites), end_time - start_time))\n",
    "\n",
    "\n",
    "if __name__ == \"__main__\":\n",
    "    main()"
   ]
  },
  {
   "cell_type": "code",
   "execution_count": 1,
   "metadata": {},
   "outputs": [
    {
     "name": "stdout",
     "output_type": "stream",
     "text": [
      "Read 62970 from http://www.dapenti.com/blog/readforwx.asp?name=xilei&id=143661\n",
      "Read 62970 from http://www.dapenti.com/blog/readforwx.asp?name=xilei&id=143658\n",
      "Read 62970 from http://www.dapenti.com/blog/readforwx.asp?name=xilei&id=143662\n",
      "Read 62970 from http://www.dapenti.com/blog/readforwx.asp?name=xilei&id=143657\n",
      "Read 62970 from http://www.dapenti.com/blog/readforwx.asp?name=xilei&id=143656\n",
      "Read 62970 from http://www.dapenti.com/blog/readforwx.asp?name=xilei&id=143660\n",
      "Read 62970 from http://www.dapenti.com/blog/readforwx.asp?name=xilei&id=143655\n",
      "Read 62970 from http://www.dapenti.com/blog/readforwx.asp?name=xilei&id=143659\n",
      "Download 8 sites in 0.7090143000000353 seconds\n"
     ]
    }
   ],
   "source": [
    "# 另一个多线程版本\n",
    "import concurrent.futures\n",
    "import time\n",
    "\n",
    "import requests\n",
    "\n",
    "\n",
    "def download_one(url):\n",
    "    resp = requests.get(url)\n",
    "    print(\"Read {} from {}\".format(len(resp.content), url))\n",
    "\n",
    "# 多线程处理\n",
    "def download_all(sites):\n",
    "\twith concurrent.futures.ThreadPoolExecutor() as executor:\n",
    "\t\tto_do = []\n",
    "\t\tfor site in sites:\n",
    "\t\t\tfuture = executor.submit(download_one, site)\n",
    "\t\t\tto_do.append(future)\n",
    "\t\tfor future in concurrent.futures.as_completed(to_do):\n",
    "\t\t\tfuture.result()\n",
    "\n",
    "def main():\n",
    "    sites = [\n",
    "        \"http://www.dapenti.com/blog/readforwx.asp?name=xilei&id=143655\",\n",
    "        \"http://www.dapenti.com/blog/readforwx.asp?name=xilei&id=143656\",\n",
    "        \"http://www.dapenti.com/blog/readforwx.asp?name=xilei&id=143657\",\n",
    "        \"http://www.dapenti.com/blog/readforwx.asp?name=xilei&id=143658\",\n",
    "        \"http://www.dapenti.com/blog/readforwx.asp?name=xilei&id=143659\",\n",
    "        \"http://www.dapenti.com/blog/readforwx.asp?name=xilei&id=143660\",\n",
    "        \"http://www.dapenti.com/blog/readforwx.asp?name=xilei&id=143661\",\n",
    "        \"http://www.dapenti.com/blog/readforwx.asp?name=xilei&id=143662\",\n",
    "    ]\n",
    "    start_time = time.perf_counter()\n",
    "    download_all(sites)\n",
    "    end_time = time.perf_counter()\n",
    "    print(\"Download {} sites in {} seconds\".format(len(sites), end_time - start_time))\n",
    "\n",
    "\n",
    "if __name__ == \"__main__\":\n",
    "    main()"
   ]
  }
 ],
 "metadata": {
  "kernelspec": {
   "display_name": "Python 3.8.13 ('study')",
   "language": "python",
   "name": "python3"
  },
  "language_info": {
   "codemirror_mode": {
    "name": "ipython",
    "version": 3
   },
   "file_extension": ".py",
   "mimetype": "text/x-python",
   "name": "python",
   "nbconvert_exporter": "python",
   "pygments_lexer": "ipython3",
   "version": "3.8.13"
  },
  "orig_nbformat": 4,
  "vscode": {
   "interpreter": {
    "hash": "46cb6235441a8b74df724a68ed242e7b6759bfc907d92e7c8b163c38b1b4592e"
   }
  }
 },
 "nbformat": 4,
 "nbformat_minor": 2
}
