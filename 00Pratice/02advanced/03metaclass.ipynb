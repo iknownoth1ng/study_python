{
 "cells": [
  {
   "cell_type": "markdown",
   "metadata": {},
   "source": [
    "# metaclass\n",
    "meta词根两个含义：\n",
    "- 超越\n",
    "- 改变"
   ]
  },
  {
   "cell_type": "markdown",
   "metadata": {},
   "source": [
    "例如：YAMLObejct的一个超越变形能力，就是它的任意子类支持序列化和反序列化（serialization&deserialization）。"
   ]
  },
  {
   "cell_type": "code",
   "execution_count": 1,
   "metadata": {},
   "outputs": [
    {
     "name": "stdout",
     "output_type": "stream",
     "text": [
      "!<Monster>\n",
      "ac: 18\n",
      "attacks:\n",
      "- BITE\n",
      "- HURT\n",
      "hp:\n",
      "- 3\n",
      "- 6\n",
      "name: zym2\n",
      "\n"
     ]
    }
   ],
   "source": [
    "import yaml\n",
    "\n",
    "\n",
    "class Monster(yaml.YAMLObject):\n",
    "    yaml_tag = \"Monster\"\n",
    "\n",
    "    def __init__(self, name, hp, ac, attacks):\n",
    "        self.name = name\n",
    "        self.hp = hp\n",
    "        self.ac = ac\n",
    "        self.attacks = attacks\n",
    "\n",
    "    def __repr__(self):\n",
    "        return \"{}(name = {}, hp = {}, ac = {}, attacks = {}\".format(self.__class__.__name__, self.name, self.hp, self.ac, self.attacks)\n",
    "\n",
    "\n",
    "if __name__ == \"__main__\":\n",
    "    Monster(name=\"zym\", hp=[2, 6], ac=16, attacks=[\"BITE\", \"HURT\"])\n",
    "    print(yaml.dump(Monster(name=\"zym2\", hp=[\n",
    "          3, 6], ac=18, attacks=[\"BITE\", \"HURT\"])))\n"
   ]
  },
  {
   "cell_type": "markdown",
   "metadata": {},
   "source": [
    "YAMLObject的特异功能体现在哪里：<br>\n",
    "调用统一的yaml.load()，就能把任意一个yaml序列载入一个Python Object；而调用统一的yaml.dump()，就能把一个YAMLObject子类序列化。<br>\n",
    "对于使用者来说，完全不需要提前知道任何类型信息，这让超动态配置编程编程了可能。"
   ]
  },
  {
   "cell_type": "markdown",
   "metadata": {},
   "source": [
    "Python底层设计语言层面是如何实现metaclass的？<br>\n",
    "- 第一，所有的python的用户定义类，都是type这个类的实例。"
   ]
  },
  {
   "cell_type": "code",
   "execution_count": 2,
   "metadata": {},
   "outputs": [
    {
     "name": "stdout",
     "output_type": "stream",
     "text": [
      "<class '__main__.MyClass'>\n",
      "<class 'type'>\n"
     ]
    }
   ],
   "source": [
    "class MyClass:\n",
    "    pass\n",
    "\n",
    "\n",
    "instance = MyClass()\n",
    "\n",
    "print(type(instance))\n",
    "\n",
    "print(type(MyClass))\n"
   ]
  },
  {
   "cell_type": "markdown",
   "metadata": {},
   "source": [
    "-<br>\n",
    "- 第二，用户自定义类，只不过是type类的__call__运算符重载。<br>\n",
    "当我们定义一个类的语句结束时，真正发生的情况，是python调用__call__运算符。简单来说，当你定义一个类时，写成下面这样："
   ]
  },
  {
   "cell_type": "code",
   "execution_count": null,
   "metadata": {},
   "outputs": [],
   "source": [
    "class MyClass:\n",
    "    data = 1\n",
    "\n",
    "# python 实际上执行的是这段代码\n",
    "# class=type(classname,superclasses,attributedict)\n",
    "\n",
    "# 这里等号右边type(classname,superclasses,attributedict)，就是type的__call__运算符重载，它会进一步调用：\n",
    "# type.__new__(typeclass,classname,superclasses,attributedict)\n",
    "# type.__init__(class,classname,superclasses,attributedict)\n"
   ]
  },
  {
   "cell_type": "markdown",
   "metadata": {},
   "source": [
    "验证上述："
   ]
  },
  {
   "cell_type": "code",
   "execution_count": 4,
   "metadata": {},
   "outputs": [
    {
     "name": "stdout",
     "output_type": "stream",
     "text": [
      "<class '__main__.MyClass'>\n",
      "<__main__.MyClass object at 0x000001AF15FCCDC0>\n",
      "1\n",
      "<class '__main__.MyClass'>\n",
      "<__main__.MyClass object at 0x000001AF15FB4DF0>\n",
      "1\n"
     ]
    }
   ],
   "source": [
    "class MyClass:\n",
    "    data = 1\n",
    "\n",
    "\n",
    "instance = MyClass()\n",
    "print(MyClass)\n",
    "print(instance)\n",
    "print(instance.data)\n",
    "\n",
    "MyClass = type('MyClass', (), {'data': 1})\n",
    "instance = MyClass()\n",
    "print(MyClass)\n",
    "print(instance)\n",
    "print(instance.data)\n"
   ]
  },
  {
   "cell_type": "markdown",
   "metadata": {},
   "source": [
    "-<br>\n",
    "- 第三，metaclass是type的子类，通过替换type的__call__运算符重载机制，“超越变形”正常的类。<br>\n",
    "一旦你把一个类型的Myclass的metaclass设置成MyMeta，MyClass就不在由原生的type创建，而是会调用MyMeta的__call__运算符重载。"
   ]
  },
  {
   "cell_type": "code",
   "execution_count": null,
   "metadata": {},
   "outputs": [],
   "source": [
    "# Myclass=type(classname,superclasses,attributedict)\n",
    "# 变成了\n",
    "# Myclass=MyMeta(classname,superclasses,attributedict)\n"
   ]
  },
  {
   "cell_type": "markdown",
   "metadata": {},
   "source": [
    "例子"
   ]
  },
  {
   "cell_type": "code",
   "execution_count": 10,
   "metadata": {},
   "outputs": [
    {
     "name": "stdout",
     "output_type": "stream",
     "text": [
      "===>MyMeta.__new__\n",
      "MyMeta\n",
      "===>MyMeta.__init__\n",
      "Foo\n",
      "{'__module__': '__main__', '__qualname__': 'Foo', 'yaml_tag': '!Foo', '__init__': <function Foo.__init__ at 0x000001AF16DF2F70>, '__new__': <function Foo.__new__ at 0x000001AF16DF2CA0>}\n",
      "!Foo\n",
      "===>MyMeta.__call__\n",
      "Foo.__new__\n",
      "Foo.__init__\n"
     ]
    }
   ],
   "source": [
    "class MyMeta(type):\n",
    "    def __init__(self, name, bases, dic):\n",
    "        super().__init__(name, bases, dic)\n",
    "        print(\"===>MyMeta.__init__\")\n",
    "        print(self.__name__)\n",
    "        print(dic)\n",
    "        print(self.yaml_tag)\n",
    "\n",
    "    def __new__(cls, *args, **kwargs):\n",
    "        print(\"===>MyMeta.__new__\")\n",
    "        print(cls.__name__)\n",
    "        return type.__new__(cls, *args, **kwargs)\n",
    "\n",
    "    def __call__(cls, *args, **kwargs):\n",
    "        print(\"===>MyMeta.__call__\")\n",
    "        obj = cls.__new__(cls)\n",
    "        cls.__init__(cls, *args, **kwargs)\n",
    "        return obj\n",
    "\n",
    "\n",
    "class Foo(metaclass=MyMeta):\n",
    "    yaml_tag = \"!Foo\"\n",
    "\n",
    "    def __init__(self, name):\n",
    "        print(\"Foo.__init__\")\n",
    "        self.name = name\n",
    "\n",
    "    def __new__(cls, *args, **kwargs):\n",
    "        print(\"Foo.__new__\")\n",
    "        return object.__new__(cls)\n",
    "\n",
    "\n",
    "foo = Foo('foo')\n"
   ]
  }
 ],
 "metadata": {
  "kernelspec": {
   "display_name": "Python 3.9.7 ('base')",
   "language": "python",
   "name": "python3"
  },
  "language_info": {
   "codemirror_mode": {
    "name": "ipython",
    "version": 3
   },
   "file_extension": ".py",
   "mimetype": "text/x-python",
   "name": "python",
   "nbconvert_exporter": "python",
   "pygments_lexer": "ipython3",
   "version": "3.9.7"
  },
  "orig_nbformat": 4,
  "vscode": {
   "interpreter": {
    "hash": "e42634819b8c191a5d07eaf23810ff32516dd8d3875f28ec3e488928fbd3c187"
   }
  }
 },
 "nbformat": 4,
 "nbformat_minor": 2
}
